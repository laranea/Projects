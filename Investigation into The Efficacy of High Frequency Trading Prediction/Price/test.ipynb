{
 "cells": [
  {
   "cell_type": "code",
   "execution_count": 30,
   "metadata": {},
   "outputs": [],
   "source": [
    "# %load ../import.py\n",
    "import quandl\n",
    "quandl.ApiConfig.api_key = 'MBMzvkxtv63KjFEV-tL6'\n",
    "from quandl.errors.quandl_error import NotFoundError\n",
    "\n",
    "import pandas as pd\n",
    "import numpy as np\n",
    "import matplotlib.pyplot as plt\n",
    "%matplotlib inline\n",
    "\n",
    "import seaborn as sns\n",
    "from sklearn import linear_model\n",
    "\n",
    "import ipywidgets as widgets \n",
    "from ipywidgets import  interact, interactive, fixed, interact_manual\n",
    "from IPython.display import display"
   ]
  },
  {
   "cell_type": "code",
   "execution_count": 31,
   "metadata": {},
   "outputs": [],
   "source": [
    "df=pd.read_csv(\"Data/AGRO_INPUTS.csv\", header=None)\n",
    "df.columns=[\"Date\", \"Tick\", \"Open\", \"High\", \"Low\", \"Last\", \"Close\", \"Tarde\", \"Turnover\"]"
   ]
  },
  {
   "cell_type": "code",
   "execution_count": 32,
   "metadata": {},
   "outputs": [
    {
     "data": {
      "text/html": [
       "<div>\n",
       "<style scoped>\n",
       "    .dataframe tbody tr th:only-of-type {\n",
       "        vertical-align: middle;\n",
       "    }\n",
       "\n",
       "    .dataframe tbody tr th {\n",
       "        vertical-align: top;\n",
       "    }\n",
       "\n",
       "    .dataframe thead th {\n",
       "        text-align: right;\n",
       "    }\n",
       "</style>\n",
       "<table border=\"1\" class=\"dataframe\">\n",
       "  <thead>\n",
       "    <tr style=\"text-align: right;\">\n",
       "      <th></th>\n",
       "      <th>Date</th>\n",
       "      <th>Tick</th>\n",
       "      <th>Open</th>\n",
       "      <th>High</th>\n",
       "      <th>Low</th>\n",
       "      <th>Last</th>\n",
       "      <th>Close</th>\n",
       "      <th>Tarde</th>\n",
       "      <th>Turnover</th>\n",
       "    </tr>\n",
       "  </thead>\n",
       "  <tbody>\n",
       "    <tr>\n",
       "      <th>0</th>\n",
       "      <td>2007-04-19</td>\n",
       "      <td>NSE/ADVANTA</td>\n",
       "      <td>665.00</td>\n",
       "      <td>1000.00</td>\n",
       "      <td>585.35</td>\n",
       "      <td>852.00</td>\n",
       "      <td>845.50</td>\n",
       "      <td>6836148.0</td>\n",
       "      <td>58619.32</td>\n",
       "    </tr>\n",
       "    <tr>\n",
       "      <th>1</th>\n",
       "      <td>2007-04-20</td>\n",
       "      <td>NSE/ADVANTA</td>\n",
       "      <td>900.00</td>\n",
       "      <td>925.00</td>\n",
       "      <td>836.65</td>\n",
       "      <td>848.05</td>\n",
       "      <td>845.85</td>\n",
       "      <td>2367771.0</td>\n",
       "      <td>20624.10</td>\n",
       "    </tr>\n",
       "    <tr>\n",
       "      <th>2</th>\n",
       "      <td>2007-04-23</td>\n",
       "      <td>NSE/ADVANTA</td>\n",
       "      <td>850.00</td>\n",
       "      <td>859.90</td>\n",
       "      <td>793.00</td>\n",
       "      <td>800.75</td>\n",
       "      <td>803.35</td>\n",
       "      <td>1204122.0</td>\n",
       "      <td>9743.85</td>\n",
       "    </tr>\n",
       "    <tr>\n",
       "      <th>3</th>\n",
       "      <td>2007-04-24</td>\n",
       "      <td>NSE/ADVANTA</td>\n",
       "      <td>823.45</td>\n",
       "      <td>823.45</td>\n",
       "      <td>757.00</td>\n",
       "      <td>765.95</td>\n",
       "      <td>762.85</td>\n",
       "      <td>483525.0</td>\n",
       "      <td>3736.74</td>\n",
       "    </tr>\n",
       "    <tr>\n",
       "      <th>4</th>\n",
       "      <td>2007-04-25</td>\n",
       "      <td>NSE/ADVANTA</td>\n",
       "      <td>766.80</td>\n",
       "      <td>770.00</td>\n",
       "      <td>735.00</td>\n",
       "      <td>762.00</td>\n",
       "      <td>753.40</td>\n",
       "      <td>423649.0</td>\n",
       "      <td>3186.66</td>\n",
       "    </tr>\n",
       "  </tbody>\n",
       "</table>\n",
       "</div>"
      ],
      "text/plain": [
       "         Date         Tick    Open     High     Low    Last   Close  \\\n",
       "0  2007-04-19  NSE/ADVANTA  665.00  1000.00  585.35  852.00  845.50   \n",
       "1  2007-04-20  NSE/ADVANTA  900.00   925.00  836.65  848.05  845.85   \n",
       "2  2007-04-23  NSE/ADVANTA  850.00   859.90  793.00  800.75  803.35   \n",
       "3  2007-04-24  NSE/ADVANTA  823.45   823.45  757.00  765.95  762.85   \n",
       "4  2007-04-25  NSE/ADVANTA  766.80   770.00  735.00  762.00  753.40   \n",
       "\n",
       "       Tarde  Turnover  \n",
       "0  6836148.0  58619.32  \n",
       "1  2367771.0  20624.10  \n",
       "2  1204122.0   9743.85  \n",
       "3   483525.0   3736.74  \n",
       "4   423649.0   3186.66  "
      ]
     },
     "execution_count": 32,
     "metadata": {},
     "output_type": "execute_result"
    }
   ],
   "source": [
    "df.head()"
   ]
  },
  {
   "cell_type": "code",
   "execution_count": 33,
   "metadata": {},
   "outputs": [],
   "source": [
    "test=df.loc[df[\"Tick\"]==\"NSE/ADVANTA\", [\"Date\", \"Close\"]] "
   ]
  },
  {
   "cell_type": "code",
   "execution_count": 34,
   "metadata": {},
   "outputs": [
    {
     "data": {
      "text/html": [
       "<div>\n",
       "<style scoped>\n",
       "    .dataframe tbody tr th:only-of-type {\n",
       "        vertical-align: middle;\n",
       "    }\n",
       "\n",
       "    .dataframe tbody tr th {\n",
       "        vertical-align: top;\n",
       "    }\n",
       "\n",
       "    .dataframe thead th {\n",
       "        text-align: right;\n",
       "    }\n",
       "</style>\n",
       "<table border=\"1\" class=\"dataframe\">\n",
       "  <thead>\n",
       "    <tr style=\"text-align: right;\">\n",
       "      <th></th>\n",
       "      <th>Date</th>\n",
       "      <th>Close</th>\n",
       "    </tr>\n",
       "  </thead>\n",
       "  <tbody>\n",
       "    <tr>\n",
       "      <th>0</th>\n",
       "      <td>2007-04-19</td>\n",
       "      <td>845.50</td>\n",
       "    </tr>\n",
       "    <tr>\n",
       "      <th>1</th>\n",
       "      <td>2007-04-20</td>\n",
       "      <td>845.85</td>\n",
       "    </tr>\n",
       "    <tr>\n",
       "      <th>2</th>\n",
       "      <td>2007-04-23</td>\n",
       "      <td>803.35</td>\n",
       "    </tr>\n",
       "    <tr>\n",
       "      <th>3</th>\n",
       "      <td>2007-04-24</td>\n",
       "      <td>762.85</td>\n",
       "    </tr>\n",
       "    <tr>\n",
       "      <th>4</th>\n",
       "      <td>2007-04-25</td>\n",
       "      <td>753.40</td>\n",
       "    </tr>\n",
       "  </tbody>\n",
       "</table>\n",
       "</div>"
      ],
      "text/plain": [
       "         Date   Close\n",
       "0  2007-04-19  845.50\n",
       "1  2007-04-20  845.85\n",
       "2  2007-04-23  803.35\n",
       "3  2007-04-24  762.85\n",
       "4  2007-04-25  753.40"
      ]
     },
     "execution_count": 34,
     "metadata": {},
     "output_type": "execute_result"
    }
   ],
   "source": [
    "test.head()"
   ]
  },
  {
   "cell_type": "code",
   "execution_count": 35,
   "metadata": {},
   "outputs": [],
   "source": [
    "test.to_csv(\"adasd\")"
   ]
  },
  {
   "cell_type": "code",
   "execution_count": 36,
   "metadata": {},
   "outputs": [
    {
     "name": "stdout",
     "output_type": "stream",
     "text": [
      "adasd  \u001b[0m\u001b[01;34mData\u001b[0m/  PriceRetrieval.ipynb  test.ipynb\r\n"
     ]
    }
   ],
   "source": [
    "ls"
   ]
  }
 ],
 "metadata": {
  "kernelspec": {
   "display_name": "Python 2",
   "language": "python",
   "name": "python2"
  },
  "language_info": {
   "codemirror_mode": {
    "name": "ipython",
    "version": 2
   },
   "file_extension": ".py",
   "mimetype": "text/x-python",
   "name": "python",
   "nbconvert_exporter": "python",
   "pygments_lexer": "ipython2",
   "version": "2.7.12"
  }
 },
 "nbformat": 4,
 "nbformat_minor": 2
}
