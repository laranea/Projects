{
 "cells": [
  {
   "cell_type": "markdown",
   "metadata": {},
   "source": [
    "# Importing Libraries"
   ]
  },
  {
   "cell_type": "code",
   "execution_count": 7,
   "metadata": {},
   "outputs": [],
   "source": [
    "# %load ../import.py\n",
    "import quandl\n",
    "quandl.ApiConfig.api_key = 'oDGsFR2CGRyy7D-SmGbd'\n",
    "from quandl.errors.quandl_error import NotFoundError\n",
    "\n",
    "import pandas as pd\n",
    "import numpy as np\n",
    "import matplotlib.pyplot as plt\n",
    "%matplotlib inline\n",
    "\n",
    "import seaborn as sns\n",
    "from sklearn import linear_model\n",
    "\n",
    "import ipywidgets as widgets \n",
    "from ipywidgets import  interact, interactive, fixed, interact_manual\n",
    "from IPython.display import display"
   ]
  },
  {
   "cell_type": "markdown",
   "metadata": {},
   "source": [
    "# Collecting Data \n",
    "1. Prices\n",
    "* Final \n",
    "\n",
    "### Common Files "
   ]
  },
  {
   "cell_type": "code",
   "execution_count": 9,
   "metadata": {},
   "outputs": [
    {
     "data": {
      "text/html": [
       "<div>\n",
       "<style scoped>\n",
       "    .dataframe tbody tr th:only-of-type {\n",
       "        vertical-align: middle;\n",
       "    }\n",
       "\n",
       "    .dataframe tbody tr th {\n",
       "        vertical-align: top;\n",
       "    }\n",
       "\n",
       "    .dataframe thead th {\n",
       "        text-align: right;\n",
       "    }\n",
       "</style>\n",
       "<table border=\"1\" class=\"dataframe\">\n",
       "  <thead>\n",
       "    <tr style=\"text-align: right;\">\n",
       "      <th></th>\n",
       "      <th>Unnamed: 0</th>\n",
       "      <th>ticks</th>\n",
       "      <th>name</th>\n",
       "      <th>sector</th>\n",
       "      <th>sub_sector</th>\n",
       "    </tr>\n",
       "  </thead>\n",
       "  <tbody>\n",
       "    <tr>\n",
       "      <th>0</th>\n",
       "      <td>0</td>\n",
       "      <td>NSE/AARTIDRUGS</td>\n",
       "      <td>Aarti Drugs Limited</td>\n",
       "      <td>PHARMACEUTICALS</td>\n",
       "      <td>BULK DRUGS</td>\n",
       "    </tr>\n",
       "    <tr>\n",
       "      <th>1</th>\n",
       "      <td>1</td>\n",
       "      <td>NSE/AARTIIND</td>\n",
       "      <td>Aarti Industries Limited</td>\n",
       "      <td>CHEMICALS</td>\n",
       "      <td>ORGANIC CHEMICALS</td>\n",
       "    </tr>\n",
       "    <tr>\n",
       "      <th>2</th>\n",
       "      <td>2</td>\n",
       "      <td>NSE/AARVEEDEN</td>\n",
       "      <td>Aarvee Denims &amp; Exports Limited</td>\n",
       "      <td>TEXTILE</td>\n",
       "      <td>TEXTILES - OTHERS</td>\n",
       "    </tr>\n",
       "    <tr>\n",
       "      <th>3</th>\n",
       "      <td>3</td>\n",
       "      <td>NSE/ABAN</td>\n",
       "      <td>Aban Offshore Limited</td>\n",
       "      <td>ENGINEERING</td>\n",
       "      <td>OIL DRILLING</td>\n",
       "    </tr>\n",
       "    <tr>\n",
       "      <th>4</th>\n",
       "      <td>4</td>\n",
       "      <td>NSE/ABB</td>\n",
       "      <td>ABB India Limited</td>\n",
       "      <td>ENGINEERING</td>\n",
       "      <td>ELECTRICAL EQUIPMENT</td>\n",
       "    </tr>\n",
       "  </tbody>\n",
       "</table>\n",
       "</div>"
      ],
      "text/plain": [
       "   Unnamed: 0           ticks                             name  \\\n",
       "0           0  NSE/AARTIDRUGS              Aarti Drugs Limited   \n",
       "1           1    NSE/AARTIIND         Aarti Industries Limited   \n",
       "2           2   NSE/AARVEEDEN  Aarvee Denims & Exports Limited   \n",
       "3           3        NSE/ABAN            Aban Offshore Limited   \n",
       "4           4         NSE/ABB                ABB India Limited   \n",
       "\n",
       "            sector             sub_sector  \n",
       "0  PHARMACEUTICALS             BULK DRUGS  \n",
       "1        CHEMICALS      ORGANIC CHEMICALS  \n",
       "2          TEXTILE      TEXTILES - OTHERS  \n",
       "3      ENGINEERING           OIL DRILLING  \n",
       "4      ENGINEERING   ELECTRICAL EQUIPMENT  "
      ]
     },
     "execution_count": 9,
     "metadata": {},
     "output_type": "execute_result"
    }
   ],
   "source": [
    "s_list=pd.read_csv(\"../sector_list.csv\")\n",
    "s_tick=pd.read_csv(\"../sector_ticks.csv\")\n",
    "s_tick.head()"
   ]
  },
  {
   "cell_type": "code",
   "execution_count": 10,
   "metadata": {},
   "outputs": [
    {
     "data": {
      "text/plain": [
       "1285"
      ]
     },
     "execution_count": 10,
     "metadata": {},
     "output_type": "execute_result"
    }
   ],
   "source": [
    "ticks=s_tick['ticks'].unique()\n",
    "len(ticks)"
   ]
  },
  {
   "cell_type": "code",
   "execution_count": 11,
   "metadata": {},
   "outputs": [
    {
     "data": {
      "text/plain": [
       "1         NSE/AARTIIND\n",
       "6            NSE/ABCIL\n",
       "35          NSE/ALKALI\n",
       "36      NSE/ALKYLAMINE\n",
       "88           NSE/ASTEC\n",
       "112      NSE/BALAMINES\n",
       "125           NSE/BASF\n",
       "165            NSE/BOC\n",
       "193      NSE/CELESTIAL\n",
       "203     NSE/CHEMFALKAL\n",
       "335      NSE/FOSECOIND\n",
       "350         NSE/GEECEE\n",
       "358           NSE/GHCL\n",
       "366            NSE/GKB\n",
       "382      NSE/GODREJIND\n",
       "410      NSE/GUJALKALI\n",
       "412      NSE/GUJFLUORO\n",
       "429           NSE/HCIL\n",
       "441          NSE/HIKAL\n",
       "462           NSE/HOCL\n",
       "495     NSE/INDIAGLYCO\n",
       "568          NSE/JOCIL\n",
       "575       NSE/JUBILANT\n",
       "588     NSE/KANORICHEM\n",
       "705           NSE/MEGH\n",
       "754     NSE/NAVINFLUOR\n",
       "792         NSE/NUCHEM\n",
       "827     NSE/PARABDRUGS\n",
       "851     NSE/PHILIPCARB\n",
       "853     NSE/PIDILITIND\n",
       "889     NSE/PUNJABCHEM\n",
       "1024     NSE/SOLARINDS\n",
       "1029          NSE/SOTL\n",
       "1036    NSE/SRHHLINDST\n",
       "1037    NSE/SRHHYPOLTD\n",
       "1044    NSE/STERLINBIO\n",
       "1116    NSE/TIRUMALCHM\n",
       "1189    NSE/VINYLINDIA\n",
       "1197    NSE/VIVIMEDLAB\n",
       "1256       NSE/IFBAGRO\n",
       "1269           NSE/SIL\n",
       "1275        NSE/TCPLTD\n",
       "1287      NSE/KREBSBIO\n",
       "Name: ticks, dtype: object"
      ]
     },
     "execution_count": 11,
     "metadata": {},
     "output_type": "execute_result"
    }
   ],
   "source": [
    "s_tick.loc[s_tick[\"sector\"]==\"CHEMICALS\",\"ticks\"]"
   ]
  },
  {
   "cell_type": "markdown",
   "metadata": {},
   "source": [
    "### 1. USE BELOW CODE ONLY TO COLLECT PRICES"
   ]
  },
  {
   "cell_type": "raw",
   "metadata": {},
   "source": [
    "d1=\"2003-04-14\"\n",
    "d2=\"2018-04-14\"\n",
    "    \n",
    "for sector in s_list['sector']:\n",
    "    \n",
    "    print(\"--------{0}--------\".format(sector))\n",
    "    sector_file_name=\"Data/\"+str(sector)+\".csv\"\n",
    "    \n",
    "    \n",
    "    with open(sector_file_name, 'a') as f:\n",
    "        \n",
    "        ticks=s_tick.loc[s_tick[\"sector\"]==sector,\"ticks\"] \n",
    "        \n",
    "        for t in ticks:\n",
    "            t=str(t)\n",
    "            \n",
    "            try: \n",
    "                data=quandl.get(t, start_date=d1, end_date=d2)\n",
    "                data[\"Ticker\"]=t\n",
    "                data=data[['Ticker','Open','High','Low','Last','Close',\n",
    "                         'Total Trade Quantity','Turnover (Lacs)']]\n",
    "            \n",
    "                data.to_csv(f, header=False)\n",
    "                \n",
    "            except NotFoundError:\n",
    "                pass    \n",
    "                "
   ]
  }
 ],
 "metadata": {
  "kernelspec": {
   "display_name": "Python 2",
   "language": "python",
   "name": "python2"
  },
  "language_info": {
   "codemirror_mode": {
    "name": "ipython",
    "version": 2
   },
   "file_extension": ".py",
   "mimetype": "text/x-python",
   "name": "python",
   "nbconvert_exporter": "python",
   "pygments_lexer": "ipython2",
   "version": "2.7.12"
  }
 },
 "nbformat": 4,
 "nbformat_minor": 2
}
