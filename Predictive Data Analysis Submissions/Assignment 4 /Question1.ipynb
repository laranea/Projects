{
 "cells": [
  {
   "cell_type": "code",
   "execution_count": 1,
   "metadata": {},
   "outputs": [
    {
     "name": "stdout",
     "output_type": "stream",
     "text": [
      ".\r\n",
      "├── Data\r\n",
      "│   └── Book1.xlsx\r\n",
      "├── Market Basket.ipynb\r\n",
      "├── market_basket.py\r\n",
      "├── out.csv\r\n",
      "├── __pycache__\r\n",
      "│   └── market_basket.cpython-36.pyc\r\n",
      "└── Question1.ipynb\r\n",
      "\r\n",
      "2 directories, 6 files\r\n"
     ]
    }
   ],
   "source": [
    "! tree"
   ]
  },
  {
   "cell_type": "code",
   "execution_count": 2,
   "metadata": {},
   "outputs": [],
   "source": [
    "import pandas as pd"
   ]
  },
  {
   "cell_type": "code",
   "execution_count": 3,
   "metadata": {},
   "outputs": [],
   "source": [
    "from market_basket import basket_calculator\n",
    "# basket_calculator(df,X,confidence_level=.6,  min_diff=1, unique=True):\n"
   ]
  },
  {
   "cell_type": "code",
   "execution_count": 4,
   "metadata": {},
   "outputs": [
    {
     "data": {
      "text/html": [
       "<div>\n",
       "<style scoped>\n",
       "    .dataframe tbody tr th:only-of-type {\n",
       "        vertical-align: middle;\n",
       "    }\n",
       "\n",
       "    .dataframe tbody tr th {\n",
       "        vertical-align: top;\n",
       "    }\n",
       "\n",
       "    .dataframe thead th {\n",
       "        text-align: right;\n",
       "    }\n",
       "</style>\n",
       "<table border=\"1\" class=\"dataframe\">\n",
       "  <thead>\n",
       "    <tr style=\"text-align: right;\">\n",
       "      <th></th>\n",
       "      <th>transaction #</th>\n",
       "      <th>day week</th>\n",
       "      <th>vegetables</th>\n",
       "      <th>baby</th>\n",
       "      <th>fruit</th>\n",
       "      <th>milk</th>\n",
       "      <th>dvds</th>\n",
       "      <th>meat</th>\n",
       "    </tr>\n",
       "  </thead>\n",
       "  <tbody>\n",
       "    <tr>\n",
       "      <th>0</th>\n",
       "      <td>1</td>\n",
       "      <td>5</td>\n",
       "      <td>1</td>\n",
       "      <td>0</td>\n",
       "      <td>0</td>\n",
       "      <td>1</td>\n",
       "      <td>0</td>\n",
       "      <td>1</td>\n",
       "    </tr>\n",
       "    <tr>\n",
       "      <th>1</th>\n",
       "      <td>2</td>\n",
       "      <td>4</td>\n",
       "      <td>1</td>\n",
       "      <td>1</td>\n",
       "      <td>1</td>\n",
       "      <td>1</td>\n",
       "      <td>0</td>\n",
       "      <td>0</td>\n",
       "    </tr>\n",
       "    <tr>\n",
       "      <th>2</th>\n",
       "      <td>3</td>\n",
       "      <td>5</td>\n",
       "      <td>1</td>\n",
       "      <td>0</td>\n",
       "      <td>0</td>\n",
       "      <td>0</td>\n",
       "      <td>0</td>\n",
       "      <td>0</td>\n",
       "    </tr>\n",
       "    <tr>\n",
       "      <th>3</th>\n",
       "      <td>4</td>\n",
       "      <td>5</td>\n",
       "      <td>1</td>\n",
       "      <td>0</td>\n",
       "      <td>1</td>\n",
       "      <td>0</td>\n",
       "      <td>0</td>\n",
       "      <td>0</td>\n",
       "    </tr>\n",
       "    <tr>\n",
       "      <th>4</th>\n",
       "      <td>5</td>\n",
       "      <td>7</td>\n",
       "      <td>1</td>\n",
       "      <td>1</td>\n",
       "      <td>0</td>\n",
       "      <td>1</td>\n",
       "      <td>0</td>\n",
       "      <td>1</td>\n",
       "    </tr>\n",
       "  </tbody>\n",
       "</table>\n",
       "</div>"
      ],
      "text/plain": [
       "   transaction #  day week  vegetables  baby  fruit  milk  dvds  meat\n",
       "0              1         5           1     0      0     1     0     1\n",
       "1              2         4           1     1      1     1     0     0\n",
       "2              3         5           1     0      0     0     0     0\n",
       "3              4         5           1     0      1     0     0     0\n",
       "4              5         7           1     1      0     1     0     1"
      ]
     },
     "execution_count": 4,
     "metadata": {},
     "output_type": "execute_result"
    }
   ],
   "source": [
    "df=pd.read_excel(\"./Data/Book1.xlsx\")\n",
    "df.head()"
   ]
  },
  {
   "cell_type": "code",
   "execution_count": 5,
   "metadata": {},
   "outputs": [
    {
     "data": {
      "text/plain": [
       "Index(['transaction #', 'day week', 'vegetables', 'baby', 'fruit', 'milk',\n",
       "       'dvds', 'meat'],\n",
       "      dtype='object')"
      ]
     },
     "execution_count": 5,
     "metadata": {},
     "output_type": "execute_result"
    }
   ],
   "source": [
    "df.columns"
   ]
  },
  {
   "cell_type": "code",
   "execution_count": 6,
   "metadata": {},
   "outputs": [],
   "source": [
    "X= ['vegetables', 'baby', 'fruit', 'milk',\n",
    "       'dvds', 'meat']"
   ]
  },
  {
   "cell_type": "code",
   "execution_count": 10,
   "metadata": {},
   "outputs": [
    {
     "data": {
      "text/html": [
       "<div>\n",
       "<style scoped>\n",
       "    .dataframe tbody tr th:only-of-type {\n",
       "        vertical-align: middle;\n",
       "    }\n",
       "\n",
       "    .dataframe tbody tr th {\n",
       "        vertical-align: top;\n",
       "    }\n",
       "\n",
       "    .dataframe thead th {\n",
       "        text-align: right;\n",
       "    }\n",
       "</style>\n",
       "<table border=\"1\" class=\"dataframe\">\n",
       "  <thead>\n",
       "    <tr style=\"text-align: right;\">\n",
       "      <th></th>\n",
       "      <th>index</th>\n",
       "      <th>A</th>\n",
       "      <th>B</th>\n",
       "      <th>support</th>\n",
       "      <th>confidence</th>\n",
       "      <th>lift</th>\n",
       "    </tr>\n",
       "  </thead>\n",
       "  <tbody>\n",
       "    <tr>\n",
       "      <th>68</th>\n",
       "      <td>8</td>\n",
       "      <td>(vegetables,)</td>\n",
       "      <td>(fruit, dvds, meat)</td>\n",
       "      <td>0.007172</td>\n",
       "      <td>0.677419</td>\n",
       "      <td>1.116827</td>\n",
       "    </tr>\n",
       "    <tr>\n",
       "      <th>150</th>\n",
       "      <td>0</td>\n",
       "      <td>(vegetables,)</td>\n",
       "      <td>(baby, fruit, milk, dvds, meat)</td>\n",
       "      <td>0.001366</td>\n",
       "      <td>0.666667</td>\n",
       "      <td>1.099099</td>\n",
       "    </tr>\n",
       "    <tr>\n",
       "      <th>122</th>\n",
       "      <td>2</td>\n",
       "      <td>(vegetables,)</td>\n",
       "      <td>(baby, fruit, dvds, meat)</td>\n",
       "      <td>0.003074</td>\n",
       "      <td>0.642857</td>\n",
       "      <td>1.059846</td>\n",
       "    </tr>\n",
       "    <tr>\n",
       "      <th>4</th>\n",
       "      <td>4</td>\n",
       "      <td>(vegetables,)</td>\n",
       "      <td>(fruit, milk)</td>\n",
       "      <td>0.056694</td>\n",
       "      <td>0.626415</td>\n",
       "      <td>1.032738</td>\n",
       "    </tr>\n",
       "    <tr>\n",
       "      <th>121</th>\n",
       "      <td>1</td>\n",
       "      <td>(vegetables,)</td>\n",
       "      <td>(baby, fruit, milk, meat)</td>\n",
       "      <td>0.004440</td>\n",
       "      <td>0.619048</td>\n",
       "      <td>1.020592</td>\n",
       "    </tr>\n",
       "    <tr>\n",
       "      <th>124</th>\n",
       "      <td>4</td>\n",
       "      <td>(vegetables,)</td>\n",
       "      <td>(fruit, milk, dvds, meat)</td>\n",
       "      <td>0.002732</td>\n",
       "      <td>0.615385</td>\n",
       "      <td>1.014553</td>\n",
       "    </tr>\n",
       "    <tr>\n",
       "      <th>65</th>\n",
       "      <td>5</td>\n",
       "      <td>(vegetables,)</td>\n",
       "      <td>(baby, dvds, meat)</td>\n",
       "      <td>0.010246</td>\n",
       "      <td>0.612245</td>\n",
       "      <td>1.009377</td>\n",
       "    </tr>\n",
       "    <tr>\n",
       "      <th>64</th>\n",
       "      <td>4</td>\n",
       "      <td>(vegetables,)</td>\n",
       "      <td>(baby, milk, meat)</td>\n",
       "      <td>0.014003</td>\n",
       "      <td>0.602941</td>\n",
       "      <td>0.994038</td>\n",
       "    </tr>\n",
       "  </tbody>\n",
       "</table>\n",
       "</div>"
      ],
      "text/plain": [
       "     index              A                                B   support  \\\n",
       "68       8  (vegetables,)              (fruit, dvds, meat)  0.007172   \n",
       "150      0  (vegetables,)  (baby, fruit, milk, dvds, meat)  0.001366   \n",
       "122      2  (vegetables,)        (baby, fruit, dvds, meat)  0.003074   \n",
       "4        4  (vegetables,)                    (fruit, milk)  0.056694   \n",
       "121      1  (vegetables,)        (baby, fruit, milk, meat)  0.004440   \n",
       "124      4  (vegetables,)        (fruit, milk, dvds, meat)  0.002732   \n",
       "65       5  (vegetables,)               (baby, dvds, meat)  0.010246   \n",
       "64       4  (vegetables,)               (baby, milk, meat)  0.014003   \n",
       "\n",
       "     confidence      lift  \n",
       "68     0.677419  1.116827  \n",
       "150    0.666667  1.099099  \n",
       "122    0.642857  1.059846  \n",
       "4      0.626415  1.032738  \n",
       "121    0.619048  1.020592  \n",
       "124    0.615385  1.014553  \n",
       "65     0.612245  1.009377  \n",
       "64     0.602941  0.994038  "
      ]
     },
     "execution_count": 10,
     "metadata": {},
     "output_type": "execute_result"
    }
   ],
   "source": [
    "# basket_calculator(df,X,confidence_level=.6,  min_diff=1, unique=True):\n",
    "\n",
    "basket_calculator(df, X, 0.6,False)"
   ]
  },
  {
   "cell_type": "code",
   "execution_count": null,
   "metadata": {},
   "outputs": [],
   "source": []
  },
  {
   "cell_type": "code",
   "execution_count": null,
   "metadata": {},
   "outputs": [],
   "source": []
  },
  {
   "cell_type": "code",
   "execution_count": null,
   "metadata": {},
   "outputs": [],
   "source": []
  },
  {
   "cell_type": "code",
   "execution_count": null,
   "metadata": {},
   "outputs": [],
   "source": []
  },
  {
   "cell_type": "code",
   "execution_count": null,
   "metadata": {},
   "outputs": [],
   "source": []
  }
 ],
 "metadata": {
  "kernelspec": {
   "display_name": "Python 3",
   "language": "python",
   "name": "python3"
  },
  "language_info": {
   "codemirror_mode": {
    "name": "ipython",
    "version": 3
   },
   "file_extension": ".py",
   "mimetype": "text/x-python",
   "name": "python",
   "nbconvert_exporter": "python",
   "pygments_lexer": "ipython3",
   "version": "3.7.3"
  }
 },
 "nbformat": 4,
 "nbformat_minor": 2
}
