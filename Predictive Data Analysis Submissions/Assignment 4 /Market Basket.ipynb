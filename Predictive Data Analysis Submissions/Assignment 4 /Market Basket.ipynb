{
 "cells": [
  {
   "cell_type": "markdown",
   "metadata": {},
   "source": [
    "##### Help articles\n",
    "* https://pbpython.com/market-basket-analysis.html"
   ]
  },
  {
   "cell_type": "code",
   "execution_count": 76,
   "metadata": {},
   "outputs": [
    {
     "name": "stdout",
     "output_type": "stream",
     "text": [
      ".\r\n",
      "├── Data\r\n",
      "│   └── Book1.xlsx\r\n",
      "├── Market Basket.ipynb\r\n",
      "├── market_basket.py\r\n",
      "├── out.csv\r\n",
      "├── __pycache__\r\n",
      "│   └── market_basket.cpython-36.pyc\r\n",
      "└── Question1.ipynb\r\n",
      "\r\n",
      "2 directories, 6 files\r\n"
     ]
    }
   ],
   "source": [
    "! tree"
   ]
  },
  {
   "cell_type": "code",
   "execution_count": 77,
   "metadata": {},
   "outputs": [],
   "source": [
    "import pandas as pd\n",
    "# from pandas import DataFrame\n"
   ]
  },
  {
   "cell_type": "code",
   "execution_count": 78,
   "metadata": {},
   "outputs": [
    {
     "name": "stdout",
     "output_type": "stream",
     "text": [
      "Transcations: 2928\n"
     ]
    },
    {
     "data": {
      "text/html": [
       "<div>\n",
       "<style scoped>\n",
       "    .dataframe tbody tr th:only-of-type {\n",
       "        vertical-align: middle;\n",
       "    }\n",
       "\n",
       "    .dataframe tbody tr th {\n",
       "        vertical-align: top;\n",
       "    }\n",
       "\n",
       "    .dataframe thead th {\n",
       "        text-align: right;\n",
       "    }\n",
       "</style>\n",
       "<table border=\"1\" class=\"dataframe\">\n",
       "  <thead>\n",
       "    <tr style=\"text-align: right;\">\n",
       "      <th></th>\n",
       "      <th>transaction #</th>\n",
       "      <th>day week</th>\n",
       "      <th>vegetables</th>\n",
       "      <th>baby</th>\n",
       "      <th>fruit</th>\n",
       "      <th>milk</th>\n",
       "      <th>dvds</th>\n",
       "      <th>meat</th>\n",
       "    </tr>\n",
       "  </thead>\n",
       "  <tbody>\n",
       "    <tr>\n",
       "      <th>0</th>\n",
       "      <td>1</td>\n",
       "      <td>5</td>\n",
       "      <td>1</td>\n",
       "      <td>0</td>\n",
       "      <td>0</td>\n",
       "      <td>1</td>\n",
       "      <td>0</td>\n",
       "      <td>1</td>\n",
       "    </tr>\n",
       "    <tr>\n",
       "      <th>1</th>\n",
       "      <td>2</td>\n",
       "      <td>4</td>\n",
       "      <td>1</td>\n",
       "      <td>1</td>\n",
       "      <td>1</td>\n",
       "      <td>1</td>\n",
       "      <td>0</td>\n",
       "      <td>0</td>\n",
       "    </tr>\n",
       "    <tr>\n",
       "      <th>2</th>\n",
       "      <td>3</td>\n",
       "      <td>5</td>\n",
       "      <td>1</td>\n",
       "      <td>0</td>\n",
       "      <td>0</td>\n",
       "      <td>0</td>\n",
       "      <td>0</td>\n",
       "      <td>0</td>\n",
       "    </tr>\n",
       "    <tr>\n",
       "      <th>3</th>\n",
       "      <td>4</td>\n",
       "      <td>5</td>\n",
       "      <td>1</td>\n",
       "      <td>0</td>\n",
       "      <td>1</td>\n",
       "      <td>0</td>\n",
       "      <td>0</td>\n",
       "      <td>0</td>\n",
       "    </tr>\n",
       "    <tr>\n",
       "      <th>4</th>\n",
       "      <td>5</td>\n",
       "      <td>7</td>\n",
       "      <td>1</td>\n",
       "      <td>1</td>\n",
       "      <td>0</td>\n",
       "      <td>1</td>\n",
       "      <td>0</td>\n",
       "      <td>1</td>\n",
       "    </tr>\n",
       "  </tbody>\n",
       "</table>\n",
       "</div>"
      ],
      "text/plain": [
       "   transaction #  day week  vegetables  baby  fruit  milk  dvds  meat\n",
       "0              1         5           1     0      0     1     0     1\n",
       "1              2         4           1     1      1     1     0     0\n",
       "2              3         5           1     0      0     0     0     0\n",
       "3              4         5           1     0      1     0     0     0\n",
       "4              5         7           1     1      0     1     0     1"
      ]
     },
     "execution_count": 78,
     "metadata": {},
     "output_type": "execute_result"
    }
   ],
   "source": [
    "df=pd.read_excel(\"./Data/Book1.xlsx\")\n",
    "print(\"Transcations:\", len(df))\n",
    "df.head()"
   ]
  },
  {
   "cell_type": "code",
   "execution_count": 79,
   "metadata": {},
   "outputs": [],
   "source": [
    "\n",
    "def set_internal_multiplier(df, load_set):\n",
    "    \n",
    "    ## Intialize series\n",
    "    df0=df[load_set[0]]\n",
    "    \n",
    "    ## Multiply series\n",
    "    for col in load_set: \n",
    "        df0=df0*df[col]\n",
    "\n",
    "    ## Return Series\n",
    "    return df0\n",
    "\n",
    "def support_calculator(df, setA,setB):\n",
    "    \n",
    "    setA_series=set_internal_multiplier(df, setA)\n",
    "    setB_series=set_internal_multiplier(df, setB)\n",
    "    \n",
    "    support= (sum(setA_series*setB_series)) /len(setA_series) \n",
    "    return support\n",
    "\n",
    "def identity_creater(df):\n",
    "    df[\"I\"]=1\n",
    "    return df\n",
    "\n",
    "def confidence_calculator(df, setA, setB):\n",
    "    \n",
    "    #### Numerator\n",
    "    support_AB=support_calculator(df, setA, setB)\n",
    "    \n",
    "    \n",
    "    #### Denominator\n",
    "    df=identity_creater(df)\n",
    "    support_B=support_calculator(df,setB,\"I\")\n",
    "    \n",
    "    #### Ratio\n",
    "    confidence=support_AB/support_B\n",
    "    \n",
    "    return confidence\n",
    "\n",
    "def lift_calculator(df, setA, setB):\n",
    "    \n",
    "    #### Numerator\n",
    "    confidence=confidence_calculator(df,setA, setB)\n",
    "    \n",
    "    #### Denominator\n",
    "    df=identity_creater(df)\n",
    "    support_A=support_calculator(df,setA,\"I\")\n",
    "    \n",
    "    #### Ratio\n",
    "    lift = confidence/support_A\n",
    "    return lift\n",
    "    \n",
    "    "
   ]
  },
  {
   "cell_type": "code",
   "execution_count": 80,
   "metadata": {},
   "outputs": [
    {
     "data": {
      "text/plain": [
       "Index(['transaction #', 'day week', 'vegetables', 'baby', 'fruit', 'milk',\n",
       "       'dvds', 'meat'],\n",
       "      dtype='object')"
      ]
     },
     "execution_count": 80,
     "metadata": {},
     "output_type": "execute_result"
    }
   ],
   "source": [
    "df.columns"
   ]
  },
  {
   "cell_type": "code",
   "execution_count": 81,
   "metadata": {},
   "outputs": [],
   "source": [
    "set_a=['meat']\n",
    "set_b=['vegetables']"
   ]
  },
  {
   "cell_type": "code",
   "execution_count": 82,
   "metadata": {},
   "outputs": [
    {
     "data": {
      "text/plain": [
       "0.15300546448087432"
      ]
     },
     "execution_count": 82,
     "metadata": {},
     "output_type": "execute_result"
    }
   ],
   "source": [
    "support_calculator(df,set_a, set_b)"
   ]
  },
  {
   "cell_type": "code",
   "execution_count": 83,
   "metadata": {},
   "outputs": [
    {
     "data": {
      "text/plain": [
       "0.25225225225225223"
      ]
     },
     "execution_count": 83,
     "metadata": {},
     "output_type": "execute_result"
    }
   ],
   "source": [
    "confidence_calculator(df, set_a, set_b)"
   ]
  },
  {
   "cell_type": "code",
   "execution_count": 84,
   "metadata": {},
   "outputs": [
    {
     "data": {
      "text/plain": [
       "1.0117734172528692"
      ]
     },
     "execution_count": 84,
     "metadata": {},
     "output_type": "execute_result"
    }
   ],
   "source": [
    "lift_calculator(df, set_a, set_b)"
   ]
  },
  {
   "cell_type": "code",
   "execution_count": 85,
   "metadata": {},
   "outputs": [],
   "source": [
    "X=['vegetables', 'baby', 'fruit', 'milk',\n",
    "       'dvds', 'meat']"
   ]
  },
  {
   "cell_type": "code",
   "execution_count": 86,
   "metadata": {},
   "outputs": [
    {
     "data": {
      "text/plain": [
       "0.25225225225225223"
      ]
     },
     "execution_count": 86,
     "metadata": {},
     "output_type": "execute_result"
    }
   ],
   "source": [
    "confidence_calculator(df, set_a,set_b)"
   ]
  },
  {
   "cell_type": "code",
   "execution_count": 87,
   "metadata": {},
   "outputs": [],
   "source": [
    "def set_acceptor(A, B, min_diff, unique):\n",
    "    flag=True\n",
    "    \n",
    "        \n",
    "    if len(A) >= len (B):\n",
    "        diff=abs(len(set(A)-set(B)))\n",
    "        commonalities = set(A) - (set(A) - set(B))\n",
    "\n",
    "    else:\n",
    "        diff=abs(len(set(B)-set(A)))\n",
    "        commonalities = set(B) - (set(B) - set(A))\n",
    "\n",
    "    \n",
    "    \n",
    "    if unique:\n",
    "        if len(commonalities)>0:\n",
    "            flag=False\n",
    "            \n",
    "    elif (len(A)>1) or (len(B)>1):\n",
    "        if not diff>min_diff:\n",
    "            flag= False\n",
    "            \n",
    "    else:\n",
    "        if not diff>=2:\n",
    "            flag= False\n",
    "        \n",
    "    return flag\n",
    "\n",
    "\n",
    "\n",
    "def basket_combination_finder(X, setA_N, setB_N, min_diff, unique):\n",
    "    from itertools import combinations\n",
    "    setA_basket=list(combinations(X, setA_N))\n",
    "    setB_basket=list(combinations(X, setB_N))\n",
    "\n",
    "    comb_list=[]\n",
    "    \n",
    "    for A in setA_basket:\n",
    "        for B in setB_basket:\n",
    "            row=[A, B]\n",
    "            if set_acceptor(A, B, min_diff, unique):\n",
    "                comb_list.append(row)\n",
    "    df_comb=pd.DataFrame(comb_list, columns=[\"A\",\"B\"])\n",
    "    return df_comb\n",
    "\n",
    "\n",
    "\n",
    "\n",
    "def master_basket_combination_finder(X, min_diff, unique):\n",
    "    from itertools import permutations\n",
    "    \n",
    "    \n",
    "    X_num_list=list(range(1, (len(X)+1) ))\n",
    "    \n",
    "    perm_list=list(permutations(X_num_list, 2))\n",
    "    \n",
    "    df_comb=pd.DataFrame(columns=[\"A\",\"B\"])\n",
    "    \n",
    "    for p in perm_list:\n",
    "        dfc=basket_combination_finder(X, p[0], p[1], min_diff, unique)\n",
    "        df_comb=df_comb.append(dfc)\n",
    "    \n",
    "    df_comb=df_comb.reset_index()\n",
    "    return df_comb"
   ]
  },
  {
   "cell_type": "code",
   "execution_count": 94,
   "metadata": {},
   "outputs": [
    {
     "data": {
      "text/html": [
       "<div>\n",
       "<style scoped>\n",
       "    .dataframe tbody tr th:only-of-type {\n",
       "        vertical-align: middle;\n",
       "    }\n",
       "\n",
       "    .dataframe tbody tr th {\n",
       "        vertical-align: top;\n",
       "    }\n",
       "\n",
       "    .dataframe thead th {\n",
       "        text-align: right;\n",
       "    }\n",
       "</style>\n",
       "<table border=\"1\" class=\"dataframe\">\n",
       "  <thead>\n",
       "    <tr style=\"text-align: right;\">\n",
       "      <th></th>\n",
       "      <th>index</th>\n",
       "      <th>A</th>\n",
       "      <th>B</th>\n",
       "      <th>support</th>\n",
       "      <th>confidence</th>\n",
       "      <th>lift</th>\n",
       "    </tr>\n",
       "  </thead>\n",
       "  <tbody>\n",
       "    <tr>\n",
       "      <th>68</th>\n",
       "      <td>8</td>\n",
       "      <td>(vegetables,)</td>\n",
       "      <td>(fruit, dvds, meat)</td>\n",
       "      <td>0.007172</td>\n",
       "      <td>0.677419</td>\n",
       "      <td>1.116827</td>\n",
       "    </tr>\n",
       "    <tr>\n",
       "      <th>150</th>\n",
       "      <td>0</td>\n",
       "      <td>(vegetables,)</td>\n",
       "      <td>(baby, fruit, milk, dvds, meat)</td>\n",
       "      <td>0.001366</td>\n",
       "      <td>0.666667</td>\n",
       "      <td>1.099099</td>\n",
       "    </tr>\n",
       "    <tr>\n",
       "      <th>122</th>\n",
       "      <td>2</td>\n",
       "      <td>(vegetables,)</td>\n",
       "      <td>(baby, fruit, dvds, meat)</td>\n",
       "      <td>0.003074</td>\n",
       "      <td>0.642857</td>\n",
       "      <td>1.059846</td>\n",
       "    </tr>\n",
       "    <tr>\n",
       "      <th>4</th>\n",
       "      <td>4</td>\n",
       "      <td>(vegetables,)</td>\n",
       "      <td>(fruit, milk)</td>\n",
       "      <td>0.056694</td>\n",
       "      <td>0.626415</td>\n",
       "      <td>1.032738</td>\n",
       "    </tr>\n",
       "    <tr>\n",
       "      <th>121</th>\n",
       "      <td>1</td>\n",
       "      <td>(vegetables,)</td>\n",
       "      <td>(baby, fruit, milk, meat)</td>\n",
       "      <td>0.004440</td>\n",
       "      <td>0.619048</td>\n",
       "      <td>1.020592</td>\n",
       "    </tr>\n",
       "    <tr>\n",
       "      <th>124</th>\n",
       "      <td>4</td>\n",
       "      <td>(vegetables,)</td>\n",
       "      <td>(fruit, milk, dvds, meat)</td>\n",
       "      <td>0.002732</td>\n",
       "      <td>0.615385</td>\n",
       "      <td>1.014553</td>\n",
       "    </tr>\n",
       "    <tr>\n",
       "      <th>65</th>\n",
       "      <td>5</td>\n",
       "      <td>(vegetables,)</td>\n",
       "      <td>(baby, dvds, meat)</td>\n",
       "      <td>0.010246</td>\n",
       "      <td>0.612245</td>\n",
       "      <td>1.009377</td>\n",
       "    </tr>\n",
       "    <tr>\n",
       "      <th>64</th>\n",
       "      <td>4</td>\n",
       "      <td>(vegetables,)</td>\n",
       "      <td>(baby, milk, meat)</td>\n",
       "      <td>0.014003</td>\n",
       "      <td>0.602941</td>\n",
       "      <td>0.994038</td>\n",
       "    </tr>\n",
       "  </tbody>\n",
       "</table>\n",
       "</div>"
      ],
      "text/plain": [
       "     index              A                                B   support  \\\n",
       "68       8  (vegetables,)              (fruit, dvds, meat)  0.007172   \n",
       "150      0  (vegetables,)  (baby, fruit, milk, dvds, meat)  0.001366   \n",
       "122      2  (vegetables,)        (baby, fruit, dvds, meat)  0.003074   \n",
       "4        4  (vegetables,)                    (fruit, milk)  0.056694   \n",
       "121      1  (vegetables,)        (baby, fruit, milk, meat)  0.004440   \n",
       "124      4  (vegetables,)        (fruit, milk, dvds, meat)  0.002732   \n",
       "65       5  (vegetables,)               (baby, dvds, meat)  0.010246   \n",
       "64       4  (vegetables,)               (baby, milk, meat)  0.014003   \n",
       "\n",
       "     confidence      lift  \n",
       "68     0.677419  1.116827  \n",
       "150    0.666667  1.099099  \n",
       "122    0.642857  1.059846  \n",
       "4      0.626415  1.032738  \n",
       "121    0.619048  1.020592  \n",
       "124    0.615385  1.014553  \n",
       "65     0.612245  1.009377  \n",
       "64     0.602941  0.994038  "
      ]
     },
     "execution_count": 94,
     "metadata": {},
     "output_type": "execute_result"
    }
   ],
   "source": [
    "def basket_calculator(df,X,confidence_level=.6,  min_diff=1, unique=True):\n",
    "    \n",
    "        \n",
    "    dfc=master_basket_combination_finder(X, min_diff, unique)\n",
    "    dfc[\"support\"]=0.0\n",
    "    dfc[\"confidence\"]=0.0\n",
    "    dfc[\"lift\"]=0.0\n",
    "    \n",
    "    \n",
    "    for i in range(len(dfc)):\n",
    "        \n",
    "        setA=dfc.iloc[i][\"A\"]\n",
    "        setB=dfc.iloc[i][\"B\"]\n",
    "        \n",
    "        support=support_calculator(df, setA, setB)\n",
    "        confidence=confidence_calculator(df, setA, setB)\n",
    "        lift=lift_calculator(df, setA, setB)\n",
    "        \n",
    "        \n",
    "        \n",
    "        dfc.at[i, \"support\"]=float(support)\n",
    "        dfc.at[i, \"confidence\"]=float(confidence)\n",
    "        dfc.at[i, \"lift\"]=float(lift)\n",
    "    \n",
    "    dfc= dfc[ dfc[\"confidence\"]>=confidence_level]\n",
    "    dfc=dfc.sort_values(by=\"lift\", ascending=False)\n",
    "    return dfc\n",
    "\n",
    "dfc=basket_calculator(df, X)\n",
    "dfc"
   ]
  },
  {
   "cell_type": "code",
   "execution_count": null,
   "metadata": {},
   "outputs": [],
   "source": []
  },
  {
   "cell_type": "code",
   "execution_count": null,
   "metadata": {},
   "outputs": [],
   "source": []
  },
  {
   "cell_type": "code",
   "execution_count": null,
   "metadata": {},
   "outputs": [],
   "source": []
  },
  {
   "cell_type": "code",
   "execution_count": null,
   "metadata": {},
   "outputs": [],
   "source": []
  },
  {
   "cell_type": "code",
   "execution_count": null,
   "metadata": {},
   "outputs": [],
   "source": []
  },
  {
   "cell_type": "code",
   "execution_count": null,
   "metadata": {},
   "outputs": [],
   "source": []
  },
  {
   "cell_type": "code",
   "execution_count": null,
   "metadata": {},
   "outputs": [],
   "source": [
    "dfc.to_csv(\"out.csv\")"
   ]
  },
  {
   "cell_type": "code",
   "execution_count": null,
   "metadata": {},
   "outputs": [],
   "source": [
    "A=[\"vegetables\"]"
   ]
  },
  {
   "cell_type": "code",
   "execution_count": null,
   "metadata": {},
   "outputs": [],
   "source": [
    "B=(\"baby\", \"dvds\", \"meat\")"
   ]
  },
  {
   "cell_type": "code",
   "execution_count": null,
   "metadata": {},
   "outputs": [],
   "source": [
    "set(A)-set(B)"
   ]
  },
  {
   "cell_type": "code",
   "execution_count": null,
   "metadata": {},
   "outputs": [],
   "source": []
  },
  {
   "cell_type": "code",
   "execution_count": null,
   "metadata": {},
   "outputs": [],
   "source": []
  }
 ],
 "metadata": {
  "kernelspec": {
   "display_name": "Python 3",
   "language": "python",
   "name": "python3"
  },
  "language_info": {
   "codemirror_mode": {
    "name": "ipython",
    "version": 3
   },
   "file_extension": ".py",
   "mimetype": "text/x-python",
   "name": "python",
   "nbconvert_exporter": "python",
   "pygments_lexer": "ipython3",
   "version": "3.7.3"
  }
 },
 "nbformat": 4,
 "nbformat_minor": 2
}
