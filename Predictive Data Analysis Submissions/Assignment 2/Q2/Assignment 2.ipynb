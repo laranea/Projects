{
 "cells": [
  {
   "cell_type": "code",
   "execution_count": 1,
   "metadata": {},
   "outputs": [
    {
     "name": "stdout",
     "output_type": "stream",
     "text": [
      "Baseball96.xlsx  Countryregion.xlsx  Grocery.xlsx  USmacrodata.xls\r\n",
      "Cardata.xlsx\t Fizzy.xlsx\t     Oreos.xlsx\r\n"
     ]
    }
   ],
   "source": [
    "# %load ./import.py\n",
    "import pandas as pd\n",
    "import numpy as np\n",
    "import statsmodels.api as sm\n",
    "import seaborn as sns\n",
    "%matplotlib inline\n",
    "from sklearn.linear_model import LinearRegression\n",
    "!ls ./Data"
   ]
  },
  {
   "cell_type": "code",
   "execution_count": 2,
   "metadata": {},
   "outputs": [],
   "source": [
    "from ols_diag import ols_diag"
   ]
  },
  {
   "cell_type": "markdown",
   "metadata": {},
   "source": [
    "#### 2.       For 12 straight weeks, you have observed the sales (in number of cases) of canned tomatoes at Mr. D’s Supermarket. (See the fi le Grocery.xlsx.) Each week, you keep track of the following:\n",
    "\n",
    "a. Was a promotional notice for canned tomatoes placed in all shopping carts?\n",
    "\n",
    "b. Was a coupon for canned tomatoes given to each customer?\n",
    "\n",
    "c. Was a price reduction (none, 1, or 2 cents off) given?\n",
    "\n",
    "Use this data to determine how the preceding factors influence sales. Predict sales of canned tomatoes during a week in which you use a shopping cart notice, a coupon, and reduce price by 1 cent."
   ]
  },
  {
   "cell_type": "code",
   "execution_count": 3,
   "metadata": {},
   "outputs": [
    {
     "data": {
      "text/html": [
       "<div>\n",
       "<style scoped>\n",
       "    .dataframe tbody tr th:only-of-type {\n",
       "        vertical-align: middle;\n",
       "    }\n",
       "\n",
       "    .dataframe tbody tr th {\n",
       "        vertical-align: top;\n",
       "    }\n",
       "\n",
       "    .dataframe thead th {\n",
       "        text-align: right;\n",
       "    }\n",
       "</style>\n",
       "<table border=\"1\" class=\"dataframe\">\n",
       "  <thead>\n",
       "    <tr style=\"text-align: right;\">\n",
       "      <th></th>\n",
       "      <th>Week</th>\n",
       "      <th>Cart Notice?</th>\n",
       "      <th>Coupon?</th>\n",
       "      <th>Price Reduction?</th>\n",
       "      <th>Sales</th>\n",
       "    </tr>\n",
       "  </thead>\n",
       "  <tbody>\n",
       "    <tr>\n",
       "      <th>0</th>\n",
       "      <td>1</td>\n",
       "      <td>Yes</td>\n",
       "      <td>Yes</td>\n",
       "      <td>0</td>\n",
       "      <td>36</td>\n",
       "    </tr>\n",
       "    <tr>\n",
       "      <th>1</th>\n",
       "      <td>2</td>\n",
       "      <td>Yes</td>\n",
       "      <td>Yes</td>\n",
       "      <td>1</td>\n",
       "      <td>38</td>\n",
       "    </tr>\n",
       "    <tr>\n",
       "      <th>2</th>\n",
       "      <td>3</td>\n",
       "      <td>Yes</td>\n",
       "      <td>Yes</td>\n",
       "      <td>2</td>\n",
       "      <td>40</td>\n",
       "    </tr>\n",
       "    <tr>\n",
       "      <th>3</th>\n",
       "      <td>4</td>\n",
       "      <td>Yes</td>\n",
       "      <td>No</td>\n",
       "      <td>0</td>\n",
       "      <td>40</td>\n",
       "    </tr>\n",
       "    <tr>\n",
       "      <th>4</th>\n",
       "      <td>5</td>\n",
       "      <td>Yes</td>\n",
       "      <td>No</td>\n",
       "      <td>1</td>\n",
       "      <td>42</td>\n",
       "    </tr>\n",
       "  </tbody>\n",
       "</table>\n",
       "</div>"
      ],
      "text/plain": [
       "   Week Cart Notice? Coupon?  Price Reduction?  Sales\n",
       "0     1          Yes     Yes                 0     36\n",
       "1     2          Yes     Yes                 1     38\n",
       "2     3          Yes     Yes                 2     40\n",
       "3     4          Yes      No                 0     40\n",
       "4     5          Yes      No                 1     42"
      ]
     },
     "execution_count": 3,
     "metadata": {},
     "output_type": "execute_result"
    }
   ],
   "source": [
    "gr=pd.read_excel(\"./Data/Grocery.xlsx\",header=0)\n",
    "gr.head()"
   ]
  },
  {
   "cell_type": "code",
   "execution_count": 4,
   "metadata": {},
   "outputs": [
    {
     "data": {
      "text/plain": [
       "Index(['Week', 'Cart Notice?', 'Coupon?', 'Price Reduction?', 'Sales'], dtype='object')"
      ]
     },
     "execution_count": 4,
     "metadata": {},
     "output_type": "execute_result"
    }
   ],
   "source": [
    "gr.columns"
   ]
  },
  {
   "cell_type": "markdown",
   "metadata": {},
   "source": [
    "#### Converitng columns to dummy-------------------"
   ]
  },
  {
   "cell_type": "code",
   "execution_count": 5,
   "metadata": {},
   "outputs": [
    {
     "data": {
      "text/html": [
       "<div>\n",
       "<style scoped>\n",
       "    .dataframe tbody tr th:only-of-type {\n",
       "        vertical-align: middle;\n",
       "    }\n",
       "\n",
       "    .dataframe tbody tr th {\n",
       "        vertical-align: top;\n",
       "    }\n",
       "\n",
       "    .dataframe thead th {\n",
       "        text-align: right;\n",
       "    }\n",
       "</style>\n",
       "<table border=\"1\" class=\"dataframe\">\n",
       "  <thead>\n",
       "    <tr style=\"text-align: right;\">\n",
       "      <th></th>\n",
       "      <th>Week</th>\n",
       "      <th>Sales</th>\n",
       "      <th>Cart Notice?_Yes</th>\n",
       "      <th>Coupon?_Yes</th>\n",
       "      <th>Price Reduction?_1</th>\n",
       "      <th>Price Reduction?_2</th>\n",
       "    </tr>\n",
       "  </thead>\n",
       "  <tbody>\n",
       "    <tr>\n",
       "      <th>0</th>\n",
       "      <td>1</td>\n",
       "      <td>36</td>\n",
       "      <td>1</td>\n",
       "      <td>1</td>\n",
       "      <td>0</td>\n",
       "      <td>0</td>\n",
       "    </tr>\n",
       "    <tr>\n",
       "      <th>1</th>\n",
       "      <td>2</td>\n",
       "      <td>38</td>\n",
       "      <td>1</td>\n",
       "      <td>1</td>\n",
       "      <td>1</td>\n",
       "      <td>0</td>\n",
       "    </tr>\n",
       "    <tr>\n",
       "      <th>2</th>\n",
       "      <td>3</td>\n",
       "      <td>40</td>\n",
       "      <td>1</td>\n",
       "      <td>1</td>\n",
       "      <td>0</td>\n",
       "      <td>1</td>\n",
       "    </tr>\n",
       "    <tr>\n",
       "      <th>3</th>\n",
       "      <td>4</td>\n",
       "      <td>40</td>\n",
       "      <td>1</td>\n",
       "      <td>0</td>\n",
       "      <td>0</td>\n",
       "      <td>0</td>\n",
       "    </tr>\n",
       "    <tr>\n",
       "      <th>4</th>\n",
       "      <td>5</td>\n",
       "      <td>42</td>\n",
       "      <td>1</td>\n",
       "      <td>0</td>\n",
       "      <td>1</td>\n",
       "      <td>0</td>\n",
       "    </tr>\n",
       "  </tbody>\n",
       "</table>\n",
       "</div>"
      ],
      "text/plain": [
       "   Week  Sales  Cart Notice?_Yes  Coupon?_Yes  Price Reduction?_1  \\\n",
       "0     1     36                 1            1                   0   \n",
       "1     2     38                 1            1                   1   \n",
       "2     3     40                 1            1                   0   \n",
       "3     4     40                 1            0                   0   \n",
       "4     5     42                 1            0                   1   \n",
       "\n",
       "   Price Reduction?_2  \n",
       "0                   0  \n",
       "1                   0  \n",
       "2                   1  \n",
       "3                   0  \n",
       "4                   0  "
      ]
     },
     "execution_count": 5,
     "metadata": {},
     "output_type": "execute_result"
    }
   ],
   "source": [
    "gr_dum_col=['Cart Notice?', 'Coupon?', 'Price Reduction?']\n",
    "grr=pd.get_dummies(gr, prefix_sep='_', dummy_na=False, columns=gr_dum_col,  drop_first=True,)\n",
    "grr.head()"
   ]
  },
  {
   "cell_type": "code",
   "execution_count": 6,
   "metadata": {},
   "outputs": [
    {
     "data": {
      "text/plain": [
       "Index(['Week', 'Sales', 'Cart Notice?_Yes', 'Coupon?_Yes',\n",
       "       'Price Reduction?_1', 'Price Reduction?_2'],\n",
       "      dtype='object')"
      ]
     },
     "execution_count": 6,
     "metadata": {},
     "output_type": "execute_result"
    }
   ],
   "source": [
    "grr.columns"
   ]
  },
  {
   "cell_type": "code",
   "execution_count": 7,
   "metadata": {},
   "outputs": [],
   "source": [
    "y_2=grr[[\"Sales\"]]\n",
    "X_2=grr[['Cart Notice?_Yes', 'Coupon?_Yes',\n",
    "       'Price Reduction?_1', 'Price Reduction?_2']]"
   ]
  },
  {
   "cell_type": "markdown",
   "metadata": {},
   "source": [
    "* Perfroming OLS now"
   ]
  },
  {
   "cell_type": "code",
   "execution_count": 8,
   "metadata": {},
   "outputs": [
    {
     "name": "stderr",
     "output_type": "stream",
     "text": [
      "/home/boo/anaconda3/envs/tf_gpu/lib/python3.6/site-packages/scipy/stats/stats.py:1394: UserWarning: kurtosistest only valid for n>=20 ... continuing anyway, n=12\n",
      "  \"anyway, n=%i\" % int(n))\n"
     ]
    },
    {
     "data": {
      "text/html": [
       "<table class=\"simpletable\">\n",
       "<caption>OLS Regression Results</caption>\n",
       "<tr>\n",
       "  <th>Dep. Variable:</th>          <td>Sales</td>      <th>  R-squared:         </th> <td>   0.887</td>\n",
       "</tr>\n",
       "<tr>\n",
       "  <th>Model:</th>                   <td>OLS</td>       <th>  Adj. R-squared:    </th> <td>   0.822</td>\n",
       "</tr>\n",
       "<tr>\n",
       "  <th>Method:</th>             <td>Least Squares</td>  <th>  F-statistic:       </th> <td>   13.70</td>\n",
       "</tr>\n",
       "<tr>\n",
       "  <th>Date:</th>             <td>Tue, 30 Apr 2019</td> <th>  Prob (F-statistic):</th>  <td>0.00201</td>\n",
       "</tr>\n",
       "<tr>\n",
       "  <th>Time:</th>                 <td>03:51:45</td>     <th>  Log-Likelihood:    </th> <td> -33.865</td>\n",
       "</tr>\n",
       "<tr>\n",
       "  <th>No. Observations:</th>      <td>    12</td>      <th>  AIC:               </th> <td>   77.73</td>\n",
       "</tr>\n",
       "<tr>\n",
       "  <th>Df Residuals:</th>          <td>     7</td>      <th>  BIC:               </th> <td>   80.15</td>\n",
       "</tr>\n",
       "<tr>\n",
       "  <th>Df Model:</th>              <td>     4</td>      <th>                     </th>     <td> </td>   \n",
       "</tr>\n",
       "<tr>\n",
       "  <th>Covariance Type:</th>      <td>nonrobust</td>    <th>                     </th>     <td> </td>   \n",
       "</tr>\n",
       "</table>\n",
       "<table class=\"simpletable\">\n",
       "<tr>\n",
       "           <td></td>             <th>coef</th>     <th>std err</th>      <th>t</th>      <th>P>|t|</th>  <th>[0.025</th>    <th>0.975]</th>  \n",
       "</tr>\n",
       "<tr>\n",
       "  <th>const</th>              <td>   14.5000</td> <td>    3.438</td> <td>    4.217</td> <td> 0.004</td> <td>    6.370</td> <td>   22.630</td>\n",
       "</tr>\n",
       "<tr>\n",
       "  <th>Cart Notice?_Yes</th>   <td>   20.1667</td> <td>    3.075</td> <td>    6.558</td> <td> 0.000</td> <td>   12.895</td> <td>   27.438</td>\n",
       "</tr>\n",
       "<tr>\n",
       "  <th>Coupon?_Yes</th>        <td>   -1.1667</td> <td>    3.075</td> <td>   -0.379</td> <td> 0.716</td> <td>   -8.438</td> <td>    6.105</td>\n",
       "</tr>\n",
       "<tr>\n",
       "  <th>Price Reduction?_1</th> <td>    5.0000</td> <td>    3.766</td> <td>    1.328</td> <td> 0.226</td> <td>   -3.906</td> <td>   13.906</td>\n",
       "</tr>\n",
       "<tr>\n",
       "  <th>Price Reduction?_2</th> <td>   12.7500</td> <td>    3.766</td> <td>    3.385</td> <td> 0.012</td> <td>    3.844</td> <td>   21.656</td>\n",
       "</tr>\n",
       "</table>\n",
       "<table class=\"simpletable\">\n",
       "<tr>\n",
       "  <th>Omnibus:</th>       <td> 1.544</td> <th>  Durbin-Watson:     </th> <td>   2.215</td>\n",
       "</tr>\n",
       "<tr>\n",
       "  <th>Prob(Omnibus):</th> <td> 0.462</td> <th>  Jarque-Bera (JB):  </th> <td>   0.845</td>\n",
       "</tr>\n",
       "<tr>\n",
       "  <th>Skew:</th>          <td>-0.209</td> <th>  Prob(JB):          </th> <td>   0.655</td>\n",
       "</tr>\n",
       "<tr>\n",
       "  <th>Kurtosis:</th>      <td> 1.769</td> <th>  Cond. No.          </th> <td>    4.67</td>\n",
       "</tr>\n",
       "</table><br/><br/>Warnings:<br/>[1] Standard Errors assume that the covariance matrix of the errors is correctly specified."
      ],
      "text/plain": [
       "<class 'statsmodels.iolib.summary.Summary'>\n",
       "\"\"\"\n",
       "                            OLS Regression Results                            \n",
       "==============================================================================\n",
       "Dep. Variable:                  Sales   R-squared:                       0.887\n",
       "Model:                            OLS   Adj. R-squared:                  0.822\n",
       "Method:                 Least Squares   F-statistic:                     13.70\n",
       "Date:                Tue, 30 Apr 2019   Prob (F-statistic):            0.00201\n",
       "Time:                        03:51:45   Log-Likelihood:                -33.865\n",
       "No. Observations:                  12   AIC:                             77.73\n",
       "Df Residuals:                       7   BIC:                             80.15\n",
       "Df Model:                           4                                         \n",
       "Covariance Type:            nonrobust                                         \n",
       "======================================================================================\n",
       "                         coef    std err          t      P>|t|      [0.025      0.975]\n",
       "--------------------------------------------------------------------------------------\n",
       "const                 14.5000      3.438      4.217      0.004       6.370      22.630\n",
       "Cart Notice?_Yes      20.1667      3.075      6.558      0.000      12.895      27.438\n",
       "Coupon?_Yes           -1.1667      3.075     -0.379      0.716      -8.438       6.105\n",
       "Price Reduction?_1     5.0000      3.766      1.328      0.226      -3.906      13.906\n",
       "Price Reduction?_2    12.7500      3.766      3.385      0.012       3.844      21.656\n",
       "==============================================================================\n",
       "Omnibus:                        1.544   Durbin-Watson:                   2.215\n",
       "Prob(Omnibus):                  0.462   Jarque-Bera (JB):                0.845\n",
       "Skew:                          -0.209   Prob(JB):                        0.655\n",
       "Kurtosis:                       1.769   Cond. No.                         4.67\n",
       "==============================================================================\n",
       "\n",
       "Warnings:\n",
       "[1] Standard Errors assume that the covariance matrix of the errors is correctly specified.\n",
       "\"\"\""
      ]
     },
     "execution_count": 8,
     "metadata": {},
     "output_type": "execute_result"
    }
   ],
   "source": [
    "X_2=sm.add_constant(X_2)\n",
    "model_2=sm.OLS(y_2,X_2).fit()\n",
    "model_2.summary()"
   ]
  },
  {
   "cell_type": "code",
   "execution_count": 9,
   "metadata": {},
   "outputs": [
    {
     "name": "stdout",
     "output_type": "stream",
     "text": [
      "Dataset: \t 12\n",
      "X: \t 12\n",
      "1. Normality Test:  Jarque-Bera Test\n",
      "-----------------------------------------------\n",
      "Good\n",
      "Reason: Residual Normally distributed\n",
      "-----------------------------------------------\n",
      "\n",
      "\n",
      "2. Linearity Test:  Rainbow Test\n",
      "-----------------------------------------------\n",
      "Good\n",
      "Reason: Data have linear relationship\n",
      "-----------------------------------------------\n",
      "\n",
      "\n",
      "3. Heteroscedasticity Test:  Breusch-Pagan Test\n",
      "-----------------------------------------------\n",
      "Good\n",
      "Reason: Data have same variance accross\n",
      "-----------------------------------------------\n",
      "\n",
      "\n",
      "4. Autocorrelation Test:  Breusch Godfrey Test\n",
      "-----------------------------------------------\n",
      "Good\n",
      "Reason: Data are not related to themself:1 lag\n",
      "-----------------------------------------------\n",
      "\n",
      "\n",
      "5. Sum of residuals == 0\n",
      "-----------------------------------------------\n",
      "Good\n",
      "Reason: Sum of residuals = 0\n",
      "-----------------------------------------------\n",
      "\n",
      "\n",
      "6. Checking outliers:\n",
      "-----------------------------------------------\n",
      "Mode selected to remove Outliers: False\n",
      "Not Good: We have  2  Outliers\n",
      "Rows to remove: [9, 11]\n"
     ]
    },
    {
     "data": {
      "image/png": "[encoded data removed]",
      "text/plain": [
       "<Figure size 432x288 with 1 Axes>"
      ]
     },
     "metadata": {
      "needs_background": "light"
     },
     "output_type": "display_data"
    },
    {
     "name": "stdout",
     "output_type": "stream",
     "text": [
      "-----------------------------------------------\n",
      "\n",
      "\n",
      "\n",
      "7. Checking multicolinearity\n",
      "-----------------------------------------------\n"
     ]
    },
    {
     "data": {
      "text/plain": [
       "<Figure size 432x288 with 0 Axes>"
      ]
     },
     "metadata": {},
     "output_type": "display_data"
    },
    {
     "data": {
      "image/png": "[encoded data removed]",
      "text/plain": [
       "<Figure size 864x576 with 2 Axes>"
      ]
     },
     "metadata": {
      "needs_background": "light"
     },
     "output_type": "display_data"
    },
    {
     "name": "stdout",
     "output_type": "stream",
     "text": [
      "-----------------------------------------------\n"
     ]
    },
    {
     "data": {
      "text/plain": [
       "<Figure size 432x288 with 0 Axes>"
      ]
     },
     "metadata": {},
     "output_type": "display_data"
    }
   ],
   "source": [
    "ols_diag(grr,X_2, model_2)"
   ]
  },
  {
   "cell_type": "code",
   "execution_count": 10,
   "metadata": {},
   "outputs": [
    {
     "data": {
      "text/plain": [
       "const                 14.500000\n",
       "Cart Notice?_Yes      20.166667\n",
       "Coupon?_Yes           -1.166667\n",
       "Price Reduction?_1     5.000000\n",
       "Price Reduction?_2    12.750000\n",
       "dtype: float64"
      ]
     },
     "execution_count": 10,
     "metadata": {},
     "output_type": "execute_result"
    }
   ],
   "source": [
    "model_2.params"
   ]
  },
  {
   "cell_type": "code",
   "execution_count": 11,
   "metadata": {},
   "outputs": [],
   "source": [
    "sales=model_2.params[0] \\\n",
    "+model_2.params[1]*1 \\\n",
    "+model_2.params[2]*1 \\\n",
    "+model_2.params[3]*0 \\\n",
    "+model_2.params[4]*2\n",
    "\n",
    "sales=sales.round(2)"
   ]
  },
  {
   "cell_type": "markdown",
   "metadata": {},
   "source": [
    "#### And 2:\n",
    "\n",
    "* We predict that:"
   ]
  },
  {
   "cell_type": "code",
   "execution_count": 12,
   "metadata": {},
   "outputs": [
    {
     "name": "stdout",
     "output_type": "stream",
     "text": [
      "Sales in which we use a shopping cart notice, a coupon, and reduce price by 1 cent is 59.0 $\n"
     ]
    }
   ],
   "source": [
    "print(\"Sales in which we use a shopping cart notice, a coupon, and reduce price by 1 cent is\",sales,\"$\")"
   ]
  }
 ],
 "metadata": {
  "kernelspec": {
   "display_name": "Python 3",
   "language": "python",
   "name": "python3"
  },
  "language_info": {
   "codemirror_mode": {
    "name": "ipython",
    "version": 3
   },
   "file_extension": ".py",
   "mimetype": "text/x-python",
   "name": "python",
   "nbconvert_exporter": "python",
   "pygments_lexer": "ipython3",
   "version": "3.6.7"
  }
 },
 "nbformat": 4,
 "nbformat_minor": 2
}
