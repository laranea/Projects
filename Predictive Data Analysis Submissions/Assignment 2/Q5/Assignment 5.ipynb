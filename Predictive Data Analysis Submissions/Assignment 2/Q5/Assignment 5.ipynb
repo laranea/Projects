{
 "cells": [
  {
   "cell_type": "code",
   "execution_count": 1,
   "metadata": {},
   "outputs": [
    {
     "name": "stdout",
     "output_type": "stream",
     "text": [
      "Baseball96.xlsx  Countryregion.xlsx  Grocery.xlsx  USmacrodata.xls\r\n",
      "Cardata.xlsx\t Fizzy.xlsx\t     Oreos.xlsx\r\n"
     ]
    }
   ],
   "source": [
    "# %load ./import.py\n",
    "import pandas as pd\n",
    "import numpy as np\n",
    "import statsmodels.api as sm\n",
    "import seaborn as sns\n",
    "%matplotlib inline\n",
    "from sklearn.linear_model import LinearRegression\n",
    "!ls ./Data"
   ]
  },
  {
   "cell_type": "code",
   "execution_count": 2,
   "metadata": {},
   "outputs": [],
   "source": [
    "from ols_diag import ols_diag\n",
    "# ols_diag(df,X,model, nlag=1, remove_outliers=False):\n"
   ]
  },
  {
   "cell_type": "markdown",
   "metadata": {},
   "source": [
    "### 5.       The file Cardata.xlsx provides the following information for 392 different car models:\n",
    " \n",
    "        ■ Cylinders\n",
    " \n",
    "        ■ Displacement\n",
    " \n",
    "        ■ Horsepower\n",
    " \n",
    "        ■ Weight\n",
    " \n",
    "        ■ Acceleration\n",
    " \n",
    "        ■ Miles per gallon (MPG)\n",
    " \n",
    " Determine an equation that can predict MPG. Why do you think all the independent variables are not significant?\n",
    " \n"
   ]
  },
  {
   "cell_type": "code",
   "execution_count": 3,
   "metadata": {},
   "outputs": [
    {
     "data": {
      "text/html": [
       "<div>\n",
       "<style scoped>\n",
       "    .dataframe tbody tr th:only-of-type {\n",
       "        vertical-align: middle;\n",
       "    }\n",
       "\n",
       "    .dataframe tbody tr th {\n",
       "        vertical-align: top;\n",
       "    }\n",
       "\n",
       "    .dataframe thead th {\n",
       "        text-align: right;\n",
       "    }\n",
       "</style>\n",
       "<table border=\"1\" class=\"dataframe\">\n",
       "  <thead>\n",
       "    <tr style=\"text-align: right;\">\n",
       "      <th></th>\n",
       "      <th>cyl</th>\n",
       "      <th>disp</th>\n",
       "      <th>HP</th>\n",
       "      <th>wt</th>\n",
       "      <th>accel</th>\n",
       "      <th>mpg</th>\n",
       "    </tr>\n",
       "  </thead>\n",
       "  <tbody>\n",
       "    <tr>\n",
       "      <th>0</th>\n",
       "      <td>8</td>\n",
       "      <td>304.0</td>\n",
       "      <td>193</td>\n",
       "      <td>4732</td>\n",
       "      <td>18.5</td>\n",
       "      <td>9.0</td>\n",
       "    </tr>\n",
       "    <tr>\n",
       "      <th>1</th>\n",
       "      <td>8</td>\n",
       "      <td>307.0</td>\n",
       "      <td>200</td>\n",
       "      <td>4376</td>\n",
       "      <td>15.0</td>\n",
       "      <td>10.0</td>\n",
       "    </tr>\n",
       "    <tr>\n",
       "      <th>2</th>\n",
       "      <td>8</td>\n",
       "      <td>360.0</td>\n",
       "      <td>215</td>\n",
       "      <td>4615</td>\n",
       "      <td>14.0</td>\n",
       "      <td>10.0</td>\n",
       "    </tr>\n",
       "    <tr>\n",
       "      <th>3</th>\n",
       "      <td>8</td>\n",
       "      <td>400.0</td>\n",
       "      <td>150</td>\n",
       "      <td>4997</td>\n",
       "      <td>14.0</td>\n",
       "      <td>11.0</td>\n",
       "    </tr>\n",
       "    <tr>\n",
       "      <th>4</th>\n",
       "      <td>8</td>\n",
       "      <td>350.0</td>\n",
       "      <td>180</td>\n",
       "      <td>3664</td>\n",
       "      <td>11.0</td>\n",
       "      <td>11.0</td>\n",
       "    </tr>\n",
       "  </tbody>\n",
       "</table>\n",
       "</div>"
      ],
      "text/plain": [
       "   cyl   disp   HP    wt  accel   mpg\n",
       "0    8  304.0  193  4732   18.5   9.0\n",
       "1    8  307.0  200  4376   15.0  10.0\n",
       "2    8  360.0  215  4615   14.0  10.0\n",
       "3    8  400.0  150  4997   14.0  11.0\n",
       "4    8  350.0  180  3664   11.0  11.0"
      ]
     },
     "execution_count": 3,
     "metadata": {},
     "output_type": "execute_result"
    }
   ],
   "source": [
    "car=pd.read_excel(\"./Data/Cardata.xlsx\")\n",
    "car.head()"
   ]
  },
  {
   "cell_type": "code",
   "execution_count": 4,
   "metadata": {},
   "outputs": [
    {
     "data": {
      "text/plain": [
       "Index(['cyl', 'disp', 'HP', 'wt', 'accel', 'mpg'], dtype='object')"
      ]
     },
     "execution_count": 4,
     "metadata": {},
     "output_type": "execute_result"
    }
   ],
   "source": [
    "car.columns"
   ]
  },
  {
   "cell_type": "code",
   "execution_count": 5,
   "metadata": {},
   "outputs": [],
   "source": [
    "y_5=car[[\"mpg\"]]\n",
    "X_5=car[['cyl', 'disp', 'HP', 'wt', 'accel']]"
   ]
  },
  {
   "cell_type": "markdown",
   "metadata": {},
   "source": [
    "#### Iteration 1: OLS Modeling"
   ]
  },
  {
   "cell_type": "code",
   "execution_count": 6,
   "metadata": {},
   "outputs": [
    {
     "data": {
      "text/html": [
       "<table class=\"simpletable\">\n",
       "<caption>OLS Regression Results</caption>\n",
       "<tr>\n",
       "  <th>Dep. Variable:</th>           <td>mpg</td>       <th>  R-squared:         </th> <td>   0.708</td> \n",
       "</tr>\n",
       "<tr>\n",
       "  <th>Model:</th>                   <td>OLS</td>       <th>  Adj. R-squared:    </th> <td>   0.704</td> \n",
       "</tr>\n",
       "<tr>\n",
       "  <th>Method:</th>             <td>Least Squares</td>  <th>  F-statistic:       </th> <td>   186.9</td> \n",
       "</tr>\n",
       "<tr>\n",
       "  <th>Date:</th>             <td>Tue, 30 Apr 2019</td> <th>  Prob (F-statistic):</th> <td>9.82e-101</td>\n",
       "</tr>\n",
       "<tr>\n",
       "  <th>Time:</th>                 <td>03:52:43</td>     <th>  Log-Likelihood:    </th> <td> -1120.1</td> \n",
       "</tr>\n",
       "<tr>\n",
       "  <th>No. Observations:</th>      <td>   392</td>      <th>  AIC:               </th> <td>   2252.</td> \n",
       "</tr>\n",
       "<tr>\n",
       "  <th>Df Residuals:</th>          <td>   386</td>      <th>  BIC:               </th> <td>   2276.</td> \n",
       "</tr>\n",
       "<tr>\n",
       "  <th>Df Model:</th>              <td>     5</td>      <th>                     </th>     <td> </td>    \n",
       "</tr>\n",
       "<tr>\n",
       "  <th>Covariance Type:</th>      <td>nonrobust</td>    <th>                     </th>     <td> </td>    \n",
       "</tr>\n",
       "</table>\n",
       "<table class=\"simpletable\">\n",
       "<tr>\n",
       "    <td></td>       <th>coef</th>     <th>std err</th>      <th>t</th>      <th>P>|t|</th>  <th>[0.025</th>    <th>0.975]</th>  \n",
       "</tr>\n",
       "<tr>\n",
       "  <th>const</th> <td>   46.2643</td> <td>    2.669</td> <td>   17.331</td> <td> 0.000</td> <td>   41.016</td> <td>   51.513</td>\n",
       "</tr>\n",
       "<tr>\n",
       "  <th>cyl</th>   <td>   -0.3979</td> <td>    0.411</td> <td>   -0.969</td> <td> 0.333</td> <td>   -1.205</td> <td>    0.409</td>\n",
       "</tr>\n",
       "<tr>\n",
       "  <th>disp</th>  <td>-8.313e-05</td> <td>    0.009</td> <td>   -0.009</td> <td> 0.993</td> <td>   -0.018</td> <td>    0.018</td>\n",
       "</tr>\n",
       "<tr>\n",
       "  <th>HP</th>    <td>   -0.0453</td> <td>    0.017</td> <td>   -2.716</td> <td> 0.007</td> <td>   -0.078</td> <td>   -0.012</td>\n",
       "</tr>\n",
       "<tr>\n",
       "  <th>wt</th>    <td>   -0.0052</td> <td>    0.001</td> <td>   -6.351</td> <td> 0.000</td> <td>   -0.007</td> <td>   -0.004</td>\n",
       "</tr>\n",
       "<tr>\n",
       "  <th>accel</th> <td>   -0.0291</td> <td>    0.126</td> <td>   -0.231</td> <td> 0.817</td> <td>   -0.276</td> <td>    0.218</td>\n",
       "</tr>\n",
       "</table>\n",
       "<table class=\"simpletable\">\n",
       "<tr>\n",
       "  <th>Omnibus:</th>       <td>38.561</td> <th>  Durbin-Watson:     </th> <td>   0.575</td>\n",
       "</tr>\n",
       "<tr>\n",
       "  <th>Prob(Omnibus):</th> <td> 0.000</td> <th>  Jarque-Bera (JB):  </th> <td>  52.737</td>\n",
       "</tr>\n",
       "<tr>\n",
       "  <th>Skew:</th>          <td> 0.706</td> <th>  Prob(JB):          </th> <td>3.53e-12</td>\n",
       "</tr>\n",
       "<tr>\n",
       "  <th>Kurtosis:</th>      <td> 4.111</td> <th>  Cond. No.          </th> <td>3.87e+04</td>\n",
       "</tr>\n",
       "</table><br/><br/>Warnings:<br/>[1] Standard Errors assume that the covariance matrix of the errors is correctly specified.<br/>[2] The condition number is large, 3.87e+04. This might indicate that there are<br/>strong multicollinearity or other numerical problems."
      ],
      "text/plain": [
       "<class 'statsmodels.iolib.summary.Summary'>\n",
       "\"\"\"\n",
       "                            OLS Regression Results                            \n",
       "==============================================================================\n",
       "Dep. Variable:                    mpg   R-squared:                       0.708\n",
       "Model:                            OLS   Adj. R-squared:                  0.704\n",
       "Method:                 Least Squares   F-statistic:                     186.9\n",
       "Date:                Tue, 30 Apr 2019   Prob (F-statistic):          9.82e-101\n",
       "Time:                        03:52:43   Log-Likelihood:                -1120.1\n",
       "No. Observations:                 392   AIC:                             2252.\n",
       "Df Residuals:                     386   BIC:                             2276.\n",
       "Df Model:                           5                                         \n",
       "Covariance Type:            nonrobust                                         \n",
       "==============================================================================\n",
       "                 coef    std err          t      P>|t|      [0.025      0.975]\n",
       "------------------------------------------------------------------------------\n",
       "const         46.2643      2.669     17.331      0.000      41.016      51.513\n",
       "cyl           -0.3979      0.411     -0.969      0.333      -1.205       0.409\n",
       "disp       -8.313e-05      0.009     -0.009      0.993      -0.018       0.018\n",
       "HP            -0.0453      0.017     -2.716      0.007      -0.078      -0.012\n",
       "wt            -0.0052      0.001     -6.351      0.000      -0.007      -0.004\n",
       "accel         -0.0291      0.126     -0.231      0.817      -0.276       0.218\n",
       "==============================================================================\n",
       "Omnibus:                       38.561   Durbin-Watson:                   0.575\n",
       "Prob(Omnibus):                  0.000   Jarque-Bera (JB):               52.737\n",
       "Skew:                           0.706   Prob(JB):                     3.53e-12\n",
       "Kurtosis:                       4.111   Cond. No.                     3.87e+04\n",
       "==============================================================================\n",
       "\n",
       "Warnings:\n",
       "[1] Standard Errors assume that the covariance matrix of the errors is correctly specified.\n",
       "[2] The condition number is large, 3.87e+04. This might indicate that there are\n",
       "strong multicollinearity or other numerical problems.\n",
       "\"\"\""
      ]
     },
     "execution_count": 6,
     "metadata": {},
     "output_type": "execute_result"
    }
   ],
   "source": [
    "X_5=sm.add_constant(X_5)\n",
    "model_5=sm.OLS(y_5,X_5).fit()\n",
    "model_5.summary()"
   ]
  },
  {
   "cell_type": "markdown",
   "metadata": {},
   "source": [
    "#### Iteration 1: OLS Diagnostic test:"
   ]
  },
  {
   "cell_type": "code",
   "execution_count": 7,
   "metadata": {
    "scrolled": false
   },
   "outputs": [
    {
     "name": "stdout",
     "output_type": "stream",
     "text": [
      "Dataset: \t 392\n",
      "X: \t 392\n",
      "1. Normality Test:  Jarque-Bera Test\n",
      "-----------------------------------------------\n",
      "Warning\n",
      "Reason: Residual Not Normally distributed\n",
      "-----------------------------------------------\n",
      "\n",
      "\n",
      "2. Linearity Test:  Rainbow Test\n",
      "-----------------------------------------------\n",
      "Warning\n",
      "Reason: Data do not have linear relationship\n",
      "-----------------------------------------------\n",
      "\n",
      "\n",
      "3. Heteroscedasticity Test:  Breusch-Pagan Test\n",
      "-----------------------------------------------\n",
      "Warning\n",
      "Reason: Data do not have have same variance accross\n",
      "-----------------------------------------------\n",
      "\n",
      "\n",
      "4. Autocorrelation Test:  Breusch Godfrey Test\n",
      "-----------------------------------------------\n",
      "Warning\n",
      "Reason: Data are related to themself by:1 lag\n",
      "-----------------------------------------------\n",
      "\n",
      "\n",
      "5. Sum of residuals == 0\n",
      "-----------------------------------------------\n",
      "Good\n",
      "Reason: Sum of residuals = 0\n",
      "-----------------------------------------------\n",
      "\n",
      "\n",
      "6. Checking outliers:\n",
      "-----------------------------------------------\n",
      "Mode selected to remove Outliers: False\n",
      "Not Good: We have  40  Outliers\n",
      "Rows to remove: [13, 53, 54, 55, 107, 108, 113, 117, 131, 132, 138, 151, 152, 153, 171, 172, 183, 196, 212, 242, 259, 311, 337, 358, 365, 369, 372, 374, 376, 379, 381, 383, 384, 385, 386, 387, 388, 389, 390, 391]\n"
     ]
    },
    {
     "data": {
      "image/png": "[encoded data removed]",
      "text/plain": [
       "<Figure size 432x288 with 1 Axes>"
      ]
     },
     "metadata": {
      "needs_background": "light"
     },
     "output_type": "display_data"
    },
    {
     "name": "stdout",
     "output_type": "stream",
     "text": [
      "-----------------------------------------------\n",
      "\n",
      "\n",
      "\n",
      "7. Checking multicolinearity\n",
      "-----------------------------------------------\n"
     ]
    },
    {
     "data": {
      "text/plain": [
       "<Figure size 432x288 with 0 Axes>"
      ]
     },
     "metadata": {},
     "output_type": "display_data"
    },
    {
     "data": {
      "image/png": "[encoded data removed]",
      "text/plain": [
       "<Figure size 864x576 with 2 Axes>"
      ]
     },
     "metadata": {
      "needs_background": "light"
     },
     "output_type": "display_data"
    },
    {
     "name": "stdout",
     "output_type": "stream",
     "text": [
      "-----------------------------------------------\n"
     ]
    },
    {
     "data": {
      "text/plain": [
       "<Figure size 432x288 with 0 Axes>"
      ]
     },
     "metadata": {},
     "output_type": "display_data"
    }
   ],
   "source": [
    "ols_diag(car,X_5,model_5)"
   ]
  },
  {
   "cell_type": "markdown",
   "metadata": {},
   "source": [
    "#### Iteration 1: Problems conclusion and further actions\n",
    "* We have breaking each and evry OLS assumtion as can be seen from above results.\n",
    "* We are follwing problem with this dataset:\n",
    "1. Residuals are not normally distributed.\n",
    "2. Thier is no linear relationship in the data\n",
    "3. Data do not have have same variance accross\n",
    "4. Data are related to themself by:1 lag\n",
    "5. We have atleast 40 outliers\n",
    "6. HP, Cylinder, Displacement  ans Weight are all highly correleated with each other. \n",
    "\n",
    "### Method A\n",
    "#### Even if we remove the outliers the correlation between the terms will remain so we propose follwing action:\n",
    "1. Remove all 40 outliers\n",
    "2. Take diffrence of all variables with lag of itslef using Cochrane-Orcutt rho value of 1 as we have the one obtained using Cochrane-Orcutt is of no help in reducing  autocrenaltion procedure and rerun OLS (Warning we are transforming variabl).\n",
    "3. Rerun regression\n",
    "$$ y_{t}-\\rho y_{{t-1}}=\\alpha (1-\\rho )+\\beta (X_{t}-\\rho X_{{t-1}})+e_{t}.\\,\n",
    "$$"
   ]
  },
  {
   "cell_type": "code",
   "execution_count": 8,
   "metadata": {},
   "outputs": [],
   "source": [
    "rows_to_remove=[13, 53, 54, 55, 107, 108, 113, 117, 131, 132, 138, 151, 152, 153, 171, 172, 183, 196, 212, 242, 259, 311, 337, 358, 365, 369, 372, 374, 376, 379, 381, 383, 384, 385, 386, 387, 388, 389, 390, 391]"
   ]
  },
  {
   "cell_type": "code",
   "execution_count": 9,
   "metadata": {},
   "outputs": [],
   "source": [
    "car=car.drop(car.index[rows_to_remove])\n",
    "X_5=car[['cyl', 'disp', 'HP', 'wt', 'accel']]\n",
    "y_5=car[['mpg']]\n",
    "X_5=sm.add_constant(X_5)\n",
    "model_5=sm.OLS(y_5, X_5).fit()"
   ]
  },
  {
   "cell_type": "code",
   "execution_count": 10,
   "metadata": {},
   "outputs": [
    {
     "name": "stdout",
     "output_type": "stream",
     "text": [
      "351\n",
      "351\n"
     ]
    }
   ],
   "source": [
    "ch_y=model_5.resid\n",
    "ch_X=model_5.resid\n",
    "\n",
    "## Shift X by 1\n",
    "ch_X=ch_X.shift(periods=1, freq=None, axis=0)\n",
    "\n",
    "## Remoce top row of X and y\n",
    "ch_X=ch_X[1:]\n",
    "ch_y=ch_y[1:]\n",
    "\n",
    "## Remove bottom row of X\n",
    "print(len(ch_X))\n",
    "print(len(ch_X))"
   ]
  },
  {
   "cell_type": "code",
   "execution_count": 11,
   "metadata": {},
   "outputs": [
    {
     "data": {
      "text/plain": [
       "x1    0.602161\n",
       "dtype: float64"
      ]
     },
     "execution_count": 11,
     "metadata": {},
     "output_type": "execute_result"
    }
   ],
   "source": [
    "model_ch=sm.OLS(ch_y, ch_X).fit()\n",
    "model_ch.params"
   ]
  },
  {
   "cell_type": "code",
   "execution_count": 12,
   "metadata": {},
   "outputs": [
    {
     "data": {
      "text/html": [
       "<div>\n",
       "<style scoped>\n",
       "    .dataframe tbody tr th:only-of-type {\n",
       "        vertical-align: middle;\n",
       "    }\n",
       "\n",
       "    .dataframe tbody tr th {\n",
       "        vertical-align: top;\n",
       "    }\n",
       "\n",
       "    .dataframe thead th {\n",
       "        text-align: right;\n",
       "    }\n",
       "</style>\n",
       "<table border=\"1\" class=\"dataframe\">\n",
       "  <thead>\n",
       "    <tr style=\"text-align: right;\">\n",
       "      <th></th>\n",
       "      <th>cyl</th>\n",
       "      <th>disp</th>\n",
       "      <th>HP</th>\n",
       "      <th>wt</th>\n",
       "      <th>accel</th>\n",
       "      <th>mpg</th>\n",
       "    </tr>\n",
       "  </thead>\n",
       "  <tbody>\n",
       "    <tr>\n",
       "      <th>0</th>\n",
       "      <td>8.0</td>\n",
       "      <td>304.0</td>\n",
       "      <td>193.0</td>\n",
       "      <td>4732.0</td>\n",
       "      <td>18.5</td>\n",
       "      <td>9.0</td>\n",
       "    </tr>\n",
       "    <tr>\n",
       "      <th>1</th>\n",
       "      <td>0.0</td>\n",
       "      <td>3.0</td>\n",
       "      <td>7.0</td>\n",
       "      <td>-356.0</td>\n",
       "      <td>-3.5</td>\n",
       "      <td>1.0</td>\n",
       "    </tr>\n",
       "    <tr>\n",
       "      <th>2</th>\n",
       "      <td>0.0</td>\n",
       "      <td>53.0</td>\n",
       "      <td>15.0</td>\n",
       "      <td>239.0</td>\n",
       "      <td>-1.0</td>\n",
       "      <td>0.0</td>\n",
       "    </tr>\n",
       "    <tr>\n",
       "      <th>3</th>\n",
       "      <td>0.0</td>\n",
       "      <td>40.0</td>\n",
       "      <td>-65.0</td>\n",
       "      <td>382.0</td>\n",
       "      <td>0.0</td>\n",
       "      <td>1.0</td>\n",
       "    </tr>\n",
       "    <tr>\n",
       "      <th>4</th>\n",
       "      <td>0.0</td>\n",
       "      <td>-50.0</td>\n",
       "      <td>30.0</td>\n",
       "      <td>-1333.0</td>\n",
       "      <td>-3.0</td>\n",
       "      <td>0.0</td>\n",
       "    </tr>\n",
       "  </tbody>\n",
       "</table>\n",
       "</div>"
      ],
      "text/plain": [
       "   cyl   disp     HP      wt  accel  mpg\n",
       "0  8.0  304.0  193.0  4732.0   18.5  9.0\n",
       "1  0.0    3.0    7.0  -356.0   -3.5  1.0\n",
       "2  0.0   53.0   15.0   239.0   -1.0  0.0\n",
       "3  0.0   40.0  -65.0   382.0    0.0  1.0\n",
       "4  0.0  -50.0   30.0 -1333.0   -3.0  0.0"
      ]
     },
     "execution_count": 12,
     "metadata": {},
     "output_type": "execute_result"
    }
   ],
   "source": [
    "rho=model_ch.params[\"x1\"]\n",
    "rho=1\n",
    "car_rho=car*rho\n",
    "car_rho=car_rho.shift(periods=1,axis=0).fillna(0)\n",
    "car_rho=car_rho[:-1]\n",
    "car_rho\n",
    "car_b=car.subtract(car_rho)\n",
    "car_b=car_b.fillna(0)\n",
    "car_b.head()\n",
    "car_b=car_b.round(decimals=2)\n",
    "car_b.head()"
   ]
  },
  {
   "cell_type": "code",
   "execution_count": 13,
   "metadata": {},
   "outputs": [
    {
     "data": {
      "text/plain": [
       "Index(['cyl', 'disp', 'HP', 'wt', 'accel', 'mpg'], dtype='object')"
      ]
     },
     "execution_count": 13,
     "metadata": {},
     "output_type": "execute_result"
    }
   ],
   "source": [
    "car_b.columns"
   ]
  },
  {
   "cell_type": "markdown",
   "metadata": {},
   "source": [
    "#### Iteration 2: OLS Modeling"
   ]
  },
  {
   "cell_type": "code",
   "execution_count": 14,
   "metadata": {},
   "outputs": [
    {
     "data": {
      "text/html": [
       "<table class=\"simpletable\">\n",
       "<caption>OLS Regression Results</caption>\n",
       "<tr>\n",
       "  <th>Dep. Variable:</th>           <td>mpg</td>       <th>  R-squared:         </th> <td>   0.389</td>\n",
       "</tr>\n",
       "<tr>\n",
       "  <th>Model:</th>                   <td>OLS</td>       <th>  Adj. R-squared:    </th> <td>   0.380</td>\n",
       "</tr>\n",
       "<tr>\n",
       "  <th>Method:</th>             <td>Least Squares</td>  <th>  F-statistic:       </th> <td>   44.11</td>\n",
       "</tr>\n",
       "<tr>\n",
       "  <th>Date:</th>             <td>Tue, 30 Apr 2019</td> <th>  Prob (F-statistic):</th> <td>3.77e-35</td>\n",
       "</tr>\n",
       "<tr>\n",
       "  <th>Time:</th>                 <td>03:52:43</td>     <th>  Log-Likelihood:    </th> <td> -172.49</td>\n",
       "</tr>\n",
       "<tr>\n",
       "  <th>No. Observations:</th>      <td>   352</td>      <th>  AIC:               </th> <td>   357.0</td>\n",
       "</tr>\n",
       "<tr>\n",
       "  <th>Df Residuals:</th>          <td>   346</td>      <th>  BIC:               </th> <td>   380.2</td>\n",
       "</tr>\n",
       "<tr>\n",
       "  <th>Df Model:</th>              <td>     5</td>      <th>                     </th>     <td> </td>   \n",
       "</tr>\n",
       "<tr>\n",
       "  <th>Covariance Type:</th>      <td>nonrobust</td>    <th>                     </th>     <td> </td>   \n",
       "</tr>\n",
       "</table>\n",
       "<table class=\"simpletable\">\n",
       "<tr>\n",
       "    <td></td>       <th>coef</th>     <th>std err</th>      <th>t</th>      <th>P>|t|</th>  <th>[0.025</th>    <th>0.975]</th>  \n",
       "</tr>\n",
       "<tr>\n",
       "  <th>const</th> <td>    0.1009</td> <td>    0.021</td> <td>    4.752</td> <td> 0.000</td> <td>    0.059</td> <td>    0.143</td>\n",
       "</tr>\n",
       "<tr>\n",
       "  <th>cyl</th>   <td>    0.1899</td> <td>    0.033</td> <td>    5.768</td> <td> 0.000</td> <td>    0.125</td> <td>    0.255</td>\n",
       "</tr>\n",
       "<tr>\n",
       "  <th>disp</th>  <td>   -0.0038</td> <td>    0.001</td> <td>   -5.125</td> <td> 0.000</td> <td>   -0.005</td> <td>   -0.002</td>\n",
       "</tr>\n",
       "<tr>\n",
       "  <th>HP</th>    <td>    0.0068</td> <td>    0.001</td> <td>    5.328</td> <td> 0.000</td> <td>    0.004</td> <td>    0.009</td>\n",
       "</tr>\n",
       "<tr>\n",
       "  <th>wt</th>    <td>    0.0002</td> <td> 6.87e-05</td> <td>    3.297</td> <td> 0.001</td> <td> 9.14e-05</td> <td>    0.000</td>\n",
       "</tr>\n",
       "<tr>\n",
       "  <th>accel</th> <td>    0.0691</td> <td>    0.009</td> <td>    7.685</td> <td> 0.000</td> <td>    0.051</td> <td>    0.087</td>\n",
       "</tr>\n",
       "</table>\n",
       "<table class=\"simpletable\">\n",
       "<tr>\n",
       "  <th>Omnibus:</th>       <td>445.867</td> <th>  Durbin-Watson:     </th> <td>   1.649</td> \n",
       "</tr>\n",
       "<tr>\n",
       "  <th>Prob(Omnibus):</th> <td> 0.000</td>  <th>  Jarque-Bera (JB):  </th> <td>63458.061</td>\n",
       "</tr>\n",
       "<tr>\n",
       "  <th>Skew:</th>          <td> 5.673</td>  <th>  Prob(JB):          </th> <td>    0.00</td> \n",
       "</tr>\n",
       "<tr>\n",
       "  <th>Kurtosis:</th>      <td>67.792</td>  <th>  Cond. No.          </th> <td>    780.</td> \n",
       "</tr>\n",
       "</table><br/><br/>Warnings:<br/>[1] Standard Errors assume that the covariance matrix of the errors is correctly specified."
      ],
      "text/plain": [
       "<class 'statsmodels.iolib.summary.Summary'>\n",
       "\"\"\"\n",
       "                            OLS Regression Results                            \n",
       "==============================================================================\n",
       "Dep. Variable:                    mpg   R-squared:                       0.389\n",
       "Model:                            OLS   Adj. R-squared:                  0.380\n",
       "Method:                 Least Squares   F-statistic:                     44.11\n",
       "Date:                Tue, 30 Apr 2019   Prob (F-statistic):           3.77e-35\n",
       "Time:                        03:52:43   Log-Likelihood:                -172.49\n",
       "No. Observations:                 352   AIC:                             357.0\n",
       "Df Residuals:                     346   BIC:                             380.2\n",
       "Df Model:                           5                                         \n",
       "Covariance Type:            nonrobust                                         \n",
       "==============================================================================\n",
       "                 coef    std err          t      P>|t|      [0.025      0.975]\n",
       "------------------------------------------------------------------------------\n",
       "const          0.1009      0.021      4.752      0.000       0.059       0.143\n",
       "cyl            0.1899      0.033      5.768      0.000       0.125       0.255\n",
       "disp          -0.0038      0.001     -5.125      0.000      -0.005      -0.002\n",
       "HP             0.0068      0.001      5.328      0.000       0.004       0.009\n",
       "wt             0.0002   6.87e-05      3.297      0.001    9.14e-05       0.000\n",
       "accel          0.0691      0.009      7.685      0.000       0.051       0.087\n",
       "==============================================================================\n",
       "Omnibus:                      445.867   Durbin-Watson:                   1.649\n",
       "Prob(Omnibus):                  0.000   Jarque-Bera (JB):            63458.061\n",
       "Skew:                           5.673   Prob(JB):                         0.00\n",
       "Kurtosis:                      67.792   Cond. No.                         780.\n",
       "==============================================================================\n",
       "\n",
       "Warnings:\n",
       "[1] Standard Errors assume that the covariance matrix of the errors is correctly specified.\n",
       "\"\"\""
      ]
     },
     "execution_count": 14,
     "metadata": {},
     "output_type": "execute_result"
    }
   ],
   "source": [
    "X_5b=car_b[['cyl', 'disp', 'HP', 'wt', 'accel']]\n",
    "y_5b=car_b[['mpg']]\n",
    "X_5b=sm.add_constant(X_5b)\n",
    "model_5b=sm.OLS(y_5b, X_5b).fit()\n",
    "model_5b.summary()"
   ]
  },
  {
   "cell_type": "markdown",
   "metadata": {},
   "source": [
    "#### Iteration 2: OLS Diagnostic "
   ]
  },
  {
   "cell_type": "code",
   "execution_count": 15,
   "metadata": {
    "scrolled": false
   },
   "outputs": [
    {
     "name": "stdout",
     "output_type": "stream",
     "text": [
      "Dataset: \t 352\n",
      "X: \t 352\n",
      "1. Normality Test:  Jarque-Bera Test\n",
      "-----------------------------------------------\n",
      "Warning\n",
      "Reason: Residual Not Normally distributed\n",
      "-----------------------------------------------\n",
      "\n",
      "\n",
      "2. Linearity Test:  Rainbow Test\n",
      "-----------------------------------------------\n",
      "Warning\n",
      "Reason: Data do not have linear relationship\n",
      "-----------------------------------------------\n",
      "\n",
      "\n",
      "3. Heteroscedasticity Test:  Breusch-Pagan Test\n",
      "-----------------------------------------------\n",
      "Warning\n",
      "Reason: Data do not have have same variance accross\n",
      "-----------------------------------------------\n",
      "\n",
      "\n",
      "4. Autocorrelation Test:  Breusch Godfrey Test\n",
      "-----------------------------------------------\n",
      "Good\n",
      "Reason: Data are not related to themself:1 lag\n",
      "-----------------------------------------------\n",
      "\n",
      "\n",
      "5. Sum of residuals == 0\n",
      "-----------------------------------------------\n",
      "Good\n",
      "Reason: Sum of residuals = 0\n",
      "-----------------------------------------------\n",
      "\n",
      "\n",
      "6. Checking outliers:\n",
      "-----------------------------------------------\n",
      "Mode selected to remove Outliers: False\n",
      "Not Good: We have  36  Outliers\n",
      "Rows to remove: [0, 1, 3, 6, 7, 14, 20, 33, 45, 60, 61, 74, 82, 90, 92, 93, 95, 99, 112, 122, 157, 181, 197, 200, 204, 205, 210, 211, 235, 236, 248, 257, 271, 287, 303, 360]\n"
     ]
    },
    {
     "data": {
      "image/png": "[encoded data removed]",
      "text/plain": [
       "<Figure size 432x288 with 1 Axes>"
      ]
     },
     "metadata": {
      "needs_background": "light"
     },
     "output_type": "display_data"
    },
    {
     "name": "stdout",
     "output_type": "stream",
     "text": [
      "-----------------------------------------------\n",
      "\n",
      "\n",
      "\n",
      "7. Checking multicolinearity\n",
      "-----------------------------------------------\n"
     ]
    },
    {
     "data": {
      "text/plain": [
       "<Figure size 432x288 with 0 Axes>"
      ]
     },
     "metadata": {},
     "output_type": "display_data"
    },
    {
     "data": {
      "image/png": "[encoded data removed]",
      "text/plain": [
       "<Figure size 864x576 with 2 Axes>"
      ]
     },
     "metadata": {
      "needs_background": "light"
     },
     "output_type": "display_data"
    },
    {
     "name": "stdout",
     "output_type": "stream",
     "text": [
      "-----------------------------------------------\n"
     ]
    },
    {
     "data": {
      "text/plain": [
       "<Figure size 432x288 with 0 Axes>"
      ]
     },
     "metadata": {},
     "output_type": "display_data"
    }
   ],
   "source": [
    "ols_diag(car_b,X_5b,model_5b)"
   ]
  },
  {
   "cell_type": "markdown",
   "metadata": {},
   "source": [
    "#### Iteration 2: Conclusion\n",
    "\n",
    "1. Even after removing autliers and taking Cochrane and self diffrenceing we are still breaking most of OLS assumtion.\n",
    "\n",
    "2. So we are stopping at this time to conclude that our model does not have any linear relationship"
   ]
  },
  {
   "cell_type": "markdown",
   "metadata": {},
   "source": [
    "#### Iteration 3: To-Do\n",
    "\n",
    "### Method B\n",
    "\n",
    "#### Even if we remove the outliers the correlation between the terms will remain so we propose follwing action:\n",
    "1. Remove all 40 outliers\n",
    "2. Take log of all varaibles\n",
    "3. Take diffence of all varibales with its past\n",
    "4. Average HP, cyl, disp, wt\n",
    "5. Rerun regression\n",
    "\n",
    "#### Which basically means we have performed too many surgeriers in data just to make model compatible to OLS, and thus we do not wich to continue any further. and out itertaion 2  is our answer"
   ]
  }
 ],
 "metadata": {
  "kernelspec": {
   "display_name": "Python 3",
   "language": "python",
   "name": "python3"
  },
  "language_info": {
   "codemirror_mode": {
    "name": "ipython",
    "version": 3
   },
   "file_extension": ".py",
   "mimetype": "text/x-python",
   "name": "python",
   "nbconvert_exporter": "python",
   "pygments_lexer": "ipython3",
   "version": "3.6.7"
  }
 },
 "nbformat": 4,
 "nbformat_minor": 2
}
