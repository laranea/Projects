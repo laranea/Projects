{
 "cells": [
  {
   "cell_type": "code",
   "execution_count": 1,
   "metadata": {},
   "outputs": [
    {
     "name": "stdout",
     "output_type": "stream",
     "text": [
      "Baseball96.xlsx  Countryregion.xlsx  Grocery.xlsx  USmacrodata.xls\r\n",
      "Cardata.xlsx\t Fizzy.xlsx\t     Oreos.xlsx\r\n"
     ]
    }
   ],
   "source": [
    "# %load ./import.py\n",
    "import pandas as pd\n",
    "import numpy as np\n",
    "import statsmodels.api as sm\n",
    "from sklearn.linear_model import LinearRegression\n",
    "!ls ./Data\n"
   ]
  },
  {
   "cell_type": "code",
   "execution_count": 2,
   "metadata": {},
   "outputs": [],
   "source": [
    "# ols_diag(df,X,model, nlag=1, remove_outliers=False):\n",
    "from ols_diag import ols_diag"
   ]
  },
  {
   "cell_type": "markdown",
   "metadata": {},
   "source": [
    "### 4.       The file Baseball96.xlsx gives runs scored, singles, doubles, triples, home runs, and bases stolen for each major league baseball team during the 1996 season. Use this data to determine the effects of singles, doubles, and other activities on run production.\n",
    " "
   ]
  },
  {
   "cell_type": "code",
   "execution_count": 3,
   "metadata": {},
   "outputs": [
    {
     "data": {
      "text/html": [
       "<div>\n",
       "<style scoped>\n",
       "    .dataframe tbody tr th:only-of-type {\n",
       "        vertical-align: middle;\n",
       "    }\n",
       "\n",
       "    .dataframe tbody tr th {\n",
       "        vertical-align: top;\n",
       "    }\n",
       "\n",
       "    .dataframe thead th {\n",
       "        text-align: right;\n",
       "    }\n",
       "</style>\n",
       "<table border=\"1\" class=\"dataframe\">\n",
       "  <thead>\n",
       "    <tr style=\"text-align: right;\">\n",
       "      <th></th>\n",
       "      <th>Team</th>\n",
       "      <th>Runs</th>\n",
       "      <th>Singles</th>\n",
       "      <th>Doubles</th>\n",
       "      <th>Triples</th>\n",
       "      <th>HR's</th>\n",
       "      <th>BB's</th>\n",
       "      <th>SB's</th>\n",
       "    </tr>\n",
       "  </thead>\n",
       "  <tbody>\n",
       "    <tr>\n",
       "      <th>0</th>\n",
       "      <td>Cleveland</td>\n",
       "      <td>840</td>\n",
       "      <td>952</td>\n",
       "      <td>279</td>\n",
       "      <td>23</td>\n",
       "      <td>207</td>\n",
       "      <td>542</td>\n",
       "      <td>132</td>\n",
       "    </tr>\n",
       "    <tr>\n",
       "      <th>1</th>\n",
       "      <td>Chicago Sox</td>\n",
       "      <td>755</td>\n",
       "      <td>982</td>\n",
       "      <td>252</td>\n",
       "      <td>37</td>\n",
       "      <td>146</td>\n",
       "      <td>576</td>\n",
       "      <td>110</td>\n",
       "    </tr>\n",
       "    <tr>\n",
       "      <th>2</th>\n",
       "      <td>Boston</td>\n",
       "      <td>791</td>\n",
       "      <td>907</td>\n",
       "      <td>286</td>\n",
       "      <td>31</td>\n",
       "      <td>175</td>\n",
       "      <td>560</td>\n",
       "      <td>99</td>\n",
       "    </tr>\n",
       "    <tr>\n",
       "      <th>3</th>\n",
       "      <td>Minnesota</td>\n",
       "      <td>703</td>\n",
       "      <td>974</td>\n",
       "      <td>270</td>\n",
       "      <td>34</td>\n",
       "      <td>120</td>\n",
       "      <td>471</td>\n",
       "      <td>105</td>\n",
       "    </tr>\n",
       "    <tr>\n",
       "      <th>4</th>\n",
       "      <td>California</td>\n",
       "      <td>801</td>\n",
       "      <td>927</td>\n",
       "      <td>252</td>\n",
       "      <td>25</td>\n",
       "      <td>186</td>\n",
       "      <td>564</td>\n",
       "      <td>58</td>\n",
       "    </tr>\n",
       "  </tbody>\n",
       "</table>\n",
       "</div>"
      ],
      "text/plain": [
       "          Team  Runs  Singles  Doubles  Triples  HR's  BB's  SB's\n",
       "0    Cleveland   840      952      279       23   207   542   132\n",
       "1  Chicago Sox   755      982      252       37   146   576   110\n",
       "2       Boston   791      907      286       31   175   560    99\n",
       "3    Minnesota   703      974      270       34   120   471   105\n",
       "4   California   801      927      252       25   186   564    58"
      ]
     },
     "execution_count": 3,
     "metadata": {},
     "output_type": "execute_result"
    }
   ],
   "source": [
    "bb=pd.read_excel(\"./Data/Baseball96.xlsx\",)\n",
    "bb.head()"
   ]
  },
  {
   "cell_type": "code",
   "execution_count": 4,
   "metadata": {},
   "outputs": [
    {
     "data": {
      "text/plain": [
       "Index(['Team', 'Runs', 'Singles', 'Doubles', 'Triples', 'HR's', 'BB's',\n",
       "       'SB's'],\n",
       "      dtype='object')"
      ]
     },
     "execution_count": 4,
     "metadata": {},
     "output_type": "execute_result"
    }
   ],
   "source": [
    "bb.columns"
   ]
  },
  {
   "cell_type": "code",
   "execution_count": 5,
   "metadata": {},
   "outputs": [],
   "source": [
    "y_4=bb[[\"Runs\"]]\n",
    "X_4=bb[['Singles', 'Doubles', 'Triples', 'HR\\'s', 'BB\\'s','SB\\'s']]"
   ]
  },
  {
   "cell_type": "code",
   "execution_count": 6,
   "metadata": {},
   "outputs": [],
   "source": [
    "X_4=sm.add_constant(X_4)\n",
    "model_4=sm.OLS(y_4, X_4).fit()"
   ]
  },
  {
   "cell_type": "markdown",
   "metadata": {},
   "source": [
    "#### Iteration 1: OLS Modeling "
   ]
  },
  {
   "cell_type": "code",
   "execution_count": 7,
   "metadata": {},
   "outputs": [
    {
     "data": {
      "text/html": [
       "<table class=\"simpletable\">\n",
       "<caption>OLS Regression Results</caption>\n",
       "<tr>\n",
       "  <th>Dep. Variable:</th>          <td>Runs</td>       <th>  R-squared:         </th> <td>   0.942</td>\n",
       "</tr>\n",
       "<tr>\n",
       "  <th>Model:</th>                   <td>OLS</td>       <th>  Adj. R-squared:    </th> <td>   0.926</td>\n",
       "</tr>\n",
       "<tr>\n",
       "  <th>Method:</th>             <td>Least Squares</td>  <th>  F-statistic:       </th> <td>   56.97</td>\n",
       "</tr>\n",
       "<tr>\n",
       "  <th>Date:</th>             <td>Tue, 30 Apr 2019</td> <th>  Prob (F-statistic):</th> <td>6.55e-12</td>\n",
       "</tr>\n",
       "<tr>\n",
       "  <th>Time:</th>                 <td>03:32:15</td>     <th>  Log-Likelihood:    </th> <td> -117.83</td>\n",
       "</tr>\n",
       "<tr>\n",
       "  <th>No. Observations:</th>      <td>    28</td>      <th>  AIC:               </th> <td>   249.7</td>\n",
       "</tr>\n",
       "<tr>\n",
       "  <th>Df Residuals:</th>          <td>    21</td>      <th>  BIC:               </th> <td>   259.0</td>\n",
       "</tr>\n",
       "<tr>\n",
       "  <th>Df Model:</th>              <td>     6</td>      <th>                     </th>     <td> </td>   \n",
       "</tr>\n",
       "<tr>\n",
       "  <th>Covariance Type:</th>      <td>nonrobust</td>    <th>                     </th>     <td> </td>   \n",
       "</tr>\n",
       "</table>\n",
       "<table class=\"simpletable\">\n",
       "<tr>\n",
       "     <td></td>        <th>coef</th>     <th>std err</th>      <th>t</th>      <th>P>|t|</th>  <th>[0.025</th>    <th>0.975]</th>  \n",
       "</tr>\n",
       "<tr>\n",
       "  <th>const</th>   <td> -396.9200</td> <td>   70.951</td> <td>   -5.594</td> <td> 0.000</td> <td> -544.471</td> <td> -249.369</td>\n",
       "</tr>\n",
       "<tr>\n",
       "  <th>Singles</th> <td>    0.5185</td> <td>    0.072</td> <td>    7.203</td> <td> 0.000</td> <td>    0.369</td> <td>    0.668</td>\n",
       "</tr>\n",
       "<tr>\n",
       "  <th>Doubles</th> <td>    0.7829</td> <td>    0.156</td> <td>    5.032</td> <td> 0.000</td> <td>    0.459</td> <td>    1.107</td>\n",
       "</tr>\n",
       "<tr>\n",
       "  <th>Triples</th> <td>    0.7800</td> <td>    0.559</td> <td>    1.396</td> <td> 0.177</td> <td>   -0.382</td> <td>    1.942</td>\n",
       "</tr>\n",
       "<tr>\n",
       "  <th>HR's</th>    <td>    1.4060</td> <td>    0.143</td> <td>    9.800</td> <td> 0.000</td> <td>    1.108</td> <td>    1.704</td>\n",
       "</tr>\n",
       "<tr>\n",
       "  <th>BB's</th>    <td>    0.3750</td> <td>    0.079</td> <td>    4.751</td> <td> 0.000</td> <td>    0.211</td> <td>    0.539</td>\n",
       "</tr>\n",
       "<tr>\n",
       "  <th>SB's</th>    <td>    0.1635</td> <td>    0.116</td> <td>    1.409</td> <td> 0.173</td> <td>   -0.078</td> <td>    0.405</td>\n",
       "</tr>\n",
       "</table>\n",
       "<table class=\"simpletable\">\n",
       "<tr>\n",
       "  <th>Omnibus:</th>       <td> 7.582</td> <th>  Durbin-Watson:     </th> <td>   1.330</td>\n",
       "</tr>\n",
       "<tr>\n",
       "  <th>Prob(Omnibus):</th> <td> 0.023</td> <th>  Jarque-Bera (JB):  </th> <td>   8.898</td>\n",
       "</tr>\n",
       "<tr>\n",
       "  <th>Skew:</th>          <td> 0.453</td> <th>  Prob(JB):          </th> <td>  0.0117</td>\n",
       "</tr>\n",
       "<tr>\n",
       "  <th>Kurtosis:</th>      <td> 5.609</td> <th>  Cond. No.          </th> <td>2.15e+04</td>\n",
       "</tr>\n",
       "</table><br/><br/>Warnings:<br/>[1] Standard Errors assume that the covariance matrix of the errors is correctly specified.<br/>[2] The condition number is large, 2.15e+04. This might indicate that there are<br/>strong multicollinearity or other numerical problems."
      ],
      "text/plain": [
       "<class 'statsmodels.iolib.summary.Summary'>\n",
       "\"\"\"\n",
       "                            OLS Regression Results                            \n",
       "==============================================================================\n",
       "Dep. Variable:                   Runs   R-squared:                       0.942\n",
       "Model:                            OLS   Adj. R-squared:                  0.926\n",
       "Method:                 Least Squares   F-statistic:                     56.97\n",
       "Date:                Tue, 30 Apr 2019   Prob (F-statistic):           6.55e-12\n",
       "Time:                        03:32:15   Log-Likelihood:                -117.83\n",
       "No. Observations:                  28   AIC:                             249.7\n",
       "Df Residuals:                      21   BIC:                             259.0\n",
       "Df Model:                           6                                         \n",
       "Covariance Type:            nonrobust                                         \n",
       "==============================================================================\n",
       "                 coef    std err          t      P>|t|      [0.025      0.975]\n",
       "------------------------------------------------------------------------------\n",
       "const       -396.9200     70.951     -5.594      0.000    -544.471    -249.369\n",
       "Singles        0.5185      0.072      7.203      0.000       0.369       0.668\n",
       "Doubles        0.7829      0.156      5.032      0.000       0.459       1.107\n",
       "Triples        0.7800      0.559      1.396      0.177      -0.382       1.942\n",
       "HR's           1.4060      0.143      9.800      0.000       1.108       1.704\n",
       "BB's           0.3750      0.079      4.751      0.000       0.211       0.539\n",
       "SB's           0.1635      0.116      1.409      0.173      -0.078       0.405\n",
       "==============================================================================\n",
       "Omnibus:                        7.582   Durbin-Watson:                   1.330\n",
       "Prob(Omnibus):                  0.023   Jarque-Bera (JB):                8.898\n",
       "Skew:                           0.453   Prob(JB):                       0.0117\n",
       "Kurtosis:                       5.609   Cond. No.                     2.15e+04\n",
       "==============================================================================\n",
       "\n",
       "Warnings:\n",
       "[1] Standard Errors assume that the covariance matrix of the errors is correctly specified.\n",
       "[2] The condition number is large, 2.15e+04. This might indicate that there are\n",
       "strong multicollinearity or other numerical problems.\n",
       "\"\"\""
      ]
     },
     "execution_count": 7,
     "metadata": {},
     "output_type": "execute_result"
    }
   ],
   "source": [
    "model_4.summary()"
   ]
  },
  {
   "cell_type": "markdown",
   "metadata": {
    "scrolled": false
   },
   "source": [
    "#### Iteration 1: OLS Diaganostic Test "
   ]
  },
  {
   "cell_type": "code",
   "execution_count": 8,
   "metadata": {
    "scrolled": false
   },
   "outputs": [
    {
     "name": "stdout",
     "output_type": "stream",
     "text": [
      "Dataset: \t 28\n",
      "X: \t 28\n",
      "1. Normality Test:  Jarque-Bera Test\n",
      "-----------------------------------------------\n",
      "Warning\n",
      "Reason: Residual Not Normally distributed\n",
      "-----------------------------------------------\n",
      "\n",
      "\n",
      "2. Linearity Test:  Rainbow Test\n",
      "-----------------------------------------------\n",
      "Good\n",
      "Reason: Data have linear relationship\n",
      "-----------------------------------------------\n",
      "\n",
      "\n",
      "3. Heteroscedasticity Test:  Breusch-Pagan Test\n",
      "-----------------------------------------------\n",
      "Good\n",
      "Reason: Data have same variance accross\n",
      "-----------------------------------------------\n",
      "\n",
      "\n",
      "4. Autocorrelation Test:  Breusch Godfrey Test\n",
      "-----------------------------------------------\n",
      "Good\n",
      "Reason: Data are not related to themself:1 lag\n",
      "-----------------------------------------------\n",
      "\n",
      "\n",
      "5. Sum of residuals == 0\n",
      "-----------------------------------------------\n",
      "Good\n",
      "Reason: Sum of residuals = 0\n",
      "-----------------------------------------------\n",
      "\n",
      "\n",
      "6. Checking outliers:\n",
      "-----------------------------------------------\n",
      "Mode selected to remove Outliers: False\n",
      "Not Good: We have  4  Outliers\n",
      "Rows to remove: [4, 7, 12, 20]\n"
     ]
    },
    {
     "data": {
      "image/png": "[encoded data removed]",
      "text/plain": [
       "<Figure size 432x288 with 1 Axes>"
      ]
     },
     "metadata": {
      "needs_background": "light"
     },
     "output_type": "display_data"
    },
    {
     "name": "stdout",
     "output_type": "stream",
     "text": [
      "-----------------------------------------------\n",
      "\n",
      "\n",
      "\n",
      "7. Checking multicolinearity\n",
      "-----------------------------------------------\n"
     ]
    },
    {
     "data": {
      "text/plain": [
       "<Figure size 432x288 with 0 Axes>"
      ]
     },
     "metadata": {},
     "output_type": "display_data"
    },
    {
     "data": {
      "image/png": "[encoded data removed]",
      "text/plain": [
       "<Figure size 864x576 with 2 Axes>"
      ]
     },
     "metadata": {
      "needs_background": "light"
     },
     "output_type": "display_data"
    },
    {
     "name": "stdout",
     "output_type": "stream",
     "text": [
      "-----------------------------------------------\n"
     ]
    },
    {
     "data": {
      "text/plain": [
       "<Figure size 432x288 with 0 Axes>"
      ]
     },
     "metadata": {},
     "output_type": "display_data"
    }
   ],
   "source": [
    "ols_diag(bb,X_4,model_4, nlag=1, remove_outliers=False)"
   ]
  },
  {
   "cell_type": "markdown",
   "metadata": {},
   "source": [
    "* We have two importatant warnings:\n",
    "\n",
    "\n",
    "1. Residuals are not normally distributed and \n",
    "2. We have outliers as can be seen from box plot and the mentioned row numbers\n",
    "\n",
    "* So we will go for second iteration where residuals will be removed before performing \n",
    "\n",
    "#### Iteration 2: OLS Modeling"
   ]
  },
  {
   "cell_type": "code",
   "execution_count": 9,
   "metadata": {},
   "outputs": [
    {
     "data": {
      "text/html": [
       "<table class=\"simpletable\">\n",
       "<caption>OLS Regression Results</caption>\n",
       "<tr>\n",
       "  <th>Dep. Variable:</th>          <td>Runs</td>       <th>  R-squared:         </th> <td>   0.985</td>\n",
       "</tr>\n",
       "<tr>\n",
       "  <th>Model:</th>                   <td>OLS</td>       <th>  Adj. R-squared:    </th> <td>   0.980</td>\n",
       "</tr>\n",
       "<tr>\n",
       "  <th>Method:</th>             <td>Least Squares</td>  <th>  F-statistic:       </th> <td>   188.5</td>\n",
       "</tr>\n",
       "<tr>\n",
       "  <th>Date:</th>             <td>Tue, 30 Apr 2019</td> <th>  Prob (F-statistic):</th> <td>1.36e-14</td>\n",
       "</tr>\n",
       "<tr>\n",
       "  <th>Time:</th>                 <td>03:32:15</td>     <th>  Log-Likelihood:    </th> <td> -84.490</td>\n",
       "</tr>\n",
       "<tr>\n",
       "  <th>No. Observations:</th>      <td>    24</td>      <th>  AIC:               </th> <td>   183.0</td>\n",
       "</tr>\n",
       "<tr>\n",
       "  <th>Df Residuals:</th>          <td>    17</td>      <th>  BIC:               </th> <td>   191.2</td>\n",
       "</tr>\n",
       "<tr>\n",
       "  <th>Df Model:</th>              <td>     6</td>      <th>                     </th>     <td> </td>   \n",
       "</tr>\n",
       "<tr>\n",
       "  <th>Covariance Type:</th>      <td>nonrobust</td>    <th>                     </th>     <td> </td>   \n",
       "</tr>\n",
       "</table>\n",
       "<table class=\"simpletable\">\n",
       "<tr>\n",
       "     <td></td>        <th>coef</th>     <th>std err</th>      <th>t</th>      <th>P>|t|</th>  <th>[0.025</th>    <th>0.975]</th>  \n",
       "</tr>\n",
       "<tr>\n",
       "  <th>const</th>   <td> -353.5432</td> <td>   37.681</td> <td>   -9.382</td> <td> 0.000</td> <td> -433.044</td> <td> -274.043</td>\n",
       "</tr>\n",
       "<tr>\n",
       "  <th>Singles</th> <td>    0.5063</td> <td>    0.041</td> <td>   12.484</td> <td> 0.000</td> <td>    0.421</td> <td>    0.592</td>\n",
       "</tr>\n",
       "<tr>\n",
       "  <th>Doubles</th> <td>    0.8153</td> <td>    0.099</td> <td>    8.205</td> <td> 0.000</td> <td>    0.606</td> <td>    1.025</td>\n",
       "</tr>\n",
       "<tr>\n",
       "  <th>Triples</th> <td>    0.0579</td> <td>    0.322</td> <td>    0.180</td> <td> 0.860</td> <td>   -0.622</td> <td>    0.737</td>\n",
       "</tr>\n",
       "<tr>\n",
       "  <th>HR's</th>    <td>    1.4344</td> <td>    0.080</td> <td>   17.886</td> <td> 0.000</td> <td>    1.265</td> <td>    1.604</td>\n",
       "</tr>\n",
       "<tr>\n",
       "  <th>BB's</th>    <td>    0.3294</td> <td>    0.041</td> <td>    7.954</td> <td> 0.000</td> <td>    0.242</td> <td>    0.417</td>\n",
       "</tr>\n",
       "<tr>\n",
       "  <th>SB's</th>    <td>    0.1572</td> <td>    0.066</td> <td>    2.367</td> <td> 0.030</td> <td>    0.017</td> <td>    0.297</td>\n",
       "</tr>\n",
       "</table>\n",
       "<table class=\"simpletable\">\n",
       "<tr>\n",
       "  <th>Omnibus:</th>       <td> 0.232</td> <th>  Durbin-Watson:     </th> <td>   1.304</td>\n",
       "</tr>\n",
       "<tr>\n",
       "  <th>Prob(Omnibus):</th> <td> 0.890</td> <th>  Jarque-Bera (JB):  </th> <td>   0.218</td>\n",
       "</tr>\n",
       "<tr>\n",
       "  <th>Skew:</th>          <td>-0.187</td> <th>  Prob(JB):          </th> <td>   0.897</td>\n",
       "</tr>\n",
       "<tr>\n",
       "  <th>Kurtosis:</th>      <td> 2.721</td> <th>  Cond. No.          </th> <td>2.04e+04</td>\n",
       "</tr>\n",
       "</table><br/><br/>Warnings:<br/>[1] Standard Errors assume that the covariance matrix of the errors is correctly specified.<br/>[2] The condition number is large, 2.04e+04. This might indicate that there are<br/>strong multicollinearity or other numerical problems."
      ],
      "text/plain": [
       "<class 'statsmodels.iolib.summary.Summary'>\n",
       "\"\"\"\n",
       "                            OLS Regression Results                            \n",
       "==============================================================================\n",
       "Dep. Variable:                   Runs   R-squared:                       0.985\n",
       "Model:                            OLS   Adj. R-squared:                  0.980\n",
       "Method:                 Least Squares   F-statistic:                     188.5\n",
       "Date:                Tue, 30 Apr 2019   Prob (F-statistic):           1.36e-14\n",
       "Time:                        03:32:15   Log-Likelihood:                -84.490\n",
       "No. Observations:                  24   AIC:                             183.0\n",
       "Df Residuals:                      17   BIC:                             191.2\n",
       "Df Model:                           6                                         \n",
       "Covariance Type:            nonrobust                                         \n",
       "==============================================================================\n",
       "                 coef    std err          t      P>|t|      [0.025      0.975]\n",
       "------------------------------------------------------------------------------\n",
       "const       -353.5432     37.681     -9.382      0.000    -433.044    -274.043\n",
       "Singles        0.5063      0.041     12.484      0.000       0.421       0.592\n",
       "Doubles        0.8153      0.099      8.205      0.000       0.606       1.025\n",
       "Triples        0.0579      0.322      0.180      0.860      -0.622       0.737\n",
       "HR's           1.4344      0.080     17.886      0.000       1.265       1.604\n",
       "BB's           0.3294      0.041      7.954      0.000       0.242       0.417\n",
       "SB's           0.1572      0.066      2.367      0.030       0.017       0.297\n",
       "==============================================================================\n",
       "Omnibus:                        0.232   Durbin-Watson:                   1.304\n",
       "Prob(Omnibus):                  0.890   Jarque-Bera (JB):                0.218\n",
       "Skew:                          -0.187   Prob(JB):                        0.897\n",
       "Kurtosis:                       2.721   Cond. No.                     2.04e+04\n",
       "==============================================================================\n",
       "\n",
       "Warnings:\n",
       "[1] Standard Errors assume that the covariance matrix of the errors is correctly specified.\n",
       "[2] The condition number is large, 2.04e+04. This might indicate that there are\n",
       "strong multicollinearity or other numerical problems.\n",
       "\"\"\""
      ]
     },
     "execution_count": 9,
     "metadata": {},
     "output_type": "execute_result"
    }
   ],
   "source": [
    "rows_to_remove=[4, 7, 12, 20]\n",
    "bb=bb.drop(bb.index[rows_to_remove])\n",
    "y_4=y_4.drop(y_4.index[rows_to_remove])\n",
    "X_4=X_4.drop(X_4.index[rows_to_remove])\n",
    "model_4=sm.OLS(y_4, X_4).fit()\n",
    "model_4.summary()"
   ]
  },
  {
   "cell_type": "markdown",
   "metadata": {},
   "source": [
    "#### Iteration 2: OLS Diaganostic Test "
   ]
  },
  {
   "cell_type": "code",
   "execution_count": 10,
   "metadata": {},
   "outputs": [
    {
     "name": "stdout",
     "output_type": "stream",
     "text": [
      "Dataset: \t 24\n",
      "X: \t 24\n",
      "1. Normality Test:  Jarque-Bera Test\n",
      "-----------------------------------------------\n",
      "Good\n",
      "Reason: Residual Normally distributed\n",
      "-----------------------------------------------\n",
      "\n",
      "\n",
      "2. Linearity Test:  Rainbow Test\n",
      "-----------------------------------------------\n",
      "Good\n",
      "Reason: Data have linear relationship\n",
      "-----------------------------------------------\n",
      "\n",
      "\n",
      "3. Heteroscedasticity Test:  Breusch-Pagan Test\n",
      "-----------------------------------------------\n",
      "Good\n",
      "Reason: Data have same variance accross\n",
      "-----------------------------------------------\n",
      "\n",
      "\n",
      "4. Autocorrelation Test:  Breusch Godfrey Test\n",
      "-----------------------------------------------\n",
      "Good\n",
      "Reason: Data are not related to themself:1 lag\n",
      "-----------------------------------------------\n",
      "\n",
      "\n",
      "5. Sum of residuals == 0\n",
      "-----------------------------------------------\n",
      "Good\n",
      "Reason: Sum of residuals = 0\n",
      "-----------------------------------------------\n",
      "\n",
      "\n",
      "6. Checking outliers:\n",
      "-----------------------------------------------\n",
      "Mode selected to remove Outliers: False\n",
      "Not Good: We have  4  Outliers\n",
      "Rows to remove: [0, 5, 18, 21]\n"
     ]
    },
    {
     "data": {
      "image/png": "[encoded data removed]",
      "text/plain": [
       "<Figure size 432x288 with 1 Axes>"
      ]
     },
     "metadata": {
      "needs_background": "light"
     },
     "output_type": "display_data"
    },
    {
     "name": "stdout",
     "output_type": "stream",
     "text": [
      "-----------------------------------------------\n",
      "\n",
      "\n",
      "\n",
      "7. Checking multicolinearity\n",
      "-----------------------------------------------\n"
     ]
    },
    {
     "data": {
      "text/plain": [
       "<Figure size 432x288 with 0 Axes>"
      ]
     },
     "metadata": {},
     "output_type": "display_data"
    },
    {
     "data": {
      "image/png": "[encoded data removed]",
      "text/plain": [
       "<Figure size 864x576 with 2 Axes>"
      ]
     },
     "metadata": {
      "needs_background": "light"
     },
     "output_type": "display_data"
    },
    {
     "name": "stdout",
     "output_type": "stream",
     "text": [
      "-----------------------------------------------\n"
     ]
    },
    {
     "data": {
      "text/plain": [
       "<Figure size 432x288 with 0 Axes>"
      ]
     },
     "metadata": {},
     "output_type": "display_data"
    }
   ],
   "source": [
    "ols_diag(bb,X_4,model_4, nlag=1, remove_outliers=False)"
   ]
  },
  {
   "cell_type": "markdown",
   "metadata": {},
   "source": [
    "#### Ans 4 and Conclusion"
   ]
  },
  {
   "cell_type": "markdown",
   "metadata": {},
   "source": [
    "* It seems that our diagnostic test will keep on recommednig to remove outliers and hence should be stopped here for further removal of data till we have no data at all. But as we see from  above that our Adjysted R squrare have increased from .926 to .980 which is quite good. So we can justify our removal of data.\n",
    "\n",
    "\n",
    "\n",
    "* From regression we can conclude that:\n",
    "\n",
    "\n",
    "1. Except triples, every other paramter explains the varaince in Runs.\n",
    "2. It is recommeded to make more home runs to get more runs\n"
   ]
  }
 ],
 "metadata": {
  "kernelspec": {
   "display_name": "Python 3",
   "language": "python",
   "name": "python3"
  },
  "language_info": {
   "codemirror_mode": {
    "name": "ipython",
    "version": 3
   },
   "file_extension": ".py",
   "mimetype": "text/x-python",
   "name": "python",
   "nbconvert_exporter": "python",
   "pygments_lexer": "ipython3",
   "version": "3.6.7"
  }
 },
 "nbformat": 4,
 "nbformat_minor": 2
}
