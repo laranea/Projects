{
 "cells": [
  {
   "cell_type": "code",
   "execution_count": 1,
   "metadata": {},
   "outputs": [
    {
     "name": "stdout",
     "output_type": "stream",
     "text": [
      "Baseball96.xlsx  Countryregion.xlsx  Grocery.xlsx  USmacrodata.xls\r\n",
      "Cardata.xlsx\t Fizzy.xlsx\t     Oreos.xlsx\r\n"
     ]
    }
   ],
   "source": [
    "# %load ./import.py\n",
    "import pandas as pd\n",
    "import numpy as np\n",
    "import statsmodels.api as sm\n",
    "import seaborn as sns\n",
    "%matplotlib inline\n",
    "from sklearn.linear_model import LinearRegression\n",
    "!ls ./Data"
   ]
  },
  {
   "cell_type": "code",
   "execution_count": 2,
   "metadata": {},
   "outputs": [],
   "source": [
    "from ols_diag import ols_diag"
   ]
  },
  {
   "cell_type": "markdown",
   "metadata": {},
   "source": [
    "### 7.       The file USmacrodata.xlsx contains U.S. quarterly GNP, Inflation rates, and Unemployment rates. Use this file to perform the following exercises:\n",
    " \n",
    " a. Develop a regression to predict quarterly GNP growth from the last four quarters of growth. Check for non-normality of residuals, heteroscedasticity, autocorrelation, and multicollinearity.\n",
    " \n",
    " b. Develop a regression to predict quarterly inflation rate from the last four quarters of inflation. Check for non-normality of residuals, heteroscedasticity, autocorrelation, and multicollinearity.\n",
    " \n",
    " c. Develop a regression to predict quarterly unemployment rate from the unemployment rates of the last four quarters. Check for non-normality of residuals, heteroscedasticity, autocorrelation, and multicollinearity."
   ]
  },
  {
   "cell_type": "code",
   "execution_count": 3,
   "metadata": {
    "scrolled": true
   },
   "outputs": [
    {
     "data": {
      "text/html": [
       "<div>\n",
       "<style scoped>\n",
       "    .dataframe tbody tr th:only-of-type {\n",
       "        vertical-align: middle;\n",
       "    }\n",
       "\n",
       "    .dataframe tbody tr th {\n",
       "        vertical-align: top;\n",
       "    }\n",
       "\n",
       "    .dataframe thead th {\n",
       "        text-align: right;\n",
       "    }\n",
       "</style>\n",
       "<table border=\"1\" class=\"dataframe\">\n",
       "  <thead>\n",
       "    <tr style=\"text-align: right;\">\n",
       "      <th>2</th>\n",
       "      <th>Scale</th>\n",
       "      <th>GNP Billions</th>\n",
       "      <th>Unempoyment Rate</th>\n",
       "      <th>Inflation</th>\n",
       "    </tr>\n",
       "  </thead>\n",
       "  <tbody>\n",
       "    <tr>\n",
       "      <th>3</th>\n",
       "      <td>1970 Q1</td>\n",
       "      <td>1017.1</td>\n",
       "      <td>4.5</td>\n",
       "      <td>6.18397</td>\n",
       "    </tr>\n",
       "    <tr>\n",
       "      <th>4</th>\n",
       "      <td>1970 Q2</td>\n",
       "      <td>1033.1</td>\n",
       "      <td>4.66667</td>\n",
       "      <td>6.04765</td>\n",
       "    </tr>\n",
       "    <tr>\n",
       "      <th>5</th>\n",
       "      <td>1970 Q3</td>\n",
       "      <td>1050.5</td>\n",
       "      <td>5.16667</td>\n",
       "      <td>5.72117</td>\n",
       "    </tr>\n",
       "    <tr>\n",
       "      <th>6</th>\n",
       "      <td>1970 Q4</td>\n",
       "      <td>1052.7</td>\n",
       "      <td>5.4</td>\n",
       "      <td>5.64301</td>\n",
       "    </tr>\n",
       "    <tr>\n",
       "      <th>7</th>\n",
       "      <td>1971 Q1</td>\n",
       "      <td>1098.1</td>\n",
       "      <td>6.5</td>\n",
       "      <td>4.88733</td>\n",
       "    </tr>\n",
       "  </tbody>\n",
       "</table>\n",
       "</div>"
      ],
      "text/plain": [
       "2    Scale GNP Billions Unempoyment Rate Inflation\n",
       "3  1970 Q1       1017.1              4.5   6.18397\n",
       "4  1970 Q2       1033.1          4.66667   6.04765\n",
       "5  1970 Q3       1050.5          5.16667   5.72117\n",
       "6  1970 Q4       1052.7              5.4   5.64301\n",
       "7  1971 Q1       1098.1              6.5   4.88733"
      ]
     },
     "execution_count": 3,
     "metadata": {},
     "output_type": "execute_result"
    }
   ],
   "source": [
    "us=pd.read_excel(\"./Data/USmacrodata.xls\", header=None)\n",
    "us=us.T\n",
    "us=us[2:]\n",
    "us.columns=us.iloc[0]\n",
    "us=us[1:]\n",
    "us.head()"
   ]
  },
  {
   "cell_type": "code",
   "execution_count": 4,
   "metadata": {},
   "outputs": [
    {
     "data": {
      "text/plain": [
       "Index(['Scale', 'GNP Billions', 'Unempoyment Rate', 'Inflation'], dtype='object', name=2)"
      ]
     },
     "execution_count": 4,
     "metadata": {},
     "output_type": "execute_result"
    }
   ],
   "source": [
    "us.columns"
   ]
  },
  {
   "cell_type": "code",
   "execution_count": 5,
   "metadata": {},
   "outputs": [
    {
     "data": {
      "text/plain": [
       "Index(['Time', 'GNP', 'UR', 'I'], dtype='object')"
      ]
     },
     "execution_count": 5,
     "metadata": {},
     "output_type": "execute_result"
    }
   ],
   "source": [
    "us.columns=['Time', 'GNP', 'UR', 'I']\n",
    "us.columns"
   ]
  },
  {
   "cell_type": "code",
   "execution_count": 6,
   "metadata": {
    "scrolled": false
   },
   "outputs": [
    {
     "data": {
      "text/html": [
       "<div>\n",
       "<style scoped>\n",
       "    .dataframe tbody tr th:only-of-type {\n",
       "        vertical-align: middle;\n",
       "    }\n",
       "\n",
       "    .dataframe tbody tr th {\n",
       "        vertical-align: top;\n",
       "    }\n",
       "\n",
       "    .dataframe thead th {\n",
       "        text-align: right;\n",
       "    }\n",
       "</style>\n",
       "<table border=\"1\" class=\"dataframe\">\n",
       "  <thead>\n",
       "    <tr style=\"text-align: right;\">\n",
       "      <th></th>\n",
       "      <th>Time</th>\n",
       "      <th>GNP</th>\n",
       "      <th>UR</th>\n",
       "      <th>I</th>\n",
       "      <th>GNP_1</th>\n",
       "      <th>GNP_2</th>\n",
       "      <th>GNP_3</th>\n",
       "      <th>GNP_4</th>\n",
       "      <th>UR_1</th>\n",
       "      <th>UR_2</th>\n",
       "      <th>UR_3</th>\n",
       "      <th>UR_4</th>\n",
       "      <th>I_1</th>\n",
       "      <th>I_2</th>\n",
       "      <th>I_3</th>\n",
       "      <th>I_4</th>\n",
       "    </tr>\n",
       "  </thead>\n",
       "  <tbody>\n",
       "    <tr>\n",
       "      <th>3</th>\n",
       "      <td>1970 Q1</td>\n",
       "      <td>1017.1</td>\n",
       "      <td>4.5</td>\n",
       "      <td>6.18397</td>\n",
       "      <td>NaN</td>\n",
       "      <td>NaN</td>\n",
       "      <td>NaN</td>\n",
       "      <td>NaN</td>\n",
       "      <td>NaN</td>\n",
       "      <td>NaN</td>\n",
       "      <td>NaN</td>\n",
       "      <td>NaN</td>\n",
       "      <td>NaN</td>\n",
       "      <td>NaN</td>\n",
       "      <td>NaN</td>\n",
       "      <td>NaN</td>\n",
       "    </tr>\n",
       "    <tr>\n",
       "      <th>4</th>\n",
       "      <td>1970 Q2</td>\n",
       "      <td>1033.1</td>\n",
       "      <td>4.66667</td>\n",
       "      <td>6.04765</td>\n",
       "      <td>1017.1</td>\n",
       "      <td>NaN</td>\n",
       "      <td>NaN</td>\n",
       "      <td>NaN</td>\n",
       "      <td>4.5</td>\n",
       "      <td>NaN</td>\n",
       "      <td>NaN</td>\n",
       "      <td>NaN</td>\n",
       "      <td>6.18397</td>\n",
       "      <td>NaN</td>\n",
       "      <td>NaN</td>\n",
       "      <td>NaN</td>\n",
       "    </tr>\n",
       "    <tr>\n",
       "      <th>5</th>\n",
       "      <td>1970 Q3</td>\n",
       "      <td>1050.5</td>\n",
       "      <td>5.16667</td>\n",
       "      <td>5.72117</td>\n",
       "      <td>1033.1</td>\n",
       "      <td>1017.1</td>\n",
       "      <td>NaN</td>\n",
       "      <td>NaN</td>\n",
       "      <td>4.66667</td>\n",
       "      <td>4.5</td>\n",
       "      <td>NaN</td>\n",
       "      <td>NaN</td>\n",
       "      <td>6.04765</td>\n",
       "      <td>6.18397</td>\n",
       "      <td>NaN</td>\n",
       "      <td>NaN</td>\n",
       "    </tr>\n",
       "    <tr>\n",
       "      <th>6</th>\n",
       "      <td>1970 Q4</td>\n",
       "      <td>1052.7</td>\n",
       "      <td>5.4</td>\n",
       "      <td>5.64301</td>\n",
       "      <td>1050.5</td>\n",
       "      <td>1033.1</td>\n",
       "      <td>1017.1</td>\n",
       "      <td>NaN</td>\n",
       "      <td>5.16667</td>\n",
       "      <td>4.66667</td>\n",
       "      <td>4.5</td>\n",
       "      <td>NaN</td>\n",
       "      <td>5.72117</td>\n",
       "      <td>6.04765</td>\n",
       "      <td>6.18397</td>\n",
       "      <td>NaN</td>\n",
       "    </tr>\n",
       "    <tr>\n",
       "      <th>7</th>\n",
       "      <td>1971 Q1</td>\n",
       "      <td>1098.1</td>\n",
       "      <td>6.5</td>\n",
       "      <td>4.88733</td>\n",
       "      <td>1052.7</td>\n",
       "      <td>1050.5</td>\n",
       "      <td>1033.1</td>\n",
       "      <td>1017.1</td>\n",
       "      <td>5.4</td>\n",
       "      <td>5.16667</td>\n",
       "      <td>4.66667</td>\n",
       "      <td>4.5</td>\n",
       "      <td>5.64301</td>\n",
       "      <td>5.72117</td>\n",
       "      <td>6.04765</td>\n",
       "      <td>6.18397</td>\n",
       "    </tr>\n",
       "  </tbody>\n",
       "</table>\n",
       "</div>"
      ],
      "text/plain": [
       "      Time     GNP       UR        I   GNP_1   GNP_2   GNP_3   GNP_4     UR_1  \\\n",
       "3  1970 Q1  1017.1      4.5  6.18397     NaN     NaN     NaN     NaN      NaN   \n",
       "4  1970 Q2  1033.1  4.66667  6.04765  1017.1     NaN     NaN     NaN      4.5   \n",
       "5  1970 Q3  1050.5  5.16667  5.72117  1033.1  1017.1     NaN     NaN  4.66667   \n",
       "6  1970 Q4  1052.7      5.4  5.64301  1050.5  1033.1  1017.1     NaN  5.16667   \n",
       "7  1971 Q1  1098.1      6.5  4.88733  1052.7  1050.5  1033.1  1017.1      5.4   \n",
       "\n",
       "      UR_2     UR_3 UR_4      I_1      I_2      I_3      I_4  \n",
       "3      NaN      NaN  NaN      NaN      NaN      NaN      NaN  \n",
       "4      NaN      NaN  NaN  6.18397      NaN      NaN      NaN  \n",
       "5      4.5      NaN  NaN  6.04765  6.18397      NaN      NaN  \n",
       "6  4.66667      4.5  NaN  5.72117  6.04765  6.18397      NaN  \n",
       "7  5.16667  4.66667  4.5  5.64301  5.72117  6.04765  6.18397  "
      ]
     },
     "execution_count": 6,
     "metadata": {},
     "output_type": "execute_result"
    }
   ],
   "source": [
    "for col in us.columns[1:]:\n",
    "    for p in range(1,5):\n",
    "        col_name=str(col)+\"_\"+str(p)\n",
    "        us[col_name]=us[col].shift(periods=p, freq=None, axis=0)\n",
    "\n",
    "us.head()"
   ]
  },
  {
   "cell_type": "markdown",
   "metadata": {},
   "source": [
    "#### Trimming down NaNs"
   ]
  },
  {
   "cell_type": "code",
   "execution_count": 7,
   "metadata": {},
   "outputs": [
    {
     "data": {
      "text/html": [
       "<div>\n",
       "<style scoped>\n",
       "    .dataframe tbody tr th:only-of-type {\n",
       "        vertical-align: middle;\n",
       "    }\n",
       "\n",
       "    .dataframe tbody tr th {\n",
       "        vertical-align: top;\n",
       "    }\n",
       "\n",
       "    .dataframe thead th {\n",
       "        text-align: right;\n",
       "    }\n",
       "</style>\n",
       "<table border=\"1\" class=\"dataframe\">\n",
       "  <thead>\n",
       "    <tr style=\"text-align: right;\">\n",
       "      <th></th>\n",
       "      <th>Time</th>\n",
       "      <th>GNP</th>\n",
       "      <th>UR</th>\n",
       "      <th>I</th>\n",
       "      <th>GNP_1</th>\n",
       "      <th>GNP_2</th>\n",
       "      <th>GNP_3</th>\n",
       "      <th>GNP_4</th>\n",
       "      <th>UR_1</th>\n",
       "      <th>UR_2</th>\n",
       "      <th>UR_3</th>\n",
       "      <th>UR_4</th>\n",
       "      <th>I_1</th>\n",
       "      <th>I_2</th>\n",
       "      <th>I_3</th>\n",
       "      <th>I_4</th>\n",
       "    </tr>\n",
       "  </thead>\n",
       "  <tbody>\n",
       "    <tr>\n",
       "      <th>7</th>\n",
       "      <td>1971 Q1</td>\n",
       "      <td>1098.1</td>\n",
       "      <td>6.5</td>\n",
       "      <td>4.88733</td>\n",
       "      <td>1052.7</td>\n",
       "      <td>1050.5</td>\n",
       "      <td>1033.1</td>\n",
       "      <td>1017.1</td>\n",
       "      <td>5.4</td>\n",
       "      <td>5.16667</td>\n",
       "      <td>4.66667</td>\n",
       "      <td>4.5</td>\n",
       "      <td>5.64301</td>\n",
       "      <td>5.72117</td>\n",
       "      <td>6.04765</td>\n",
       "      <td>6.18397</td>\n",
       "    </tr>\n",
       "    <tr>\n",
       "      <th>8</th>\n",
       "      <td>1971 Q2</td>\n",
       "      <td>1118.8</td>\n",
       "      <td>5.83333</td>\n",
       "      <td>4.40668</td>\n",
       "      <td>1098.1</td>\n",
       "      <td>1052.7</td>\n",
       "      <td>1050.5</td>\n",
       "      <td>1033.1</td>\n",
       "      <td>6.5</td>\n",
       "      <td>5.4</td>\n",
       "      <td>5.16667</td>\n",
       "      <td>4.66667</td>\n",
       "      <td>4.88733</td>\n",
       "      <td>5.64301</td>\n",
       "      <td>5.72117</td>\n",
       "      <td>6.04765</td>\n",
       "    </tr>\n",
       "    <tr>\n",
       "      <th>9</th>\n",
       "      <td>1971 Q3</td>\n",
       "      <td>1139.1</td>\n",
       "      <td>5.96667</td>\n",
       "      <td>4.27229</td>\n",
       "      <td>1118.8</td>\n",
       "      <td>1098.1</td>\n",
       "      <td>1052.7</td>\n",
       "      <td>1050.5</td>\n",
       "      <td>5.83333</td>\n",
       "      <td>6.5</td>\n",
       "      <td>5.4</td>\n",
       "      <td>5.16667</td>\n",
       "      <td>4.40668</td>\n",
       "      <td>4.88733</td>\n",
       "      <td>5.64301</td>\n",
       "      <td>5.72117</td>\n",
       "    </tr>\n",
       "    <tr>\n",
       "      <th>10</th>\n",
       "      <td>1971 Q4</td>\n",
       "      <td>1151.4</td>\n",
       "      <td>5.53333</td>\n",
       "      <td>3.48608</td>\n",
       "      <td>1139.1</td>\n",
       "      <td>1118.8</td>\n",
       "      <td>1098.1</td>\n",
       "      <td>1052.7</td>\n",
       "      <td>5.96667</td>\n",
       "      <td>5.83333</td>\n",
       "      <td>6.5</td>\n",
       "      <td>5.4</td>\n",
       "      <td>4.27229</td>\n",
       "      <td>4.40668</td>\n",
       "      <td>4.88733</td>\n",
       "      <td>5.64301</td>\n",
       "    </tr>\n",
       "    <tr>\n",
       "      <th>11</th>\n",
       "      <td>1972 Q1</td>\n",
       "      <td>1190.1</td>\n",
       "      <td>6.33333</td>\n",
       "      <td>3.51563</td>\n",
       "      <td>1151.4</td>\n",
       "      <td>1139.1</td>\n",
       "      <td>1118.8</td>\n",
       "      <td>1098.1</td>\n",
       "      <td>5.53333</td>\n",
       "      <td>5.96667</td>\n",
       "      <td>5.83333</td>\n",
       "      <td>6.5</td>\n",
       "      <td>3.48608</td>\n",
       "      <td>4.27229</td>\n",
       "      <td>4.40668</td>\n",
       "      <td>4.88733</td>\n",
       "    </tr>\n",
       "  </tbody>\n",
       "</table>\n",
       "</div>"
      ],
      "text/plain": [
       "       Time     GNP       UR        I   GNP_1   GNP_2   GNP_3   GNP_4  \\\n",
       "7   1971 Q1  1098.1      6.5  4.88733  1052.7  1050.5  1033.1  1017.1   \n",
       "8   1971 Q2  1118.8  5.83333  4.40668  1098.1  1052.7  1050.5  1033.1   \n",
       "9   1971 Q3  1139.1  5.96667  4.27229  1118.8  1098.1  1052.7  1050.5   \n",
       "10  1971 Q4  1151.4  5.53333  3.48608  1139.1  1118.8  1098.1  1052.7   \n",
       "11  1972 Q1  1190.1  6.33333  3.51563  1151.4  1139.1  1118.8  1098.1   \n",
       "\n",
       "       UR_1     UR_2     UR_3     UR_4      I_1      I_2      I_3      I_4  \n",
       "7       5.4  5.16667  4.66667      4.5  5.64301  5.72117  6.04765  6.18397  \n",
       "8       6.5      5.4  5.16667  4.66667  4.88733  5.64301  5.72117  6.04765  \n",
       "9   5.83333      6.5      5.4  5.16667  4.40668  4.88733  5.64301  5.72117  \n",
       "10  5.96667  5.83333      6.5      5.4  4.27229  4.40668  4.88733  5.64301  \n",
       "11  5.53333  5.96667  5.83333      6.5  3.48608  4.27229  4.40668  4.88733  "
      ]
     },
     "execution_count": 7,
     "metadata": {},
     "output_type": "execute_result"
    }
   ],
   "source": [
    "us=us.dropna()\n",
    "us.head()"
   ]
  },
  {
   "cell_type": "markdown",
   "metadata": {},
   "source": [
    "#### Creating model retriver fucntion so that we can resue in each question"
   ]
  },
  {
   "cell_type": "code",
   "execution_count": 8,
   "metadata": {},
   "outputs": [],
   "source": [
    "def model_retriver(factor):\n",
    "    y_cols=[factor]\n",
    "    X_cols=[]\n",
    "    all_cols=[factor]\n",
    "\n",
    "    for i in range(1,5): \n",
    "        col_name=str(factor)+\"_\"+str(i)\n",
    "        X_cols.append(col_name)\n",
    "        all_cols.append(col_name)\n",
    "\n",
    "    df=us[all_cols]\n",
    "    y_7=us[y_cols]\n",
    "    X_7=us[X_cols]\n",
    "    X_7=sm.add_constant(X_7)\n",
    "    model_7=sm.OLS(y_7.astype(float), X_7.astype(float)).fit()\n",
    "#     model_7=0\n",
    "    return df, model_7, X_7"
   ]
  },
  {
   "cell_type": "markdown",
   "metadata": {},
   "source": [
    "#### a. Develop a regression to predict quarterly GNP growth from the last four quarters of growth. Check for non-normality of residuals, heteroscedasticity, autocorrelation, and multicollinearity."
   ]
  },
  {
   "cell_type": "code",
   "execution_count": 9,
   "metadata": {},
   "outputs": [
    {
     "data": {
      "text/html": [
       "<table class=\"simpletable\">\n",
       "<caption>OLS Regression Results</caption>\n",
       "<tr>\n",
       "  <th>Dep. Variable:</th>           <td>GNP</td>       <th>  R-squared:         </th> <td>   1.000</td> \n",
       "</tr>\n",
       "<tr>\n",
       "  <th>Model:</th>                   <td>OLS</td>       <th>  Adj. R-squared:    </th> <td>   1.000</td> \n",
       "</tr>\n",
       "<tr>\n",
       "  <th>Method:</th>             <td>Least Squares</td>  <th>  F-statistic:       </th> <td>3.136e+05</td>\n",
       "</tr>\n",
       "<tr>\n",
       "  <th>Date:</th>             <td>Tue, 30 Apr 2019</td> <th>  Prob (F-statistic):</th> <td>2.28e-310</td>\n",
       "</tr>\n",
       "<tr>\n",
       "  <th>Time:</th>                 <td>03:53:09</td>     <th>  Log-Likelihood:    </th> <td> -878.34</td> \n",
       "</tr>\n",
       "<tr>\n",
       "  <th>No. Observations:</th>      <td>   165</td>      <th>  AIC:               </th> <td>   1767.</td> \n",
       "</tr>\n",
       "<tr>\n",
       "  <th>Df Residuals:</th>          <td>   160</td>      <th>  BIC:               </th> <td>   1782.</td> \n",
       "</tr>\n",
       "<tr>\n",
       "  <th>Df Model:</th>              <td>     4</td>      <th>                     </th>     <td> </td>    \n",
       "</tr>\n",
       "<tr>\n",
       "  <th>Covariance Type:</th>      <td>nonrobust</td>    <th>                     </th>     <td> </td>    \n",
       "</tr>\n",
       "</table>\n",
       "<table class=\"simpletable\">\n",
       "<tr>\n",
       "    <td></td>       <th>coef</th>     <th>std err</th>      <th>t</th>      <th>P>|t|</th>  <th>[0.025</th>    <th>0.975]</th>  \n",
       "</tr>\n",
       "<tr>\n",
       "  <th>const</th> <td>   20.4898</td> <td>    7.959</td> <td>    2.574</td> <td> 0.011</td> <td>    4.772</td> <td>   36.208</td>\n",
       "</tr>\n",
       "<tr>\n",
       "  <th>GNP_1</th> <td>    1.5492</td> <td>    0.078</td> <td>   19.766</td> <td> 0.000</td> <td>    1.394</td> <td>    1.704</td>\n",
       "</tr>\n",
       "<tr>\n",
       "  <th>GNP_2</th> <td>   -0.3959</td> <td>    0.144</td> <td>   -2.754</td> <td> 0.007</td> <td>   -0.680</td> <td>   -0.112</td>\n",
       "</tr>\n",
       "<tr>\n",
       "  <th>GNP_3</th> <td>   -0.2743</td> <td>    0.144</td> <td>   -1.907</td> <td> 0.058</td> <td>   -0.558</td> <td>    0.010</td>\n",
       "</tr>\n",
       "<tr>\n",
       "  <th>GNP_4</th> <td>    0.1235</td> <td>    0.079</td> <td>    1.566</td> <td> 0.119</td> <td>   -0.032</td> <td>    0.279</td>\n",
       "</tr>\n",
       "</table>\n",
       "<table class=\"simpletable\">\n",
       "<tr>\n",
       "  <th>Omnibus:</th>       <td>131.516</td> <th>  Durbin-Watson:     </th> <td>   1.986</td>\n",
       "</tr>\n",
       "<tr>\n",
       "  <th>Prob(Omnibus):</th> <td> 0.000</td>  <th>  Jarque-Bera (JB):  </th> <td>2708.456</td>\n",
       "</tr>\n",
       "<tr>\n",
       "  <th>Skew:</th>          <td>-2.598</td>  <th>  Prob(JB):          </th> <td>    0.00</td>\n",
       "</tr>\n",
       "<tr>\n",
       "  <th>Kurtosis:</th>      <td>22.156</td>  <th>  Cond. No.          </th> <td>3.24e+04</td>\n",
       "</tr>\n",
       "</table><br/><br/>Warnings:<br/>[1] Standard Errors assume that the covariance matrix of the errors is correctly specified.<br/>[2] The condition number is large, 3.24e+04. This might indicate that there are<br/>strong multicollinearity or other numerical problems."
      ],
      "text/plain": [
       "<class 'statsmodels.iolib.summary.Summary'>\n",
       "\"\"\"\n",
       "                            OLS Regression Results                            \n",
       "==============================================================================\n",
       "Dep. Variable:                    GNP   R-squared:                       1.000\n",
       "Model:                            OLS   Adj. R-squared:                  1.000\n",
       "Method:                 Least Squares   F-statistic:                 3.136e+05\n",
       "Date:                Tue, 30 Apr 2019   Prob (F-statistic):          2.28e-310\n",
       "Time:                        03:53:09   Log-Likelihood:                -878.34\n",
       "No. Observations:                 165   AIC:                             1767.\n",
       "Df Residuals:                     160   BIC:                             1782.\n",
       "Df Model:                           4                                         \n",
       "Covariance Type:            nonrobust                                         \n",
       "==============================================================================\n",
       "                 coef    std err          t      P>|t|      [0.025      0.975]\n",
       "------------------------------------------------------------------------------\n",
       "const         20.4898      7.959      2.574      0.011       4.772      36.208\n",
       "GNP_1          1.5492      0.078     19.766      0.000       1.394       1.704\n",
       "GNP_2         -0.3959      0.144     -2.754      0.007      -0.680      -0.112\n",
       "GNP_3         -0.2743      0.144     -1.907      0.058      -0.558       0.010\n",
       "GNP_4          0.1235      0.079      1.566      0.119      -0.032       0.279\n",
       "==============================================================================\n",
       "Omnibus:                      131.516   Durbin-Watson:                   1.986\n",
       "Prob(Omnibus):                  0.000   Jarque-Bera (JB):             2708.456\n",
       "Skew:                          -2.598   Prob(JB):                         0.00\n",
       "Kurtosis:                      22.156   Cond. No.                     3.24e+04\n",
       "==============================================================================\n",
       "\n",
       "Warnings:\n",
       "[1] Standard Errors assume that the covariance matrix of the errors is correctly specified.\n",
       "[2] The condition number is large, 3.24e+04. This might indicate that there are\n",
       "strong multicollinearity or other numerical problems.\n",
       "\"\"\""
      ]
     },
     "execution_count": 9,
     "metadata": {},
     "output_type": "execute_result"
    }
   ],
   "source": [
    "gn,model_7, X_7=model_retriver(\"GNP\")\n",
    "model_7.summary()"
   ]
  },
  {
   "cell_type": "code",
   "execution_count": 10,
   "metadata": {
    "scrolled": false
   },
   "outputs": [
    {
     "name": "stdout",
     "output_type": "stream",
     "text": [
      "Dataset: \t 165\n",
      "X: \t 165\n",
      "1. Normality Test:  Jarque-Bera Test\n",
      "-----------------------------------------------\n",
      "Warning\n",
      "Reason: Residual Not Normally distributed\n",
      "-----------------------------------------------\n",
      "\n",
      "\n",
      "2. Linearity Test:  Rainbow Test\n",
      "-----------------------------------------------\n",
      "Warning\n",
      "Reason: Data do not have linear relationship\n",
      "-----------------------------------------------\n",
      "\n",
      "\n",
      "3. Heteroscedasticity Test:  Breusch-Pagan Test\n",
      "-----------------------------------------------\n",
      "Warning\n",
      "Reason: Data do not have have same variance accross\n",
      "-----------------------------------------------\n",
      "\n",
      "\n",
      "4. Autocorrelation Test:  Breusch Godfrey Test\n",
      "-----------------------------------------------\n",
      "Good\n",
      "Reason: Data are not related to themself:1 lag\n",
      "-----------------------------------------------\n",
      "\n",
      "\n",
      "5. Sum of residuals == 0\n",
      "-----------------------------------------------\n",
      "Good\n",
      "Reason: Sum of residuals = 0\n",
      "-----------------------------------------------\n",
      "\n",
      "\n",
      "6. Checking outliers:\n",
      "-----------------------------------------------\n",
      "Mode selected to remove Outliers: False\n",
      "Not Good: We have  18  Outliers\n",
      "Rows to remove: [36, 46, 48, 86, 122, 123, 124, 125, 129, 137, 143, 145, 147, 149, 155, 156, 157, 158]\n"
     ]
    },
    {
     "data": {
      "image/png": "[encoded data removed]",
      "text/plain": [
       "<Figure size 432x288 with 1 Axes>"
      ]
     },
     "metadata": {
      "needs_background": "light"
     },
     "output_type": "display_data"
    },
    {
     "name": "stdout",
     "output_type": "stream",
     "text": [
      "-----------------------------------------------\n",
      "\n",
      "\n",
      "\n",
      "7. Checking multicolinearity\n",
      "-----------------------------------------------\n"
     ]
    },
    {
     "data": {
      "text/plain": [
       "<Figure size 432x288 with 0 Axes>"
      ]
     },
     "metadata": {},
     "output_type": "display_data"
    },
    {
     "data": {
      "image/png": "[encoded data removed]",
      "text/plain": [
       "<Figure size 864x576 with 2 Axes>"
      ]
     },
     "metadata": {
      "needs_background": "light"
     },
     "output_type": "display_data"
    },
    {
     "name": "stdout",
     "output_type": "stream",
     "text": [
      "-----------------------------------------------\n"
     ]
    },
    {
     "data": {
      "text/plain": [
       "<Figure size 432x288 with 0 Axes>"
      ]
     },
     "metadata": {},
     "output_type": "display_data"
    }
   ],
   "source": [
    "ols_diag(gn,X_7,model_7)"
   ]
  },
  {
   "cell_type": "markdown",
   "metadata": {},
   "source": [
    "#### Ans a: \n",
    "* From above check we conclude that:\n",
    "\n",
    "\n",
    "1. Residuals are not normal.\n",
    "2. Heteroscedasticity is present\n",
    "3. Autocorrelation is not present\n",
    "4. High Multicollinearity is present\n",
    "\n",
    "* We can thus not conclude on our model."
   ]
  },
  {
   "cell_type": "markdown",
   "metadata": {},
   "source": [
    "#### b. Develop a regression to predict quarterly inflation rate from the last four quarters of inflation. Check for non-normality of residuals, heteroscedasticity, autocorrelation, and multicollinearity.\n",
    " "
   ]
  },
  {
   "cell_type": "code",
   "execution_count": 11,
   "metadata": {},
   "outputs": [
    {
     "data": {
      "text/html": [
       "<table class=\"simpletable\">\n",
       "<caption>OLS Regression Results</caption>\n",
       "<tr>\n",
       "  <th>Dep. Variable:</th>            <td>I</td>        <th>  R-squared:         </th> <td>   0.943</td>\n",
       "</tr>\n",
       "<tr>\n",
       "  <th>Model:</th>                   <td>OLS</td>       <th>  Adj. R-squared:    </th> <td>   0.941</td>\n",
       "</tr>\n",
       "<tr>\n",
       "  <th>Method:</th>             <td>Least Squares</td>  <th>  F-statistic:       </th> <td>   656.8</td>\n",
       "</tr>\n",
       "<tr>\n",
       "  <th>Date:</th>             <td>Tue, 30 Apr 2019</td> <th>  Prob (F-statistic):</th> <td>3.99e-98</td>\n",
       "</tr>\n",
       "<tr>\n",
       "  <th>Time:</th>                 <td>03:53:10</td>     <th>  Log-Likelihood:    </th> <td> -179.72</td>\n",
       "</tr>\n",
       "<tr>\n",
       "  <th>No. Observations:</th>      <td>   165</td>      <th>  AIC:               </th> <td>   369.4</td>\n",
       "</tr>\n",
       "<tr>\n",
       "  <th>Df Residuals:</th>          <td>   160</td>      <th>  BIC:               </th> <td>   385.0</td>\n",
       "</tr>\n",
       "<tr>\n",
       "  <th>Df Model:</th>              <td>     4</td>      <th>                     </th>     <td> </td>   \n",
       "</tr>\n",
       "<tr>\n",
       "  <th>Covariance Type:</th>      <td>nonrobust</td>    <th>                     </th>     <td> </td>   \n",
       "</tr>\n",
       "</table>\n",
       "<table class=\"simpletable\">\n",
       "<tr>\n",
       "    <td></td>       <th>coef</th>     <th>std err</th>      <th>t</th>      <th>P>|t|</th>  <th>[0.025</th>    <th>0.975]</th>  \n",
       "</tr>\n",
       "<tr>\n",
       "  <th>const</th> <td>    0.2554</td> <td>    0.105</td> <td>    2.422</td> <td> 0.017</td> <td>    0.047</td> <td>    0.464</td>\n",
       "</tr>\n",
       "<tr>\n",
       "  <th>I_1</th>   <td>    1.3492</td> <td>    0.078</td> <td>   17.213</td> <td> 0.000</td> <td>    1.194</td> <td>    1.504</td>\n",
       "</tr>\n",
       "<tr>\n",
       "  <th>I_2</th>   <td>   -0.4223</td> <td>    0.132</td> <td>   -3.203</td> <td> 0.002</td> <td>   -0.683</td> <td>   -0.162</td>\n",
       "</tr>\n",
       "<tr>\n",
       "  <th>I_3</th>   <td>    0.1483</td> <td>    0.132</td> <td>    1.122</td> <td> 0.263</td> <td>   -0.113</td> <td>    0.409</td>\n",
       "</tr>\n",
       "<tr>\n",
       "  <th>I_4</th>   <td>   -0.1349</td> <td>    0.079</td> <td>   -1.718</td> <td> 0.088</td> <td>   -0.290</td> <td>    0.020</td>\n",
       "</tr>\n",
       "</table>\n",
       "<table class=\"simpletable\">\n",
       "<tr>\n",
       "  <th>Omnibus:</th>       <td>35.016</td> <th>  Durbin-Watson:     </th> <td>   1.895</td>\n",
       "</tr>\n",
       "<tr>\n",
       "  <th>Prob(Omnibus):</th> <td> 0.000</td> <th>  Jarque-Bera (JB):  </th> <td> 305.047</td>\n",
       "</tr>\n",
       "<tr>\n",
       "  <th>Skew:</th>          <td>-0.331</td> <th>  Prob(JB):          </th> <td>5.75e-67</td>\n",
       "</tr>\n",
       "<tr>\n",
       "  <th>Kurtosis:</th>      <td> 9.628</td> <th>  Cond. No.          </th> <td>    34.1</td>\n",
       "</tr>\n",
       "</table><br/><br/>Warnings:<br/>[1] Standard Errors assume that the covariance matrix of the errors is correctly specified."
      ],
      "text/plain": [
       "<class 'statsmodels.iolib.summary.Summary'>\n",
       "\"\"\"\n",
       "                            OLS Regression Results                            \n",
       "==============================================================================\n",
       "Dep. Variable:                      I   R-squared:                       0.943\n",
       "Model:                            OLS   Adj. R-squared:                  0.941\n",
       "Method:                 Least Squares   F-statistic:                     656.8\n",
       "Date:                Tue, 30 Apr 2019   Prob (F-statistic):           3.99e-98\n",
       "Time:                        03:53:10   Log-Likelihood:                -179.72\n",
       "No. Observations:                 165   AIC:                             369.4\n",
       "Df Residuals:                     160   BIC:                             385.0\n",
       "Df Model:                           4                                         \n",
       "Covariance Type:            nonrobust                                         \n",
       "==============================================================================\n",
       "                 coef    std err          t      P>|t|      [0.025      0.975]\n",
       "------------------------------------------------------------------------------\n",
       "const          0.2554      0.105      2.422      0.017       0.047       0.464\n",
       "I_1            1.3492      0.078     17.213      0.000       1.194       1.504\n",
       "I_2           -0.4223      0.132     -3.203      0.002      -0.683      -0.162\n",
       "I_3            0.1483      0.132      1.122      0.263      -0.113       0.409\n",
       "I_4           -0.1349      0.079     -1.718      0.088      -0.290       0.020\n",
       "==============================================================================\n",
       "Omnibus:                       35.016   Durbin-Watson:                   1.895\n",
       "Prob(Omnibus):                  0.000   Jarque-Bera (JB):              305.047\n",
       "Skew:                          -0.331   Prob(JB):                     5.75e-67\n",
       "Kurtosis:                       9.628   Cond. No.                         34.1\n",
       "==============================================================================\n",
       "\n",
       "Warnings:\n",
       "[1] Standard Errors assume that the covariance matrix of the errors is correctly specified.\n",
       "\"\"\""
      ]
     },
     "execution_count": 11,
     "metadata": {},
     "output_type": "execute_result"
    }
   ],
   "source": [
    "I,model_7, X_7=model_retriver(\"I\")\n",
    "model_7.summary()"
   ]
  },
  {
   "cell_type": "code",
   "execution_count": 12,
   "metadata": {},
   "outputs": [
    {
     "name": "stdout",
     "output_type": "stream",
     "text": [
      "Dataset: \t 165\n",
      "X: \t 165\n",
      "1. Normality Test:  Jarque-Bera Test\n",
      "-----------------------------------------------\n",
      "Warning\n",
      "Reason: Residual Not Normally distributed\n",
      "-----------------------------------------------\n",
      "\n",
      "\n",
      "2. Linearity Test:  Rainbow Test\n",
      "-----------------------------------------------\n",
      "Warning\n",
      "Reason: Data do not have linear relationship\n",
      "-----------------------------------------------\n",
      "\n",
      "\n",
      "3. Heteroscedasticity Test:  Breusch-Pagan Test\n",
      "-----------------------------------------------\n",
      "Good\n",
      "Reason: Data have same variance accross\n",
      "-----------------------------------------------\n",
      "\n",
      "\n",
      "4. Autocorrelation Test:  Breusch Godfrey Test\n",
      "-----------------------------------------------\n",
      "Warning\n",
      "Reason: Data are related to themself by:1 lag\n",
      "-----------------------------------------------\n",
      "\n",
      "\n",
      "5. Sum of residuals == 0\n",
      "-----------------------------------------------\n",
      "Good\n",
      "Reason: Sum of residuals = 0\n",
      "-----------------------------------------------\n",
      "\n",
      "\n",
      "6. Checking outliers:\n",
      "-----------------------------------------------\n",
      "Mode selected to remove Outliers: False\n",
      "Not Good: We have  18  Outliers\n",
      "Rows to remove: [16, 18, 23, 31, 43, 45, 49, 50, 68, 72, 85, 87, 136, 150, 154, 158, 162, 164]\n"
     ]
    },
    {
     "data": {
      "image/png": "[encoded data removed]",
      "text/plain": [
       "<Figure size 432x288 with 1 Axes>"
      ]
     },
     "metadata": {
      "needs_background": "light"
     },
     "output_type": "display_data"
    },
    {
     "name": "stdout",
     "output_type": "stream",
     "text": [
      "-----------------------------------------------\n",
      "\n",
      "\n",
      "\n",
      "7. Checking multicolinearity\n",
      "-----------------------------------------------\n"
     ]
    },
    {
     "data": {
      "text/plain": [
       "<Figure size 432x288 with 0 Axes>"
      ]
     },
     "metadata": {},
     "output_type": "display_data"
    },
    {
     "data": {
      "image/png": "[encoded data removed]",
      "text/plain": [
       "<Figure size 864x576 with 2 Axes>"
      ]
     },
     "metadata": {
      "needs_background": "light"
     },
     "output_type": "display_data"
    },
    {
     "name": "stdout",
     "output_type": "stream",
     "text": [
      "-----------------------------------------------\n"
     ]
    },
    {
     "data": {
      "text/plain": [
       "<Figure size 432x288 with 0 Axes>"
      ]
     },
     "metadata": {},
     "output_type": "display_data"
    }
   ],
   "source": [
    "ols_diag(I,X_7,model_7)"
   ]
  },
  {
   "cell_type": "markdown",
   "metadata": {},
   "source": [
    "#### Ans b: \n",
    "* From above check we conclude that: \n",
    "\n",
    "\n",
    "1. Residuals are not normal.\n",
    "2. Heteroscedasticity is not present\n",
    "3. Autocorrelation is present\n",
    "4. High Multicollinearity is present.\n",
    "\n",
    "\n",
    "* We can thus not conclude on our model."
   ]
  },
  {
   "cell_type": "markdown",
   "metadata": {},
   "source": [
    " #### c. Develop a regression to predict quarterly unemployment rate from the unemployment rates of the last four quarters. Check for non-normality of residuals, heteroscedasticity, autocorrelation, and multicollinearity."
   ]
  },
  {
   "cell_type": "code",
   "execution_count": 13,
   "metadata": {},
   "outputs": [
    {
     "data": {
      "text/html": [
       "<table class=\"simpletable\">\n",
       "<caption>OLS Regression Results</caption>\n",
       "<tr>\n",
       "  <th>Dep. Variable:</th>           <td>UR</td>        <th>  R-squared:         </th> <td>   0.869</td>\n",
       "</tr>\n",
       "<tr>\n",
       "  <th>Model:</th>                   <td>OLS</td>       <th>  Adj. R-squared:    </th> <td>   0.866</td>\n",
       "</tr>\n",
       "<tr>\n",
       "  <th>Method:</th>             <td>Least Squares</td>  <th>  F-statistic:       </th> <td>   265.2</td>\n",
       "</tr>\n",
       "<tr>\n",
       "  <th>Date:</th>             <td>Tue, 30 Apr 2019</td> <th>  Prob (F-statistic):</th> <td>1.77e-69</td>\n",
       "</tr>\n",
       "<tr>\n",
       "  <th>Time:</th>                 <td>03:53:10</td>     <th>  Log-Likelihood:    </th> <td> -143.67</td>\n",
       "</tr>\n",
       "<tr>\n",
       "  <th>No. Observations:</th>      <td>   165</td>      <th>  AIC:               </th> <td>   297.3</td>\n",
       "</tr>\n",
       "<tr>\n",
       "  <th>Df Residuals:</th>          <td>   160</td>      <th>  BIC:               </th> <td>   312.9</td>\n",
       "</tr>\n",
       "<tr>\n",
       "  <th>Df Model:</th>              <td>     4</td>      <th>                     </th>     <td> </td>   \n",
       "</tr>\n",
       "<tr>\n",
       "  <th>Covariance Type:</th>      <td>nonrobust</td>    <th>                     </th>     <td> </td>   \n",
       "</tr>\n",
       "</table>\n",
       "<table class=\"simpletable\">\n",
       "<tr>\n",
       "    <td></td>       <th>coef</th>     <th>std err</th>      <th>t</th>      <th>P>|t|</th>  <th>[0.025</th>    <th>0.975]</th>  \n",
       "</tr>\n",
       "<tr>\n",
       "  <th>const</th> <td>    0.3881</td> <td>    0.200</td> <td>    1.941</td> <td> 0.054</td> <td>   -0.007</td> <td>    0.783</td>\n",
       "</tr>\n",
       "<tr>\n",
       "  <th>UR_1</th>  <td>    0.8543</td> <td>    0.077</td> <td>   11.157</td> <td> 0.000</td> <td>    0.703</td> <td>    1.005</td>\n",
       "</tr>\n",
       "<tr>\n",
       "  <th>UR_2</th>  <td>    0.3211</td> <td>    0.095</td> <td>    3.386</td> <td> 0.001</td> <td>    0.134</td> <td>    0.508</td>\n",
       "</tr>\n",
       "<tr>\n",
       "  <th>UR_3</th>  <td>   -0.4881</td> <td>    0.095</td> <td>   -5.134</td> <td> 0.000</td> <td>   -0.676</td> <td>   -0.300</td>\n",
       "</tr>\n",
       "<tr>\n",
       "  <th>UR_4</th>  <td>    0.2554</td> <td>    0.077</td> <td>    3.315</td> <td> 0.001</td> <td>    0.103</td> <td>    0.408</td>\n",
       "</tr>\n",
       "</table>\n",
       "<table class=\"simpletable\">\n",
       "<tr>\n",
       "  <th>Omnibus:</th>       <td>42.044</td> <th>  Durbin-Watson:     </th> <td>   1.636</td>\n",
       "</tr>\n",
       "<tr>\n",
       "  <th>Prob(Omnibus):</th> <td> 0.000</td> <th>  Jarque-Bera (JB):  </th> <td>  83.121</td>\n",
       "</tr>\n",
       "<tr>\n",
       "  <th>Skew:</th>          <td> 1.171</td> <th>  Prob(JB):          </th> <td>8.92e-19</td>\n",
       "</tr>\n",
       "<tr>\n",
       "  <th>Kurtosis:</th>      <td> 5.569</td> <th>  Cond. No.          </th> <td>    57.7</td>\n",
       "</tr>\n",
       "</table><br/><br/>Warnings:<br/>[1] Standard Errors assume that the covariance matrix of the errors is correctly specified."
      ],
      "text/plain": [
       "<class 'statsmodels.iolib.summary.Summary'>\n",
       "\"\"\"\n",
       "                            OLS Regression Results                            \n",
       "==============================================================================\n",
       "Dep. Variable:                     UR   R-squared:                       0.869\n",
       "Model:                            OLS   Adj. R-squared:                  0.866\n",
       "Method:                 Least Squares   F-statistic:                     265.2\n",
       "Date:                Tue, 30 Apr 2019   Prob (F-statistic):           1.77e-69\n",
       "Time:                        03:53:10   Log-Likelihood:                -143.67\n",
       "No. Observations:                 165   AIC:                             297.3\n",
       "Df Residuals:                     160   BIC:                             312.9\n",
       "Df Model:                           4                                         \n",
       "Covariance Type:            nonrobust                                         \n",
       "==============================================================================\n",
       "                 coef    std err          t      P>|t|      [0.025      0.975]\n",
       "------------------------------------------------------------------------------\n",
       "const          0.3881      0.200      1.941      0.054      -0.007       0.783\n",
       "UR_1           0.8543      0.077     11.157      0.000       0.703       1.005\n",
       "UR_2           0.3211      0.095      3.386      0.001       0.134       0.508\n",
       "UR_3          -0.4881      0.095     -5.134      0.000      -0.676      -0.300\n",
       "UR_4           0.2554      0.077      3.315      0.001       0.103       0.408\n",
       "==============================================================================\n",
       "Omnibus:                       42.044   Durbin-Watson:                   1.636\n",
       "Prob(Omnibus):                  0.000   Jarque-Bera (JB):               83.121\n",
       "Skew:                           1.171   Prob(JB):                     8.92e-19\n",
       "Kurtosis:                       5.569   Cond. No.                         57.7\n",
       "==============================================================================\n",
       "\n",
       "Warnings:\n",
       "[1] Standard Errors assume that the covariance matrix of the errors is correctly specified.\n",
       "\"\"\""
      ]
     },
     "execution_count": 13,
     "metadata": {},
     "output_type": "execute_result"
    }
   ],
   "source": [
    "UR,model_7, X_7=model_retriver(\"UR\")\n",
    "model_7.summary()"
   ]
  },
  {
   "cell_type": "code",
   "execution_count": 14,
   "metadata": {},
   "outputs": [
    {
     "name": "stdout",
     "output_type": "stream",
     "text": [
      "Dataset: \t 165\n",
      "X: \t 165\n",
      "1. Normality Test:  Jarque-Bera Test\n",
      "-----------------------------------------------\n",
      "Warning\n",
      "Reason: Residual Not Normally distributed\n",
      "-----------------------------------------------\n",
      "\n",
      "\n",
      "2. Linearity Test:  Rainbow Test\n",
      "-----------------------------------------------\n",
      "Good\n",
      "Reason: Data have linear relationship\n",
      "-----------------------------------------------\n",
      "\n",
      "\n",
      "3. Heteroscedasticity Test:  Breusch-Pagan Test\n",
      "-----------------------------------------------\n",
      "Warning\n",
      "Reason: Data do not have have same variance accross\n",
      "-----------------------------------------------\n",
      "\n",
      "\n",
      "4. Autocorrelation Test:  Breusch Godfrey Test\n",
      "-----------------------------------------------\n",
      "Warning\n",
      "Reason: Data are related to themself by:1 lag\n",
      "-----------------------------------------------\n",
      "\n",
      "\n",
      "5. Sum of residuals == 0\n",
      "-----------------------------------------------\n",
      "Good\n",
      "Reason: Sum of residuals = 0\n",
      "-----------------------------------------------\n",
      "\n",
      "\n",
      "6. Checking outliers:\n",
      "-----------------------------------------------\n",
      "Mode selected to remove Outliers: False\n",
      "Not Good: We have  18  Outliers\n",
      "Rows to remove: [23, 25, 28, 32, 36, 50, 51, 54, 55, 56, 57, 60, 72, 87, 91, 100, 159, 163]\n"
     ]
    },
    {
     "data": {
      "image/png": "[encoded data removed]",
      "text/plain": [
       "<Figure size 432x288 with 1 Axes>"
      ]
     },
     "metadata": {
      "needs_background": "light"
     },
     "output_type": "display_data"
    },
    {
     "name": "stdout",
     "output_type": "stream",
     "text": [
      "-----------------------------------------------\n",
      "\n",
      "\n",
      "\n",
      "7. Checking multicolinearity\n",
      "-----------------------------------------------\n"
     ]
    },
    {
     "data": {
      "text/plain": [
       "<Figure size 432x288 with 0 Axes>"
      ]
     },
     "metadata": {},
     "output_type": "display_data"
    },
    {
     "data": {
      "image/png": "[encoded data removed]",
      "text/plain": [
       "<Figure size 864x576 with 2 Axes>"
      ]
     },
     "metadata": {
      "needs_background": "light"
     },
     "output_type": "display_data"
    },
    {
     "name": "stdout",
     "output_type": "stream",
     "text": [
      "-----------------------------------------------\n"
     ]
    },
    {
     "data": {
      "text/plain": [
       "<Figure size 432x288 with 0 Axes>"
      ]
     },
     "metadata": {},
     "output_type": "display_data"
    }
   ],
   "source": [
    "ols_diag(UR,X_7,model_7)"
   ]
  },
  {
   "cell_type": "markdown",
   "metadata": {},
   "source": [
    "#### Ans c: \n",
    "* From above check we conclude that \n",
    "1. Residuals are not normal\n",
    "2. Heteroscedasticity is present\n",
    "3. Autocorrelation is present\n",
    "4. High multicollinearity is present\n",
    "\n",
    "\n",
    "* We can thus not conclude on our model."
   ]
  }
 ],
 "metadata": {
  "kernelspec": {
   "display_name": "Python 3",
   "language": "python",
   "name": "python3"
  },
  "language_info": {
   "codemirror_mode": {
    "name": "ipython",
    "version": 3
   },
   "file_extension": ".py",
   "mimetype": "text/x-python",
   "name": "python",
   "nbconvert_exporter": "python",
   "pygments_lexer": "ipython3",
   "version": "3.6.7"
  }
 },
 "nbformat": 4,
 "nbformat_minor": 2
}
