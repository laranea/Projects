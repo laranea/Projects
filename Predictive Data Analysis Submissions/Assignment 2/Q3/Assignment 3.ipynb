{
 "cells": [
  {
   "cell_type": "code",
   "execution_count": 1,
   "metadata": {},
   "outputs": [
    {
     "name": "stdout",
     "output_type": "stream",
     "text": [
      "Baseball96.xlsx  Countryregion.xlsx  Grocery.xlsx  USmacrodata.xls\r\n",
      "Cardata.xlsx\t Fizzy.xlsx\t     Oreos.xlsx\r\n"
     ]
    }
   ],
   "source": [
    "# %load ./import.py\n",
    "import pandas as pd\n",
    "import numpy as np\n",
    "import statsmodels.api as sm\n",
    "import seaborn as sns\n",
    "%matplotlib inline\n",
    "from sklearn.linear_model import LinearRegression\n",
    "!ls ./Data"
   ]
  },
  {
   "cell_type": "code",
   "execution_count": 2,
   "metadata": {},
   "outputs": [],
   "source": [
    "# ols_diag(df,X,model, nlag=1, remove_outliers=False):\n",
    "from ols_diag import ols_diag"
   ]
  },
  {
   "cell_type": "markdown",
   "metadata": {},
   "source": [
    "#### 3.       The file Countryregion.xlsx contains the following data for several underdeveloped countries:\n",
    " \n",
    "         ■ Infant mortality rate\n",
    " \n",
    "         ■ Adult literacy rate\n",
    " \n",
    "         ■ Percentage of students finishing primary school\n",
    " \n",
    "         ■ Per capita GNP\n",
    " \n",
    " Use this data to develop an equation that can be used to predict infant mortality. Are there any outliers in this set of data? Interpret the coefficients in your equation. Within what value should 95 percent of your predictions for infant mortality be accurate?\n",
    " \n",
    " "
   ]
  },
  {
   "cell_type": "code",
   "execution_count": 3,
   "metadata": {},
   "outputs": [
    {
     "data": {
      "text/html": [
       "<div>\n",
       "<style scoped>\n",
       "    .dataframe tbody tr th:only-of-type {\n",
       "        vertical-align: middle;\n",
       "    }\n",
       "\n",
       "    .dataframe tbody tr th {\n",
       "        vertical-align: top;\n",
       "    }\n",
       "\n",
       "    .dataframe thead th {\n",
       "        text-align: right;\n",
       "    }\n",
       "</style>\n",
       "<table border=\"1\" class=\"dataframe\">\n",
       "  <thead>\n",
       "    <tr style=\"text-align: right;\">\n",
       "      <th></th>\n",
       "      <th>Country</th>\n",
       "      <th>Infant Mortality(deaths per thousand births)</th>\n",
       "      <th>%age adult literacy</th>\n",
       "      <th>%age finishing primary school</th>\n",
       "      <th>GNP per capita</th>\n",
       "    </tr>\n",
       "  </thead>\n",
       "  <tbody>\n",
       "    <tr>\n",
       "      <th>0</th>\n",
       "      <td>Cuba</td>\n",
       "      <td>18</td>\n",
       "      <td>98</td>\n",
       "      <td>98</td>\n",
       "      <td>2000</td>\n",
       "    </tr>\n",
       "    <tr>\n",
       "      <th>1</th>\n",
       "      <td>Sri Lanka</td>\n",
       "      <td>20</td>\n",
       "      <td>85</td>\n",
       "      <td>92</td>\n",
       "      <td>3300</td>\n",
       "    </tr>\n",
       "    <tr>\n",
       "      <th>2</th>\n",
       "      <td>Costa Rica</td>\n",
       "      <td>19</td>\n",
       "      <td>94</td>\n",
       "      <td>84</td>\n",
       "      <td>5800</td>\n",
       "    </tr>\n",
       "    <tr>\n",
       "      <th>3</th>\n",
       "      <td>Vietnam</td>\n",
       "      <td>44</td>\n",
       "      <td>85</td>\n",
       "      <td>58</td>\n",
       "      <td>600</td>\n",
       "    </tr>\n",
       "    <tr>\n",
       "      <th>4</th>\n",
       "      <td>China</td>\n",
       "      <td>54</td>\n",
       "      <td>80</td>\n",
       "      <td>86</td>\n",
       "      <td>2400</td>\n",
       "    </tr>\n",
       "  </tbody>\n",
       "</table>\n",
       "</div>"
      ],
      "text/plain": [
       "      Country  Infant Mortality(deaths per thousand births)  \\\n",
       "0        Cuba                                            18   \n",
       "1   Sri Lanka                                            20   \n",
       "2  Costa Rica                                            19   \n",
       "3     Vietnam                                            44   \n",
       "4       China                                            54   \n",
       "\n",
       "   %age adult literacy  %age finishing primary school  GNP per capita  \n",
       "0                   98                             98            2000  \n",
       "1                   85                             92            3300  \n",
       "2                   94                             84            5800  \n",
       "3                   85                             58             600  \n",
       "4                   80                             86            2400  "
      ]
     },
     "execution_count": 3,
     "metadata": {},
     "output_type": "execute_result"
    }
   ],
   "source": [
    "cn=pd.read_excel(\"./Data/Countryregion.xlsx\", sheet_name=\"Sheet1\")\n",
    "cn.head()"
   ]
  },
  {
   "cell_type": "code",
   "execution_count": 4,
   "metadata": {},
   "outputs": [
    {
     "data": {
      "text/plain": [
       "Index(['Country', 'Infant Mortality(deaths per thousand births)',\n",
       "       '%age adult literacy', '%age finishing primary school',\n",
       "       'GNP per capita'],\n",
       "      dtype='object')"
      ]
     },
     "execution_count": 4,
     "metadata": {},
     "output_type": "execute_result"
    }
   ],
   "source": [
    "cn.columns"
   ]
  },
  {
   "cell_type": "code",
   "execution_count": 5,
   "metadata": {},
   "outputs": [],
   "source": [
    "y_3=cn[['Infant Mortality(deaths per thousand births)']]\n",
    "X_3=cn[['%age adult literacy', '%age finishing primary school',\n",
    "       'GNP per capita']]"
   ]
  },
  {
   "cell_type": "code",
   "execution_count": 6,
   "metadata": {},
   "outputs": [
    {
     "name": "stderr",
     "output_type": "stream",
     "text": [
      "/home/boo/anaconda3/envs/tf_gpu/lib/python3.6/site-packages/scipy/stats/stats.py:1394: UserWarning: kurtosistest only valid for n>=20 ... continuing anyway, n=12\n",
      "  \"anyway, n=%i\" % int(n))\n"
     ]
    },
    {
     "data": {
      "text/html": [
       "<table class=\"simpletable\">\n",
       "<caption>OLS Regression Results</caption>\n",
       "<tr>\n",
       "  <th>Dep. Variable:</th>    <td>Infant Mortality(deaths per thousand births)</td> <th>  R-squared:         </th> <td>   0.846</td>\n",
       "</tr>\n",
       "<tr>\n",
       "  <th>Model:</th>                                 <td>OLS</td>                     <th>  Adj. R-squared:    </th> <td>   0.788</td>\n",
       "</tr>\n",
       "<tr>\n",
       "  <th>Method:</th>                           <td>Least Squares</td>                <th>  F-statistic:       </th> <td>   14.64</td>\n",
       "</tr>\n",
       "<tr>\n",
       "  <th>Date:</th>                           <td>Tue, 30 Apr 2019</td>               <th>  Prob (F-statistic):</th>  <td>0.00130</td>\n",
       "</tr>\n",
       "<tr>\n",
       "  <th>Time:</th>                               <td>03:52:03</td>                   <th>  Log-Likelihood:    </th> <td> -44.347</td>\n",
       "</tr>\n",
       "<tr>\n",
       "  <th>No. Observations:</th>                    <td>    12</td>                    <th>  AIC:               </th> <td>   96.69</td>\n",
       "</tr>\n",
       "<tr>\n",
       "  <th>Df Residuals:</th>                        <td>     8</td>                    <th>  BIC:               </th> <td>   98.63</td>\n",
       "</tr>\n",
       "<tr>\n",
       "  <th>Df Model:</th>                            <td>     3</td>                    <th>                     </th>     <td> </td>   \n",
       "</tr>\n",
       "<tr>\n",
       "  <th>Covariance Type:</th>                    <td>nonrobust</td>                  <th>                     </th>     <td> </td>   \n",
       "</tr>\n",
       "</table>\n",
       "<table class=\"simpletable\">\n",
       "<tr>\n",
       "                <td></td>                   <th>coef</th>     <th>std err</th>      <th>t</th>      <th>P>|t|</th>  <th>[0.025</th>    <th>0.975]</th>  \n",
       "</tr>\n",
       "<tr>\n",
       "  <th>const</th>                         <td>  154.2055</td> <td>   16.152</td> <td>    9.547</td> <td> 0.000</td> <td>  116.958</td> <td>  191.452</td>\n",
       "</tr>\n",
       "<tr>\n",
       "  <th>%age adult literacy</th>           <td>   -0.6772</td> <td>    0.229</td> <td>   -2.961</td> <td> 0.018</td> <td>   -1.205</td> <td>   -0.150</td>\n",
       "</tr>\n",
       "<tr>\n",
       "  <th>%age finishing primary school</th> <td>   -0.5982</td> <td>    0.276</td> <td>   -2.169</td> <td> 0.062</td> <td>   -1.234</td> <td>    0.038</td>\n",
       "</tr>\n",
       "<tr>\n",
       "  <th>GNP per capita</th>                <td>   -0.0029</td> <td>    0.001</td> <td>   -2.271</td> <td> 0.053</td> <td>   -0.006</td> <td> 4.52e-05</td>\n",
       "</tr>\n",
       "</table>\n",
       "<table class=\"simpletable\">\n",
       "<tr>\n",
       "  <th>Omnibus:</th>       <td> 0.686</td> <th>  Durbin-Watson:     </th> <td>   1.732</td>\n",
       "</tr>\n",
       "<tr>\n",
       "  <th>Prob(Omnibus):</th> <td> 0.710</td> <th>  Jarque-Bera (JB):  </th> <td>   0.409</td>\n",
       "</tr>\n",
       "<tr>\n",
       "  <th>Skew:</th>          <td> 0.409</td> <th>  Prob(JB):          </th> <td>   0.815</td>\n",
       "</tr>\n",
       "<tr>\n",
       "  <th>Kurtosis:</th>      <td> 2.613</td> <th>  Cond. No.          </th> <td>2.12e+04</td>\n",
       "</tr>\n",
       "</table><br/><br/>Warnings:<br/>[1] Standard Errors assume that the covariance matrix of the errors is correctly specified.<br/>[2] The condition number is large, 2.12e+04. This might indicate that there are<br/>strong multicollinearity or other numerical problems."
      ],
      "text/plain": [
       "<class 'statsmodels.iolib.summary.Summary'>\n",
       "\"\"\"\n",
       "                                         OLS Regression Results                                         \n",
       "========================================================================================================\n",
       "Dep. Variable:     Infant Mortality(deaths per thousand births)   R-squared:                       0.846\n",
       "Model:                                                      OLS   Adj. R-squared:                  0.788\n",
       "Method:                                           Least Squares   F-statistic:                     14.64\n",
       "Date:                                          Tue, 30 Apr 2019   Prob (F-statistic):            0.00130\n",
       "Time:                                                  03:52:03   Log-Likelihood:                -44.347\n",
       "No. Observations:                                            12   AIC:                             96.69\n",
       "Df Residuals:                                                 8   BIC:                             98.63\n",
       "Df Model:                                                     3                                         \n",
       "Covariance Type:                                      nonrobust                                         \n",
       "=================================================================================================\n",
       "                                    coef    std err          t      P>|t|      [0.025      0.975]\n",
       "-------------------------------------------------------------------------------------------------\n",
       "const                           154.2055     16.152      9.547      0.000     116.958     191.452\n",
       "%age adult literacy              -0.6772      0.229     -2.961      0.018      -1.205      -0.150\n",
       "%age finishing primary school    -0.5982      0.276     -2.169      0.062      -1.234       0.038\n",
       "GNP per capita                   -0.0029      0.001     -2.271      0.053      -0.006    4.52e-05\n",
       "==============================================================================\n",
       "Omnibus:                        0.686   Durbin-Watson:                   1.732\n",
       "Prob(Omnibus):                  0.710   Jarque-Bera (JB):                0.409\n",
       "Skew:                           0.409   Prob(JB):                        0.815\n",
       "Kurtosis:                       2.613   Cond. No.                     2.12e+04\n",
       "==============================================================================\n",
       "\n",
       "Warnings:\n",
       "[1] Standard Errors assume that the covariance matrix of the errors is correctly specified.\n",
       "[2] The condition number is large, 2.12e+04. This might indicate that there are\n",
       "strong multicollinearity or other numerical problems.\n",
       "\"\"\""
      ]
     },
     "execution_count": 6,
     "metadata": {},
     "output_type": "execute_result"
    }
   ],
   "source": [
    "X_3=sm.add_constant(X_3)\n",
    "model_3=sm.OLS(y_3, X_3).fit()\n",
    "model_3.summary()"
   ]
  },
  {
   "cell_type": "code",
   "execution_count": 7,
   "metadata": {},
   "outputs": [
    {
     "name": "stdout",
     "output_type": "stream",
     "text": [
      "Dataset: \t 12\n",
      "X: \t 12\n",
      "1. Normality Test:  Jarque-Bera Test\n",
      "-----------------------------------------------\n",
      "Good\n",
      "Reason: Residual Normally distributed\n",
      "-----------------------------------------------\n",
      "\n",
      "\n",
      "2. Linearity Test:  Rainbow Test\n",
      "-----------------------------------------------\n",
      "Good\n",
      "Reason: Data have linear relationship\n",
      "-----------------------------------------------\n",
      "\n",
      "\n",
      "3. Heteroscedasticity Test:  Breusch-Pagan Test\n",
      "-----------------------------------------------\n",
      "Good\n",
      "Reason: Data have same variance accross\n",
      "-----------------------------------------------\n",
      "\n",
      "\n",
      "4. Autocorrelation Test:  Breusch Godfrey Test\n",
      "-----------------------------------------------\n",
      "Good\n",
      "Reason: Data are not related to themself:1 lag\n",
      "-----------------------------------------------\n",
      "\n",
      "\n",
      "5. Sum of residuals == 0\n",
      "-----------------------------------------------\n",
      "Good\n",
      "Reason: Sum of residuals = 0\n",
      "-----------------------------------------------\n",
      "\n",
      "\n",
      "6. Checking outliers:\n",
      "-----------------------------------------------\n",
      "Mode selected to remove Outliers: False\n",
      "Not Good: We have  2  Outliers\n",
      "Rows to remove: [3, 8]\n"
     ]
    },
    {
     "data": {
      "image/png": "[encoded data removed]",
      "text/plain": [
       "<Figure size 432x288 with 1 Axes>"
      ]
     },
     "metadata": {
      "needs_background": "light"
     },
     "output_type": "display_data"
    },
    {
     "name": "stdout",
     "output_type": "stream",
     "text": [
      "-----------------------------------------------\n",
      "\n",
      "\n",
      "\n",
      "7. Checking multicolinearity\n",
      "-----------------------------------------------\n"
     ]
    },
    {
     "data": {
      "text/plain": [
       "<Figure size 432x288 with 0 Axes>"
      ]
     },
     "metadata": {},
     "output_type": "display_data"
    },
    {
     "data": {
      "image/png": "[encoded data removed]",
      "text/plain": [
       "<Figure size 864x576 with 2 Axes>"
      ]
     },
     "metadata": {
      "needs_background": "light"
     },
     "output_type": "display_data"
    },
    {
     "name": "stdout",
     "output_type": "stream",
     "text": [
      "-----------------------------------------------\n"
     ]
    },
    {
     "data": {
      "text/plain": [
       "<Figure size 432x288 with 0 Axes>"
      ]
     },
     "metadata": {},
     "output_type": "display_data"
    }
   ],
   "source": [
    "ols_diag(cn,X_3,model_3)"
   ]
  },
  {
   "cell_type": "markdown",
   "metadata": {},
   "source": [
    "#### Ans 3 and Conclusion \n",
    "\n",
    "* From above data we see that we do not have any outliers in our data.\n",
    "* We also see that \"%age adult literacy\" is the only sigificant parameter affecting the infant Mortality with negative coefficient.\n",
    "* Every country must hence target to increase Adult Litracy Rate to decreases Infant Mortality rate.\n",
    "* We do not find any outliers in this data.\n"
   ]
  }
 ],
 "metadata": {
  "kernelspec": {
   "display_name": "Python 3",
   "language": "python",
   "name": "python3"
  },
  "language_info": {
   "codemirror_mode": {
    "name": "ipython",
    "version": 3
   },
   "file_extension": ".py",
   "mimetype": "text/x-python",
   "name": "python",
   "nbconvert_exporter": "python",
   "pygments_lexer": "ipython3",
   "version": "3.6.7"
  }
 },
 "nbformat": 4,
 "nbformat_minor": 2
}
