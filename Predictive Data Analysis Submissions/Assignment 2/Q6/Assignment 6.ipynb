{
 "cells": [
  {
   "cell_type": "code",
   "execution_count": 1,
   "metadata": {},
   "outputs": [
    {
     "name": "stdout",
     "output_type": "stream",
     "text": [
      "Baseball96.xlsx  Countryregion.xlsx  Grocery.xlsx  USmacrodata.xls\r\n",
      "Cardata.xlsx\t Fizzy.xlsx\t     Oreos.xlsx\r\n"
     ]
    }
   ],
   "source": [
    "# %load ./import.py\n",
    "import pandas as pd\n",
    "import numpy as np\n",
    "import statsmodels.api as sm\n",
    "import seaborn as sns\n",
    "%matplotlib inline\n",
    "from sklearn.linear_model import LinearRegression\n",
    "!ls ./Data"
   ]
  },
  {
   "cell_type": "code",
   "execution_count": 2,
   "metadata": {},
   "outputs": [],
   "source": [
    "from ols_diag import ols_diag"
   ]
  },
  {
   "cell_type": "markdown",
   "metadata": {},
   "source": [
    "### 6.       The file Oreos.xlsx gives daily sales of Oreos at a supermarket and whether Oreos were placed 7” from the floor, 6” from the floor, or 5” from the floor. How does shelf position influence Oreo sales?\n"
   ]
  },
  {
   "cell_type": "code",
   "execution_count": 3,
   "metadata": {},
   "outputs": [
    {
     "data": {
      "text/html": [
       "<div>\n",
       "<style scoped>\n",
       "    .dataframe tbody tr th:only-of-type {\n",
       "        vertical-align: middle;\n",
       "    }\n",
       "\n",
       "    .dataframe tbody tr th {\n",
       "        vertical-align: top;\n",
       "    }\n",
       "\n",
       "    .dataframe thead th {\n",
       "        text-align: right;\n",
       "    }\n",
       "</style>\n",
       "<table border=\"1\" class=\"dataframe\">\n",
       "  <thead>\n",
       "    <tr style=\"text-align: right;\">\n",
       "      <th></th>\n",
       "      <th>Observation</th>\n",
       "      <th>Height in feet</th>\n",
       "      <th>Sales</th>\n",
       "    </tr>\n",
       "  </thead>\n",
       "  <tbody>\n",
       "    <tr>\n",
       "      <th>0</th>\n",
       "      <td>1</td>\n",
       "      <td>5</td>\n",
       "      <td>28</td>\n",
       "    </tr>\n",
       "    <tr>\n",
       "      <th>1</th>\n",
       "      <td>2</td>\n",
       "      <td>6</td>\n",
       "      <td>61</td>\n",
       "    </tr>\n",
       "    <tr>\n",
       "      <th>2</th>\n",
       "      <td>3</td>\n",
       "      <td>7</td>\n",
       "      <td>40</td>\n",
       "    </tr>\n",
       "    <tr>\n",
       "      <th>3</th>\n",
       "      <td>4</td>\n",
       "      <td>5</td>\n",
       "      <td>29</td>\n",
       "    </tr>\n",
       "    <tr>\n",
       "      <th>4</th>\n",
       "      <td>5</td>\n",
       "      <td>5</td>\n",
       "      <td>36</td>\n",
       "    </tr>\n",
       "  </tbody>\n",
       "</table>\n",
       "</div>"
      ],
      "text/plain": [
       "   Observation  Height in feet  Sales\n",
       "0            1               5     28\n",
       "1            2               6     61\n",
       "2            3               7     40\n",
       "3            4               5     29\n",
       "4            5               5     36"
      ]
     },
     "execution_count": 3,
     "metadata": {},
     "output_type": "execute_result"
    }
   ],
   "source": [
    "oo=pd.read_excel(\"./Data/Oreos.xlsx\")\n",
    "oo.head()"
   ]
  },
  {
   "cell_type": "code",
   "execution_count": 4,
   "metadata": {},
   "outputs": [
    {
     "data": {
      "text/html": [
       "<div>\n",
       "<style scoped>\n",
       "    .dataframe tbody tr th:only-of-type {\n",
       "        vertical-align: middle;\n",
       "    }\n",
       "\n",
       "    .dataframe tbody tr th {\n",
       "        vertical-align: top;\n",
       "    }\n",
       "\n",
       "    .dataframe thead th {\n",
       "        text-align: right;\n",
       "    }\n",
       "</style>\n",
       "<table border=\"1\" class=\"dataframe\">\n",
       "  <thead>\n",
       "    <tr style=\"text-align: right;\">\n",
       "      <th></th>\n",
       "      <th>Observation</th>\n",
       "      <th>Sales</th>\n",
       "      <th>Height in feet_5</th>\n",
       "      <th>Height in feet_6</th>\n",
       "      <th>Height in feet_7</th>\n",
       "    </tr>\n",
       "  </thead>\n",
       "  <tbody>\n",
       "    <tr>\n",
       "      <th>0</th>\n",
       "      <td>1</td>\n",
       "      <td>28</td>\n",
       "      <td>1</td>\n",
       "      <td>0</td>\n",
       "      <td>0</td>\n",
       "    </tr>\n",
       "    <tr>\n",
       "      <th>1</th>\n",
       "      <td>2</td>\n",
       "      <td>61</td>\n",
       "      <td>0</td>\n",
       "      <td>1</td>\n",
       "      <td>0</td>\n",
       "    </tr>\n",
       "    <tr>\n",
       "      <th>2</th>\n",
       "      <td>3</td>\n",
       "      <td>40</td>\n",
       "      <td>0</td>\n",
       "      <td>0</td>\n",
       "      <td>1</td>\n",
       "    </tr>\n",
       "    <tr>\n",
       "      <th>3</th>\n",
       "      <td>4</td>\n",
       "      <td>29</td>\n",
       "      <td>1</td>\n",
       "      <td>0</td>\n",
       "      <td>0</td>\n",
       "    </tr>\n",
       "    <tr>\n",
       "      <th>4</th>\n",
       "      <td>5</td>\n",
       "      <td>36</td>\n",
       "      <td>1</td>\n",
       "      <td>0</td>\n",
       "      <td>0</td>\n",
       "    </tr>\n",
       "  </tbody>\n",
       "</table>\n",
       "</div>"
      ],
      "text/plain": [
       "   Observation  Sales  Height in feet_5  Height in feet_6  Height in feet_7\n",
       "0            1     28                 1                 0                 0\n",
       "1            2     61                 0                 1                 0\n",
       "2            3     40                 0                 0                 1\n",
       "3            4     29                 1                 0                 0\n",
       "4            5     36                 1                 0                 0"
      ]
     },
     "execution_count": 4,
     "metadata": {},
     "output_type": "execute_result"
    }
   ],
   "source": [
    "oo_dum_col=['Height in feet']\n",
    "ood=pd.get_dummies(oo, prefix_sep='_', dummy_na=False, columns=oo_dum_col)\n",
    "ood.head()"
   ]
  },
  {
   "cell_type": "code",
   "execution_count": 5,
   "metadata": {},
   "outputs": [
    {
     "data": {
      "text/plain": [
       "Index(['Observation', 'Sales', 'Height in feet_5', 'Height in feet_6',\n",
       "       'Height in feet_7'],\n",
       "      dtype='object')"
      ]
     },
     "execution_count": 5,
     "metadata": {},
     "output_type": "execute_result"
    }
   ],
   "source": [
    "ood.columns"
   ]
  },
  {
   "cell_type": "code",
   "execution_count": 6,
   "metadata": {},
   "outputs": [],
   "source": [
    "y_6=ood[\"Sales\"]\n",
    "X_6=ood[['Height in feet_5','Height in feet_6', 'Height in feet_7']]"
   ]
  },
  {
   "cell_type": "markdown",
   "metadata": {},
   "source": [
    "#### OLS Modeling"
   ]
  },
  {
   "cell_type": "code",
   "execution_count": 7,
   "metadata": {},
   "outputs": [
    {
     "name": "stderr",
     "output_type": "stream",
     "text": [
      "/home/boo/anaconda3/envs/tf_gpu/lib/python3.6/site-packages/scipy/stats/stats.py:1394: UserWarning: kurtosistest only valid for n>=20 ... continuing anyway, n=12\n",
      "  \"anyway, n=%i\" % int(n))\n"
     ]
    },
    {
     "data": {
      "text/html": [
       "<table class=\"simpletable\">\n",
       "<caption>OLS Regression Results</caption>\n",
       "<tr>\n",
       "  <th>Dep. Variable:</th>          <td>Sales</td>      <th>  R-squared:         </th> <td>   0.861</td>\n",
       "</tr>\n",
       "<tr>\n",
       "  <th>Model:</th>                   <td>OLS</td>       <th>  Adj. R-squared:    </th> <td>   0.831</td>\n",
       "</tr>\n",
       "<tr>\n",
       "  <th>Method:</th>             <td>Least Squares</td>  <th>  F-statistic:       </th> <td>   27.99</td>\n",
       "</tr>\n",
       "<tr>\n",
       "  <th>Date:</th>             <td>Tue, 30 Apr 2019</td> <th>  Prob (F-statistic):</th> <td>0.000137</td>\n",
       "</tr>\n",
       "<tr>\n",
       "  <th>Time:</th>                 <td>03:52:57</td>     <th>  Log-Likelihood:    </th> <td> -33.358</td>\n",
       "</tr>\n",
       "<tr>\n",
       "  <th>No. Observations:</th>      <td>    12</td>      <th>  AIC:               </th> <td>   72.72</td>\n",
       "</tr>\n",
       "<tr>\n",
       "  <th>Df Residuals:</th>          <td>     9</td>      <th>  BIC:               </th> <td>   74.17</td>\n",
       "</tr>\n",
       "<tr>\n",
       "  <th>Df Model:</th>              <td>     2</td>      <th>                     </th>     <td> </td>   \n",
       "</tr>\n",
       "<tr>\n",
       "  <th>Covariance Type:</th>      <td>nonrobust</td>    <th>                     </th>     <td> </td>   \n",
       "</tr>\n",
       "</table>\n",
       "<table class=\"simpletable\">\n",
       "<tr>\n",
       "          <td></td>            <th>coef</th>     <th>std err</th>      <th>t</th>      <th>P>|t|</th>  <th>[0.025</th>    <th>0.975]</th>  \n",
       "</tr>\n",
       "<tr>\n",
       "  <th>const</th>            <td>   30.6250</td> <td>    0.975</td> <td>   31.412</td> <td> 0.000</td> <td>   28.420</td> <td>   32.830</td>\n",
       "</tr>\n",
       "<tr>\n",
       "  <th>Height in feet_5</th> <td>    0.8750</td> <td>    1.867</td> <td>    0.469</td> <td> 0.650</td> <td>   -3.348</td> <td>    5.098</td>\n",
       "</tr>\n",
       "<tr>\n",
       "  <th>Height in feet_6</th> <td>   23.6250</td> <td>    1.867</td> <td>   12.655</td> <td> 0.000</td> <td>   19.402</td> <td>   27.848</td>\n",
       "</tr>\n",
       "<tr>\n",
       "  <th>Height in feet_7</th> <td>    6.1250</td> <td>    1.867</td> <td>    3.281</td> <td> 0.010</td> <td>    1.902</td> <td>   10.348</td>\n",
       "</tr>\n",
       "</table>\n",
       "<table class=\"simpletable\">\n",
       "<tr>\n",
       "  <th>Omnibus:</th>       <td> 0.597</td> <th>  Durbin-Watson:     </th> <td>   2.104</td>\n",
       "</tr>\n",
       "<tr>\n",
       "  <th>Prob(Omnibus):</th> <td> 0.742</td> <th>  Jarque-Bera (JB):  </th> <td>   0.549</td>\n",
       "</tr>\n",
       "<tr>\n",
       "  <th>Skew:</th>          <td>-0.008</td> <th>  Prob(JB):          </th> <td>   0.760</td>\n",
       "</tr>\n",
       "<tr>\n",
       "  <th>Kurtosis:</th>      <td> 1.952</td> <th>  Cond. No.          </th> <td>1.21e+16</td>\n",
       "</tr>\n",
       "</table><br/><br/>Warnings:<br/>[1] Standard Errors assume that the covariance matrix of the errors is correctly specified.<br/>[2] The smallest eigenvalue is 1.1e-31. This might indicate that there are<br/>strong multicollinearity problems or that the design matrix is singular."
      ],
      "text/plain": [
       "<class 'statsmodels.iolib.summary.Summary'>\n",
       "\"\"\"\n",
       "                            OLS Regression Results                            \n",
       "==============================================================================\n",
       "Dep. Variable:                  Sales   R-squared:                       0.861\n",
       "Model:                            OLS   Adj. R-squared:                  0.831\n",
       "Method:                 Least Squares   F-statistic:                     27.99\n",
       "Date:                Tue, 30 Apr 2019   Prob (F-statistic):           0.000137\n",
       "Time:                        03:52:57   Log-Likelihood:                -33.358\n",
       "No. Observations:                  12   AIC:                             72.72\n",
       "Df Residuals:                       9   BIC:                             74.17\n",
       "Df Model:                           2                                         \n",
       "Covariance Type:            nonrobust                                         \n",
       "====================================================================================\n",
       "                       coef    std err          t      P>|t|      [0.025      0.975]\n",
       "------------------------------------------------------------------------------------\n",
       "const               30.6250      0.975     31.412      0.000      28.420      32.830\n",
       "Height in feet_5     0.8750      1.867      0.469      0.650      -3.348       5.098\n",
       "Height in feet_6    23.6250      1.867     12.655      0.000      19.402      27.848\n",
       "Height in feet_7     6.1250      1.867      3.281      0.010       1.902      10.348\n",
       "==============================================================================\n",
       "Omnibus:                        0.597   Durbin-Watson:                   2.104\n",
       "Prob(Omnibus):                  0.742   Jarque-Bera (JB):                0.549\n",
       "Skew:                          -0.008   Prob(JB):                        0.760\n",
       "Kurtosis:                       1.952   Cond. No.                     1.21e+16\n",
       "==============================================================================\n",
       "\n",
       "Warnings:\n",
       "[1] Standard Errors assume that the covariance matrix of the errors is correctly specified.\n",
       "[2] The smallest eigenvalue is 1.1e-31. This might indicate that there are\n",
       "strong multicollinearity problems or that the design matrix is singular.\n",
       "\"\"\""
      ]
     },
     "execution_count": 7,
     "metadata": {},
     "output_type": "execute_result"
    }
   ],
   "source": [
    "X_6=sm.add_constant(X_6)\n",
    "model_6=sm.OLS(y_6, X_6).fit()\n",
    "model_6.summary()"
   ]
  },
  {
   "cell_type": "markdown",
   "metadata": {},
   "source": [
    "#### OLS Diagnostic test"
   ]
  },
  {
   "cell_type": "code",
   "execution_count": 8,
   "metadata": {},
   "outputs": [
    {
     "name": "stdout",
     "output_type": "stream",
     "text": [
      "Dataset: \t 12\n",
      "X: \t 12\n",
      "1. Normality Test:  Jarque-Bera Test\n",
      "-----------------------------------------------\n",
      "Good\n",
      "Reason: Residual Normally distributed\n",
      "-----------------------------------------------\n",
      "\n",
      "\n",
      "2. Linearity Test:  Rainbow Test\n",
      "-----------------------------------------------\n",
      "Good\n",
      "Reason: Data have linear relationship\n",
      "-----------------------------------------------\n",
      "\n",
      "\n",
      "3. Heteroscedasticity Test:  Breusch-Pagan Test\n",
      "-----------------------------------------------\n",
      "Good\n",
      "Reason: Data have same variance accross\n",
      "-----------------------------------------------\n",
      "\n",
      "\n",
      "4. Autocorrelation Test:  Breusch Godfrey Test\n",
      "-----------------------------------------------\n",
      "Good\n",
      "Reason: Data are not related to themself:1 lag\n",
      "-----------------------------------------------\n",
      "\n",
      "\n",
      "5. Sum of residuals == 0\n",
      "-----------------------------------------------\n",
      "Good\n",
      "Reason: Sum of residuals = 0\n",
      "-----------------------------------------------\n",
      "\n",
      "\n",
      "6. Checking outliers:\n",
      "-----------------------------------------------\n",
      "Mode selected to remove Outliers: False\n",
      "Not Good: We have  2  Outliers\n",
      "Rows to remove: [1, 11]\n"
     ]
    },
    {
     "data": {
      "image/png": "[encoded data removed]",
      "text/plain": [
       "<Figure size 432x288 with 1 Axes>"
      ]
     },
     "metadata": {
      "needs_background": "light"
     },
     "output_type": "display_data"
    },
    {
     "name": "stdout",
     "output_type": "stream",
     "text": [
      "-----------------------------------------------\n",
      "\n",
      "\n",
      "\n",
      "7. Checking multicolinearity\n",
      "-----------------------------------------------\n"
     ]
    },
    {
     "data": {
      "text/plain": [
       "<Figure size 432x288 with 0 Axes>"
      ]
     },
     "metadata": {},
     "output_type": "display_data"
    },
    {
     "data": {
      "image/png": "[encoded data removed]",
      "text/plain": [
       "<Figure size 864x576 with 2 Axes>"
      ]
     },
     "metadata": {
      "needs_background": "light"
     },
     "output_type": "display_data"
    },
    {
     "name": "stdout",
     "output_type": "stream",
     "text": [
      "-----------------------------------------------\n"
     ]
    },
    {
     "data": {
      "text/plain": [
       "<Figure size 432x288 with 0 Axes>"
      ]
     },
     "metadata": {},
     "output_type": "display_data"
    }
   ],
   "source": [
    "ols_diag(ood,X_6,model_6)"
   ]
  },
  {
   "cell_type": "markdown",
   "metadata": {},
   "source": [
    "#### Ans 6 and Conclusion\n",
    "1. All our diagonetic test are good.\n",
    "2. It is recommeded to keep product in 6\" or 7\" inch from floor.\n",
    "3. It seems that people do not like bending heads to find product and retailers must not have lower shelf or display purpose, as it is waste of money. \n"
   ]
  },
  {
   "cell_type": "code",
   "execution_count": null,
   "metadata": {},
   "outputs": [],
   "source": []
  }
 ],
 "metadata": {
  "kernelspec": {
   "display_name": "Python 3",
   "language": "python",
   "name": "python3"
  },
  "language_info": {
   "codemirror_mode": {
    "name": "ipython",
    "version": 3
   },
   "file_extension": ".py",
   "mimetype": "text/x-python",
   "name": "python",
   "nbconvert_exporter": "python",
   "pygments_lexer": "ipython3",
   "version": "3.6.7"
  }
 },
 "nbformat": 4,
 "nbformat_minor": 2
}
