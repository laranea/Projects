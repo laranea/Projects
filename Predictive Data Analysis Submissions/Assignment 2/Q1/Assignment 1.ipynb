{
 "cells": [
  {
   "cell_type": "code",
   "execution_count": 13,
   "metadata": {},
   "outputs": [
    {
     "name": "stdout",
     "output_type": "stream",
     "text": [
      "Baseball96.xlsx  Countryregion.xlsx  Grocery.xlsx  USmacrodata.xls\r\n",
      "Cardata.xlsx\t Fizzy.xlsx\t     Oreos.xlsx\r\n"
     ]
    }
   ],
   "source": [
    "# %load ./import.py\n",
    "import pandas as pd\n",
    "import numpy as np\n",
    "import statsmodels.api as sm\n",
    "import seaborn as sns\n",
    "%matplotlib inline\n",
    "from sklearn.linear_model import LinearRegression\n",
    "!ls ./Data\n"
   ]
  },
  {
   "cell_type": "code",
   "execution_count": 14,
   "metadata": {},
   "outputs": [
    {
     "name": "stdout",
     "output_type": "stream",
     "text": [
      "Baseball96.xlsx  Countryregion.xlsx  Grocery.xlsx  USmacrodata.xls\r\n",
      "Cardata.xlsx\t Fizzy.xlsx\t     Oreos.xlsx\r\n"
     ]
    }
   ],
   "source": [
    "!ls Data"
   ]
  },
  {
   "cell_type": "markdown",
   "metadata": {},
   "source": [
    "#### 1.   Fizzy Drugs wants to optimize the yield from an important chemical process. The company thinks that the number of pounds produced each time the process runs depends on the size of the container used, the pressure, and the temperature. The scientists involved believe the effect to change one variable might depend on the values of other variables. The size of the process container must be between 1.3 and 1.5 cubic meters; pressure must be between 4 and 4.5 mm; and temperature must be between 22 and 30 degrees Celsius. The scientists patiently set up experiments at the lower and upper levels of the three control variables and obtain the data shown in the fi le Fizzy.xlsx.\n",
    "\n",
    "a. Determine the relationship between yield, size, temperature, and pressure.\n",
    "\n",
    "b. Discuss the interactions between pressure, size, and temperature.\n",
    "\n",
    "c. What settings for temperature, size, and pressure would you recommend?"
   ]
  },
  {
   "cell_type": "code",
   "execution_count": 15,
   "metadata": {},
   "outputs": [
    {
     "data": {
      "text/html": [
       "<div>\n",
       "<style scoped>\n",
       "    .dataframe tbody tr th:only-of-type {\n",
       "        vertical-align: middle;\n",
       "    }\n",
       "\n",
       "    .dataframe tbody tr th {\n",
       "        vertical-align: top;\n",
       "    }\n",
       "\n",
       "    .dataframe thead th {\n",
       "        text-align: right;\n",
       "    }\n",
       "</style>\n",
       "<table border=\"1\" class=\"dataframe\">\n",
       "  <thead>\n",
       "    <tr style=\"text-align: right;\">\n",
       "      <th></th>\n",
       "      <th>Yield</th>\n",
       "      <th>Size</th>\n",
       "      <th>Pressure</th>\n",
       "      <th>Temperature</th>\n",
       "      <th>S*P</th>\n",
       "      <th>S*T</th>\n",
       "      <th>P*T</th>\n",
       "    </tr>\n",
       "  </thead>\n",
       "  <tbody>\n",
       "    <tr>\n",
       "      <th>0</th>\n",
       "      <td>1550</td>\n",
       "      <td>1.3</td>\n",
       "      <td>4.0</td>\n",
       "      <td>22</td>\n",
       "      <td>5.20</td>\n",
       "      <td>28.6</td>\n",
       "      <td>88</td>\n",
       "    </tr>\n",
       "    <tr>\n",
       "      <th>1</th>\n",
       "      <td>1925</td>\n",
       "      <td>1.5</td>\n",
       "      <td>4.0</td>\n",
       "      <td>22</td>\n",
       "      <td>6.00</td>\n",
       "      <td>33.0</td>\n",
       "      <td>88</td>\n",
       "    </tr>\n",
       "    <tr>\n",
       "      <th>2</th>\n",
       "      <td>2150</td>\n",
       "      <td>1.3</td>\n",
       "      <td>4.5</td>\n",
       "      <td>22</td>\n",
       "      <td>5.85</td>\n",
       "      <td>28.6</td>\n",
       "      <td>99</td>\n",
       "    </tr>\n",
       "    <tr>\n",
       "      <th>3</th>\n",
       "      <td>2350</td>\n",
       "      <td>1.5</td>\n",
       "      <td>4.5</td>\n",
       "      <td>22</td>\n",
       "      <td>6.75</td>\n",
       "      <td>33.0</td>\n",
       "      <td>99</td>\n",
       "    </tr>\n",
       "    <tr>\n",
       "      <th>4</th>\n",
       "      <td>1525</td>\n",
       "      <td>1.3</td>\n",
       "      <td>4.0</td>\n",
       "      <td>30</td>\n",
       "      <td>5.20</td>\n",
       "      <td>39.0</td>\n",
       "      <td>120</td>\n",
       "    </tr>\n",
       "  </tbody>\n",
       "</table>\n",
       "</div>"
      ],
      "text/plain": [
       "   Yield  Size  Pressure  Temperature   S*P   S*T  P*T\n",
       "0   1550   1.3       4.0           22  5.20  28.6   88\n",
       "1   1925   1.5       4.0           22  6.00  33.0   88\n",
       "2   2150   1.3       4.5           22  5.85  28.6   99\n",
       "3   2350   1.5       4.5           22  6.75  33.0   99\n",
       "4   1525   1.3       4.0           30  5.20  39.0  120"
      ]
     },
     "execution_count": 15,
     "metadata": {},
     "output_type": "execute_result"
    }
   ],
   "source": [
    "fi=pd.read_excel(\"Data/Fizzy.xlsx\",header=0)\n",
    "fi.head() "
   ]
  },
  {
   "cell_type": "code",
   "execution_count": 16,
   "metadata": {},
   "outputs": [
    {
     "name": "stdout",
     "output_type": "stream",
     "text": [
      "columns Index(['Yield', 'Size', 'Pressure', 'Temperature', 'S*P', 'S*T', 'P*T'], dtype='object')\n"
     ]
    }
   ],
   "source": [
    "print(\"columns\",fi.columns)"
   ]
  },
  {
   "cell_type": "markdown",
   "metadata": {},
   "source": [
    "#### a. Determine the relationship between yield, size, temperature, and pressure."
   ]
  },
  {
   "cell_type": "markdown",
   "metadata": {},
   "source": [
    "Ans a.\n",
    "* Spliting data set"
   ]
  },
  {
   "cell_type": "code",
   "execution_count": 17,
   "metadata": {},
   "outputs": [],
   "source": [
    "y_1=fi[['Yield']]\n",
    "X_1=fi[['Size', 'Pressure', 'Temperature']]"
   ]
  },
  {
   "cell_type": "markdown",
   "metadata": {},
   "source": [
    "* Regression without interaction"
   ]
  },
  {
   "cell_type": "code",
   "execution_count": 18,
   "metadata": {},
   "outputs": [
    {
     "name": "stderr",
     "output_type": "stream",
     "text": [
      "/home/boo/anaconda3/envs/tf_gpu/lib/python3.6/site-packages/scipy/stats/stats.py:1394: UserWarning: kurtosistest only valid for n>=20 ... continuing anyway, n=16\n",
      "  \"anyway, n=%i\" % int(n))\n"
     ]
    },
    {
     "data": {
      "text/html": [
       "<table class=\"simpletable\">\n",
       "<caption>OLS Regression Results</caption>\n",
       "<tr>\n",
       "  <th>Dep. Variable:</th>          <td>Yield</td>      <th>  R-squared:         </th> <td>   0.954</td>\n",
       "</tr>\n",
       "<tr>\n",
       "  <th>Model:</th>                   <td>OLS</td>       <th>  Adj. R-squared:    </th> <td>   0.942</td>\n",
       "</tr>\n",
       "<tr>\n",
       "  <th>Method:</th>             <td>Least Squares</td>  <th>  F-statistic:       </th> <td>   82.66</td>\n",
       "</tr>\n",
       "<tr>\n",
       "  <th>Date:</th>             <td>Tue, 30 Apr 2019</td> <th>  Prob (F-statistic):</th> <td>2.78e-08</td>\n",
       "</tr>\n",
       "<tr>\n",
       "  <th>Time:</th>                 <td>03:51:29</td>     <th>  Log-Likelihood:    </th> <td> -88.946</td>\n",
       "</tr>\n",
       "<tr>\n",
       "  <th>No. Observations:</th>      <td>    16</td>      <th>  AIC:               </th> <td>   185.9</td>\n",
       "</tr>\n",
       "<tr>\n",
       "  <th>Df Residuals:</th>          <td>    12</td>      <th>  BIC:               </th> <td>   189.0</td>\n",
       "</tr>\n",
       "<tr>\n",
       "  <th>Df Model:</th>              <td>     3</td>      <th>                     </th>     <td> </td>   \n",
       "</tr>\n",
       "<tr>\n",
       "  <th>Covariance Type:</th>      <td>nonrobust</td>    <th>                     </th>     <td> </td>   \n",
       "</tr>\n",
       "</table>\n",
       "<table class=\"simpletable\">\n",
       "<tr>\n",
       "       <td></td>          <th>coef</th>     <th>std err</th>      <th>t</th>      <th>P>|t|</th>  <th>[0.025</th>    <th>0.975]</th>  \n",
       "</tr>\n",
       "<tr>\n",
       "  <th>const</th>       <td>-3811.4062</td> <td>  416.765</td> <td>   -9.145</td> <td> 0.000</td> <td>-4719.459</td> <td>-2903.353</td>\n",
       "</tr>\n",
       "<tr>\n",
       "  <th>Size</th>        <td> 1084.3750</td> <td>  181.331</td> <td>    5.980</td> <td> 0.000</td> <td>  689.289</td> <td> 1479.461</td>\n",
       "</tr>\n",
       "<tr>\n",
       "  <th>Pressure</th>    <td> 1048.7500</td> <td>   72.532</td> <td>   14.459</td> <td> 0.000</td> <td>  890.716</td> <td> 1206.784</td>\n",
       "</tr>\n",
       "<tr>\n",
       "  <th>Temperature</th> <td>   -8.0469</td> <td>    4.533</td> <td>   -1.775</td> <td> 0.101</td> <td>  -17.924</td> <td>    1.830</td>\n",
       "</tr>\n",
       "</table>\n",
       "<table class=\"simpletable\">\n",
       "<tr>\n",
       "  <th>Omnibus:</th>       <td> 0.998</td> <th>  Durbin-Watson:     </th> <td>   2.350</td>\n",
       "</tr>\n",
       "<tr>\n",
       "  <th>Prob(Omnibus):</th> <td> 0.607</td> <th>  Jarque-Bera (JB):  </th> <td>   0.726</td>\n",
       "</tr>\n",
       "<tr>\n",
       "  <th>Skew:</th>          <td> 0.080</td> <th>  Prob(JB):          </th> <td>   0.695</td>\n",
       "</tr>\n",
       "<tr>\n",
       "  <th>Kurtosis:</th>      <td> 1.968</td> <th>  Cond. No.          </th> <td>    642.</td>\n",
       "</tr>\n",
       "</table><br/><br/>Warnings:<br/>[1] Standard Errors assume that the covariance matrix of the errors is correctly specified."
      ],
      "text/plain": [
       "<class 'statsmodels.iolib.summary.Summary'>\n",
       "\"\"\"\n",
       "                            OLS Regression Results                            \n",
       "==============================================================================\n",
       "Dep. Variable:                  Yield   R-squared:                       0.954\n",
       "Model:                            OLS   Adj. R-squared:                  0.942\n",
       "Method:                 Least Squares   F-statistic:                     82.66\n",
       "Date:                Tue, 30 Apr 2019   Prob (F-statistic):           2.78e-08\n",
       "Time:                        03:51:29   Log-Likelihood:                -88.946\n",
       "No. Observations:                  16   AIC:                             185.9\n",
       "Df Residuals:                      12   BIC:                             189.0\n",
       "Df Model:                           3                                         \n",
       "Covariance Type:            nonrobust                                         \n",
       "===============================================================================\n",
       "                  coef    std err          t      P>|t|      [0.025      0.975]\n",
       "-------------------------------------------------------------------------------\n",
       "const       -3811.4062    416.765     -9.145      0.000   -4719.459   -2903.353\n",
       "Size         1084.3750    181.331      5.980      0.000     689.289    1479.461\n",
       "Pressure     1048.7500     72.532     14.459      0.000     890.716    1206.784\n",
       "Temperature    -8.0469      4.533     -1.775      0.101     -17.924       1.830\n",
       "==============================================================================\n",
       "Omnibus:                        0.998   Durbin-Watson:                   2.350\n",
       "Prob(Omnibus):                  0.607   Jarque-Bera (JB):                0.726\n",
       "Skew:                           0.080   Prob(JB):                        0.695\n",
       "Kurtosis:                       1.968   Cond. No.                         642.\n",
       "==============================================================================\n",
       "\n",
       "Warnings:\n",
       "[1] Standard Errors assume that the covariance matrix of the errors is correctly specified.\n",
       "\"\"\""
      ]
     },
     "execution_count": 18,
     "metadata": {},
     "output_type": "execute_result"
    }
   ],
   "source": [
    "X_1=sm.add_constant(X_1)\n",
    "model_1=sm.OLS(y_1,X_1).fit()\n",
    "model_1.summary()"
   ]
  },
  {
   "cell_type": "markdown",
   "metadata": {},
   "source": [
    "#### Conclusion a.\n",
    "\n",
    "* Yield is dependent on upon Pressure and Size and not related to Temprature if interaction are ignored."
   ]
  },
  {
   "cell_type": "markdown",
   "metadata": {},
   "source": [
    "####  b. Discuss the interactions between pressure, size, and temperature.\n"
   ]
  },
  {
   "cell_type": "code",
   "execution_count": 19,
   "metadata": {},
   "outputs": [
    {
     "name": "stderr",
     "output_type": "stream",
     "text": [
      "/home/boo/anaconda3/envs/tf_gpu/lib/python3.6/site-packages/scipy/stats/stats.py:1394: UserWarning: kurtosistest only valid for n>=20 ... continuing anyway, n=16\n",
      "  \"anyway, n=%i\" % int(n))\n"
     ]
    },
    {
     "data": {
      "text/html": [
       "<table class=\"simpletable\">\n",
       "<caption>OLS Regression Results</caption>\n",
       "<tr>\n",
       "  <th>Dep. Variable:</th>          <td>Yield</td>      <th>  R-squared:         </th> <td>   0.999</td>\n",
       "</tr>\n",
       "<tr>\n",
       "  <th>Model:</th>                   <td>OLS</td>       <th>  Adj. R-squared:    </th> <td>   0.998</td>\n",
       "</tr>\n",
       "<tr>\n",
       "  <th>Method:</th>             <td>Least Squares</td>  <th>  F-statistic:       </th> <td>   1063.</td>\n",
       "</tr>\n",
       "<tr>\n",
       "  <th>Date:</th>             <td>Tue, 30 Apr 2019</td> <th>  Prob (F-statistic):</th> <td>2.63e-12</td>\n",
       "</tr>\n",
       "<tr>\n",
       "  <th>Time:</th>                 <td>03:51:29</td>     <th>  Log-Likelihood:    </th> <td> -61.030</td>\n",
       "</tr>\n",
       "<tr>\n",
       "  <th>No. Observations:</th>      <td>    16</td>      <th>  AIC:               </th> <td>   136.1</td>\n",
       "</tr>\n",
       "<tr>\n",
       "  <th>Df Residuals:</th>          <td>     9</td>      <th>  BIC:               </th> <td>   141.5</td>\n",
       "</tr>\n",
       "<tr>\n",
       "  <th>Df Model:</th>              <td>     6</td>      <th>                     </th>     <td> </td>   \n",
       "</tr>\n",
       "<tr>\n",
       "  <th>Covariance Type:</th>      <td>nonrobust</td>    <th>                     </th>     <td> </td>   \n",
       "</tr>\n",
       "</table>\n",
       "<table class=\"simpletable\">\n",
       "<tr>\n",
       "       <td></td>          <th>coef</th>     <th>std err</th>      <th>t</th>      <th>P>|t|</th>  <th>[0.025</th>    <th>0.975]</th>  \n",
       "</tr>\n",
       "<tr>\n",
       "  <th>const</th>       <td>-1.888e+04</td> <td> 1019.339</td> <td>  -18.525</td> <td> 0.000</td> <td>-2.12e+04</td> <td>-1.66e+04</td>\n",
       "</tr>\n",
       "<tr>\n",
       "  <th>Size</th>        <td> 1.197e+04</td> <td>  666.719</td> <td>   17.959</td> <td> 0.000</td> <td> 1.05e+04</td> <td> 1.35e+04</td>\n",
       "</tr>\n",
       "<tr>\n",
       "  <th>Pressure</th>    <td> 3825.6250</td> <td>  226.306</td> <td>   16.905</td> <td> 0.000</td> <td> 3313.685</td> <td> 4337.565</td>\n",
       "</tr>\n",
       "<tr>\n",
       "  <th>Temperature</th> <td>  111.0938</td> <td>   20.159</td> <td>    5.511</td> <td> 0.000</td> <td>   65.491</td> <td>  156.697</td>\n",
       "</tr>\n",
       "<tr>\n",
       "  <th>S*P</th>         <td>-2012.5000</td> <td>  146.309</td> <td>  -13.755</td> <td> 0.000</td> <td>-2343.473</td> <td>-1681.527</td>\n",
       "</tr>\n",
       "<tr>\n",
       "  <th>S*T</th>         <td>  -89.8438</td> <td>    9.144</td> <td>   -9.825</td> <td> 0.000</td> <td> -110.530</td> <td>  -69.158</td>\n",
       "</tr>\n",
       "<tr>\n",
       "  <th>P*T</th>         <td>    1.5625</td> <td>    3.658</td> <td>    0.427</td> <td> 0.679</td> <td>   -6.712</td> <td>    9.837</td>\n",
       "</tr>\n",
       "</table>\n",
       "<table class=\"simpletable\">\n",
       "<tr>\n",
       "  <th>Omnibus:</th>       <td> 0.280</td> <th>  Durbin-Watson:     </th> <td>   1.827</td>\n",
       "</tr>\n",
       "<tr>\n",
       "  <th>Prob(Omnibus):</th> <td> 0.870</td> <th>  Jarque-Bera (JB):  </th> <td>   0.444</td>\n",
       "</tr>\n",
       "<tr>\n",
       "  <th>Skew:</th>          <td> 0.045</td> <th>  Prob(JB):          </th> <td>   0.801</td>\n",
       "</tr>\n",
       "<tr>\n",
       "  <th>Kurtosis:</th>      <td> 2.189</td> <th>  Cond. No.          </th> <td>4.04e+04</td>\n",
       "</tr>\n",
       "</table><br/><br/>Warnings:<br/>[1] Standard Errors assume that the covariance matrix of the errors is correctly specified.<br/>[2] The condition number is large, 4.04e+04. This might indicate that there are<br/>strong multicollinearity or other numerical problems."
      ],
      "text/plain": [
       "<class 'statsmodels.iolib.summary.Summary'>\n",
       "\"\"\"\n",
       "                            OLS Regression Results                            \n",
       "==============================================================================\n",
       "Dep. Variable:                  Yield   R-squared:                       0.999\n",
       "Model:                            OLS   Adj. R-squared:                  0.998\n",
       "Method:                 Least Squares   F-statistic:                     1063.\n",
       "Date:                Tue, 30 Apr 2019   Prob (F-statistic):           2.63e-12\n",
       "Time:                        03:51:29   Log-Likelihood:                -61.030\n",
       "No. Observations:                  16   AIC:                             136.1\n",
       "Df Residuals:                       9   BIC:                             141.5\n",
       "Df Model:                           6                                         \n",
       "Covariance Type:            nonrobust                                         \n",
       "===============================================================================\n",
       "                  coef    std err          t      P>|t|      [0.025      0.975]\n",
       "-------------------------------------------------------------------------------\n",
       "const       -1.888e+04   1019.339    -18.525      0.000   -2.12e+04   -1.66e+04\n",
       "Size         1.197e+04    666.719     17.959      0.000    1.05e+04    1.35e+04\n",
       "Pressure     3825.6250    226.306     16.905      0.000    3313.685    4337.565\n",
       "Temperature   111.0938     20.159      5.511      0.000      65.491     156.697\n",
       "S*P         -2012.5000    146.309    -13.755      0.000   -2343.473   -1681.527\n",
       "S*T           -89.8438      9.144     -9.825      0.000    -110.530     -69.158\n",
       "P*T             1.5625      3.658      0.427      0.679      -6.712       9.837\n",
       "==============================================================================\n",
       "Omnibus:                        0.280   Durbin-Watson:                   1.827\n",
       "Prob(Omnibus):                  0.870   Jarque-Bera (JB):                0.444\n",
       "Skew:                           0.045   Prob(JB):                        0.801\n",
       "Kurtosis:                       2.189   Cond. No.                     4.04e+04\n",
       "==============================================================================\n",
       "\n",
       "Warnings:\n",
       "[1] Standard Errors assume that the covariance matrix of the errors is correctly specified.\n",
       "[2] The condition number is large, 4.04e+04. This might indicate that there are\n",
       "strong multicollinearity or other numerical problems.\n",
       "\"\"\""
      ]
     },
     "execution_count": 19,
     "metadata": {},
     "output_type": "execute_result"
    }
   ],
   "source": [
    "X_1b=fi[['Size', 'Pressure', 'Temperature', 'S*P', 'S*T', 'P*T']]\n",
    "X_1b=sm.add_constant(X_1b)\n",
    "model_1b=sm.OLS(y_1,X_1b).fit()\n",
    "model_1b.summary()"
   ]
  },
  {
   "cell_type": "code",
   "execution_count": 20,
   "metadata": {},
   "outputs": [
    {
     "name": "stdout",
     "output_type": "stream",
     "text": [
      "Dataset: \t 16\n",
      "X: \t 16\n",
      "1. Normality Test:  Jarque-Bera Test\n",
      "-----------------------------------------------\n",
      "Good\n",
      "Reason: Residual Normally distributed\n",
      "-----------------------------------------------\n",
      "\n",
      "\n",
      "2. Linearity Test:  Rainbow Test\n",
      "-----------------------------------------------\n",
      "Good\n",
      "Reason: Data have linear relationship\n",
      "-----------------------------------------------\n",
      "\n",
      "\n",
      "3. Heteroscedasticity Test:  Breusch-Pagan Test\n",
      "-----------------------------------------------\n",
      "Good\n",
      "Reason: Data have same variance accross\n",
      "-----------------------------------------------\n",
      "\n",
      "\n",
      "4. Autocorrelation Test:  Breusch Godfrey Test\n",
      "-----------------------------------------------\n",
      "Good\n",
      "Reason: Data are not related to themself:1 lag\n",
      "-----------------------------------------------\n",
      "\n",
      "\n",
      "5. Sum of residuals == 0\n",
      "-----------------------------------------------\n",
      "Good\n",
      "Reason: Sum of residuals = 0\n",
      "-----------------------------------------------\n",
      "\n",
      "\n",
      "6. Checking outliers:\n",
      "-----------------------------------------------\n",
      "Mode selected to remove Outliers: False\n",
      "Not Good: We have  2  Outliers\n",
      "Rows to remove: [5, 9]\n"
     ]
    },
    {
     "data": {
      "image/png": "[encoded data removed]",
      "text/plain": [
       "<Figure size 432x288 with 1 Axes>"
      ]
     },
     "metadata": {
      "needs_background": "light"
     },
     "output_type": "display_data"
    },
    {
     "name": "stdout",
     "output_type": "stream",
     "text": [
      "-----------------------------------------------\n",
      "\n",
      "\n",
      "\n",
      "7. Checking multicolinearity\n",
      "-----------------------------------------------\n"
     ]
    },
    {
     "data": {
      "text/plain": [
       "<Figure size 432x288 with 0 Axes>"
      ]
     },
     "metadata": {},
     "output_type": "display_data"
    },
    {
     "data": {
      "image/png": "[encoded data removed]",
      "text/plain": [
       "<Figure size 864x576 with 2 Axes>"
      ]
     },
     "metadata": {
      "needs_background": "light"
     },
     "output_type": "display_data"
    },
    {
     "name": "stdout",
     "output_type": "stream",
     "text": [
      "-----------------------------------------------\n"
     ]
    },
    {
     "data": {
      "text/plain": [
       "<Figure size 432x288 with 0 Axes>"
      ]
     },
     "metadata": {},
     "output_type": "display_data"
    }
   ],
   "source": [
    "from ols_diag import ols_diag\n",
    "ols_diag(fi,X_1b,model_1b)"
   ]
  },
  {
   "cell_type": "markdown",
   "metadata": {},
   "source": [
    "#### Conclusion b.\n",
    "* Pressure, Temprature, Size have positive association on Yield.\n",
    "* S*P and S*T have negative association on Yiled."
   ]
  },
  {
   "cell_type": "markdown",
   "metadata": {},
   "source": [
    "#### c. What settings for temperature, size, and pressure would you recommend?\n",
    "\n",
    "- From above summary we will recommend values in order of priority:"
   ]
  },
  {
   "cell_type": "markdown",
   "metadata": {},
   "source": [
    "1. P: Presure should be set to max value and thus P=4.5\n",
    "2. S*P: Size should be set to least value (as P is already max) and thus S= 1.3\n",
    "3. S*T: Since size is set to least hence T is also set to least, and thus T=22\n",
    "4. Putting above values is equation the Yield would be: "
   ]
  },
  {
   "cell_type": "code",
   "execution_count": 21,
   "metadata": {},
   "outputs": [
    {
     "data": {
      "text/plain": [
       "const         -18883.43750\n",
       "Size           11973.43750\n",
       "Pressure        3825.62500\n",
       "Temperature      111.09375\n",
       "S*P            -2012.50000\n",
       "S*T              -89.84375\n",
       "P*T                1.56250\n",
       "dtype: float64"
      ]
     },
     "execution_count": 21,
     "metadata": {},
     "output_type": "execute_result"
    }
   ],
   "source": [
    "model_1b.params"
   ]
  },
  {
   "cell_type": "code",
   "execution_count": 22,
   "metadata": {},
   "outputs": [
    {
     "data": {
      "text/plain": [
       "2153"
      ]
     },
     "execution_count": 22,
     "metadata": {},
     "output_type": "execute_result"
    }
   ],
   "source": [
    "P1=4.5\n",
    "S1=1.3\n",
    "T1=22\n",
    "X_1val=[1,S1, P1, T1, S1*P1, S1*T1, P1*T1]\n",
    "round(sum(model_1b.params*X_1val))"
   ]
  },
  {
   "cell_type": "markdown",
   "metadata": {},
   "source": [
    "#### Conclusion c:\n",
    "* Max Yield = 2153 Units"
   ]
  }
 ],
 "metadata": {
  "kernelspec": {
   "display_name": "Python 3",
   "language": "python",
   "name": "python3"
  },
  "language_info": {
   "codemirror_mode": {
    "name": "ipython",
    "version": 3
   },
   "file_extension": ".py",
   "mimetype": "text/x-python",
   "name": "python",
   "nbconvert_exporter": "python",
   "pygments_lexer": "ipython3",
   "version": "3.6.7"
  }
 },
 "nbformat": 4,
 "nbformat_minor": 2
}
