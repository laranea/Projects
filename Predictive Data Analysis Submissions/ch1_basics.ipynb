{
 "cells": [
  {
   "cell_type": "code",
   "execution_count": 1,
   "metadata": {},
   "outputs": [
    {
     "name": "stdout",
     "output_type": "stream",
     "text": [
      "[1] 6.718282\n"
     ]
    }
   ],
   "source": [
    "print(exp(1)+4)"
   ]
  },
  {
   "cell_type": "code",
   "execution_count": 2,
   "metadata": {},
   "outputs": [
    {
     "data": {
      "text/html": [
       "1"
      ],
      "text/latex": [
       "1"
      ],
      "text/markdown": [
       "1"
      ],
      "text/plain": [
       "[1] 1"
      ]
     },
     "metadata": {},
     "output_type": "display_data"
    }
   ],
   "source": [
    "log(exp(1))"
   ]
  },
  {
   "cell_type": "code",
   "execution_count": 3,
   "metadata": {},
   "outputs": [
    {
     "data": {
      "text/html": [
       "1.72270623229357"
      ],
      "text/latex": [
       "1.72270623229357"
      ],
      "text/markdown": [
       "1.72270623229357"
      ],
      "text/plain": [
       "[1] 1.722706"
      ]
     },
     "metadata": {},
     "output_type": "display_data"
    }
   ],
   "source": [
    "log(16, base=5)"
   ]
  },
  {
   "cell_type": "code",
   "execution_count": 4,
   "metadata": {},
   "outputs": [
    {
     "data": {
      "text/html": [
       "0.707106781186547"
      ],
      "text/latex": [
       "0.707106781186547"
      ],
      "text/markdown": [
       "0.707106781186547"
      ],
      "text/plain": [
       "[1] 0.7071068"
      ]
     },
     "metadata": {},
     "output_type": "display_data"
    }
   ],
   "source": [
    "sin(pi/4)"
   ]
  },
  {
   "cell_type": "code",
   "execution_count": 5,
   "metadata": {},
   "outputs": [
    {
     "data": {
      "text/html": [
       "1"
      ],
      "text/latex": [
       "1"
      ],
      "text/markdown": [
       "1"
      ],
      "text/plain": [
       "[1] 1"
      ]
     },
     "metadata": {},
     "output_type": "display_data"
    }
   ],
   "source": [
    "cos(0)"
   ]
  },
  {
   "cell_type": "code",
   "execution_count": 6,
   "metadata": {},
   "outputs": [
    {
     "data": {
      "text/html": [
       "0.54030230586814"
      ],
      "text/latex": [
       "0.54030230586814"
      ],
      "text/markdown": [
       "0.54030230586814"
      ],
      "text/plain": [
       "[1] 0.5403023"
      ]
     },
     "metadata": {},
     "output_type": "display_data"
    }
   ],
   "source": [
    "cos(1)"
   ]
  },
  {
   "cell_type": "code",
   "execution_count": 7,
   "metadata": {},
   "outputs": [],
   "source": [
    "?log"
   ]
  },
  {
   "cell_type": "code",
   "execution_count": 8,
   "metadata": {},
   "outputs": [],
   "source": [
    "??ggplot"
   ]
  },
  {
   "cell_type": "code",
   "execution_count": 9,
   "metadata": {},
   "outputs": [],
   "source": [
    "help(ggplot, package = \"ggplot2\")"
   ]
  },
  {
   "cell_type": "code",
   "execution_count": 10,
   "metadata": {},
   "outputs": [],
   "source": [
    "# install.packages(\"ggplot2\")"
   ]
  },
  {
   "cell_type": "code",
   "execution_count": 11,
   "metadata": {},
   "outputs": [],
   "source": [
    "library(ggplot2)"
   ]
  },
  {
   "cell_type": "code",
   "execution_count": 12,
   "metadata": {},
   "outputs": [
    {
     "data": {
      "text/html": [
       "4"
      ],
      "text/latex": [
       "4"
      ],
      "text/markdown": [
       "4"
      ],
      "text/plain": [
       "[1] 4"
      ]
     },
     "metadata": {},
     "output_type": "display_data"
    }
   ],
   "source": [
    "1+3"
   ]
  },
  {
   "cell_type": "code",
   "execution_count": 13,
   "metadata": {},
   "outputs": [],
   "source": [
    "# if(!require(\"r-devtools\")) install.packages(\"r-devtools\")\n",
    "library(devtools)"
   ]
  },
  {
   "cell_type": "code",
   "execution_count": 14,
   "metadata": {},
   "outputs": [],
   "source": [
    "# install_github(repo=\"ScPoEcon/ScPoEconometrics\")"
   ]
  },
  {
   "cell_type": "code",
   "execution_count": 15,
   "metadata": {},
   "outputs": [],
   "source": [
    "library(\"ScPoEconometrics\")"
   ]
  },
  {
   "cell_type": "markdown",
   "metadata": {},
   "source": [
    "packaageVersion(\"ScPoEconometrics\")"
   ]
  },
  {
   "cell_type": "code",
   "execution_count": 16,
   "metadata": {},
   "outputs": [],
   "source": [
    "x=factor(x=c(0,1), labels=c(\"male\", \"female\"))"
   ]
  },
  {
   "cell_type": "code",
   "execution_count": 17,
   "metadata": {},
   "outputs": [
    {
     "data": {
      "text/html": [
       "male\n",
       "<details>\n",
       "\t<summary style=display:list-item;cursor:pointer>\n",
       "\t\t<strong>Levels</strong>:\n",
       "\t</summary>\n",
       "\t<ol class=list-inline>\n",
       "\t\t<li>'male'</li>\n",
       "\t\t<li>'female'</li>\n",
       "\t</ol>\n",
       "</details>"
      ],
      "text/latex": [
       "male\n",
       "\\emph{Levels}: \\begin{enumerate*}\n",
       "\\item 'male'\n",
       "\\item 'female'\n",
       "\\end{enumerate*}\n"
      ],
      "text/markdown": [
       "male\n",
       "**Levels**: 1. 'male'\n",
       "2. 'female'\n",
       "\n",
       "\n"
      ],
      "text/plain": [
       "[1] male\n",
       "Levels: male female"
      ]
     },
     "metadata": {},
     "output_type": "display_data"
    }
   ],
   "source": [
    "x[1]"
   ]
  },
  {
   "cell_type": "code",
   "execution_count": 18,
   "metadata": {},
   "outputs": [
    {
     "data": {
      "text/html": [
       "<ol class=list-inline>\n",
       "\t<li>1.5</li>\n",
       "\t<li>1.6</li>\n",
       "\t<li>1.7</li>\n",
       "\t<li>1.8</li>\n",
       "\t<li>1.9</li>\n",
       "\t<li>2</li>\n",
       "\t<li>2.1</li>\n",
       "\t<li>2.2</li>\n",
       "\t<li>2.3</li>\n",
       "\t<li>2.4</li>\n",
       "\t<li>2.5</li>\n",
       "\t<li>2.6</li>\n",
       "\t<li>2.7</li>\n",
       "\t<li>2.8</li>\n",
       "\t<li>2.9</li>\n",
       "\t<li>3</li>\n",
       "\t<li>3.1</li>\n",
       "\t<li>3.2</li>\n",
       "\t<li>3.3</li>\n",
       "\t<li>3.4</li>\n",
       "\t<li>3.5</li>\n",
       "\t<li>3.6</li>\n",
       "\t<li>3.7</li>\n",
       "\t<li>3.8</li>\n",
       "\t<li>3.9</li>\n",
       "\t<li>4</li>\n",
       "\t<li>4.1</li>\n",
       "\t<li>4.2</li>\n",
       "</ol>\n"
      ],
      "text/latex": [
       "\\begin{enumerate*}\n",
       "\\item 1.5\n",
       "\\item 1.6\n",
       "\\item 1.7\n",
       "\\item 1.8\n",
       "\\item 1.9\n",
       "\\item 2\n",
       "\\item 2.1\n",
       "\\item 2.2\n",
       "\\item 2.3\n",
       "\\item 2.4\n",
       "\\item 2.5\n",
       "\\item 2.6\n",
       "\\item 2.7\n",
       "\\item 2.8\n",
       "\\item 2.9\n",
       "\\item 3\n",
       "\\item 3.1\n",
       "\\item 3.2\n",
       "\\item 3.3\n",
       "\\item 3.4\n",
       "\\item 3.5\n",
       "\\item 3.6\n",
       "\\item 3.7\n",
       "\\item 3.8\n",
       "\\item 3.9\n",
       "\\item 4\n",
       "\\item 4.1\n",
       "\\item 4.2\n",
       "\\end{enumerate*}\n"
      ],
      "text/markdown": [
       "1. 1.5\n",
       "2. 1.6\n",
       "3. 1.7\n",
       "4. 1.8\n",
       "5. 1.9\n",
       "6. 2\n",
       "7. 2.1\n",
       "8. 2.2\n",
       "9. 2.3\n",
       "10. 2.4\n",
       "11. 2.5\n",
       "12. 2.6\n",
       "13. 2.7\n",
       "14. 2.8\n",
       "15. 2.9\n",
       "16. 3\n",
       "17. 3.1\n",
       "18. 3.2\n",
       "19. 3.3\n",
       "20. 3.4\n",
       "21. 3.5\n",
       "22. 3.6\n",
       "23. 3.7\n",
       "24. 3.8\n",
       "25. 3.9\n",
       "26. 4\n",
       "27. 4.1\n",
       "28. 4.2\n",
       "\n",
       "\n"
      ],
      "text/plain": [
       " [1] 1.5 1.6 1.7 1.8 1.9 2.0 2.1 2.2 2.3 2.4 2.5 2.6 2.7 2.8 2.9 3.0 3.1 3.2 3.3\n",
       "[20] 3.4 3.5 3.6 3.7 3.8 3.9 4.0 4.1 4.2"
      ]
     },
     "metadata": {},
     "output_type": "display_data"
    }
   ],
   "source": [
    "seq(from=1.5, to=4.2, by=0.1)"
   ]
  },
  {
   "cell_type": "code",
   "execution_count": 19,
   "metadata": {},
   "outputs": [
    {
     "data": {
      "text/html": [
       "<ol class=list-inline>\n",
       "\t<li>1.5</li>\n",
       "\t<li>1.6</li>\n",
       "\t<li>1.7</li>\n",
       "\t<li>1.8</li>\n",
       "\t<li>1.9</li>\n",
       "\t<li>2</li>\n",
       "\t<li>2.1</li>\n",
       "\t<li>2.2</li>\n",
       "\t<li>2.3</li>\n",
       "\t<li>2.4</li>\n",
       "\t<li>2.5</li>\n",
       "\t<li>2.6</li>\n",
       "\t<li>2.7</li>\n",
       "\t<li>2.8</li>\n",
       "\t<li>2.9</li>\n",
       "\t<li>3</li>\n",
       "\t<li>3.1</li>\n",
       "\t<li>3.2</li>\n",
       "\t<li>3.3</li>\n",
       "\t<li>3.4</li>\n",
       "\t<li>3.5</li>\n",
       "\t<li>3.6</li>\n",
       "\t<li>3.7</li>\n",
       "\t<li>3.8</li>\n",
       "\t<li>3.9</li>\n",
       "\t<li>4</li>\n",
       "\t<li>4.1</li>\n",
       "\t<li>4.2</li>\n",
       "</ol>\n"
      ],
      "text/latex": [
       "\\begin{enumerate*}\n",
       "\\item 1.5\n",
       "\\item 1.6\n",
       "\\item 1.7\n",
       "\\item 1.8\n",
       "\\item 1.9\n",
       "\\item 2\n",
       "\\item 2.1\n",
       "\\item 2.2\n",
       "\\item 2.3\n",
       "\\item 2.4\n",
       "\\item 2.5\n",
       "\\item 2.6\n",
       "\\item 2.7\n",
       "\\item 2.8\n",
       "\\item 2.9\n",
       "\\item 3\n",
       "\\item 3.1\n",
       "\\item 3.2\n",
       "\\item 3.3\n",
       "\\item 3.4\n",
       "\\item 3.5\n",
       "\\item 3.6\n",
       "\\item 3.7\n",
       "\\item 3.8\n",
       "\\item 3.9\n",
       "\\item 4\n",
       "\\item 4.1\n",
       "\\item 4.2\n",
       "\\end{enumerate*}\n"
      ],
      "text/markdown": [
       "1. 1.5\n",
       "2. 1.6\n",
       "3. 1.7\n",
       "4. 1.8\n",
       "5. 1.9\n",
       "6. 2\n",
       "7. 2.1\n",
       "8. 2.2\n",
       "9. 2.3\n",
       "10. 2.4\n",
       "11. 2.5\n",
       "12. 2.6\n",
       "13. 2.7\n",
       "14. 2.8\n",
       "15. 2.9\n",
       "16. 3\n",
       "17. 3.1\n",
       "18. 3.2\n",
       "19. 3.3\n",
       "20. 3.4\n",
       "21. 3.5\n",
       "22. 3.6\n",
       "23. 3.7\n",
       "24. 3.8\n",
       "25. 3.9\n",
       "26. 4\n",
       "27. 4.1\n",
       "28. 4.2\n",
       "\n",
       "\n"
      ],
      "text/plain": [
       " [1] 1.5 1.6 1.7 1.8 1.9 2.0 2.1 2.2 2.3 2.4 2.5 2.6 2.7 2.8 2.9 3.0 3.1 3.2 3.3\n",
       "[20] 3.4 3.5 3.6 3.7 3.8 3.9 4.0 4.1 4.2"
      ]
     },
     "metadata": {},
     "output_type": "display_data"
    }
   ],
   "source": [
    "seq(1.5,4.2,0.1)"
   ]
  },
  {
   "cell_type": "code",
   "execution_count": 20,
   "metadata": {},
   "outputs": [
    {
     "data": {
      "text/html": [
       "<ol class=list-inline>\n",
       "\t<li>'A'</li>\n",
       "\t<li>'A'</li>\n",
       "\t<li>'A'</li>\n",
       "\t<li>'A'</li>\n",
       "\t<li>'A'</li>\n",
       "\t<li>'A'</li>\n",
       "\t<li>'A'</li>\n",
       "\t<li>'A'</li>\n",
       "\t<li>'A'</li>\n",
       "\t<li>'A'</li>\n",
       "</ol>\n"
      ],
      "text/latex": [
       "\\begin{enumerate*}\n",
       "\\item 'A'\n",
       "\\item 'A'\n",
       "\\item 'A'\n",
       "\\item 'A'\n",
       "\\item 'A'\n",
       "\\item 'A'\n",
       "\\item 'A'\n",
       "\\item 'A'\n",
       "\\item 'A'\n",
       "\\item 'A'\n",
       "\\end{enumerate*}\n"
      ],
      "text/markdown": [
       "1. 'A'\n",
       "2. 'A'\n",
       "3. 'A'\n",
       "4. 'A'\n",
       "5. 'A'\n",
       "6. 'A'\n",
       "7. 'A'\n",
       "8. 'A'\n",
       "9. 'A'\n",
       "10. 'A'\n",
       "\n",
       "\n"
      ],
      "text/plain": [
       " [1] \"A\" \"A\" \"A\" \"A\" \"A\" \"A\" \"A\" \"A\" \"A\" \"A\""
      ]
     },
     "metadata": {},
     "output_type": "display_data"
    }
   ],
   "source": [
    "rep(\"A\", times =10)"
   ]
  },
  {
   "cell_type": "code",
   "execution_count": 21,
   "metadata": {},
   "outputs": [
    {
     "data": {
      "text/html": [
       "<ol class=list-inline>\n",
       "\t<li>male</li>\n",
       "\t<li>female</li>\n",
       "\t<li>male</li>\n",
       "\t<li>female</li>\n",
       "\t<li>male</li>\n",
       "\t<li>female</li>\n",
       "\t<li>male</li>\n",
       "\t<li>female</li>\n",
       "\t<li>male</li>\n",
       "\t<li>female</li>\n",
       "\t<li>male</li>\n",
       "\t<li>female</li>\n",
       "\t<li>male</li>\n",
       "\t<li>female</li>\n",
       "\t<li>male</li>\n",
       "\t<li>female</li>\n",
       "\t<li>male</li>\n",
       "\t<li>female</li>\n",
       "\t<li>male</li>\n",
       "\t<li>female</li>\n",
       "</ol>\n",
       "\n",
       "<details>\n",
       "\t<summary style=display:list-item;cursor:pointer>\n",
       "\t\t<strong>Levels</strong>:\n",
       "\t</summary>\n",
       "\t<ol class=list-inline>\n",
       "\t\t<li>'male'</li>\n",
       "\t\t<li>'female'</li>\n",
       "\t</ol>\n",
       "</details>"
      ],
      "text/latex": [
       "\\begin{enumerate*}\n",
       "\\item male\n",
       "\\item female\n",
       "\\item male\n",
       "\\item female\n",
       "\\item male\n",
       "\\item female\n",
       "\\item male\n",
       "\\item female\n",
       "\\item male\n",
       "\\item female\n",
       "\\item male\n",
       "\\item female\n",
       "\\item male\n",
       "\\item female\n",
       "\\item male\n",
       "\\item female\n",
       "\\item male\n",
       "\\item female\n",
       "\\item male\n",
       "\\item female\n",
       "\\end{enumerate*}\n",
       "\n",
       "\\emph{Levels}: \\begin{enumerate*}\n",
       "\\item 'male'\n",
       "\\item 'female'\n",
       "\\end{enumerate*}\n"
      ],
      "text/markdown": [
       "1. male\n",
       "2. female\n",
       "3. male\n",
       "4. female\n",
       "5. male\n",
       "6. female\n",
       "7. male\n",
       "8. female\n",
       "9. male\n",
       "10. female\n",
       "11. male\n",
       "12. female\n",
       "13. male\n",
       "14. female\n",
       "15. male\n",
       "16. female\n",
       "17. male\n",
       "18. female\n",
       "19. male\n",
       "20. female\n",
       "\n",
       "\n",
       "\n",
       "**Levels**: 1. 'male'\n",
       "2. 'female'\n",
       "\n",
       "\n"
      ],
      "text/plain": [
       " [1] male   female male   female male   female male   female male   female\n",
       "[11] male   female male   female male   female male   female male   female\n",
       "Levels: male female"
      ]
     },
     "metadata": {},
     "output_type": "display_data"
    }
   ],
   "source": [
    "rep(x, times=10)"
   ]
  },
  {
   "cell_type": "code",
   "execution_count": 22,
   "metadata": {},
   "outputs": [
    {
     "data": {
      "text/html": [
       "<ol class=list-inline>\n",
       "\t<li>5</li>\n",
       "\t<li>6</li>\n",
       "\t<li>7</li>\n",
       "\t<li>8</li>\n",
       "\t<li>9</li>\n",
       "\t<li>10</li>\n",
       "</ol>\n"
      ],
      "text/latex": [
       "\\begin{enumerate*}\n",
       "\\item 5\n",
       "\\item 6\n",
       "\\item 7\n",
       "\\item 8\n",
       "\\item 9\n",
       "\\item 10\n",
       "\\end{enumerate*}\n"
      ],
      "text/markdown": [
       "1. 5\n",
       "2. 6\n",
       "3. 7\n",
       "4. 8\n",
       "5. 9\n",
       "6. 10\n",
       "\n",
       "\n"
      ],
      "text/plain": [
       "[1]  5  6  7  8  9 10"
      ]
     },
     "metadata": {},
     "output_type": "display_data"
    }
   ],
   "source": [
    "5:10"
   ]
  },
  {
   "cell_type": "code",
   "execution_count": 23,
   "metadata": {},
   "outputs": [
    {
     "data": {
      "text/html": [
       "<ol class=list-inline>\n",
       "\t<li>1</li>\n",
       "\t<li>2</li>\n",
       "\t<li>1</li>\n",
       "\t<li>3</li>\n",
       "\t<li>5</li>\n",
       "\t<li>7</li>\n",
       "\t<li>9</li>\n",
       "\t<li>1</li>\n",
       "\t<li>3</li>\n",
       "\t<li>5</li>\n",
       "\t<li>7</li>\n",
       "\t<li>9</li>\n",
       "\t<li>1</li>\n",
       "\t<li>3</li>\n",
       "\t<li>5</li>\n",
       "\t<li>7</li>\n",
       "\t<li>9</li>\n",
       "\t<li>1</li>\n",
       "\t<li>2</li>\n",
       "\t<li>3</li>\n",
       "\t<li>42</li>\n",
       "\t<li>2</li>\n",
       "\t<li>3</li>\n",
       "\t<li>4</li>\n",
       "</ol>\n"
      ],
      "text/latex": [
       "\\begin{enumerate*}\n",
       "\\item 1\n",
       "\\item 2\n",
       "\\item 1\n",
       "\\item 3\n",
       "\\item 5\n",
       "\\item 7\n",
       "\\item 9\n",
       "\\item 1\n",
       "\\item 3\n",
       "\\item 5\n",
       "\\item 7\n",
       "\\item 9\n",
       "\\item 1\n",
       "\\item 3\n",
       "\\item 5\n",
       "\\item 7\n",
       "\\item 9\n",
       "\\item 1\n",
       "\\item 2\n",
       "\\item 3\n",
       "\\item 42\n",
       "\\item 2\n",
       "\\item 3\n",
       "\\item 4\n",
       "\\end{enumerate*}\n"
      ],
      "text/markdown": [
       "1. 1\n",
       "2. 2\n",
       "3. 1\n",
       "4. 3\n",
       "5. 5\n",
       "6. 7\n",
       "7. 9\n",
       "8. 1\n",
       "9. 3\n",
       "10. 5\n",
       "11. 7\n",
       "12. 9\n",
       "13. 1\n",
       "14. 3\n",
       "15. 5\n",
       "16. 7\n",
       "17. 9\n",
       "18. 1\n",
       "19. 2\n",
       "20. 3\n",
       "21. 42\n",
       "22. 2\n",
       "23. 3\n",
       "24. 4\n",
       "\n",
       "\n"
      ],
      "text/plain": [
       " [1]  1  2  1  3  5  7  9  1  3  5  7  9  1  3  5  7  9  1  2  3 42  2  3  4"
      ]
     },
     "metadata": {},
     "output_type": "display_data"
    }
   ],
   "source": [
    "c(x, rep(seq(1,9,2), 3), c(1,2,3), 42, 2:4)"
   ]
  },
  {
   "cell_type": "code",
   "execution_count": 24,
   "metadata": {},
   "outputs": [
    {
     "data": {
      "text/html": [
       "2"
      ],
      "text/latex": [
       "2"
      ],
      "text/markdown": [
       "2"
      ],
      "text/plain": [
       "[1] 2"
      ]
     },
     "metadata": {},
     "output_type": "display_data"
    }
   ],
   "source": [
    "length(x)"
   ]
  },
  {
   "cell_type": "code",
   "execution_count": 25,
   "metadata": {},
   "outputs": [],
   "source": [
    "library(ScPoEconometrics)"
   ]
  },
  {
   "cell_type": "code",
   "execution_count": 26,
   "metadata": {},
   "outputs": [],
   "source": [
    "x=c(1,2,3,4,5,6,7,8,9,10)"
   ]
  },
  {
   "cell_type": "code",
   "execution_count": 27,
   "metadata": {},
   "outputs": [
    {
     "data": {
      "text/html": [
       "<ol class=list-inline>\n",
       "\t<li>1</li>\n",
       "\t<li>2</li>\n",
       "\t<li>3</li>\n",
       "\t<li>4</li>\n",
       "\t<li>5</li>\n",
       "\t<li>6</li>\n",
       "\t<li>7</li>\n",
       "\t<li>8</li>\n",
       "\t<li>9</li>\n",
       "\t<li>10</li>\n",
       "</ol>\n"
      ],
      "text/latex": [
       "\\begin{enumerate*}\n",
       "\\item 1\n",
       "\\item 2\n",
       "\\item 3\n",
       "\\item 4\n",
       "\\item 5\n",
       "\\item 6\n",
       "\\item 7\n",
       "\\item 8\n",
       "\\item 9\n",
       "\\item 10\n",
       "\\end{enumerate*}\n"
      ],
      "text/markdown": [
       "1. 1\n",
       "2. 2\n",
       "3. 3\n",
       "4. 4\n",
       "5. 5\n",
       "6. 6\n",
       "7. 7\n",
       "8. 8\n",
       "9. 9\n",
       "10. 10\n",
       "\n",
       "\n"
      ],
      "text/plain": [
       " [1]  1  2  3  4  5  6  7  8  9 10"
      ]
     },
     "metadata": {},
     "output_type": "display_data"
    }
   ],
   "source": [
    "x"
   ]
  },
  {
   "cell_type": "code",
   "execution_count": 28,
   "metadata": {},
   "outputs": [
    {
     "data": {
      "text/html": [
       "<ol class=list-inline>\n",
       "\t<li>4</li>\n",
       "\t<li>5</li>\n",
       "\t<li>6</li>\n",
       "\t<li>7</li>\n",
       "\t<li>8</li>\n",
       "\t<li>9</li>\n",
       "\t<li>10</li>\n",
       "</ol>\n"
      ],
      "text/latex": [
       "\\begin{enumerate*}\n",
       "\\item 4\n",
       "\\item 5\n",
       "\\item 6\n",
       "\\item 7\n",
       "\\item 8\n",
       "\\item 9\n",
       "\\item 10\n",
       "\\end{enumerate*}\n"
      ],
      "text/markdown": [
       "1. 4\n",
       "2. 5\n",
       "3. 6\n",
       "4. 7\n",
       "5. 8\n",
       "6. 9\n",
       "7. 10\n",
       "\n",
       "\n"
      ],
      "text/plain": [
       "[1]  4  5  6  7  8  9 10"
      ]
     },
     "metadata": {},
     "output_type": "display_data"
    }
   ],
   "source": [
    "x[x>3]"
   ]
  },
  {
   "cell_type": "code",
   "execution_count": 29,
   "metadata": {},
   "outputs": [
    {
     "data": {
      "text/html": [
       "3"
      ],
      "text/latex": [
       "3"
      ],
      "text/markdown": [
       "3"
      ],
      "text/plain": [
       "[1] 3"
      ]
     },
     "metadata": {},
     "output_type": "display_data"
    }
   ],
   "source": [
    "x[x==3]"
   ]
  },
  {
   "cell_type": "code",
   "execution_count": 30,
   "metadata": {},
   "outputs": [
    {
     "data": {
      "text/html": [
       "<ol class=list-inline>\n",
       "\t<li>1</li>\n",
       "\t<li>2</li>\n",
       "</ol>\n"
      ],
      "text/latex": [
       "\\begin{enumerate*}\n",
       "\\item 1\n",
       "\\item 2\n",
       "\\end{enumerate*}\n"
      ],
      "text/markdown": [
       "1. 1\n",
       "2. 2\n",
       "\n",
       "\n"
      ],
      "text/plain": [
       "[1] 1 2"
      ]
     },
     "metadata": {},
     "output_type": "display_data"
    }
   ],
   "source": [
    "x[x<3]"
   ]
  },
  {
   "cell_type": "code",
   "execution_count": 31,
   "metadata": {},
   "outputs": [
    {
     "data": {
      "text/html": [
       "49"
      ],
      "text/latex": [
       "49"
      ],
      "text/markdown": [
       "49"
      ],
      "text/plain": [
       "[1] 49"
      ]
     },
     "metadata": {},
     "output_type": "display_data"
    }
   ],
   "source": [
    "sum(x[x>3])"
   ]
  },
  {
   "cell_type": "code",
   "execution_count": 32,
   "metadata": {},
   "outputs": [
    {
     "data": {
      "text/html": [
       "<ol class=list-inline>\n",
       "\t<li>0</li>\n",
       "\t<li>0</li>\n",
       "\t<li>0</li>\n",
       "\t<li>1</li>\n",
       "\t<li>1</li>\n",
       "\t<li>1</li>\n",
       "\t<li>1</li>\n",
       "\t<li>1</li>\n",
       "\t<li>1</li>\n",
       "\t<li>1</li>\n",
       "</ol>\n"
      ],
      "text/latex": [
       "\\begin{enumerate*}\n",
       "\\item 0\n",
       "\\item 0\n",
       "\\item 0\n",
       "\\item 1\n",
       "\\item 1\n",
       "\\item 1\n",
       "\\item 1\n",
       "\\item 1\n",
       "\\item 1\n",
       "\\item 1\n",
       "\\end{enumerate*}\n"
      ],
      "text/markdown": [
       "1. 0\n",
       "2. 0\n",
       "3. 0\n",
       "4. 1\n",
       "5. 1\n",
       "6. 1\n",
       "7. 1\n",
       "8. 1\n",
       "9. 1\n",
       "10. 1\n",
       "\n",
       "\n"
      ],
      "text/plain": [
       " [1] 0 0 0 1 1 1 1 1 1 1"
      ]
     },
     "metadata": {},
     "output_type": "display_data"
    }
   ],
   "source": [
    "as.numeric(x>3)"
   ]
  },
  {
   "cell_type": "code",
   "execution_count": 33,
   "metadata": {},
   "outputs": [
    {
     "data": {
      "text/html": [
       "<ol class=list-inline>\n",
       "\t<li>4</li>\n",
       "\t<li>5</li>\n",
       "\t<li>6</li>\n",
       "\t<li>7</li>\n",
       "\t<li>8</li>\n",
       "\t<li>9</li>\n",
       "\t<li>10</li>\n",
       "</ol>\n"
      ],
      "text/latex": [
       "\\begin{enumerate*}\n",
       "\\item 4\n",
       "\\item 5\n",
       "\\item 6\n",
       "\\item 7\n",
       "\\item 8\n",
       "\\item 9\n",
       "\\item 10\n",
       "\\end{enumerate*}\n"
      ],
      "text/markdown": [
       "1. 4\n",
       "2. 5\n",
       "3. 6\n",
       "4. 7\n",
       "5. 8\n",
       "6. 9\n",
       "7. 10\n",
       "\n",
       "\n"
      ],
      "text/plain": [
       "[1]  4  5  6  7  8  9 10"
      ]
     },
     "metadata": {},
     "output_type": "display_data"
    }
   ],
   "source": [
    "which(x>3)"
   ]
  },
  {
   "cell_type": "code",
   "execution_count": 34,
   "metadata": {},
   "outputs": [
    {
     "data": {
      "text/html": [
       "10"
      ],
      "text/latex": [
       "10"
      ],
      "text/markdown": [
       "10"
      ],
      "text/plain": [
       "[1] 10"
      ]
     },
     "metadata": {},
     "output_type": "display_data"
    }
   ],
   "source": [
    "max(x)"
   ]
  },
  {
   "cell_type": "code",
   "execution_count": 35,
   "metadata": {},
   "outputs": [
    {
     "data": {
      "text/html": [
       "10"
      ],
      "text/latex": [
       "10"
      ],
      "text/markdown": [
       "10"
      ],
      "text/plain": [
       "[1] 10"
      ]
     },
     "metadata": {},
     "output_type": "display_data"
    }
   ],
   "source": [
    "which(x==max(x))"
   ]
  },
  {
   "cell_type": "code",
   "execution_count": 36,
   "metadata": {},
   "outputs": [
    {
     "data": {
      "text/html": [
       "5"
      ],
      "text/latex": [
       "5"
      ],
      "text/markdown": [
       "5"
      ],
      "text/plain": [
       "[1] 5"
      ]
     },
     "metadata": {},
     "output_type": "display_data"
    }
   ],
   "source": [
    "which(x==5)"
   ]
  },
  {
   "cell_type": "code",
   "execution_count": 37,
   "metadata": {},
   "outputs": [
    {
     "data": {
      "text/html": [
       "<ol class=list-inline>\n",
       "\t<li>1</li>\n",
       "\t<li>2</li>\n",
       "\t<li>3</li>\n",
       "\t<li>4</li>\n",
       "\t<li>5</li>\n",
       "\t<li>6</li>\n",
       "\t<li>7</li>\n",
       "\t<li>8</li>\n",
       "\t<li>9</li>\n",
       "</ol>\n"
      ],
      "text/latex": [
       "\\begin{enumerate*}\n",
       "\\item 1\n",
       "\\item 2\n",
       "\\item 3\n",
       "\\item 4\n",
       "\\item 5\n",
       "\\item 6\n",
       "\\item 7\n",
       "\\item 8\n",
       "\\item 9\n",
       "\\end{enumerate*}\n"
      ],
      "text/markdown": [
       "1. 1\n",
       "2. 2\n",
       "3. 3\n",
       "4. 4\n",
       "5. 5\n",
       "6. 6\n",
       "7. 7\n",
       "8. 8\n",
       "9. 9\n",
       "\n",
       "\n"
      ],
      "text/plain": [
       "[1] 1 2 3 4 5 6 7 8 9"
      ]
     },
     "metadata": {},
     "output_type": "display_data"
    }
   ],
   "source": [
    "which(x<max(x))"
   ]
  },
  {
   "cell_type": "code",
   "execution_count": 38,
   "metadata": {},
   "outputs": [
    {
     "data": {
      "text/html": [
       "10"
      ],
      "text/latex": [
       "10"
      ],
      "text/markdown": [
       "10"
      ],
      "text/plain": [
       "[1] 10"
      ]
     },
     "metadata": {},
     "output_type": "display_data"
    }
   ],
   "source": [
    "which.max(x)"
   ]
  },
  {
   "cell_type": "code",
   "execution_count": 39,
   "metadata": {},
   "outputs": [],
   "source": [
    "# sum."
   ]
  },
  {
   "cell_type": "code",
   "execution_count": 40,
   "metadata": {},
   "outputs": [],
   "source": [
    "?runif"
   ]
  },
  {
   "cell_type": "code",
   "execution_count": 41,
   "metadata": {},
   "outputs": [],
   "source": [
    "x=1:100"
   ]
  },
  {
   "cell_type": "code",
   "execution_count": 42,
   "metadata": {},
   "outputs": [
    {
     "name": "stdout",
     "output_type": "stream",
     "text": [
      " [1] 36.4532356 16.7423679  0.5911980 17.7053293  3.2025331 25.7836461\n",
      " [7] 25.9109345 31.9017384 24.5038475 27.9195259 23.5144496 24.9148446\n",
      "[13] 19.1623286 17.2377539  0.8444605  6.3523235  7.0913368 21.1451639\n",
      "[19]  4.0680102  7.0694442\n"
     ]
    },
    {
     "data": {
      "image/png": "[encoded data removed]",
      "text/plain": [
       "Plot with title “Histogram of y”"
      ]
     },
     "metadata": {},
     "output_type": "display_data"
    }
   ],
   "source": [
    "y=runif(20,min=0, max=40)\n",
    "print(y)\n",
    "hist(y)"
   ]
  },
  {
   "cell_type": "code",
   "execution_count": 43,
   "metadata": {},
   "outputs": [
    {
     "data": {
      "text/html": [
       "<ol class=list-inline>\n",
       "\t<li>36.4532356429845</li>\n",
       "\t<li>25.78364610672</li>\n",
       "\t<li>25.9109344799072</li>\n",
       "\t<li>31.9017383549362</li>\n",
       "\t<li>24.5038474537432</li>\n",
       "\t<li>27.9195259418339</li>\n",
       "\t<li>23.5144495591521</li>\n",
       "\t<li>24.914844641462</li>\n",
       "\t<li>21.1451638769358</li>\n",
       "</ol>\n"
      ],
      "text/latex": [
       "\\begin{enumerate*}\n",
       "\\item 36.4532356429845\n",
       "\\item 25.78364610672\n",
       "\\item 25.9109344799072\n",
       "\\item 31.9017383549362\n",
       "\\item 24.5038474537432\n",
       "\\item 27.9195259418339\n",
       "\\item 23.5144495591521\n",
       "\\item 24.914844641462\n",
       "\\item 21.1451638769358\n",
       "\\end{enumerate*}\n"
      ],
      "text/markdown": [
       "1. 36.4532356429845\n",
       "2. 25.78364610672\n",
       "3. 25.9109344799072\n",
       "4. 31.9017383549362\n",
       "5. 24.5038474537432\n",
       "6. 27.9195259418339\n",
       "7. 23.5144495591521\n",
       "8. 24.914844641462\n",
       "9. 21.1451638769358\n",
       "\n",
       "\n"
      ],
      "text/plain": [
       "[1] 36.45324 25.78365 25.91093 31.90174 24.50385 27.91953 23.51445 24.91484\n",
       "[9] 21.14516"
      ]
     },
     "metadata": {},
     "output_type": "display_data"
    }
   ],
   "source": [
    "y[y>20]"
   ]
  },
  {
   "cell_type": "code",
   "execution_count": 44,
   "metadata": {},
   "outputs": [],
   "source": [
    "iy=which(y>20)"
   ]
  },
  {
   "cell_type": "code",
   "execution_count": 45,
   "metadata": {},
   "outputs": [
    {
     "data": {
      "text/html": [
       "<ol class=list-inline>\n",
       "\t<li>36.4532356429845</li>\n",
       "\t<li>25.78364610672</li>\n",
       "\t<li>25.9109344799072</li>\n",
       "\t<li>31.9017383549362</li>\n",
       "\t<li>24.5038474537432</li>\n",
       "\t<li>27.9195259418339</li>\n",
       "\t<li>23.5144495591521</li>\n",
       "\t<li>24.914844641462</li>\n",
       "\t<li>21.1451638769358</li>\n",
       "</ol>\n"
      ],
      "text/latex": [
       "\\begin{enumerate*}\n",
       "\\item 36.4532356429845\n",
       "\\item 25.78364610672\n",
       "\\item 25.9109344799072\n",
       "\\item 31.9017383549362\n",
       "\\item 24.5038474537432\n",
       "\\item 27.9195259418339\n",
       "\\item 23.5144495591521\n",
       "\\item 24.914844641462\n",
       "\\item 21.1451638769358\n",
       "\\end{enumerate*}\n"
      ],
      "text/markdown": [
       "1. 36.4532356429845\n",
       "2. 25.78364610672\n",
       "3. 25.9109344799072\n",
       "4. 31.9017383549362\n",
       "5. 24.5038474537432\n",
       "6. 27.9195259418339\n",
       "7. 23.5144495591521\n",
       "8. 24.914844641462\n",
       "9. 21.1451638769358\n",
       "\n",
       "\n"
      ],
      "text/plain": [
       "[1] 36.45324 25.78365 25.91093 31.90174 24.50385 27.91953 23.51445 24.91484\n",
       "[9] 21.14516"
      ]
     },
     "metadata": {},
     "output_type": "display_data"
    }
   ],
   "source": [
    "y[iy]"
   ]
  },
  {
   "cell_type": "code",
   "execution_count": 46,
   "metadata": {},
   "outputs": [],
   "source": [
    "z=matrix(x,nrow=10, byrow=T)"
   ]
  },
  {
   "cell_type": "code",
   "execution_count": 47,
   "metadata": {},
   "outputs": [
    {
     "data": {
      "text/html": [
       "<table>\n",
       "<tbody>\n",
       "\t<tr><td> 1 </td><td> 2 </td><td> 3 </td><td> 4 </td><td> 5 </td><td> 6 </td><td> 7 </td><td> 8 </td><td> 9 </td><td> 10</td></tr>\n",
       "\t<tr><td>11 </td><td>12 </td><td>13 </td><td>14 </td><td>15 </td><td>16 </td><td>17 </td><td>18 </td><td>19 </td><td> 20</td></tr>\n",
       "\t<tr><td>21 </td><td>22 </td><td>23 </td><td>24 </td><td>25 </td><td>26 </td><td>27 </td><td>28 </td><td>29 </td><td> 30</td></tr>\n",
       "\t<tr><td>31 </td><td>32 </td><td>33 </td><td>34 </td><td>35 </td><td>36 </td><td>37 </td><td>38 </td><td>39 </td><td> 40</td></tr>\n",
       "\t<tr><td>41 </td><td>42 </td><td>43 </td><td>44 </td><td>45 </td><td>46 </td><td>47 </td><td>48 </td><td>49 </td><td> 50</td></tr>\n",
       "\t<tr><td>51 </td><td>52 </td><td>53 </td><td>54 </td><td>55 </td><td>56 </td><td>57 </td><td>58 </td><td>59 </td><td> 60</td></tr>\n",
       "\t<tr><td>61 </td><td>62 </td><td>63 </td><td>64 </td><td>65 </td><td>66 </td><td>67 </td><td>68 </td><td>69 </td><td> 70</td></tr>\n",
       "\t<tr><td>71 </td><td>72 </td><td>73 </td><td>74 </td><td>75 </td><td>76 </td><td>77 </td><td>78 </td><td>79 </td><td> 80</td></tr>\n",
       "\t<tr><td>81 </td><td>82 </td><td>83 </td><td>84 </td><td>85 </td><td>86 </td><td>87 </td><td>88 </td><td>89 </td><td> 90</td></tr>\n",
       "\t<tr><td>91 </td><td>92 </td><td>93 </td><td>94 </td><td>95 </td><td>96 </td><td>97 </td><td>98 </td><td>99 </td><td>100</td></tr>\n",
       "</tbody>\n",
       "</table>\n"
      ],
      "text/latex": [
       "\\begin{tabular}{llllllllll}\n",
       "\t  1  &  2  &  3  &  4  &  5  &  6  &  7  &  8  &  9  &  10\\\\\n",
       "\t 11  & 12  & 13  & 14  & 15  & 16  & 17  & 18  & 19  &  20\\\\\n",
       "\t 21  & 22  & 23  & 24  & 25  & 26  & 27  & 28  & 29  &  30\\\\\n",
       "\t 31  & 32  & 33  & 34  & 35  & 36  & 37  & 38  & 39  &  40\\\\\n",
       "\t 41  & 42  & 43  & 44  & 45  & 46  & 47  & 48  & 49  &  50\\\\\n",
       "\t 51  & 52  & 53  & 54  & 55  & 56  & 57  & 58  & 59  &  60\\\\\n",
       "\t 61  & 62  & 63  & 64  & 65  & 66  & 67  & 68  & 69  &  70\\\\\n",
       "\t 71  & 72  & 73  & 74  & 75  & 76  & 77  & 78  & 79  &  80\\\\\n",
       "\t 81  & 82  & 83  & 84  & 85  & 86  & 87  & 88  & 89  &  90\\\\\n",
       "\t 91  & 92  & 93  & 94  & 95  & 96  & 97  & 98  & 99  & 100\\\\\n",
       "\\end{tabular}\n"
      ],
      "text/markdown": [
       "\n",
       "|  1  |  2  |  3  |  4  |  5  |  6  |  7  |  8  |  9  |  10 |\n",
       "| 11  | 12  | 13  | 14  | 15  | 16  | 17  | 18  | 19  |  20 |\n",
       "| 21  | 22  | 23  | 24  | 25  | 26  | 27  | 28  | 29  |  30 |\n",
       "| 31  | 32  | 33  | 34  | 35  | 36  | 37  | 38  | 39  |  40 |\n",
       "| 41  | 42  | 43  | 44  | 45  | 46  | 47  | 48  | 49  |  50 |\n",
       "| 51  | 52  | 53  | 54  | 55  | 56  | 57  | 58  | 59  |  60 |\n",
       "| 61  | 62  | 63  | 64  | 65  | 66  | 67  | 68  | 69  |  70 |\n",
       "| 71  | 72  | 73  | 74  | 75  | 76  | 77  | 78  | 79  |  80 |\n",
       "| 81  | 82  | 83  | 84  | 85  | 86  | 87  | 88  | 89  |  90 |\n",
       "| 91  | 92  | 93  | 94  | 95  | 96  | 97  | 98  | 99  | 100 |\n",
       "\n"
      ],
      "text/plain": [
       "      [,1] [,2] [,3] [,4] [,5] [,6] [,7] [,8] [,9] [,10]\n",
       " [1,]  1    2    3    4    5    6    7    8    9    10  \n",
       " [2,] 11   12   13   14   15   16   17   18   19    20  \n",
       " [3,] 21   22   23   24   25   26   27   28   29    30  \n",
       " [4,] 31   32   33   34   35   36   37   38   39    40  \n",
       " [5,] 41   42   43   44   45   46   47   48   49    50  \n",
       " [6,] 51   52   53   54   55   56   57   58   59    60  \n",
       " [7,] 61   62   63   64   65   66   67   68   69    70  \n",
       " [8,] 71   72   73   74   75   76   77   78   79    80  \n",
       " [9,] 81   82   83   84   85   86   87   88   89    90  \n",
       "[10,] 91   92   93   94   95   96   97   98   99   100  "
      ]
     },
     "metadata": {},
     "output_type": "display_data"
    }
   ],
   "source": [
    "z"
   ]
  },
  {
   "cell_type": "code",
   "execution_count": 48,
   "metadata": {},
   "outputs": [
    {
     "data": {
      "text/html": [
       "<table>\n",
       "<tbody>\n",
       "\t<tr><td>1</td><td>3</td><td>5</td><td>7</td></tr>\n",
       "\t<tr><td>2</td><td>4</td><td>6</td><td>8</td></tr>\n",
       "</tbody>\n",
       "</table>\n"
      ],
      "text/latex": [
       "\\begin{tabular}{llll}\n",
       "\t 1 & 3 & 5 & 7\\\\\n",
       "\t 2 & 4 & 6 & 8\\\\\n",
       "\\end{tabular}\n"
      ],
      "text/markdown": [
       "\n",
       "| 1 | 3 | 5 | 7 |\n",
       "| 2 | 4 | 6 | 8 |\n",
       "\n"
      ],
      "text/plain": [
       "     [,1] [,2] [,3] [,4]\n",
       "[1,] 1    3    5    7   \n",
       "[2,] 2    4    6    8   "
      ]
     },
     "metadata": {},
     "output_type": "display_data"
    }
   ],
   "source": [
    "z2=matrix(1:8, 2, 4)\n",
    "z2"
   ]
  },
  {
   "cell_type": "code",
   "execution_count": 49,
   "metadata": {},
   "outputs": [
    {
     "data": {
      "text/html": [
       "<ol class=list-inline>\n",
       "\t<li>1</li>\n",
       "\t<li>3</li>\n",
       "\t<li>5</li>\n",
       "\t<li>7</li>\n",
       "</ol>\n"
      ],
      "text/latex": [
       "\\begin{enumerate*}\n",
       "\\item 1\n",
       "\\item 3\n",
       "\\item 5\n",
       "\\item 7\n",
       "\\end{enumerate*}\n"
      ],
      "text/markdown": [
       "1. 1\n",
       "2. 3\n",
       "3. 5\n",
       "4. 7\n",
       "\n",
       "\n"
      ],
      "text/plain": [
       "[1] 1 3 5 7"
      ]
     },
     "metadata": {},
     "output_type": "display_data"
    }
   ],
   "source": [
    "z2[1,]"
   ]
  },
  {
   "cell_type": "code",
   "execution_count": 50,
   "metadata": {},
   "outputs": [
    {
     "data": {
      "text/html": [
       "<table>\n",
       "<tbody>\n",
       "\t<tr><td>11</td><td>12</td><td>13</td><td>14</td><td>15</td><td>16</td><td>17</td><td>18</td><td>19</td><td>20</td></tr>\n",
       "\t<tr><td>21</td><td>22</td><td>23</td><td>24</td><td>25</td><td>26</td><td>27</td><td>28</td><td>29</td><td>30</td></tr>\n",
       "</tbody>\n",
       "</table>\n"
      ],
      "text/latex": [
       "\\begin{tabular}{llllllllll}\n",
       "\t 11 & 12 & 13 & 14 & 15 & 16 & 17 & 18 & 19 & 20\\\\\n",
       "\t 21 & 22 & 23 & 24 & 25 & 26 & 27 & 28 & 29 & 30\\\\\n",
       "\\end{tabular}\n"
      ],
      "text/markdown": [
       "\n",
       "| 11 | 12 | 13 | 14 | 15 | 16 | 17 | 18 | 19 | 20 |\n",
       "| 21 | 22 | 23 | 24 | 25 | 26 | 27 | 28 | 29 | 30 |\n",
       "\n"
      ],
      "text/plain": [
       "     [,1] [,2] [,3] [,4] [,5] [,6] [,7] [,8] [,9] [,10]\n",
       "[1,] 11   12   13   14   15   16   17   18   19   20   \n",
       "[2,] 21   22   23   24   25   26   27   28   29   30   "
      ]
     },
     "metadata": {},
     "output_type": "display_data"
    }
   ],
   "source": [
    "z[2:3,]"
   ]
  },
  {
   "cell_type": "code",
   "execution_count": 51,
   "metadata": {},
   "outputs": [],
   "source": [
    "z3=rev(z)"
   ]
  },
  {
   "cell_type": "code",
   "execution_count": 52,
   "metadata": {},
   "outputs": [
    {
     "data": {
      "text/html": [
       "<ol class=list-inline>\n",
       "\t<li>100</li>\n",
       "\t<li>90</li>\n",
       "\t<li>80</li>\n",
       "\t<li>70</li>\n",
       "\t<li>60</li>\n",
       "\t<li>50</li>\n",
       "\t<li>40</li>\n",
       "\t<li>30</li>\n",
       "\t<li>20</li>\n",
       "\t<li>10</li>\n",
       "\t<li>99</li>\n",
       "\t<li>89</li>\n",
       "\t<li>79</li>\n",
       "\t<li>69</li>\n",
       "\t<li>59</li>\n",
       "\t<li>49</li>\n",
       "\t<li>39</li>\n",
       "\t<li>29</li>\n",
       "\t<li>19</li>\n",
       "\t<li>9</li>\n",
       "\t<li>98</li>\n",
       "\t<li>88</li>\n",
       "\t<li>78</li>\n",
       "\t<li>68</li>\n",
       "\t<li>58</li>\n",
       "\t<li>48</li>\n",
       "\t<li>38</li>\n",
       "\t<li>28</li>\n",
       "\t<li>18</li>\n",
       "\t<li>8</li>\n",
       "\t<li>97</li>\n",
       "\t<li>87</li>\n",
       "\t<li>77</li>\n",
       "\t<li>67</li>\n",
       "\t<li>57</li>\n",
       "\t<li>47</li>\n",
       "\t<li>37</li>\n",
       "\t<li>27</li>\n",
       "\t<li>17</li>\n",
       "\t<li>7</li>\n",
       "\t<li>96</li>\n",
       "\t<li>86</li>\n",
       "\t<li>76</li>\n",
       "\t<li>66</li>\n",
       "\t<li>56</li>\n",
       "\t<li>46</li>\n",
       "\t<li>36</li>\n",
       "\t<li>26</li>\n",
       "\t<li>16</li>\n",
       "\t<li>6</li>\n",
       "\t<li>95</li>\n",
       "\t<li>85</li>\n",
       "\t<li>75</li>\n",
       "\t<li>65</li>\n",
       "\t<li>55</li>\n",
       "\t<li>45</li>\n",
       "\t<li>35</li>\n",
       "\t<li>25</li>\n",
       "\t<li>15</li>\n",
       "\t<li>5</li>\n",
       "\t<li>94</li>\n",
       "\t<li>84</li>\n",
       "\t<li>74</li>\n",
       "\t<li>64</li>\n",
       "\t<li>54</li>\n",
       "\t<li>44</li>\n",
       "\t<li>34</li>\n",
       "\t<li>24</li>\n",
       "\t<li>14</li>\n",
       "\t<li>4</li>\n",
       "\t<li>93</li>\n",
       "\t<li>83</li>\n",
       "\t<li>73</li>\n",
       "\t<li>63</li>\n",
       "\t<li>53</li>\n",
       "\t<li>43</li>\n",
       "\t<li>33</li>\n",
       "\t<li>23</li>\n",
       "\t<li>13</li>\n",
       "\t<li>3</li>\n",
       "\t<li>92</li>\n",
       "\t<li>82</li>\n",
       "\t<li>72</li>\n",
       "\t<li>62</li>\n",
       "\t<li>52</li>\n",
       "\t<li>42</li>\n",
       "\t<li>32</li>\n",
       "\t<li>22</li>\n",
       "\t<li>12</li>\n",
       "\t<li>2</li>\n",
       "\t<li>91</li>\n",
       "\t<li>81</li>\n",
       "\t<li>71</li>\n",
       "\t<li>61</li>\n",
       "\t<li>51</li>\n",
       "\t<li>41</li>\n",
       "\t<li>31</li>\n",
       "\t<li>21</li>\n",
       "\t<li>11</li>\n",
       "\t<li>1</li>\n",
       "</ol>\n"
      ],
      "text/latex": [
       "\\begin{enumerate*}\n",
       "\\item 100\n",
       "\\item 90\n",
       "\\item 80\n",
       "\\item 70\n",
       "\\item 60\n",
       "\\item 50\n",
       "\\item 40\n",
       "\\item 30\n",
       "\\item 20\n",
       "\\item 10\n",
       "\\item 99\n",
       "\\item 89\n",
       "\\item 79\n",
       "\\item 69\n",
       "\\item 59\n",
       "\\item 49\n",
       "\\item 39\n",
       "\\item 29\n",
       "\\item 19\n",
       "\\item 9\n",
       "\\item 98\n",
       "\\item 88\n",
       "\\item 78\n",
       "\\item 68\n",
       "\\item 58\n",
       "\\item 48\n",
       "\\item 38\n",
       "\\item 28\n",
       "\\item 18\n",
       "\\item 8\n",
       "\\item 97\n",
       "\\item 87\n",
       "\\item 77\n",
       "\\item 67\n",
       "\\item 57\n",
       "\\item 47\n",
       "\\item 37\n",
       "\\item 27\n",
       "\\item 17\n",
       "\\item 7\n",
       "\\item 96\n",
       "\\item 86\n",
       "\\item 76\n",
       "\\item 66\n",
       "\\item 56\n",
       "\\item 46\n",
       "\\item 36\n",
       "\\item 26\n",
       "\\item 16\n",
       "\\item 6\n",
       "\\item 95\n",
       "\\item 85\n",
       "\\item 75\n",
       "\\item 65\n",
       "\\item 55\n",
       "\\item 45\n",
       "\\item 35\n",
       "\\item 25\n",
       "\\item 15\n",
       "\\item 5\n",
       "\\item 94\n",
       "\\item 84\n",
       "\\item 74\n",
       "\\item 64\n",
       "\\item 54\n",
       "\\item 44\n",
       "\\item 34\n",
       "\\item 24\n",
       "\\item 14\n",
       "\\item 4\n",
       "\\item 93\n",
       "\\item 83\n",
       "\\item 73\n",
       "\\item 63\n",
       "\\item 53\n",
       "\\item 43\n",
       "\\item 33\n",
       "\\item 23\n",
       "\\item 13\n",
       "\\item 3\n",
       "\\item 92\n",
       "\\item 82\n",
       "\\item 72\n",
       "\\item 62\n",
       "\\item 52\n",
       "\\item 42\n",
       "\\item 32\n",
       "\\item 22\n",
       "\\item 12\n",
       "\\item 2\n",
       "\\item 91\n",
       "\\item 81\n",
       "\\item 71\n",
       "\\item 61\n",
       "\\item 51\n",
       "\\item 41\n",
       "\\item 31\n",
       "\\item 21\n",
       "\\item 11\n",
       "\\item 1\n",
       "\\end{enumerate*}\n"
      ],
      "text/markdown": [
       "1. 100\n",
       "2. 90\n",
       "3. 80\n",
       "4. 70\n",
       "5. 60\n",
       "6. 50\n",
       "7. 40\n",
       "8. 30\n",
       "9. 20\n",
       "10. 10\n",
       "11. 99\n",
       "12. 89\n",
       "13. 79\n",
       "14. 69\n",
       "15. 59\n",
       "16. 49\n",
       "17. 39\n",
       "18. 29\n",
       "19. 19\n",
       "20. 9\n",
       "21. 98\n",
       "22. 88\n",
       "23. 78\n",
       "24. 68\n",
       "25. 58\n",
       "26. 48\n",
       "27. 38\n",
       "28. 28\n",
       "29. 18\n",
       "30. 8\n",
       "31. 97\n",
       "32. 87\n",
       "33. 77\n",
       "34. 67\n",
       "35. 57\n",
       "36. 47\n",
       "37. 37\n",
       "38. 27\n",
       "39. 17\n",
       "40. 7\n",
       "41. 96\n",
       "42. 86\n",
       "43. 76\n",
       "44. 66\n",
       "45. 56\n",
       "46. 46\n",
       "47. 36\n",
       "48. 26\n",
       "49. 16\n",
       "50. 6\n",
       "51. 95\n",
       "52. 85\n",
       "53. 75\n",
       "54. 65\n",
       "55. 55\n",
       "56. 45\n",
       "57. 35\n",
       "58. 25\n",
       "59. 15\n",
       "60. 5\n",
       "61. 94\n",
       "62. 84\n",
       "63. 74\n",
       "64. 64\n",
       "65. 54\n",
       "66. 44\n",
       "67. 34\n",
       "68. 24\n",
       "69. 14\n",
       "70. 4\n",
       "71. 93\n",
       "72. 83\n",
       "73. 73\n",
       "74. 63\n",
       "75. 53\n",
       "76. 43\n",
       "77. 33\n",
       "78. 23\n",
       "79. 13\n",
       "80. 3\n",
       "81. 92\n",
       "82. 82\n",
       "83. 72\n",
       "84. 62\n",
       "85. 52\n",
       "86. 42\n",
       "87. 32\n",
       "88. 22\n",
       "89. 12\n",
       "90. 2\n",
       "91. 91\n",
       "92. 81\n",
       "93. 71\n",
       "94. 61\n",
       "95. 51\n",
       "96. 41\n",
       "97. 31\n",
       "98. 21\n",
       "99. 11\n",
       "100. 1\n",
       "\n",
       "\n"
      ],
      "text/plain": [
       "  [1] 100  90  80  70  60  50  40  30  20  10  99  89  79  69  59  49  39  29\n",
       " [19]  19   9  98  88  78  68  58  48  38  28  18   8  97  87  77  67  57  47\n",
       " [37]  37  27  17   7  96  86  76  66  56  46  36  26  16   6  95  85  75  65\n",
       " [55]  55  45  35  25  15   5  94  84  74  64  54  44  34  24  14   4  93  83\n",
       " [73]  73  63  53  43  33  23  13   3  92  82  72  62  52  42  32  22  12   2\n",
       " [91]  91  81  71  61  51  41  31  21  11   1"
      ]
     },
     "metadata": {},
     "output_type": "display_data"
    }
   ],
   "source": [
    "z3"
   ]
  },
  {
   "cell_type": "code",
   "execution_count": 53,
   "metadata": {},
   "outputs": [
    {
     "data": {
      "text/html": [
       "<table>\n",
       "<tbody>\n",
       "\t<tr><td> 1 </td><td> 2 </td><td> 3 </td><td> 4 </td><td> 5 </td><td> 6 </td><td> 7 </td><td> 8 </td><td> 9 </td><td> 10</td></tr>\n",
       "\t<tr><td>11 </td><td>12 </td><td>13 </td><td>14 </td><td>15 </td><td>16 </td><td>17 </td><td>18 </td><td>19 </td><td> 20</td></tr>\n",
       "\t<tr><td>21 </td><td>22 </td><td>23 </td><td>24 </td><td>25 </td><td>26 </td><td>27 </td><td>28 </td><td>29 </td><td> 30</td></tr>\n",
       "\t<tr><td>31 </td><td>32 </td><td>33 </td><td>34 </td><td>35 </td><td>36 </td><td>37 </td><td>38 </td><td>39 </td><td> 40</td></tr>\n",
       "\t<tr><td>41 </td><td>42 </td><td>43 </td><td>44 </td><td>45 </td><td>46 </td><td>47 </td><td>48 </td><td>49 </td><td> 50</td></tr>\n",
       "\t<tr><td>51 </td><td>52 </td><td>53 </td><td>54 </td><td>55 </td><td>56 </td><td>57 </td><td>58 </td><td>59 </td><td> 60</td></tr>\n",
       "\t<tr><td>61 </td><td>62 </td><td>63 </td><td>64 </td><td>65 </td><td>66 </td><td>67 </td><td>68 </td><td>69 </td><td> 70</td></tr>\n",
       "\t<tr><td>71 </td><td>72 </td><td>73 </td><td>74 </td><td>75 </td><td>76 </td><td>77 </td><td>78 </td><td>79 </td><td> 80</td></tr>\n",
       "\t<tr><td>81 </td><td>82 </td><td>83 </td><td>84 </td><td>85 </td><td>86 </td><td>87 </td><td>88 </td><td>89 </td><td> 90</td></tr>\n",
       "\t<tr><td>91 </td><td>92 </td><td>93 </td><td>94 </td><td>95 </td><td>96 </td><td>97 </td><td>98 </td><td>99 </td><td>100</td></tr>\n",
       "</tbody>\n",
       "</table>\n"
      ],
      "text/latex": [
       "\\begin{tabular}{llllllllll}\n",
       "\t  1  &  2  &  3  &  4  &  5  &  6  &  7  &  8  &  9  &  10\\\\\n",
       "\t 11  & 12  & 13  & 14  & 15  & 16  & 17  & 18  & 19  &  20\\\\\n",
       "\t 21  & 22  & 23  & 24  & 25  & 26  & 27  & 28  & 29  &  30\\\\\n",
       "\t 31  & 32  & 33  & 34  & 35  & 36  & 37  & 38  & 39  &  40\\\\\n",
       "\t 41  & 42  & 43  & 44  & 45  & 46  & 47  & 48  & 49  &  50\\\\\n",
       "\t 51  & 52  & 53  & 54  & 55  & 56  & 57  & 58  & 59  &  60\\\\\n",
       "\t 61  & 62  & 63  & 64  & 65  & 66  & 67  & 68  & 69  &  70\\\\\n",
       "\t 71  & 72  & 73  & 74  & 75  & 76  & 77  & 78  & 79  &  80\\\\\n",
       "\t 81  & 82  & 83  & 84  & 85  & 86  & 87  & 88  & 89  &  90\\\\\n",
       "\t 91  & 92  & 93  & 94  & 95  & 96  & 97  & 98  & 99  & 100\\\\\n",
       "\\end{tabular}\n"
      ],
      "text/markdown": [
       "\n",
       "|  1  |  2  |  3  |  4  |  5  |  6  |  7  |  8  |  9  |  10 |\n",
       "| 11  | 12  | 13  | 14  | 15  | 16  | 17  | 18  | 19  |  20 |\n",
       "| 21  | 22  | 23  | 24  | 25  | 26  | 27  | 28  | 29  |  30 |\n",
       "| 31  | 32  | 33  | 34  | 35  | 36  | 37  | 38  | 39  |  40 |\n",
       "| 41  | 42  | 43  | 44  | 45  | 46  | 47  | 48  | 49  |  50 |\n",
       "| 51  | 52  | 53  | 54  | 55  | 56  | 57  | 58  | 59  |  60 |\n",
       "| 61  | 62  | 63  | 64  | 65  | 66  | 67  | 68  | 69  |  70 |\n",
       "| 71  | 72  | 73  | 74  | 75  | 76  | 77  | 78  | 79  |  80 |\n",
       "| 81  | 82  | 83  | 84  | 85  | 86  | 87  | 88  | 89  |  90 |\n",
       "| 91  | 92  | 93  | 94  | 95  | 96  | 97  | 98  | 99  | 100 |\n",
       "\n"
      ],
      "text/plain": [
       "      [,1] [,2] [,3] [,4] [,5] [,6] [,7] [,8] [,9] [,10]\n",
       " [1,]  1    2    3    4    5    6    7    8    9    10  \n",
       " [2,] 11   12   13   14   15   16   17   18   19    20  \n",
       " [3,] 21   22   23   24   25   26   27   28   29    30  \n",
       " [4,] 31   32   33   34   35   36   37   38   39    40  \n",
       " [5,] 41   42   43   44   45   46   47   48   49    50  \n",
       " [6,] 51   52   53   54   55   56   57   58   59    60  \n",
       " [7,] 61   62   63   64   65   66   67   68   69    70  \n",
       " [8,] 71   72   73   74   75   76   77   78   79    80  \n",
       " [9,] 81   82   83   84   85   86   87   88   89    90  \n",
       "[10,] 91   92   93   94   95   96   97   98   99   100  "
      ]
     },
     "metadata": {},
     "output_type": "display_data"
    }
   ],
   "source": [
    "z"
   ]
  },
  {
   "cell_type": "code",
   "execution_count": 54,
   "metadata": {},
   "outputs": [
    {
     "data": {
      "text/html": [
       "<ol class=list-inline>\n",
       "\t<li>1</li>\n",
       "\t<li>1</li>\n",
       "\t<li>1</li>\n",
       "\t<li>1</li>\n",
       "\t<li>1</li>\n",
       "\t<li>1</li>\n",
       "\t<li>1</li>\n",
       "\t<li>1</li>\n",
       "\t<li>1</li>\n",
       "</ol>\n"
      ],
      "text/latex": [
       "\\begin{enumerate*}\n",
       "\\item 1\n",
       "\\item 1\n",
       "\\item 1\n",
       "\\item 1\n",
       "\\item 1\n",
       "\\item 1\n",
       "\\item 1\n",
       "\\item 1\n",
       "\\item 1\n",
       "\\end{enumerate*}\n"
      ],
      "text/markdown": [
       "1. 1\n",
       "2. 1\n",
       "3. 1\n",
       "4. 1\n",
       "5. 1\n",
       "6. 1\n",
       "7. 1\n",
       "8. 1\n",
       "9. 1\n",
       "\n",
       "\n"
      ],
      "text/plain": [
       "[1] 1 1 1 1 1 1 1 1 1"
      ]
     },
     "metadata": {},
     "output_type": "display_data"
    }
   ],
   "source": [
    "rep(1,9)"
   ]
  },
  {
   "cell_type": "code",
   "execution_count": 55,
   "metadata": {},
   "outputs": [
    {
     "data": {
      "text/html": [
       "<table>\n",
       "<tbody>\n",
       "\t<tr><td> 1 </td><td> 2 </td><td> 3 </td><td> 4 </td><td> 5 </td><td> 6 </td><td> 7 </td><td> 8 </td><td> 9 </td><td> 10</td></tr>\n",
       "\t<tr><td>11 </td><td>12 </td><td>13 </td><td>14 </td><td>15 </td><td>16 </td><td>17 </td><td>18 </td><td>19 </td><td> 20</td></tr>\n",
       "\t<tr><td>21 </td><td>22 </td><td>23 </td><td>24 </td><td>25 </td><td>26 </td><td>27 </td><td>28 </td><td>29 </td><td> 30</td></tr>\n",
       "\t<tr><td>31 </td><td>32 </td><td>33 </td><td>34 </td><td>35 </td><td>36 </td><td>37 </td><td>38 </td><td>39 </td><td> 40</td></tr>\n",
       "\t<tr><td>41 </td><td>42 </td><td>43 </td><td>44 </td><td>45 </td><td>46 </td><td>47 </td><td>48 </td><td>49 </td><td> 50</td></tr>\n",
       "\t<tr><td>51 </td><td>52 </td><td>53 </td><td>54 </td><td>55 </td><td>56 </td><td>57 </td><td>58 </td><td>59 </td><td> 60</td></tr>\n",
       "\t<tr><td>61 </td><td>62 </td><td>63 </td><td>64 </td><td>65 </td><td>66 </td><td>67 </td><td>68 </td><td>69 </td><td> 70</td></tr>\n",
       "\t<tr><td>71 </td><td>72 </td><td>73 </td><td>74 </td><td>75 </td><td>76 </td><td>77 </td><td>78 </td><td>79 </td><td> 80</td></tr>\n",
       "\t<tr><td>81 </td><td>82 </td><td>83 </td><td>84 </td><td>85 </td><td>86 </td><td>87 </td><td>88 </td><td>89 </td><td> 90</td></tr>\n",
       "\t<tr><td>91 </td><td>92 </td><td>93 </td><td>94 </td><td>95 </td><td>96 </td><td>97 </td><td>98 </td><td>99 </td><td>100</td></tr>\n",
       "\t<tr><td>10 </td><td> 9 </td><td> 8 </td><td> 7 </td><td> 6 </td><td> 5 </td><td> 4 </td><td> 3 </td><td> 2 </td><td>  1</td></tr>\n",
       "\t<tr><td> 1 </td><td> 1 </td><td> 1 </td><td> 1 </td><td> 1 </td><td> 1 </td><td> 1 </td><td> 1 </td><td> 1 </td><td>  1</td></tr>\n",
       "</tbody>\n",
       "</table>\n"
      ],
      "text/latex": [
       "\\begin{tabular}{llllllllll}\n",
       "\t  1  &  2  &  3  &  4  &  5  &  6  &  7  &  8  &  9  &  10\\\\\n",
       "\t 11  & 12  & 13  & 14  & 15  & 16  & 17  & 18  & 19  &  20\\\\\n",
       "\t 21  & 22  & 23  & 24  & 25  & 26  & 27  & 28  & 29  &  30\\\\\n",
       "\t 31  & 32  & 33  & 34  & 35  & 36  & 37  & 38  & 39  &  40\\\\\n",
       "\t 41  & 42  & 43  & 44  & 45  & 46  & 47  & 48  & 49  &  50\\\\\n",
       "\t 51  & 52  & 53  & 54  & 55  & 56  & 57  & 58  & 59  &  60\\\\\n",
       "\t 61  & 62  & 63  & 64  & 65  & 66  & 67  & 68  & 69  &  70\\\\\n",
       "\t 71  & 72  & 73  & 74  & 75  & 76  & 77  & 78  & 79  &  80\\\\\n",
       "\t 81  & 82  & 83  & 84  & 85  & 86  & 87  & 88  & 89  &  90\\\\\n",
       "\t 91  & 92  & 93  & 94  & 95  & 96  & 97  & 98  & 99  & 100\\\\\n",
       "\t 10  &  9  &  8  &  7  &  6  &  5  &  4  &  3  &  2  &   1\\\\\n",
       "\t  1  &  1  &  1  &  1  &  1  &  1  &  1  &  1  &  1  &   1\\\\\n",
       "\\end{tabular}\n"
      ],
      "text/markdown": [
       "\n",
       "|  1  |  2  |  3  |  4  |  5  |  6  |  7  |  8  |  9  |  10 |\n",
       "| 11  | 12  | 13  | 14  | 15  | 16  | 17  | 18  | 19  |  20 |\n",
       "| 21  | 22  | 23  | 24  | 25  | 26  | 27  | 28  | 29  |  30 |\n",
       "| 31  | 32  | 33  | 34  | 35  | 36  | 37  | 38  | 39  |  40 |\n",
       "| 41  | 42  | 43  | 44  | 45  | 46  | 47  | 48  | 49  |  50 |\n",
       "| 51  | 52  | 53  | 54  | 55  | 56  | 57  | 58  | 59  |  60 |\n",
       "| 61  | 62  | 63  | 64  | 65  | 66  | 67  | 68  | 69  |  70 |\n",
       "| 71  | 72  | 73  | 74  | 75  | 76  | 77  | 78  | 79  |  80 |\n",
       "| 81  | 82  | 83  | 84  | 85  | 86  | 87  | 88  | 89  |  90 |\n",
       "| 91  | 92  | 93  | 94  | 95  | 96  | 97  | 98  | 99  | 100 |\n",
       "| 10  |  9  |  8  |  7  |  6  |  5  |  4  |  3  |  2  |   1 |\n",
       "|  1  |  1  |  1  |  1  |  1  |  1  |  1  |  1  |  1  |   1 |\n",
       "\n"
      ],
      "text/plain": [
       "      [,1] [,2] [,3] [,4] [,5] [,6] [,7] [,8] [,9] [,10]\n",
       " [1,]  1    2    3    4    5    6    7    8    9    10  \n",
       " [2,] 11   12   13   14   15   16   17   18   19    20  \n",
       " [3,] 21   22   23   24   25   26   27   28   29    30  \n",
       " [4,] 31   32   33   34   35   36   37   38   39    40  \n",
       " [5,] 41   42   43   44   45   46   47   48   49    50  \n",
       " [6,] 51   52   53   54   55   56   57   58   59    60  \n",
       " [7,] 61   62   63   64   65   66   67   68   69    70  \n",
       " [8,] 71   72   73   74   75   76   77   78   79    80  \n",
       " [9,] 81   82   83   84   85   86   87   88   89    90  \n",
       "[10,] 91   92   93   94   95   96   97   98   99   100  \n",
       "[11,] 10    9    8    7    6    5    4    3    2     1  \n",
       "[12,]  1    1    1    1    1    1    1    1    1     1  "
      ]
     },
     "metadata": {},
     "output_type": "display_data"
    }
   ],
   "source": [
    "rbind(z,rev(x[1:10]), rep(1,10))"
   ]
  },
  {
   "cell_type": "code",
   "execution_count": 56,
   "metadata": {},
   "outputs": [
    {
     "name": "stderr",
     "output_type": "stream",
     "text": [
      "Warning message in cbind(col_1 = 1:10, col_2 = 20:10, col_3 = rep(55, 10)):\n",
      "“number of rows of result is not a multiple of vector length (arg 1)”"
     ]
    }
   ],
   "source": [
    "w1=cbind(col_1=1:10,col_2= 20:10, col_3=rep(55,10))"
   ]
  },
  {
   "cell_type": "code",
   "execution_count": 57,
   "metadata": {},
   "outputs": [
    {
     "name": "stderr",
     "output_type": "stream",
     "text": [
      "Warning message in cbind(col_1 = 2:12, col_2 = 40:30, col_3 = rep(45, 10)):\n",
      "“number of rows of result is not a multiple of vector length (arg 3)”"
     ]
    }
   ],
   "source": [
    "w2=cbind(col_1=2:12, col_2=40:30, col_3=rep(45,10))"
   ]
  },
  {
   "cell_type": "code",
   "execution_count": 58,
   "metadata": {},
   "outputs": [
    {
     "data": {
      "text/html": [
       "<table>\n",
       "<thead><tr><th scope=col>col_1</th><th scope=col>col_2</th><th scope=col>col_3</th></tr></thead>\n",
       "<tbody>\n",
       "\t<tr><td> 1</td><td>20</td><td>55</td></tr>\n",
       "\t<tr><td> 2</td><td>19</td><td>55</td></tr>\n",
       "\t<tr><td> 3</td><td>18</td><td>55</td></tr>\n",
       "\t<tr><td> 4</td><td>17</td><td>55</td></tr>\n",
       "\t<tr><td> 5</td><td>16</td><td>55</td></tr>\n",
       "\t<tr><td> 6</td><td>15</td><td>55</td></tr>\n",
       "\t<tr><td> 7</td><td>14</td><td>55</td></tr>\n",
       "\t<tr><td> 8</td><td>13</td><td>55</td></tr>\n",
       "\t<tr><td> 9</td><td>12</td><td>55</td></tr>\n",
       "\t<tr><td>10</td><td>11</td><td>55</td></tr>\n",
       "\t<tr><td> 1</td><td>10</td><td>55</td></tr>\n",
       "</tbody>\n",
       "</table>\n"
      ],
      "text/latex": [
       "\\begin{tabular}{lll}\n",
       " col\\_1 & col\\_2 & col\\_3\\\\\n",
       "\\hline\n",
       "\t  1 & 20 & 55\\\\\n",
       "\t  2 & 19 & 55\\\\\n",
       "\t  3 & 18 & 55\\\\\n",
       "\t  4 & 17 & 55\\\\\n",
       "\t  5 & 16 & 55\\\\\n",
       "\t  6 & 15 & 55\\\\\n",
       "\t  7 & 14 & 55\\\\\n",
       "\t  8 & 13 & 55\\\\\n",
       "\t  9 & 12 & 55\\\\\n",
       "\t 10 & 11 & 55\\\\\n",
       "\t  1 & 10 & 55\\\\\n",
       "\\end{tabular}\n"
      ],
      "text/markdown": [
       "\n",
       "| col_1 | col_2 | col_3 |\n",
       "|---|---|---|\n",
       "|  1 | 20 | 55 |\n",
       "|  2 | 19 | 55 |\n",
       "|  3 | 18 | 55 |\n",
       "|  4 | 17 | 55 |\n",
       "|  5 | 16 | 55 |\n",
       "|  6 | 15 | 55 |\n",
       "|  7 | 14 | 55 |\n",
       "|  8 | 13 | 55 |\n",
       "|  9 | 12 | 55 |\n",
       "| 10 | 11 | 55 |\n",
       "|  1 | 10 | 55 |\n",
       "\n"
      ],
      "text/plain": [
       "      col_1 col_2 col_3\n",
       " [1,]  1    20    55   \n",
       " [2,]  2    19    55   \n",
       " [3,]  3    18    55   \n",
       " [4,]  4    17    55   \n",
       " [5,]  5    16    55   \n",
       " [6,]  6    15    55   \n",
       " [7,]  7    14    55   \n",
       " [8,]  8    13    55   \n",
       " [9,]  9    12    55   \n",
       "[10,] 10    11    55   \n",
       "[11,]  1    10    55   "
      ]
     },
     "metadata": {},
     "output_type": "display_data"
    }
   ],
   "source": [
    "w1"
   ]
  },
  {
   "cell_type": "code",
   "execution_count": 59,
   "metadata": {},
   "outputs": [
    {
     "data": {
      "text/html": [
       "<table>\n",
       "<thead><tr><th scope=col>col_1</th><th scope=col>col_2</th><th scope=col>col_3</th></tr></thead>\n",
       "<tbody>\n",
       "\t<tr><td> 2</td><td>40</td><td>45</td></tr>\n",
       "\t<tr><td> 3</td><td>39</td><td>45</td></tr>\n",
       "\t<tr><td> 4</td><td>38</td><td>45</td></tr>\n",
       "\t<tr><td> 5</td><td>37</td><td>45</td></tr>\n",
       "\t<tr><td> 6</td><td>36</td><td>45</td></tr>\n",
       "\t<tr><td> 7</td><td>35</td><td>45</td></tr>\n",
       "\t<tr><td> 8</td><td>34</td><td>45</td></tr>\n",
       "\t<tr><td> 9</td><td>33</td><td>45</td></tr>\n",
       "\t<tr><td>10</td><td>32</td><td>45</td></tr>\n",
       "\t<tr><td>11</td><td>31</td><td>45</td></tr>\n",
       "\t<tr><td>12</td><td>30</td><td>45</td></tr>\n",
       "</tbody>\n",
       "</table>\n"
      ],
      "text/latex": [
       "\\begin{tabular}{lll}\n",
       " col\\_1 & col\\_2 & col\\_3\\\\\n",
       "\\hline\n",
       "\t  2 & 40 & 45\\\\\n",
       "\t  3 & 39 & 45\\\\\n",
       "\t  4 & 38 & 45\\\\\n",
       "\t  5 & 37 & 45\\\\\n",
       "\t  6 & 36 & 45\\\\\n",
       "\t  7 & 35 & 45\\\\\n",
       "\t  8 & 34 & 45\\\\\n",
       "\t  9 & 33 & 45\\\\\n",
       "\t 10 & 32 & 45\\\\\n",
       "\t 11 & 31 & 45\\\\\n",
       "\t 12 & 30 & 45\\\\\n",
       "\\end{tabular}\n"
      ],
      "text/markdown": [
       "\n",
       "| col_1 | col_2 | col_3 |\n",
       "|---|---|---|\n",
       "|  2 | 40 | 45 |\n",
       "|  3 | 39 | 45 |\n",
       "|  4 | 38 | 45 |\n",
       "|  5 | 37 | 45 |\n",
       "|  6 | 36 | 45 |\n",
       "|  7 | 35 | 45 |\n",
       "|  8 | 34 | 45 |\n",
       "|  9 | 33 | 45 |\n",
       "| 10 | 32 | 45 |\n",
       "| 11 | 31 | 45 |\n",
       "| 12 | 30 | 45 |\n",
       "\n"
      ],
      "text/plain": [
       "      col_1 col_2 col_3\n",
       " [1,]  2    40    45   \n",
       " [2,]  3    39    45   \n",
       " [3,]  4    38    45   \n",
       " [4,]  5    37    45   \n",
       " [5,]  6    36    45   \n",
       " [6,]  7    35    45   \n",
       " [7,]  8    34    45   \n",
       " [8,]  9    33    45   \n",
       " [9,] 10    32    45   \n",
       "[10,] 11    31    45   \n",
       "[11,] 12    30    45   "
      ]
     },
     "metadata": {},
     "output_type": "display_data"
    }
   ],
   "source": [
    "w2"
   ]
  },
  {
   "cell_type": "code",
   "execution_count": 60,
   "metadata": {},
   "outputs": [],
   "source": [
    "w3=w1+w2"
   ]
  },
  {
   "cell_type": "code",
   "execution_count": 61,
   "metadata": {},
   "outputs": [
    {
     "data": {
      "text/html": [
       "<table>\n",
       "<thead><tr><th scope=col>col_1</th><th scope=col>col_2</th><th scope=col>col_3</th></tr></thead>\n",
       "<tbody>\n",
       "\t<tr><td> 3 </td><td>60 </td><td>100</td></tr>\n",
       "\t<tr><td> 5 </td><td>58 </td><td>100</td></tr>\n",
       "\t<tr><td> 7 </td><td>56 </td><td>100</td></tr>\n",
       "\t<tr><td> 9 </td><td>54 </td><td>100</td></tr>\n",
       "\t<tr><td>11 </td><td>52 </td><td>100</td></tr>\n",
       "\t<tr><td>13 </td><td>50 </td><td>100</td></tr>\n",
       "\t<tr><td>15 </td><td>48 </td><td>100</td></tr>\n",
       "\t<tr><td>17 </td><td>46 </td><td>100</td></tr>\n",
       "\t<tr><td>19 </td><td>44 </td><td>100</td></tr>\n",
       "\t<tr><td>21 </td><td>42 </td><td>100</td></tr>\n",
       "\t<tr><td>13 </td><td>40 </td><td>100</td></tr>\n",
       "</tbody>\n",
       "</table>\n"
      ],
      "text/latex": [
       "\\begin{tabular}{lll}\n",
       " col\\_1 & col\\_2 & col\\_3\\\\\n",
       "\\hline\n",
       "\t  3  & 60  & 100\\\\\n",
       "\t  5  & 58  & 100\\\\\n",
       "\t  7  & 56  & 100\\\\\n",
       "\t  9  & 54  & 100\\\\\n",
       "\t 11  & 52  & 100\\\\\n",
       "\t 13  & 50  & 100\\\\\n",
       "\t 15  & 48  & 100\\\\\n",
       "\t 17  & 46  & 100\\\\\n",
       "\t 19  & 44  & 100\\\\\n",
       "\t 21  & 42  & 100\\\\\n",
       "\t 13  & 40  & 100\\\\\n",
       "\\end{tabular}\n"
      ],
      "text/markdown": [
       "\n",
       "| col_1 | col_2 | col_3 |\n",
       "|---|---|---|\n",
       "|  3  | 60  | 100 |\n",
       "|  5  | 58  | 100 |\n",
       "|  7  | 56  | 100 |\n",
       "|  9  | 54  | 100 |\n",
       "| 11  | 52  | 100 |\n",
       "| 13  | 50  | 100 |\n",
       "| 15  | 48  | 100 |\n",
       "| 17  | 46  | 100 |\n",
       "| 19  | 44  | 100 |\n",
       "| 21  | 42  | 100 |\n",
       "| 13  | 40  | 100 |\n",
       "\n"
      ],
      "text/plain": [
       "      col_1 col_2 col_3\n",
       " [1,]  3    60    100  \n",
       " [2,]  5    58    100  \n",
       " [3,]  7    56    100  \n",
       " [4,]  9    54    100  \n",
       " [5,] 11    52    100  \n",
       " [6,] 13    50    100  \n",
       " [7,] 15    48    100  \n",
       " [8,] 17    46    100  \n",
       " [9,] 19    44    100  \n",
       "[10,] 21    42    100  \n",
       "[11,] 13    40    100  "
      ]
     },
     "metadata": {},
     "output_type": "display_data"
    }
   ],
   "source": [
    "w3"
   ]
  },
  {
   "cell_type": "code",
   "execution_count": 62,
   "metadata": {},
   "outputs": [
    {
     "data": {
      "text/html": [
       "<table>\n",
       "<thead><tr><th scope=col>col_1</th><th scope=col>col_2</th><th scope=col>col_3</th></tr></thead>\n",
       "<tbody>\n",
       "\t<tr><td> 5 </td><td>62 </td><td>102</td></tr>\n",
       "\t<tr><td> 7 </td><td>60 </td><td>102</td></tr>\n",
       "\t<tr><td> 9 </td><td>58 </td><td>102</td></tr>\n",
       "\t<tr><td>11 </td><td>56 </td><td>102</td></tr>\n",
       "\t<tr><td>13 </td><td>54 </td><td>102</td></tr>\n",
       "\t<tr><td>15 </td><td>52 </td><td>102</td></tr>\n",
       "\t<tr><td>17 </td><td>50 </td><td>102</td></tr>\n",
       "\t<tr><td>19 </td><td>48 </td><td>102</td></tr>\n",
       "\t<tr><td>21 </td><td>46 </td><td>102</td></tr>\n",
       "\t<tr><td>23 </td><td>44 </td><td>102</td></tr>\n",
       "\t<tr><td>15 </td><td>42 </td><td>102</td></tr>\n",
       "</tbody>\n",
       "</table>\n"
      ],
      "text/latex": [
       "\\begin{tabular}{lll}\n",
       " col\\_1 & col\\_2 & col\\_3\\\\\n",
       "\\hline\n",
       "\t  5  & 62  & 102\\\\\n",
       "\t  7  & 60  & 102\\\\\n",
       "\t  9  & 58  & 102\\\\\n",
       "\t 11  & 56  & 102\\\\\n",
       "\t 13  & 54  & 102\\\\\n",
       "\t 15  & 52  & 102\\\\\n",
       "\t 17  & 50  & 102\\\\\n",
       "\t 19  & 48  & 102\\\\\n",
       "\t 21  & 46  & 102\\\\\n",
       "\t 23  & 44  & 102\\\\\n",
       "\t 15  & 42  & 102\\\\\n",
       "\\end{tabular}\n"
      ],
      "text/markdown": [
       "\n",
       "| col_1 | col_2 | col_3 |\n",
       "|---|---|---|\n",
       "|  5  | 62  | 102 |\n",
       "|  7  | 60  | 102 |\n",
       "|  9  | 58  | 102 |\n",
       "| 11  | 56  | 102 |\n",
       "| 13  | 54  | 102 |\n",
       "| 15  | 52  | 102 |\n",
       "| 17  | 50  | 102 |\n",
       "| 19  | 48  | 102 |\n",
       "| 21  | 46  | 102 |\n",
       "| 23  | 44  | 102 |\n",
       "| 15  | 42  | 102 |\n",
       "\n"
      ],
      "text/plain": [
       "      col_1 col_2 col_3\n",
       " [1,]  5    62    102  \n",
       " [2,]  7    60    102  \n",
       " [3,]  9    58    102  \n",
       " [4,] 11    56    102  \n",
       " [5,] 13    54    102  \n",
       " [6,] 15    52    102  \n",
       " [7,] 17    50    102  \n",
       " [8,] 19    48    102  \n",
       " [9,] 21    46    102  \n",
       "[10,] 23    44    102  \n",
       "[11,] 15    42    102  "
      ]
     },
     "metadata": {},
     "output_type": "display_data"
    }
   ],
   "source": [
    "w3+2"
   ]
  },
  {
   "cell_type": "code",
   "execution_count": 63,
   "metadata": {},
   "outputs": [
    {
     "data": {
      "text/html": [
       "<table>\n",
       "<thead><tr><th scope=col>col_1</th><th scope=col>col_2</th><th scope=col>col_3</th></tr></thead>\n",
       "<tbody>\n",
       "\t<tr><td> 3.000000</td><td>3.000000 </td><td>1.818182 </td></tr>\n",
       "\t<tr><td> 2.500000</td><td>3.052632 </td><td>1.818182 </td></tr>\n",
       "\t<tr><td> 2.333333</td><td>3.111111 </td><td>1.818182 </td></tr>\n",
       "\t<tr><td> 2.250000</td><td>3.176471 </td><td>1.818182 </td></tr>\n",
       "\t<tr><td> 2.200000</td><td>3.250000 </td><td>1.818182 </td></tr>\n",
       "\t<tr><td> 2.166667</td><td>3.333333 </td><td>1.818182 </td></tr>\n",
       "\t<tr><td> 2.142857</td><td>3.428571 </td><td>1.818182 </td></tr>\n",
       "\t<tr><td> 2.125000</td><td>3.538462 </td><td>1.818182 </td></tr>\n",
       "\t<tr><td> 2.111111</td><td>3.666667 </td><td>1.818182 </td></tr>\n",
       "\t<tr><td> 2.100000</td><td>3.818182 </td><td>1.818182 </td></tr>\n",
       "\t<tr><td>13.000000</td><td>4.000000 </td><td>1.818182 </td></tr>\n",
       "</tbody>\n",
       "</table>\n"
      ],
      "text/latex": [
       "\\begin{tabular}{lll}\n",
       " col\\_1 & col\\_2 & col\\_3\\\\\n",
       "\\hline\n",
       "\t  3.000000 & 3.000000  & 1.818182 \\\\\n",
       "\t  2.500000 & 3.052632  & 1.818182 \\\\\n",
       "\t  2.333333 & 3.111111  & 1.818182 \\\\\n",
       "\t  2.250000 & 3.176471  & 1.818182 \\\\\n",
       "\t  2.200000 & 3.250000  & 1.818182 \\\\\n",
       "\t  2.166667 & 3.333333  & 1.818182 \\\\\n",
       "\t  2.142857 & 3.428571  & 1.818182 \\\\\n",
       "\t  2.125000 & 3.538462  & 1.818182 \\\\\n",
       "\t  2.111111 & 3.666667  & 1.818182 \\\\\n",
       "\t  2.100000 & 3.818182  & 1.818182 \\\\\n",
       "\t 13.000000 & 4.000000  & 1.818182 \\\\\n",
       "\\end{tabular}\n"
      ],
      "text/markdown": [
       "\n",
       "| col_1 | col_2 | col_3 |\n",
       "|---|---|---|\n",
       "|  3.000000 | 3.000000  | 1.818182  |\n",
       "|  2.500000 | 3.052632  | 1.818182  |\n",
       "|  2.333333 | 3.111111  | 1.818182  |\n",
       "|  2.250000 | 3.176471  | 1.818182  |\n",
       "|  2.200000 | 3.250000  | 1.818182  |\n",
       "|  2.166667 | 3.333333  | 1.818182  |\n",
       "|  2.142857 | 3.428571  | 1.818182  |\n",
       "|  2.125000 | 3.538462  | 1.818182  |\n",
       "|  2.111111 | 3.666667  | 1.818182  |\n",
       "|  2.100000 | 3.818182  | 1.818182  |\n",
       "| 13.000000 | 4.000000  | 1.818182  |\n",
       "\n"
      ],
      "text/plain": [
       "      col_1     col_2    col_3   \n",
       " [1,]  3.000000 3.000000 1.818182\n",
       " [2,]  2.500000 3.052632 1.818182\n",
       " [3,]  2.333333 3.111111 1.818182\n",
       " [4,]  2.250000 3.176471 1.818182\n",
       " [5,]  2.200000 3.250000 1.818182\n",
       " [6,]  2.166667 3.333333 1.818182\n",
       " [7,]  2.142857 3.428571 1.818182\n",
       " [8,]  2.125000 3.538462 1.818182\n",
       " [9,]  2.111111 3.666667 1.818182\n",
       "[10,]  2.100000 3.818182 1.818182\n",
       "[11,] 13.000000 4.000000 1.818182"
      ]
     },
     "metadata": {},
     "output_type": "display_data"
    }
   ],
   "source": [
    "w3/w1"
   ]
  },
  {
   "cell_type": "code",
   "execution_count": 64,
   "metadata": {},
   "outputs": [],
   "source": [
    "?array"
   ]
  },
  {
   "cell_type": "code",
   "execution_count": 65,
   "metadata": {},
   "outputs": [],
   "source": [
    "d=1:16"
   ]
  },
  {
   "cell_type": "code",
   "execution_count": 66,
   "metadata": {},
   "outputs": [],
   "source": [
    "d1=array(data=d, dim=c(4,2,2,3))"
   ]
  },
  {
   "cell_type": "code",
   "execution_count": 67,
   "metadata": {},
   "outputs": [
    {
     "data": {
      "text/html": [
       "9"
      ],
      "text/latex": [
       "9"
      ],
      "text/markdown": [
       "9"
      ],
      "text/plain": [
       "[1] 9"
      ]
     },
     "metadata": {},
     "output_type": "display_data"
    }
   ],
   "source": [
    "d1[1,1,2,3]"
   ]
  },
  {
   "cell_type": "code",
   "execution_count": 69,
   "metadata": {},
   "outputs": [],
   "source": [
    "# d1[2:3,,1]"
   ]
  },
  {
   "cell_type": "code",
   "execution_count": 70,
   "metadata": {},
   "outputs": [
    {
     "data": {
      "text/html": [
       "<table>\n",
       "<tbody>\n",
       "\t<tr><td>1 </td><td>3 </td><td>5 </td><td>7 </td><td> 9</td></tr>\n",
       "\t<tr><td>2 </td><td>4 </td><td>6 </td><td>8 </td><td>10</td></tr>\n",
       "</tbody>\n",
       "</table>\n"
      ],
      "text/latex": [
       "\\begin{tabular}{lllll}\n",
       "\t 1  & 3  & 5  & 7  &  9\\\\\n",
       "\t 2  & 4  & 6  & 8  & 10\\\\\n",
       "\\end{tabular}\n"
      ],
      "text/markdown": [
       "\n",
       "| 1  | 3  | 5  | 7  |  9 |\n",
       "| 2  | 4  | 6  | 8  | 10 |\n",
       "\n"
      ],
      "text/plain": [
       "     [,1] [,2] [,3] [,4] [,5]\n",
       "[1,] 1    3    5    7     9  \n",
       "[2,] 2    4    6    8    10  "
      ]
     },
     "metadata": {},
     "output_type": "display_data"
    }
   ],
   "source": [
    "matA=matrix(data=1:10, nrow=2, ncol=5)\n",
    "matA"
   ]
  },
  {
   "cell_type": "code",
   "execution_count": 71,
   "metadata": {},
   "outputs": [
    {
     "data": {
      "text/html": [
       "<ol class=list-inline>\n",
       "\t<li>1</li>\n",
       "\t<li>2</li>\n",
       "\t<li>3</li>\n",
       "\t<li>4</li>\n",
       "\t<li>5</li>\n",
       "</ol>\n"
      ],
      "text/latex": [
       "\\begin{enumerate*}\n",
       "\\item 1\n",
       "\\item 2\n",
       "\\item 3\n",
       "\\item 4\n",
       "\\item 5\n",
       "\\end{enumerate*}\n"
      ],
      "text/markdown": [
       "1. 1\n",
       "2. 2\n",
       "3. 3\n",
       "4. 4\n",
       "5. 5\n",
       "\n",
       "\n"
      ],
      "text/plain": [
       "[1] 1 2 3 4 5"
      ]
     },
     "metadata": {},
     "output_type": "display_data"
    }
   ],
   "source": [
    "vecA=1:5\n",
    "vecA"
   ]
  },
  {
   "cell_type": "code",
   "execution_count": 72,
   "metadata": {},
   "outputs": [
    {
     "data": {
      "text/html": [
       "<table>\n",
       "<tbody>\n",
       "\t<tr><td> 95</td></tr>\n",
       "\t<tr><td>110</td></tr>\n",
       "</tbody>\n",
       "</table>\n"
      ],
      "text/latex": [
       "\\begin{tabular}{l}\n",
       "\t  95\\\\\n",
       "\t 110\\\\\n",
       "\\end{tabular}\n"
      ],
      "text/markdown": [
       "\n",
       "|  95 |\n",
       "| 110 |\n",
       "\n"
      ],
      "text/plain": [
       "     [,1]\n",
       "[1,]  95 \n",
       "[2,] 110 "
      ]
     },
     "metadata": {},
     "output_type": "display_data"
    }
   ],
   "source": [
    "matA %*% vecA"
   ]
  },
  {
   "cell_type": "code",
   "execution_count": 73,
   "metadata": {},
   "outputs": [
    {
     "data": {
      "text/html": [
       "<ol>\n",
       "\t<li>32</li>\n",
       "\t<li>'erer'</li>\n",
       "\t<li>TRUE</li>\n",
       "</ol>\n"
      ],
      "text/latex": [
       "\\begin{enumerate}\n",
       "\\item 32\n",
       "\\item 'erer'\n",
       "\\item TRUE\n",
       "\\end{enumerate}\n"
      ],
      "text/markdown": [
       "1. 32\n",
       "2. 'erer'\n",
       "3. TRUE\n",
       "\n",
       "\n"
      ],
      "text/plain": [
       "[[1]]\n",
       "[1] 32\n",
       "\n",
       "[[2]]\n",
       "[1] \"erer\"\n",
       "\n",
       "[[3]]\n",
       "[1] TRUE\n"
      ]
     },
     "metadata": {},
     "output_type": "display_data"
    }
   ],
   "source": [
    "list(32, \"erer\", T)"
   ]
  },
  {
   "cell_type": "code",
   "execution_count": 74,
   "metadata": {},
   "outputs": [],
   "source": [
    "# T=F"
   ]
  },
  {
   "cell_type": "code",
   "execution_count": 75,
   "metadata": {},
   "outputs": [
    {
     "data": {
      "text/html": [
       "<ol>\n",
       "\t<li>32</li>\n",
       "\t<li>'Wewew'</li>\n",
       "\t<li>TRUE</li>\n",
       "</ol>\n"
      ],
      "text/latex": [
       "\\begin{enumerate}\n",
       "\\item 32\n",
       "\\item 'Wewew'\n",
       "\\item TRUE\n",
       "\\end{enumerate}\n"
      ],
      "text/markdown": [
       "1. 32\n",
       "2. 'Wewew'\n",
       "3. TRUE\n",
       "\n",
       "\n"
      ],
      "text/plain": [
       "[[1]]\n",
       "[1] 32\n",
       "\n",
       "[[2]]\n",
       "[1] \"Wewew\"\n",
       "\n",
       "[[3]]\n",
       "[1] TRUE\n"
      ]
     },
     "metadata": {},
     "output_type": "display_data"
    }
   ],
   "source": [
    "list(32,\"Wewew\", T)\n"
   ]
  },
  {
   "cell_type": "code",
   "execution_count": 76,
   "metadata": {},
   "outputs": [],
   "source": [
    "xl=list(a=\"sad\",\n",
    "    b=\"fd\",\n",
    "    c=\"why\",\n",
    "    d=function(arg=43) {print(\"Hello Wall\")},\n",
    "    e=\"new\",\n",
    "    f=diag(5))"
   ]
  },
  {
   "cell_type": "code",
   "execution_count": 77,
   "metadata": {},
   "outputs": [
    {
     "data": {
      "text/html": [
       "'sad'"
      ],
      "text/latex": [
       "'sad'"
      ],
      "text/markdown": [
       "'sad'"
      ],
      "text/plain": [
       "[1] \"sad\""
      ]
     },
     "metadata": {},
     "output_type": "display_data"
    }
   ],
   "source": [
    "xl$a"
   ]
  },
  {
   "cell_type": "code",
   "execution_count": 78,
   "metadata": {},
   "outputs": [
    {
     "data": {
      "text/html": [
       "<strong>$b</strong> = 'fd'"
      ],
      "text/latex": [
       "\\textbf{\\$b} = 'fd'"
      ],
      "text/markdown": [
       "**$b** = 'fd'"
      ],
      "text/plain": [
       "$b\n",
       "[1] \"fd\"\n"
      ]
     },
     "metadata": {},
     "output_type": "display_data"
    }
   ],
   "source": [
    "xl[2]"
   ]
  },
  {
   "cell_type": "code",
   "execution_count": 79,
   "metadata": {},
   "outputs": [
    {
     "data": {
      "text/html": [
       "'fd'"
      ],
      "text/latex": [
       "'fd'"
      ],
      "text/markdown": [
       "'fd'"
      ],
      "text/plain": [
       "[1] \"fd\""
      ]
     },
     "metadata": {},
     "output_type": "display_data"
    }
   ],
   "source": [
    "xl[[2]]"
   ]
  },
  {
   "cell_type": "code",
   "execution_count": 80,
   "metadata": {},
   "outputs": [
    {
     "data": {
      "text/html": [
       "<strong>$f</strong> = <table>\n",
       "<tbody>\n",
       "\t<tr><td>1</td><td>0</td><td>0</td><td>0</td><td>0</td></tr>\n",
       "\t<tr><td>0</td><td>1</td><td>0</td><td>0</td><td>0</td></tr>\n",
       "\t<tr><td>0</td><td>0</td><td>1</td><td>0</td><td>0</td></tr>\n",
       "\t<tr><td>0</td><td>0</td><td>0</td><td>1</td><td>0</td></tr>\n",
       "\t<tr><td>0</td><td>0</td><td>0</td><td>0</td><td>1</td></tr>\n",
       "</tbody>\n",
       "</table>\n"
      ],
      "text/latex": [
       "\\textbf{\\$f} = \\begin{tabular}{lllll}\n",
       "\t 1 & 0 & 0 & 0 & 0\\\\\n",
       "\t 0 & 1 & 0 & 0 & 0\\\\\n",
       "\t 0 & 0 & 1 & 0 & 0\\\\\n",
       "\t 0 & 0 & 0 & 1 & 0\\\\\n",
       "\t 0 & 0 & 0 & 0 & 1\\\\\n",
       "\\end{tabular}\n"
      ],
      "text/markdown": [
       "**$f** = \n",
       "| 1 | 0 | 0 | 0 | 0 |\n",
       "| 0 | 1 | 0 | 0 | 0 |\n",
       "| 0 | 0 | 1 | 0 | 0 |\n",
       "| 0 | 0 | 0 | 1 | 0 |\n",
       "| 0 | 0 | 0 | 0 | 1 |\n",
       "\n"
      ],
      "text/plain": [
       "$f\n",
       "     [,1] [,2] [,3] [,4] [,5]\n",
       "[1,]    1    0    0    0    0\n",
       "[2,]    0    1    0    0    0\n",
       "[3,]    0    0    1    0    0\n",
       "[4,]    0    0    0    1    0\n",
       "[5,]    0    0    0    0    1\n"
      ]
     },
     "metadata": {},
     "output_type": "display_data"
    }
   ],
   "source": [
    "# xl[\"f\"]=diag(5)\n",
    "xl[\"f\"]"
   ]
  },
  {
   "cell_type": "code",
   "execution_count": 81,
   "metadata": {},
   "outputs": [
    {
     "data": {
      "text/html": [
       "<pre class=language-r><code>function (arg = 43) \n",
       "{\n",
       "<span style=white-space:pre-wrap>    print(\"Hello Wall\")</span>\n",
       "}</code></pre>"
      ],
      "text/latex": [
       "\\begin{minted}{r}\n",
       "function (arg = 43) \n",
       "\\{\n",
       "    print(\"Hello Wall\")\n",
       "\\}\n",
       "\\end{minted}"
      ],
      "text/markdown": [
       "```r\n",
       "function (arg = 43) \n",
       "{\n",
       "    print(\"Hello Wall\")\n",
       "}\n",
       "```"
      ],
      "text/plain": [
       "function(arg=43) {print(\"Hello Wall\")}"
      ]
     },
     "metadata": {},
     "output_type": "display_data"
    }
   ],
   "source": [
    "xl[[\"d\"]]"
   ]
  },
  {
   "cell_type": "code",
   "execution_count": 82,
   "metadata": {},
   "outputs": [],
   "source": [
    "yl=list(\"this\"=\"wewewew\",\n",
    "   \"alist\"=xl)"
   ]
  },
  {
   "cell_type": "code",
   "execution_count": 83,
   "metadata": {},
   "outputs": [
    {
     "data": {
      "text/html": [
       "'sad'"
      ],
      "text/latex": [
       "'sad'"
      ],
      "text/markdown": [
       "'sad'"
      ],
      "text/plain": [
       "[1] \"sad\""
      ]
     },
     "metadata": {},
     "output_type": "display_data"
    }
   ],
   "source": [
    "yl[[\"alist\"]][[\"a\"]]"
   ]
  },
  {
   "cell_type": "code",
   "execution_count": 86,
   "metadata": {},
   "outputs": [],
   "source": [
    "?paste"
   ]
  },
  {
   "cell_type": "code",
   "execution_count": 91,
   "metadata": {},
   "outputs": [],
   "source": [
    "df=data.frame(\n",
    "            x=c(1:10),\n",
    "            y=c(rep(\"hello\", 9), \"goodbye\"),\n",
    "            z=rep(c(T,F), 5 )\n",
    "            )\n"
   ]
  },
  {
   "cell_type": "code",
   "execution_count": 94,
   "metadata": {},
   "outputs": [
    {
     "data": {
      "text/html": [
       "<ol class=list-inline>\n",
       "\t<li>1</li>\n",
       "\t<li>2</li>\n",
       "\t<li>3</li>\n",
       "\t<li>4</li>\n",
       "\t<li>5</li>\n",
       "\t<li>6</li>\n",
       "\t<li>7</li>\n",
       "\t<li>8</li>\n",
       "\t<li>9</li>\n",
       "\t<li>10</li>\n",
       "</ol>\n"
      ],
      "text/latex": [
       "\\begin{enumerate*}\n",
       "\\item 1\n",
       "\\item 2\n",
       "\\item 3\n",
       "\\item 4\n",
       "\\item 5\n",
       "\\item 6\n",
       "\\item 7\n",
       "\\item 8\n",
       "\\item 9\n",
       "\\item 10\n",
       "\\end{enumerate*}\n"
      ],
      "text/markdown": [
       "1. 1\n",
       "2. 2\n",
       "3. 3\n",
       "4. 4\n",
       "5. 5\n",
       "6. 6\n",
       "7. 7\n",
       "8. 8\n",
       "9. 9\n",
       "10. 10\n",
       "\n",
       "\n"
      ],
      "text/plain": [
       " [1]  1  2  3  4  5  6  7  8  9 10"
      ]
     },
     "metadata": {},
     "output_type": "display_data"
    }
   ],
   "source": [
    "df$x"
   ]
  },
  {
   "cell_type": "code",
   "execution_count": 96,
   "metadata": {},
   "outputs": [
    {
     "data": {
      "text/html": [
       "<ol class=list-inline>\n",
       "\t<li>TRUE</li>\n",
       "\t<li>FALSE</li>\n",
       "\t<li>TRUE</li>\n",
       "\t<li>FALSE</li>\n",
       "\t<li>TRUE</li>\n",
       "\t<li>FALSE</li>\n",
       "\t<li>TRUE</li>\n",
       "\t<li>FALSE</li>\n",
       "\t<li>TRUE</li>\n",
       "\t<li>FALSE</li>\n",
       "</ol>\n"
      ],
      "text/latex": [
       "\\begin{enumerate*}\n",
       "\\item TRUE\n",
       "\\item FALSE\n",
       "\\item TRUE\n",
       "\\item FALSE\n",
       "\\item TRUE\n",
       "\\item FALSE\n",
       "\\item TRUE\n",
       "\\item FALSE\n",
       "\\item TRUE\n",
       "\\item FALSE\n",
       "\\end{enumerate*}\n"
      ],
      "text/markdown": [
       "1. TRUE\n",
       "2. FALSE\n",
       "3. TRUE\n",
       "4. FALSE\n",
       "5. TRUE\n",
       "6. FALSE\n",
       "7. TRUE\n",
       "8. FALSE\n",
       "9. TRUE\n",
       "10. FALSE\n",
       "\n",
       "\n"
      ],
      "text/plain": [
       " [1]  TRUE FALSE  TRUE FALSE  TRUE FALSE  TRUE FALSE  TRUE FALSE"
      ]
     },
     "metadata": {},
     "output_type": "display_data"
    }
   ],
   "source": [
    "df$z"
   ]
  },
  {
   "cell_type": "code",
   "execution_count": 99,
   "metadata": {},
   "outputs": [
    {
     "data": {
      "text/html": [
       "TRUE"
      ],
      "text/latex": [
       "TRUE"
      ],
      "text/markdown": [
       "TRUE"
      ],
      "text/plain": [
       "[1] TRUE"
      ]
     },
     "metadata": {},
     "output_type": "display_data"
    }
   ],
   "source": [
    "all.equal(\n",
    "    length(df$x),\n",
    "    length(df$y),\n",
    "    length(df$z))"
   ]
  },
  {
   "cell_type": "code",
   "execution_count": 101,
   "metadata": {},
   "outputs": [
    {
     "name": "stdout",
     "output_type": "stream",
     "text": [
      "'data.frame':\t10 obs. of  3 variables:\n",
      " $ x: int  1 2 3 4 5 6 7 8 9 10\n",
      " $ y: Factor w/ 2 levels \"goodbye\",\"hello\": 2 2 2 2 2 2 2 2 2 1\n",
      " $ z: logi  TRUE FALSE TRUE FALSE TRUE FALSE ...\n"
     ]
    }
   ],
   "source": [
    "str(df)"
   ]
  },
  {
   "cell_type": "code",
   "execution_count": 103,
   "metadata": {},
   "outputs": [
    {
     "data": {
      "text/html": [
       "10"
      ],
      "text/latex": [
       "10"
      ],
      "text/markdown": [
       "10"
      ],
      "text/plain": [
       "[1] 10"
      ]
     },
     "metadata": {},
     "output_type": "display_data"
    }
   ],
   "source": [
    "nrow(df)                               "
   ]
  },
  {
   "cell_type": "code",
   "execution_count": 105,
   "metadata": {},
   "outputs": [
    {
     "data": {
      "text/html": [
       "3"
      ],
      "text/latex": [
       "3"
      ],
      "text/markdown": [
       "3"
      ],
      "text/plain": [
       "[1] 3"
      ]
     },
     "metadata": {},
     "output_type": "display_data"
    }
   ],
   "source": [
    "ncol(df)"
   ]
  },
  {
   "cell_type": "code",
   "execution_count": 107,
   "metadata": {},
   "outputs": [
    {
     "data": {
      "text/html": [
       "<ol class=list-inline>\n",
       "\t<li>10</li>\n",
       "\t<li>3</li>\n",
       "</ol>\n"
      ],
      "text/latex": [
       "\\begin{enumerate*}\n",
       "\\item 10\n",
       "\\item 3\n",
       "\\end{enumerate*}\n"
      ],
      "text/markdown": [
       "1. 10\n",
       "2. 3\n",
       "\n",
       "\n"
      ],
      "text/plain": [
       "[1] 10  3"
      ]
     },
     "metadata": {},
     "output_type": "display_data"
    }
   ],
   "source": [
    "dim(df)"
   ]
  },
  {
   "cell_type": "code",
   "execution_count": 109,
   "metadata": {},
   "outputs": [
    {
     "data": {
      "text/html": [
       "<ol class=list-inline>\n",
       "\t<li>'x'</li>\n",
       "\t<li>'y'</li>\n",
       "\t<li>'z'</li>\n",
       "</ol>\n"
      ],
      "text/latex": [
       "\\begin{enumerate*}\n",
       "\\item 'x'\n",
       "\\item 'y'\n",
       "\\item 'z'\n",
       "\\end{enumerate*}\n"
      ],
      "text/markdown": [
       "1. 'x'\n",
       "2. 'y'\n",
       "3. 'z'\n",
       "\n",
       "\n"
      ],
      "text/plain": [
       "[1] \"x\" \"y\" \"z\""
      ]
     },
     "metadata": {},
     "output_type": "display_data"
    }
   ],
   "source": [
    "names(df)"
   ]
  },
  {
   "cell_type": "code",
   "execution_count": 114,
   "metadata": {},
   "outputs": [
    {
     "data": {
      "text/html": [
       "<table>\n",
       "<thead><tr><th scope=col>x</th><th scope=col>y</th><th scope=col>z</th></tr></thead>\n",
       "<tbody>\n",
       "\t<tr><td>1      </td><td>Hello  </td><td> TRUE  </td></tr>\n",
       "\t<tr><td>3      </td><td>Hello  </td><td>FALSE  </td></tr>\n",
       "\t<tr><td>5      </td><td>Hello  </td><td> TRUE  </td></tr>\n",
       "\t<tr><td>7      </td><td>Hello  </td><td>FALSE  </td></tr>\n",
       "\t<tr><td>9      </td><td>Hello  </td><td> TRUE  </td></tr>\n",
       "\t<tr><td>1      </td><td>Hello  </td><td>FALSE  </td></tr>\n",
       "\t<tr><td>3      </td><td>Hello  </td><td> TRUE  </td></tr>\n",
       "\t<tr><td>5      </td><td>Hello  </td><td>FALSE  </td></tr>\n",
       "\t<tr><td>7      </td><td>Hello  </td><td> TRUE  </td></tr>\n",
       "\t<tr><td>9      </td><td>Goodbye</td><td>FALSE  </td></tr>\n",
       "</tbody>\n",
       "</table>\n"
      ],
      "text/latex": [
       "\\begin{tabular}{r|lll}\n",
       " x & y & z\\\\\n",
       "\\hline\n",
       "\t 1       & Hello   &  TRUE  \\\\\n",
       "\t 3       & Hello   & FALSE  \\\\\n",
       "\t 5       & Hello   &  TRUE  \\\\\n",
       "\t 7       & Hello   & FALSE  \\\\\n",
       "\t 9       & Hello   &  TRUE  \\\\\n",
       "\t 1       & Hello   & FALSE  \\\\\n",
       "\t 3       & Hello   &  TRUE  \\\\\n",
       "\t 5       & Hello   & FALSE  \\\\\n",
       "\t 7       & Hello   &  TRUE  \\\\\n",
       "\t 9       & Goodbye & FALSE  \\\\\n",
       "\\end{tabular}\n"
      ],
      "text/markdown": [
       "\n",
       "| x | y | z |\n",
       "|---|---|---|\n",
       "| 1       | Hello   |  TRUE   |\n",
       "| 3       | Hello   | FALSE   |\n",
       "| 5       | Hello   |  TRUE   |\n",
       "| 7       | Hello   | FALSE   |\n",
       "| 9       | Hello   |  TRUE   |\n",
       "| 1       | Hello   | FALSE   |\n",
       "| 3       | Hello   |  TRUE   |\n",
       "| 5       | Hello   | FALSE   |\n",
       "| 7       | Hello   |  TRUE   |\n",
       "| 9       | Goodbye | FALSE   |\n",
       "\n"
      ],
      "text/plain": [
       "   x y       z    \n",
       "1  1 Hello    TRUE\n",
       "2  3 Hello   FALSE\n",
       "3  5 Hello    TRUE\n",
       "4  7 Hello   FALSE\n",
       "5  9 Hello    TRUE\n",
       "6  1 Hello   FALSE\n",
       "7  3 Hello    TRUE\n",
       "8  5 Hello   FALSE\n",
       "9  7 Hello    TRUE\n",
       "10 9 Goodbye FALSE"
      ]
     },
     "metadata": {},
     "output_type": "display_data"
    }
   ],
   "source": [
    "path=system.file(package = \"ScPoEconometrics\", \"datasets\", \"example-data.csv\")\n",
    "df2=read.csv(path)\n",
    "df2"
   ]
  },
  {
   "cell_type": "code",
   "execution_count": 116,
   "metadata": {},
   "outputs": [
    {
     "data": {
      "text/html": [
       "<table>\n",
       "<thead><tr><th></th><th scope=col>mpg</th><th scope=col>cyl</th><th scope=col>disp</th><th scope=col>hp</th><th scope=col>drat</th><th scope=col>wt</th><th scope=col>qsec</th><th scope=col>vs</th><th scope=col>am</th><th scope=col>gear</th><th scope=col>carb</th></tr></thead>\n",
       "<tbody>\n",
       "\t<tr><th scope=row>Mazda RX4</th><td>21.0 </td><td>6    </td><td>160.0</td><td>110  </td><td>3.90 </td><td>2.620</td><td>16.46</td><td>0    </td><td>1    </td><td>4    </td><td>4    </td></tr>\n",
       "\t<tr><th scope=row>Mazda RX4 Wag</th><td>21.0 </td><td>6    </td><td>160.0</td><td>110  </td><td>3.90 </td><td>2.875</td><td>17.02</td><td>0    </td><td>1    </td><td>4    </td><td>4    </td></tr>\n",
       "\t<tr><th scope=row>Datsun 710</th><td>22.8 </td><td>4    </td><td>108.0</td><td> 93  </td><td>3.85 </td><td>2.320</td><td>18.61</td><td>1    </td><td>1    </td><td>4    </td><td>1    </td></tr>\n",
       "\t<tr><th scope=row>Hornet 4 Drive</th><td>21.4 </td><td>6    </td><td>258.0</td><td>110  </td><td>3.08 </td><td>3.215</td><td>19.44</td><td>1    </td><td>0    </td><td>3    </td><td>1    </td></tr>\n",
       "\t<tr><th scope=row>Hornet Sportabout</th><td>18.7 </td><td>8    </td><td>360.0</td><td>175  </td><td>3.15 </td><td>3.440</td><td>17.02</td><td>0    </td><td>0    </td><td>3    </td><td>2    </td></tr>\n",
       "\t<tr><th scope=row>Valiant</th><td>18.1 </td><td>6    </td><td>225.0</td><td>105  </td><td>2.76 </td><td>3.460</td><td>20.22</td><td>1    </td><td>0    </td><td>3    </td><td>1    </td></tr>\n",
       "\t<tr><th scope=row>Duster 360</th><td>14.3 </td><td>8    </td><td>360.0</td><td>245  </td><td>3.21 </td><td>3.570</td><td>15.84</td><td>0    </td><td>0    </td><td>3    </td><td>4    </td></tr>\n",
       "\t<tr><th scope=row>Merc 240D</th><td>24.4 </td><td>4    </td><td>146.7</td><td> 62  </td><td>3.69 </td><td>3.190</td><td>20.00</td><td>1    </td><td>0    </td><td>4    </td><td>2    </td></tr>\n",
       "\t<tr><th scope=row>Merc 230</th><td>22.8 </td><td>4    </td><td>140.8</td><td> 95  </td><td>3.92 </td><td>3.150</td><td>22.90</td><td>1    </td><td>0    </td><td>4    </td><td>2    </td></tr>\n",
       "\t<tr><th scope=row>Merc 280</th><td>19.2 </td><td>6    </td><td>167.6</td><td>123  </td><td>3.92 </td><td>3.440</td><td>18.30</td><td>1    </td><td>0    </td><td>4    </td><td>4    </td></tr>\n",
       "\t<tr><th scope=row>Merc 280C</th><td>17.8 </td><td>6    </td><td>167.6</td><td>123  </td><td>3.92 </td><td>3.440</td><td>18.90</td><td>1    </td><td>0    </td><td>4    </td><td>4    </td></tr>\n",
       "\t<tr><th scope=row>Merc 450SE</th><td>16.4 </td><td>8    </td><td>275.8</td><td>180  </td><td>3.07 </td><td>4.070</td><td>17.40</td><td>0    </td><td>0    </td><td>3    </td><td>3    </td></tr>\n",
       "\t<tr><th scope=row>Merc 450SL</th><td>17.3 </td><td>8    </td><td>275.8</td><td>180  </td><td>3.07 </td><td>3.730</td><td>17.60</td><td>0    </td><td>0    </td><td>3    </td><td>3    </td></tr>\n",
       "\t<tr><th scope=row>Merc 450SLC</th><td>15.2 </td><td>8    </td><td>275.8</td><td>180  </td><td>3.07 </td><td>3.780</td><td>18.00</td><td>0    </td><td>0    </td><td>3    </td><td>3    </td></tr>\n",
       "\t<tr><th scope=row>Cadillac Fleetwood</th><td>10.4 </td><td>8    </td><td>472.0</td><td>205  </td><td>2.93 </td><td>5.250</td><td>17.98</td><td>0    </td><td>0    </td><td>3    </td><td>4    </td></tr>\n",
       "\t<tr><th scope=row>Lincoln Continental</th><td>10.4 </td><td>8    </td><td>460.0</td><td>215  </td><td>3.00 </td><td>5.424</td><td>17.82</td><td>0    </td><td>0    </td><td>3    </td><td>4    </td></tr>\n",
       "\t<tr><th scope=row>Chrysler Imperial</th><td>14.7 </td><td>8    </td><td>440.0</td><td>230  </td><td>3.23 </td><td>5.345</td><td>17.42</td><td>0    </td><td>0    </td><td>3    </td><td>4    </td></tr>\n",
       "\t<tr><th scope=row>Fiat 128</th><td>32.4 </td><td>4    </td><td> 78.7</td><td> 66  </td><td>4.08 </td><td>2.200</td><td>19.47</td><td>1    </td><td>1    </td><td>4    </td><td>1    </td></tr>\n",
       "\t<tr><th scope=row>Honda Civic</th><td>30.4 </td><td>4    </td><td> 75.7</td><td> 52  </td><td>4.93 </td><td>1.615</td><td>18.52</td><td>1    </td><td>1    </td><td>4    </td><td>2    </td></tr>\n",
       "\t<tr><th scope=row>Toyota Corolla</th><td>33.9 </td><td>4    </td><td> 71.1</td><td> 65  </td><td>4.22 </td><td>1.835</td><td>19.90</td><td>1    </td><td>1    </td><td>4    </td><td>1    </td></tr>\n",
       "\t<tr><th scope=row>Toyota Corona</th><td>21.5 </td><td>4    </td><td>120.1</td><td> 97  </td><td>3.70 </td><td>2.465</td><td>20.01</td><td>1    </td><td>0    </td><td>3    </td><td>1    </td></tr>\n",
       "\t<tr><th scope=row>Dodge Challenger</th><td>15.5 </td><td>8    </td><td>318.0</td><td>150  </td><td>2.76 </td><td>3.520</td><td>16.87</td><td>0    </td><td>0    </td><td>3    </td><td>2    </td></tr>\n",
       "\t<tr><th scope=row>AMC Javelin</th><td>15.2 </td><td>8    </td><td>304.0</td><td>150  </td><td>3.15 </td><td>3.435</td><td>17.30</td><td>0    </td><td>0    </td><td>3    </td><td>2    </td></tr>\n",
       "\t<tr><th scope=row>Camaro Z28</th><td>13.3 </td><td>8    </td><td>350.0</td><td>245  </td><td>3.73 </td><td>3.840</td><td>15.41</td><td>0    </td><td>0    </td><td>3    </td><td>4    </td></tr>\n",
       "\t<tr><th scope=row>Pontiac Firebird</th><td>19.2 </td><td>8    </td><td>400.0</td><td>175  </td><td>3.08 </td><td>3.845</td><td>17.05</td><td>0    </td><td>0    </td><td>3    </td><td>2    </td></tr>\n",
       "\t<tr><th scope=row>Fiat X1-9</th><td>27.3 </td><td>4    </td><td> 79.0</td><td> 66  </td><td>4.08 </td><td>1.935</td><td>18.90</td><td>1    </td><td>1    </td><td>4    </td><td>1    </td></tr>\n",
       "\t<tr><th scope=row>Porsche 914-2</th><td>26.0 </td><td>4    </td><td>120.3</td><td> 91  </td><td>4.43 </td><td>2.140</td><td>16.70</td><td>0    </td><td>1    </td><td>5    </td><td>2    </td></tr>\n",
       "\t<tr><th scope=row>Lotus Europa</th><td>30.4 </td><td>4    </td><td> 95.1</td><td>113  </td><td>3.77 </td><td>1.513</td><td>16.90</td><td>1    </td><td>1    </td><td>5    </td><td>2    </td></tr>\n",
       "\t<tr><th scope=row>Ford Pantera L</th><td>15.8 </td><td>8    </td><td>351.0</td><td>264  </td><td>4.22 </td><td>3.170</td><td>14.50</td><td>0    </td><td>1    </td><td>5    </td><td>4    </td></tr>\n",
       "\t<tr><th scope=row>Ferrari Dino</th><td>19.7 </td><td>6    </td><td>145.0</td><td>175  </td><td>3.62 </td><td>2.770</td><td>15.50</td><td>0    </td><td>1    </td><td>5    </td><td>6    </td></tr>\n",
       "\t<tr><th scope=row>Maserati Bora</th><td>15.0 </td><td>8    </td><td>301.0</td><td>335  </td><td>3.54 </td><td>3.570</td><td>14.60</td><td>0    </td><td>1    </td><td>5    </td><td>8    </td></tr>\n",
       "\t<tr><th scope=row>Volvo 142E</th><td>21.4 </td><td>4    </td><td>121.0</td><td>109  </td><td>4.11 </td><td>2.780</td><td>18.60</td><td>1    </td><td>1    </td><td>4    </td><td>2    </td></tr>\n",
       "</tbody>\n",
       "</table>\n"
      ],
      "text/latex": [
       "\\begin{tabular}{r|lllllllllll}\n",
       "  & mpg & cyl & disp & hp & drat & wt & qsec & vs & am & gear & carb\\\\\n",
       "\\hline\n",
       "\tMazda RX4 & 21.0  & 6     & 160.0 & 110   & 3.90  & 2.620 & 16.46 & 0     & 1     & 4     & 4    \\\\\n",
       "\tMazda RX4 Wag & 21.0  & 6     & 160.0 & 110   & 3.90  & 2.875 & 17.02 & 0     & 1     & 4     & 4    \\\\\n",
       "\tDatsun 710 & 22.8  & 4     & 108.0 &  93   & 3.85  & 2.320 & 18.61 & 1     & 1     & 4     & 1    \\\\\n",
       "\tHornet 4 Drive & 21.4  & 6     & 258.0 & 110   & 3.08  & 3.215 & 19.44 & 1     & 0     & 3     & 1    \\\\\n",
       "\tHornet Sportabout & 18.7  & 8     & 360.0 & 175   & 3.15  & 3.440 & 17.02 & 0     & 0     & 3     & 2    \\\\\n",
       "\tValiant & 18.1  & 6     & 225.0 & 105   & 2.76  & 3.460 & 20.22 & 1     & 0     & 3     & 1    \\\\\n",
       "\tDuster 360 & 14.3  & 8     & 360.0 & 245   & 3.21  & 3.570 & 15.84 & 0     & 0     & 3     & 4    \\\\\n",
       "\tMerc 240D & 24.4  & 4     & 146.7 &  62   & 3.69  & 3.190 & 20.00 & 1     & 0     & 4     & 2    \\\\\n",
       "\tMerc 230 & 22.8  & 4     & 140.8 &  95   & 3.92  & 3.150 & 22.90 & 1     & 0     & 4     & 2    \\\\\n",
       "\tMerc 280 & 19.2  & 6     & 167.6 & 123   & 3.92  & 3.440 & 18.30 & 1     & 0     & 4     & 4    \\\\\n",
       "\tMerc 280C & 17.8  & 6     & 167.6 & 123   & 3.92  & 3.440 & 18.90 & 1     & 0     & 4     & 4    \\\\\n",
       "\tMerc 450SE & 16.4  & 8     & 275.8 & 180   & 3.07  & 4.070 & 17.40 & 0     & 0     & 3     & 3    \\\\\n",
       "\tMerc 450SL & 17.3  & 8     & 275.8 & 180   & 3.07  & 3.730 & 17.60 & 0     & 0     & 3     & 3    \\\\\n",
       "\tMerc 450SLC & 15.2  & 8     & 275.8 & 180   & 3.07  & 3.780 & 18.00 & 0     & 0     & 3     & 3    \\\\\n",
       "\tCadillac Fleetwood & 10.4  & 8     & 472.0 & 205   & 2.93  & 5.250 & 17.98 & 0     & 0     & 3     & 4    \\\\\n",
       "\tLincoln Continental & 10.4  & 8     & 460.0 & 215   & 3.00  & 5.424 & 17.82 & 0     & 0     & 3     & 4    \\\\\n",
       "\tChrysler Imperial & 14.7  & 8     & 440.0 & 230   & 3.23  & 5.345 & 17.42 & 0     & 0     & 3     & 4    \\\\\n",
       "\tFiat 128 & 32.4  & 4     &  78.7 &  66   & 4.08  & 2.200 & 19.47 & 1     & 1     & 4     & 1    \\\\\n",
       "\tHonda Civic & 30.4  & 4     &  75.7 &  52   & 4.93  & 1.615 & 18.52 & 1     & 1     & 4     & 2    \\\\\n",
       "\tToyota Corolla & 33.9  & 4     &  71.1 &  65   & 4.22  & 1.835 & 19.90 & 1     & 1     & 4     & 1    \\\\\n",
       "\tToyota Corona & 21.5  & 4     & 120.1 &  97   & 3.70  & 2.465 & 20.01 & 1     & 0     & 3     & 1    \\\\\n",
       "\tDodge Challenger & 15.5  & 8     & 318.0 & 150   & 2.76  & 3.520 & 16.87 & 0     & 0     & 3     & 2    \\\\\n",
       "\tAMC Javelin & 15.2  & 8     & 304.0 & 150   & 3.15  & 3.435 & 17.30 & 0     & 0     & 3     & 2    \\\\\n",
       "\tCamaro Z28 & 13.3  & 8     & 350.0 & 245   & 3.73  & 3.840 & 15.41 & 0     & 0     & 3     & 4    \\\\\n",
       "\tPontiac Firebird & 19.2  & 8     & 400.0 & 175   & 3.08  & 3.845 & 17.05 & 0     & 0     & 3     & 2    \\\\\n",
       "\tFiat X1-9 & 27.3  & 4     &  79.0 &  66   & 4.08  & 1.935 & 18.90 & 1     & 1     & 4     & 1    \\\\\n",
       "\tPorsche 914-2 & 26.0  & 4     & 120.3 &  91   & 4.43  & 2.140 & 16.70 & 0     & 1     & 5     & 2    \\\\\n",
       "\tLotus Europa & 30.4  & 4     &  95.1 & 113   & 3.77  & 1.513 & 16.90 & 1     & 1     & 5     & 2    \\\\\n",
       "\tFord Pantera L & 15.8  & 8     & 351.0 & 264   & 4.22  & 3.170 & 14.50 & 0     & 1     & 5     & 4    \\\\\n",
       "\tFerrari Dino & 19.7  & 6     & 145.0 & 175   & 3.62  & 2.770 & 15.50 & 0     & 1     & 5     & 6    \\\\\n",
       "\tMaserati Bora & 15.0  & 8     & 301.0 & 335   & 3.54  & 3.570 & 14.60 & 0     & 1     & 5     & 8    \\\\\n",
       "\tVolvo 142E & 21.4  & 4     & 121.0 & 109   & 4.11  & 2.780 & 18.60 & 1     & 1     & 4     & 2    \\\\\n",
       "\\end{tabular}\n"
      ],
      "text/markdown": [
       "\n",
       "| <!--/--> | mpg | cyl | disp | hp | drat | wt | qsec | vs | am | gear | carb |\n",
       "|---|---|---|---|---|---|---|---|---|---|---|---|\n",
       "| Mazda RX4 | 21.0  | 6     | 160.0 | 110   | 3.90  | 2.620 | 16.46 | 0     | 1     | 4     | 4     |\n",
       "| Mazda RX4 Wag | 21.0  | 6     | 160.0 | 110   | 3.90  | 2.875 | 17.02 | 0     | 1     | 4     | 4     |\n",
       "| Datsun 710 | 22.8  | 4     | 108.0 |  93   | 3.85  | 2.320 | 18.61 | 1     | 1     | 4     | 1     |\n",
       "| Hornet 4 Drive | 21.4  | 6     | 258.0 | 110   | 3.08  | 3.215 | 19.44 | 1     | 0     | 3     | 1     |\n",
       "| Hornet Sportabout | 18.7  | 8     | 360.0 | 175   | 3.15  | 3.440 | 17.02 | 0     | 0     | 3     | 2     |\n",
       "| Valiant | 18.1  | 6     | 225.0 | 105   | 2.76  | 3.460 | 20.22 | 1     | 0     | 3     | 1     |\n",
       "| Duster 360 | 14.3  | 8     | 360.0 | 245   | 3.21  | 3.570 | 15.84 | 0     | 0     | 3     | 4     |\n",
       "| Merc 240D | 24.4  | 4     | 146.7 |  62   | 3.69  | 3.190 | 20.00 | 1     | 0     | 4     | 2     |\n",
       "| Merc 230 | 22.8  | 4     | 140.8 |  95   | 3.92  | 3.150 | 22.90 | 1     | 0     | 4     | 2     |\n",
       "| Merc 280 | 19.2  | 6     | 167.6 | 123   | 3.92  | 3.440 | 18.30 | 1     | 0     | 4     | 4     |\n",
       "| Merc 280C | 17.8  | 6     | 167.6 | 123   | 3.92  | 3.440 | 18.90 | 1     | 0     | 4     | 4     |\n",
       "| Merc 450SE | 16.4  | 8     | 275.8 | 180   | 3.07  | 4.070 | 17.40 | 0     | 0     | 3     | 3     |\n",
       "| Merc 450SL | 17.3  | 8     | 275.8 | 180   | 3.07  | 3.730 | 17.60 | 0     | 0     | 3     | 3     |\n",
       "| Merc 450SLC | 15.2  | 8     | 275.8 | 180   | 3.07  | 3.780 | 18.00 | 0     | 0     | 3     | 3     |\n",
       "| Cadillac Fleetwood | 10.4  | 8     | 472.0 | 205   | 2.93  | 5.250 | 17.98 | 0     | 0     | 3     | 4     |\n",
       "| Lincoln Continental | 10.4  | 8     | 460.0 | 215   | 3.00  | 5.424 | 17.82 | 0     | 0     | 3     | 4     |\n",
       "| Chrysler Imperial | 14.7  | 8     | 440.0 | 230   | 3.23  | 5.345 | 17.42 | 0     | 0     | 3     | 4     |\n",
       "| Fiat 128 | 32.4  | 4     |  78.7 |  66   | 4.08  | 2.200 | 19.47 | 1     | 1     | 4     | 1     |\n",
       "| Honda Civic | 30.4  | 4     |  75.7 |  52   | 4.93  | 1.615 | 18.52 | 1     | 1     | 4     | 2     |\n",
       "| Toyota Corolla | 33.9  | 4     |  71.1 |  65   | 4.22  | 1.835 | 19.90 | 1     | 1     | 4     | 1     |\n",
       "| Toyota Corona | 21.5  | 4     | 120.1 |  97   | 3.70  | 2.465 | 20.01 | 1     | 0     | 3     | 1     |\n",
       "| Dodge Challenger | 15.5  | 8     | 318.0 | 150   | 2.76  | 3.520 | 16.87 | 0     | 0     | 3     | 2     |\n",
       "| AMC Javelin | 15.2  | 8     | 304.0 | 150   | 3.15  | 3.435 | 17.30 | 0     | 0     | 3     | 2     |\n",
       "| Camaro Z28 | 13.3  | 8     | 350.0 | 245   | 3.73  | 3.840 | 15.41 | 0     | 0     | 3     | 4     |\n",
       "| Pontiac Firebird | 19.2  | 8     | 400.0 | 175   | 3.08  | 3.845 | 17.05 | 0     | 0     | 3     | 2     |\n",
       "| Fiat X1-9 | 27.3  | 4     |  79.0 |  66   | 4.08  | 1.935 | 18.90 | 1     | 1     | 4     | 1     |\n",
       "| Porsche 914-2 | 26.0  | 4     | 120.3 |  91   | 4.43  | 2.140 | 16.70 | 0     | 1     | 5     | 2     |\n",
       "| Lotus Europa | 30.4  | 4     |  95.1 | 113   | 3.77  | 1.513 | 16.90 | 1     | 1     | 5     | 2     |\n",
       "| Ford Pantera L | 15.8  | 8     | 351.0 | 264   | 4.22  | 3.170 | 14.50 | 0     | 1     | 5     | 4     |\n",
       "| Ferrari Dino | 19.7  | 6     | 145.0 | 175   | 3.62  | 2.770 | 15.50 | 0     | 1     | 5     | 6     |\n",
       "| Maserati Bora | 15.0  | 8     | 301.0 | 335   | 3.54  | 3.570 | 14.60 | 0     | 1     | 5     | 8     |\n",
       "| Volvo 142E | 21.4  | 4     | 121.0 | 109   | 4.11  | 2.780 | 18.60 | 1     | 1     | 4     | 2     |\n",
       "\n"
      ],
      "text/plain": [
       "                    mpg  cyl disp  hp  drat wt    qsec  vs am gear carb\n",
       "Mazda RX4           21.0 6   160.0 110 3.90 2.620 16.46 0  1  4    4   \n",
       "Mazda RX4 Wag       21.0 6   160.0 110 3.90 2.875 17.02 0  1  4    4   \n",
       "Datsun 710          22.8 4   108.0  93 3.85 2.320 18.61 1  1  4    1   \n",
       "Hornet 4 Drive      21.4 6   258.0 110 3.08 3.215 19.44 1  0  3    1   \n",
       "Hornet Sportabout   18.7 8   360.0 175 3.15 3.440 17.02 0  0  3    2   \n",
       "Valiant             18.1 6   225.0 105 2.76 3.460 20.22 1  0  3    1   \n",
       "Duster 360          14.3 8   360.0 245 3.21 3.570 15.84 0  0  3    4   \n",
       "Merc 240D           24.4 4   146.7  62 3.69 3.190 20.00 1  0  4    2   \n",
       "Merc 230            22.8 4   140.8  95 3.92 3.150 22.90 1  0  4    2   \n",
       "Merc 280            19.2 6   167.6 123 3.92 3.440 18.30 1  0  4    4   \n",
       "Merc 280C           17.8 6   167.6 123 3.92 3.440 18.90 1  0  4    4   \n",
       "Merc 450SE          16.4 8   275.8 180 3.07 4.070 17.40 0  0  3    3   \n",
       "Merc 450SL          17.3 8   275.8 180 3.07 3.730 17.60 0  0  3    3   \n",
       "Merc 450SLC         15.2 8   275.8 180 3.07 3.780 18.00 0  0  3    3   \n",
       "Cadillac Fleetwood  10.4 8   472.0 205 2.93 5.250 17.98 0  0  3    4   \n",
       "Lincoln Continental 10.4 8   460.0 215 3.00 5.424 17.82 0  0  3    4   \n",
       "Chrysler Imperial   14.7 8   440.0 230 3.23 5.345 17.42 0  0  3    4   \n",
       "Fiat 128            32.4 4    78.7  66 4.08 2.200 19.47 1  1  4    1   \n",
       "Honda Civic         30.4 4    75.7  52 4.93 1.615 18.52 1  1  4    2   \n",
       "Toyota Corolla      33.9 4    71.1  65 4.22 1.835 19.90 1  1  4    1   \n",
       "Toyota Corona       21.5 4   120.1  97 3.70 2.465 20.01 1  0  3    1   \n",
       "Dodge Challenger    15.5 8   318.0 150 2.76 3.520 16.87 0  0  3    2   \n",
       "AMC Javelin         15.2 8   304.0 150 3.15 3.435 17.30 0  0  3    2   \n",
       "Camaro Z28          13.3 8   350.0 245 3.73 3.840 15.41 0  0  3    4   \n",
       "Pontiac Firebird    19.2 8   400.0 175 3.08 3.845 17.05 0  0  3    2   \n",
       "Fiat X1-9           27.3 4    79.0  66 4.08 1.935 18.90 1  1  4    1   \n",
       "Porsche 914-2       26.0 4   120.3  91 4.43 2.140 16.70 0  1  5    2   \n",
       "Lotus Europa        30.4 4    95.1 113 3.77 1.513 16.90 1  1  5    2   \n",
       "Ford Pantera L      15.8 8   351.0 264 4.22 3.170 14.50 0  1  5    4   \n",
       "Ferrari Dino        19.7 6   145.0 175 3.62 2.770 15.50 0  1  5    6   \n",
       "Maserati Bora       15.0 8   301.0 335 3.54 3.570 14.60 0  1  5    8   \n",
       "Volvo 142E          21.4 4   121.0 109 4.11 2.780 18.60 1  1  4    2   "
      ]
     },
     "metadata": {},
     "output_type": "display_data"
    }
   ],
   "source": [
    "mtcars"
   ]
  },
  {
   "cell_type": "code",
   "execution_count": 118,
   "metadata": {},
   "outputs": [
    {
     "data": {
      "text/html": [
       "<table>\n",
       "<thead><tr><th></th><th scope=col>mpg</th><th scope=col>cyl</th><th scope=col>disp</th><th scope=col>hp</th><th scope=col>drat</th><th scope=col>wt</th><th scope=col>qsec</th><th scope=col>vs</th><th scope=col>am</th><th scope=col>gear</th><th scope=col>carb</th></tr></thead>\n",
       "<tbody>\n",
       "\t<tr><th scope=row>Mazda RX4</th><td>21   </td><td>6    </td><td>160  </td><td>110  </td><td>3.9  </td><td>2.620</td><td>16.46</td><td>0    </td><td>1    </td><td>4    </td><td>4    </td></tr>\n",
       "\t<tr><th scope=row>Mazda RX4 Wag</th><td>21   </td><td>6    </td><td>160  </td><td>110  </td><td>3.9  </td><td>2.875</td><td>17.02</td><td>0    </td><td>1    </td><td>4    </td><td>4    </td></tr>\n",
       "</tbody>\n",
       "</table>\n"
      ],
      "text/latex": [
       "\\begin{tabular}{r|lllllllllll}\n",
       "  & mpg & cyl & disp & hp & drat & wt & qsec & vs & am & gear & carb\\\\\n",
       "\\hline\n",
       "\tMazda RX4 & 21    & 6     & 160   & 110   & 3.9   & 2.620 & 16.46 & 0     & 1     & 4     & 4    \\\\\n",
       "\tMazda RX4 Wag & 21    & 6     & 160   & 110   & 3.9   & 2.875 & 17.02 & 0     & 1     & 4     & 4    \\\\\n",
       "\\end{tabular}\n"
      ],
      "text/markdown": [
       "\n",
       "| <!--/--> | mpg | cyl | disp | hp | drat | wt | qsec | vs | am | gear | carb |\n",
       "|---|---|---|---|---|---|---|---|---|---|---|---|\n",
       "| Mazda RX4 | 21    | 6     | 160   | 110   | 3.9   | 2.620 | 16.46 | 0     | 1     | 4     | 4     |\n",
       "| Mazda RX4 Wag | 21    | 6     | 160   | 110   | 3.9   | 2.875 | 17.02 | 0     | 1     | 4     | 4     |\n",
       "\n"
      ],
      "text/plain": [
       "              mpg cyl disp hp  drat wt    qsec  vs am gear carb\n",
       "Mazda RX4     21  6   160  110 3.9  2.620 16.46 0  1  4    4   \n",
       "Mazda RX4 Wag 21  6   160  110 3.9  2.875 17.02 0  1  4    4   "
      ]
     },
     "metadata": {},
     "output_type": "display_data"
    }
   ],
   "source": [
    "head(mtcars, n=2)"
   ]
  },
  {
   "cell_type": "code",
   "execution_count": 120,
   "metadata": {},
   "outputs": [
    {
     "data": {
      "text/html": [
       "<table>\n",
       "<thead><tr><th></th><th scope=col>mpg</th><th scope=col>cyl</th><th scope=col>disp</th><th scope=col>hp</th><th scope=col>drat</th><th scope=col>wt</th><th scope=col>qsec</th><th scope=col>vs</th><th scope=col>am</th><th scope=col>gear</th><th scope=col>carb</th></tr></thead>\n",
       "<tbody>\n",
       "\t<tr><th scope=row>Mazda RX4</th><td>21.0 </td><td>6    </td><td>160  </td><td>110  </td><td>3.90 </td><td>2.620</td><td>16.46</td><td>0    </td><td>1    </td><td>4    </td><td>4    </td></tr>\n",
       "\t<tr><th scope=row>Mazda RX4 Wag</th><td>21.0 </td><td>6    </td><td>160  </td><td>110  </td><td>3.90 </td><td>2.875</td><td>17.02</td><td>0    </td><td>1    </td><td>4    </td><td>4    </td></tr>\n",
       "\t<tr><th scope=row>Datsun 710</th><td>22.8 </td><td>4    </td><td>108  </td><td> 93  </td><td>3.85 </td><td>2.320</td><td>18.61</td><td>1    </td><td>1    </td><td>4    </td><td>1    </td></tr>\n",
       "\t<tr><th scope=row>Hornet 4 Drive</th><td>21.4 </td><td>6    </td><td>258  </td><td>110  </td><td>3.08 </td><td>3.215</td><td>19.44</td><td>1    </td><td>0    </td><td>3    </td><td>1    </td></tr>\n",
       "\t<tr><th scope=row>Hornet Sportabout</th><td>18.7 </td><td>8    </td><td>360  </td><td>175  </td><td>3.15 </td><td>3.440</td><td>17.02</td><td>0    </td><td>0    </td><td>3    </td><td>2    </td></tr>\n",
       "\t<tr><th scope=row>Valiant</th><td>18.1 </td><td>6    </td><td>225  </td><td>105  </td><td>2.76 </td><td>3.460</td><td>20.22</td><td>1    </td><td>0    </td><td>3    </td><td>1    </td></tr>\n",
       "</tbody>\n",
       "</table>\n"
      ],
      "text/latex": [
       "\\begin{tabular}{r|lllllllllll}\n",
       "  & mpg & cyl & disp & hp & drat & wt & qsec & vs & am & gear & carb\\\\\n",
       "\\hline\n",
       "\tMazda RX4 & 21.0  & 6     & 160   & 110   & 3.90  & 2.620 & 16.46 & 0     & 1     & 4     & 4    \\\\\n",
       "\tMazda RX4 Wag & 21.0  & 6     & 160   & 110   & 3.90  & 2.875 & 17.02 & 0     & 1     & 4     & 4    \\\\\n",
       "\tDatsun 710 & 22.8  & 4     & 108   &  93   & 3.85  & 2.320 & 18.61 & 1     & 1     & 4     & 1    \\\\\n",
       "\tHornet 4 Drive & 21.4  & 6     & 258   & 110   & 3.08  & 3.215 & 19.44 & 1     & 0     & 3     & 1    \\\\\n",
       "\tHornet Sportabout & 18.7  & 8     & 360   & 175   & 3.15  & 3.440 & 17.02 & 0     & 0     & 3     & 2    \\\\\n",
       "\tValiant & 18.1  & 6     & 225   & 105   & 2.76  & 3.460 & 20.22 & 1     & 0     & 3     & 1    \\\\\n",
       "\\end{tabular}\n"
      ],
      "text/markdown": [
       "\n",
       "| <!--/--> | mpg | cyl | disp | hp | drat | wt | qsec | vs | am | gear | carb |\n",
       "|---|---|---|---|---|---|---|---|---|---|---|---|\n",
       "| Mazda RX4 | 21.0  | 6     | 160   | 110   | 3.90  | 2.620 | 16.46 | 0     | 1     | 4     | 4     |\n",
       "| Mazda RX4 Wag | 21.0  | 6     | 160   | 110   | 3.90  | 2.875 | 17.02 | 0     | 1     | 4     | 4     |\n",
       "| Datsun 710 | 22.8  | 4     | 108   |  93   | 3.85  | 2.320 | 18.61 | 1     | 1     | 4     | 1     |\n",
       "| Hornet 4 Drive | 21.4  | 6     | 258   | 110   | 3.08  | 3.215 | 19.44 | 1     | 0     | 3     | 1     |\n",
       "| Hornet Sportabout | 18.7  | 8     | 360   | 175   | 3.15  | 3.440 | 17.02 | 0     | 0     | 3     | 2     |\n",
       "| Valiant | 18.1  | 6     | 225   | 105   | 2.76  | 3.460 | 20.22 | 1     | 0     | 3     | 1     |\n",
       "\n"
      ],
      "text/plain": [
       "                  mpg  cyl disp hp  drat wt    qsec  vs am gear carb\n",
       "Mazda RX4         21.0 6   160  110 3.90 2.620 16.46 0  1  4    4   \n",
       "Mazda RX4 Wag     21.0 6   160  110 3.90 2.875 17.02 0  1  4    4   \n",
       "Datsun 710        22.8 4   108   93 3.85 2.320 18.61 1  1  4    1   \n",
       "Hornet 4 Drive    21.4 6   258  110 3.08 3.215 19.44 1  0  3    1   \n",
       "Hornet Sportabout 18.7 8   360  175 3.15 3.440 17.02 0  0  3    2   \n",
       "Valiant           18.1 6   225  105 2.76 3.460 20.22 1  0  3    1   "
      ]
     },
     "metadata": {},
     "output_type": "display_data"
    }
   ],
   "source": [
    "head(mtcars)"
   ]
  },
  {
   "cell_type": "code",
   "execution_count": 122,
   "metadata": {},
   "outputs": [
    {
     "name": "stdout",
     "output_type": "stream",
     "text": [
      "'data.frame':\t32 obs. of  11 variables:\n",
      " $ mpg : num  21 21 22.8 21.4 18.7 18.1 14.3 24.4 22.8 19.2 ...\n",
      " $ cyl : num  6 6 4 6 8 6 8 4 4 6 ...\n",
      " $ disp: num  160 160 108 258 360 ...\n",
      " $ hp  : num  110 110 93 110 175 105 245 62 95 123 ...\n",
      " $ drat: num  3.9 3.9 3.85 3.08 3.15 2.76 3.21 3.69 3.92 3.92 ...\n",
      " $ wt  : num  2.62 2.88 2.32 3.21 3.44 ...\n",
      " $ qsec: num  16.5 17 18.6 19.4 17 ...\n",
      " $ vs  : num  0 0 1 1 0 1 0 1 1 1 ...\n",
      " $ am  : num  1 1 1 0 0 0 0 0 0 0 ...\n",
      " $ gear: num  4 4 4 3 3 3 3 4 4 4 ...\n",
      " $ carb: num  4 4 1 1 2 1 4 2 2 4 ...\n"
     ]
    }
   ],
   "source": [
    "str(mtcars)"
   ]
  },
  {
   "cell_type": "code",
   "execution_count": 125,
   "metadata": {},
   "outputs": [],
   "source": [
    "# ?mtcars"
   ]
  },
  {
   "cell_type": "code",
   "execution_count": 126,
   "metadata": {},
   "outputs": [
    {
     "data": {
      "text/html": [
       "<ol class=list-inline>\n",
       "\t<li>'mpg'</li>\n",
       "\t<li>'cyl'</li>\n",
       "\t<li>'disp'</li>\n",
       "\t<li>'hp'</li>\n",
       "\t<li>'drat'</li>\n",
       "\t<li>'wt'</li>\n",
       "\t<li>'qsec'</li>\n",
       "\t<li>'vs'</li>\n",
       "\t<li>'am'</li>\n",
       "\t<li>'gear'</li>\n",
       "\t<li>'carb'</li>\n",
       "</ol>\n"
      ],
      "text/latex": [
       "\\begin{enumerate*}\n",
       "\\item 'mpg'\n",
       "\\item 'cyl'\n",
       "\\item 'disp'\n",
       "\\item 'hp'\n",
       "\\item 'drat'\n",
       "\\item 'wt'\n",
       "\\item 'qsec'\n",
       "\\item 'vs'\n",
       "\\item 'am'\n",
       "\\item 'gear'\n",
       "\\item 'carb'\n",
       "\\end{enumerate*}\n"
      ],
      "text/markdown": [
       "1. 'mpg'\n",
       "2. 'cyl'\n",
       "3. 'disp'\n",
       "4. 'hp'\n",
       "5. 'drat'\n",
       "6. 'wt'\n",
       "7. 'qsec'\n",
       "8. 'vs'\n",
       "9. 'am'\n",
       "10. 'gear'\n",
       "11. 'carb'\n",
       "\n",
       "\n"
      ],
      "text/plain": [
       " [1] \"mpg\"  \"cyl\"  \"disp\" \"hp\"   \"drat\" \"wt\"   \"qsec\" \"vs\"   \"am\"   \"gear\"\n",
       "[11] \"carb\""
      ]
     },
     "metadata": {},
     "output_type": "display_data"
    }
   ],
   "source": [
    "names(mtcars)"
   ]
  },
  {
   "cell_type": "code",
   "execution_count": 130,
   "metadata": {},
   "outputs": [
    {
     "data": {
      "text/html": [
       "<ol class=list-inline>\n",
       "\t<li>21</li>\n",
       "\t<li>21</li>\n",
       "\t<li>22.8</li>\n",
       "\t<li>21.4</li>\n",
       "\t<li>18.7</li>\n",
       "\t<li>18.1</li>\n",
       "\t<li>14.3</li>\n",
       "\t<li>24.4</li>\n",
       "\t<li>22.8</li>\n",
       "\t<li>19.2</li>\n",
       "\t<li>17.8</li>\n",
       "\t<li>16.4</li>\n",
       "\t<li>17.3</li>\n",
       "\t<li>15.2</li>\n",
       "\t<li>10.4</li>\n",
       "\t<li>10.4</li>\n",
       "\t<li>14.7</li>\n",
       "\t<li>32.4</li>\n",
       "\t<li>30.4</li>\n",
       "\t<li>33.9</li>\n",
       "\t<li>21.5</li>\n",
       "\t<li>15.5</li>\n",
       "\t<li>15.2</li>\n",
       "\t<li>13.3</li>\n",
       "\t<li>19.2</li>\n",
       "\t<li>27.3</li>\n",
       "\t<li>26</li>\n",
       "\t<li>30.4</li>\n",
       "\t<li>15.8</li>\n",
       "\t<li>19.7</li>\n",
       "\t<li>15</li>\n",
       "\t<li>21.4</li>\n",
       "</ol>\n"
      ],
      "text/latex": [
       "\\begin{enumerate*}\n",
       "\\item 21\n",
       "\\item 21\n",
       "\\item 22.8\n",
       "\\item 21.4\n",
       "\\item 18.7\n",
       "\\item 18.1\n",
       "\\item 14.3\n",
       "\\item 24.4\n",
       "\\item 22.8\n",
       "\\item 19.2\n",
       "\\item 17.8\n",
       "\\item 16.4\n",
       "\\item 17.3\n",
       "\\item 15.2\n",
       "\\item 10.4\n",
       "\\item 10.4\n",
       "\\item 14.7\n",
       "\\item 32.4\n",
       "\\item 30.4\n",
       "\\item 33.9\n",
       "\\item 21.5\n",
       "\\item 15.5\n",
       "\\item 15.2\n",
       "\\item 13.3\n",
       "\\item 19.2\n",
       "\\item 27.3\n",
       "\\item 26\n",
       "\\item 30.4\n",
       "\\item 15.8\n",
       "\\item 19.7\n",
       "\\item 15\n",
       "\\item 21.4\n",
       "\\end{enumerate*}\n"
      ],
      "text/markdown": [
       "1. 21\n",
       "2. 21\n",
       "3. 22.8\n",
       "4. 21.4\n",
       "5. 18.7\n",
       "6. 18.1\n",
       "7. 14.3\n",
       "8. 24.4\n",
       "9. 22.8\n",
       "10. 19.2\n",
       "11. 17.8\n",
       "12. 16.4\n",
       "13. 17.3\n",
       "14. 15.2\n",
       "15. 10.4\n",
       "16. 10.4\n",
       "17. 14.7\n",
       "18. 32.4\n",
       "19. 30.4\n",
       "20. 33.9\n",
       "21. 21.5\n",
       "22. 15.5\n",
       "23. 15.2\n",
       "24. 13.3\n",
       "25. 19.2\n",
       "26. 27.3\n",
       "27. 26\n",
       "28. 30.4\n",
       "29. 15.8\n",
       "30. 19.7\n",
       "31. 15\n",
       "32. 21.4\n",
       "\n",
       "\n"
      ],
      "text/plain": [
       " [1] 21.0 21.0 22.8 21.4 18.7 18.1 14.3 24.4 22.8 19.2 17.8 16.4 17.3 15.2 10.4\n",
       "[16] 10.4 14.7 32.4 30.4 33.9 21.5 15.5 15.2 13.3 19.2 27.3 26.0 30.4 15.8 19.7\n",
       "[31] 15.0 21.4"
      ]
     },
     "metadata": {},
     "output_type": "display_data"
    }
   ],
   "source": [
    "mtcars$mpg"
   ]
  },
  {
   "cell_type": "code",
   "execution_count": 132,
   "metadata": {},
   "outputs": [
    {
     "data": {
      "text/html": [
       "<ol class=list-inline>\n",
       "\t<li>32</li>\n",
       "\t<li>11</li>\n",
       "</ol>\n"
      ],
      "text/latex": [
       "\\begin{enumerate*}\n",
       "\\item 32\n",
       "\\item 11\n",
       "\\end{enumerate*}\n"
      ],
      "text/markdown": [
       "1. 32\n",
       "2. 11\n",
       "\n",
       "\n"
      ],
      "text/plain": [
       "[1] 32 11"
      ]
     },
     "metadata": {},
     "output_type": "display_data"
    }
   ],
   "source": [
    "dim(mtcars)"
   ]
  },
  {
   "cell_type": "code",
   "execution_count": 134,
   "metadata": {},
   "outputs": [
    {
     "data": {
      "text/html": [
       "32"
      ],
      "text/latex": [
       "32"
      ],
      "text/markdown": [
       "32"
      ],
      "text/plain": [
       "[1] 32"
      ]
     },
     "metadata": {},
     "output_type": "display_data"
    }
   ],
   "source": [
    "nrow(mtcars)"
   ]
  },
  {
   "cell_type": "code",
   "execution_count": 136,
   "metadata": {},
   "outputs": [
    {
     "data": {
      "text/html": [
       "11"
      ],
      "text/latex": [
       "11"
      ],
      "text/markdown": [
       "11"
      ],
      "text/plain": [
       "[1] 11"
      ]
     },
     "metadata": {},
     "output_type": "display_data"
    }
   ],
   "source": [
    "ncol(mtcars)"
   ]
  },
  {
   "cell_type": "code",
   "execution_count": 139,
   "metadata": {},
   "outputs": [
    {
     "data": {
      "text/html": [
       "<table>\n",
       "<thead><tr><th></th><th scope=col>cyl</th><th scope=col>vs</th><th scope=col>am</th></tr></thead>\n",
       "<tbody>\n",
       "\t<tr><th scope=row>Mazda RX4</th><td>6</td><td>0</td><td>1</td></tr>\n",
       "\t<tr><th scope=row>Mazda RX4 Wag</th><td>6</td><td>0</td><td>1</td></tr>\n",
       "\t<tr><th scope=row>Datsun 710</th><td>4</td><td>1</td><td>1</td></tr>\n",
       "\t<tr><th scope=row>Hornet 4 Drive</th><td>6</td><td>1</td><td>0</td></tr>\n",
       "\t<tr><th scope=row>Merc 240D</th><td>4</td><td>1</td><td>0</td></tr>\n",
       "\t<tr><th scope=row>Merc 230</th><td>4</td><td>1</td><td>0</td></tr>\n",
       "\t<tr><th scope=row>Fiat 128</th><td>4</td><td>1</td><td>1</td></tr>\n",
       "\t<tr><th scope=row>Honda Civic</th><td>4</td><td>1</td><td>1</td></tr>\n",
       "\t<tr><th scope=row>Toyota Corolla</th><td>4</td><td>1</td><td>1</td></tr>\n",
       "\t<tr><th scope=row>Toyota Corona</th><td>4</td><td>1</td><td>0</td></tr>\n",
       "\t<tr><th scope=row>Fiat X1-9</th><td>4</td><td>1</td><td>1</td></tr>\n",
       "\t<tr><th scope=row>Porsche 914-2</th><td>4</td><td>0</td><td>1</td></tr>\n",
       "\t<tr><th scope=row>Lotus Europa</th><td>4</td><td>1</td><td>1</td></tr>\n",
       "\t<tr><th scope=row>Volvo 142E</th><td>4</td><td>1</td><td>1</td></tr>\n",
       "</tbody>\n",
       "</table>\n"
      ],
      "text/latex": [
       "\\begin{tabular}{r|lll}\n",
       "  & cyl & vs & am\\\\\n",
       "\\hline\n",
       "\tMazda RX4 & 6 & 0 & 1\\\\\n",
       "\tMazda RX4 Wag & 6 & 0 & 1\\\\\n",
       "\tDatsun 710 & 4 & 1 & 1\\\\\n",
       "\tHornet 4 Drive & 6 & 1 & 0\\\\\n",
       "\tMerc 240D & 4 & 1 & 0\\\\\n",
       "\tMerc 230 & 4 & 1 & 0\\\\\n",
       "\tFiat 128 & 4 & 1 & 1\\\\\n",
       "\tHonda Civic & 4 & 1 & 1\\\\\n",
       "\tToyota Corolla & 4 & 1 & 1\\\\\n",
       "\tToyota Corona & 4 & 1 & 0\\\\\n",
       "\tFiat X1-9 & 4 & 1 & 1\\\\\n",
       "\tPorsche 914-2 & 4 & 0 & 1\\\\\n",
       "\tLotus Europa & 4 & 1 & 1\\\\\n",
       "\tVolvo 142E & 4 & 1 & 1\\\\\n",
       "\\end{tabular}\n"
      ],
      "text/markdown": [
       "\n",
       "| <!--/--> | cyl | vs | am |\n",
       "|---|---|---|---|\n",
       "| Mazda RX4 | 6 | 0 | 1 |\n",
       "| Mazda RX4 Wag | 6 | 0 | 1 |\n",
       "| Datsun 710 | 4 | 1 | 1 |\n",
       "| Hornet 4 Drive | 6 | 1 | 0 |\n",
       "| Merc 240D | 4 | 1 | 0 |\n",
       "| Merc 230 | 4 | 1 | 0 |\n",
       "| Fiat 128 | 4 | 1 | 1 |\n",
       "| Honda Civic | 4 | 1 | 1 |\n",
       "| Toyota Corolla | 4 | 1 | 1 |\n",
       "| Toyota Corona | 4 | 1 | 0 |\n",
       "| Fiat X1-9 | 4 | 1 | 1 |\n",
       "| Porsche 914-2 | 4 | 0 | 1 |\n",
       "| Lotus Europa | 4 | 1 | 1 |\n",
       "| Volvo 142E | 4 | 1 | 1 |\n",
       "\n"
      ],
      "text/plain": [
       "               cyl vs am\n",
       "Mazda RX4      6   0  1 \n",
       "Mazda RX4 Wag  6   0  1 \n",
       "Datsun 710     4   1  1 \n",
       "Hornet 4 Drive 6   1  0 \n",
       "Merc 240D      4   1  0 \n",
       "Merc 230       4   1  0 \n",
       "Fiat 128       4   1  1 \n",
       "Honda Civic    4   1  1 \n",
       "Toyota Corolla 4   1  1 \n",
       "Toyota Corona  4   1  0 \n",
       "Fiat X1-9      4   1  1 \n",
       "Porsche 914-2  4   0  1 \n",
       "Lotus Europa   4   1  1 \n",
       "Volvo 142E     4   1  1 "
      ]
     },
     "metadata": {},
     "output_type": "display_data"
    }
   ],
   "source": [
    "mtcars[mtcars$mpg > 20,c(\"cyl\",\"vs\", \"am\")]"
   ]
  },
  {
   "cell_type": "code",
   "execution_count": 144,
   "metadata": {},
   "outputs": [
    {
     "data": {
      "text/html": [
       "<table>\n",
       "<thead><tr><th></th><th scope=col>cyl</th><th scope=col>mpg</th></tr></thead>\n",
       "<tbody>\n",
       "\t<tr><th scope=row>Fiat 128</th><td>4   </td><td>32.4</td></tr>\n",
       "\t<tr><th scope=row>Honda Civic</th><td>4   </td><td>30.4</td></tr>\n",
       "\t<tr><th scope=row>Toyota Corolla</th><td>4   </td><td>33.9</td></tr>\n",
       "\t<tr><th scope=row>Fiat X1-9</th><td>4   </td><td>27.3</td></tr>\n",
       "\t<tr><th scope=row>Porsche 914-2</th><td>4   </td><td>26.0</td></tr>\n",
       "\t<tr><th scope=row>Lotus Europa</th><td>4   </td><td>30.4</td></tr>\n",
       "</tbody>\n",
       "</table>\n"
      ],
      "text/latex": [
       "\\begin{tabular}{r|ll}\n",
       "  & cyl & mpg\\\\\n",
       "\\hline\n",
       "\tFiat 128 & 4    & 32.4\\\\\n",
       "\tHonda Civic & 4    & 30.4\\\\\n",
       "\tToyota Corolla & 4    & 33.9\\\\\n",
       "\tFiat X1-9 & 4    & 27.3\\\\\n",
       "\tPorsche 914-2 & 4    & 26.0\\\\\n",
       "\tLotus Europa & 4    & 30.4\\\\\n",
       "\\end{tabular}\n"
      ],
      "text/markdown": [
       "\n",
       "| <!--/--> | cyl | mpg |\n",
       "|---|---|---|\n",
       "| Fiat 128 | 4    | 32.4 |\n",
       "| Honda Civic | 4    | 30.4 |\n",
       "| Toyota Corolla | 4    | 33.9 |\n",
       "| Fiat X1-9 | 4    | 27.3 |\n",
       "| Porsche 914-2 | 4    | 26.0 |\n",
       "| Lotus Europa | 4    | 30.4 |\n",
       "\n"
      ],
      "text/plain": [
       "               cyl mpg \n",
       "Fiat 128       4   32.4\n",
       "Honda Civic    4   30.4\n",
       "Toyota Corolla 4   33.9\n",
       "Fiat X1-9      4   27.3\n",
       "Porsche 914-2  4   26.0\n",
       "Lotus Europa   4   30.4"
      ]
     },
     "metadata": {},
     "output_type": "display_data"
    }
   ],
   "source": [
    "subset(mtcars, mtcars$mpg>25, select =c (\"cyl\", \"mpg\"))"
   ]
  },
  {
   "cell_type": "code",
   "execution_count": 146,
   "metadata": {},
   "outputs": [
    {
     "name": "stdout",
     "output_type": "stream",
     "text": [
      "'data.frame':\t32 obs. of  11 variables:\n",
      " $ mpg : num  21 21 22.8 21.4 18.7 18.1 14.3 24.4 22.8 19.2 ...\n",
      " $ cyl : num  6 6 4 6 8 6 8 4 4 6 ...\n",
      " $ disp: num  160 160 108 258 360 ...\n",
      " $ hp  : num  110 110 93 110 175 105 245 62 95 123 ...\n",
      " $ drat: num  3.9 3.9 3.85 3.08 3.15 2.76 3.21 3.69 3.92 3.92 ...\n",
      " $ wt  : num  2.62 2.88 2.32 3.21 3.44 ...\n",
      " $ qsec: num  16.5 17 18.6 19.4 17 ...\n",
      " $ vs  : num  0 0 1 1 0 1 0 1 1 1 ...\n",
      " $ am  : num  1 1 1 0 0 0 0 0 0 0 ...\n",
      " $ gear: num  4 4 4 3 3 3 3 4 4 4 ...\n",
      " $ carb: num  4 4 1 1 2 1 4 2 2 4 ...\n"
     ]
    }
   ],
   "source": [
    "str(mtcars)"
   ]
  },
  {
   "cell_type": "code",
   "execution_count": 148,
   "metadata": {},
   "outputs": [
    {
     "data": {
      "text/html": [
       "32"
      ],
      "text/latex": [
       "32"
      ],
      "text/markdown": [
       "32"
      ],
      "text/plain": [
       "[1] 32"
      ]
     },
     "metadata": {},
     "output_type": "display_data"
    }
   ],
   "source": [
    "nrow(mtcars)"
   ]
  },
  {
   "cell_type": "code",
   "execution_count": 150,
   "metadata": {},
   "outputs": [
    {
     "data": {
      "text/html": [
       "11"
      ],
      "text/latex": [
       "11"
      ],
      "text/markdown": [
       "11"
      ],
      "text/plain": [
       "[1] 11"
      ]
     },
     "metadata": {},
     "output_type": "display_data"
    }
   ],
   "source": [
    "ncol(mtcars)"
   ]
  },
  {
   "cell_type": "code",
   "execution_count": 152,
   "metadata": {},
   "outputs": [
    {
     "data": {
      "text/html": [
       "20.090625"
      ],
      "text/latex": [
       "20.090625"
      ],
      "text/markdown": [
       "20.090625"
      ],
      "text/plain": [
       "[1] 20.09062"
      ]
     },
     "metadata": {},
     "output_type": "display_data"
    }
   ],
   "source": [
    "mean(mtcars$mpg)"
   ]
  },
  {
   "cell_type": "code",
   "execution_count": 159,
   "metadata": {},
   "outputs": [
    {
     "data": {
      "text/html": [
       "16.647619047619"
      ],
      "text/latex": [
       "16.647619047619"
      ],
      "text/markdown": [
       "16.647619047619"
      ],
      "text/plain": [
       "[1] 16.64762"
      ]
     },
     "metadata": {},
     "output_type": "display_data"
    }
   ],
   "source": [
    "mean(subset(mtcars$mpg, mtcars$cyl>4, select=c(\"mpg\")))"
   ]
  },
  {
   "cell_type": "code",
   "execution_count": 161,
   "metadata": {},
   "outputs": [],
   "source": [
    "fu1=function(x){sqrt(x)}"
   ]
  },
  {
   "cell_type": "code",
   "execution_count": 164,
   "metadata": {},
   "outputs": [
    {
     "data": {
      "text/html": [
       "1.4142135623731"
      ],
      "text/latex": [
       "1.4142135623731"
      ],
      "text/markdown": [
       "1.4142135623731"
      ],
      "text/plain": [
       "[1] 1.414214"
      ]
     },
     "metadata": {},
     "output_type": "display_data"
    }
   ],
   "source": [
    "fu1(2)"
   ]
  },
  {
   "cell_type": "code",
   "execution_count": 172,
   "metadata": {},
   "outputs": [
    {
     "name": "stdout",
     "output_type": "stream",
     "text": [
      "[1] \"Not ok\"\n"
     ]
    }
   ],
   "source": [
    "t1=2\n",
    "t2=4\n",
    "if (t1>t2) {\n",
    "    print(\"ok\")\n",
    "    }else {\n",
    "    \n",
    "    print(\"Not ok\")\n",
    "    \n",
    "    }\n"
   ]
  },
  {
   "cell_type": "code",
   "execution_count": 174,
   "metadata": {},
   "outputs": [
    {
     "name": "stdout",
     "output_type": "stream",
     "text": [
      "[1] 1\n",
      "[1] 4\n",
      "[1] 9\n",
      "[1] 16\n",
      "[1] 25\n",
      "[1] 36\n",
      "[1] 49\n",
      "[1] 64\n",
      "[1] 81\n",
      "[1] 100\n",
      "[1] 121\n",
      "[1] 144\n",
      "[1] 169\n",
      "[1] 196\n",
      "[1] 225\n",
      "[1] 256\n",
      "[1] 289\n",
      "[1] 324\n",
      "[1] 361\n",
      "[1] 400\n",
      "[1] 441\n",
      "[1] 484\n",
      "[1] 529\n",
      "[1] 576\n",
      "[1] 625\n",
      "[1] 676\n",
      "[1] 729\n",
      "[1] 784\n",
      "[1] 841\n",
      "[1] 900\n",
      "[1] 961\n",
      "[1] 1024\n",
      "[1] 1089\n",
      "[1] 1156\n",
      "[1] 1225\n",
      "[1] 1296\n",
      "[1] 1369\n",
      "[1] 1444\n",
      "[1] 1521\n",
      "[1] 1600\n",
      "[1] 1681\n",
      "[1] 1764\n",
      "[1] 1849\n",
      "[1] 1936\n",
      "[1] 2025\n",
      "[1] 2116\n",
      "[1] 2209\n",
      "[1] 2304\n",
      "[1] 2401\n",
      "[1] 2500\n"
     ]
    }
   ],
   "source": [
    "for (i in 1:50){\n",
    "    print(i^2)\n",
    "}"
   ]
  },
  {
   "cell_type": "code",
   "execution_count": 181,
   "metadata": {},
   "outputs": [
    {
     "name": "stdout",
     "output_type": "stream",
     "text": [
      "[1] \"Dogo eats  Mnagoes\"\n",
      "[1] \"Dogo eats  apple\"\n",
      "[1] \"Dogo eats  guava\"\n"
     ]
    }
   ],
   "source": [
    "for ( i in c(\"Mnagoes\", \"apple\", \"guava\")) {\n",
    "    print(paste(\"Dogo eats \", i))\n",
    "    }\n"
   ]
  },
  {
   "cell_type": "code",
   "execution_count": 183,
   "metadata": {},
   "outputs": [
    {
     "name": "stdout",
     "output_type": "stream",
     "text": [
      "[1] \"I value: 2  J value: m\"\n",
      "[1] \"I value: 2  J value: j\"\n",
      "[1] \"I value: 2  J value: c\"\n",
      "[1] \"I value: 3  J value: m\"\n",
      "[1] \"I value: 3  J value: j\"\n",
      "[1] \"I value: 3  J value: c\"\n"
     ]
    }
   ],
   "source": [
    "for (i in 2:3){\n",
    "    for (j in c(\"m\", \"j\", \"c\")){\n",
    "        print(paste(\"I value:\", i, \" J value:\",j))\n",
    "    }\n",
    "}"
   ]
  },
  {
   "cell_type": "code",
   "execution_count": 203,
   "metadata": {},
   "outputs": [],
   "source": [
    "wala=function(x, y=10){\n",
    "    print(log(x,base=y))\n",
    "    return(20)\n",
    "}"
   ]
  },
  {
   "cell_type": "code",
   "execution_count": 204,
   "metadata": {},
   "outputs": [
    {
     "name": "stdout",
     "output_type": "stream",
     "text": [
      "[1] 13.28771\n"
     ]
    }
   ],
   "source": [
    "wall=wala(10000, 2)"
   ]
  },
  {
   "cell_type": "code",
   "execution_count": 205,
   "metadata": {},
   "outputs": [
    {
     "data": {
      "text/html": [
       "20"
      ],
      "text/latex": [
       "20"
      ],
      "text/markdown": [
       "20"
      ],
      "text/plain": [
       "[1] 20"
      ]
     },
     "metadata": {},
     "output_type": "display_data"
    }
   ],
   "source": [
    "wall"
   ]
  },
  {
   "cell_type": "code",
   "execution_count": 212,
   "metadata": {},
   "outputs": [
    {
     "name": "stdout",
     "output_type": "stream",
     "text": [
      "[1] \"10 : Iterations to go\"\n",
      "[1] \"9 : Iterations to go\"\n",
      "[1] \"8 : Iterations to go\"\n",
      "[1] \"7 : Iterations to go\"\n",
      "[1] \"6 : Iterations to go\"\n",
      "[1] \"5 : Iterations to go\"\n",
      "[1] \"4 : Iterations to go\"\n",
      "[1] \"3 : Iterations to go\"\n",
      "[1] \"2 : Iterations to go\"\n",
      "[1] \"1 : Iterations to go\"\n"
     ]
    }
   ],
   "source": [
    "for (i  in 10:1) {\n",
    "    print(paste(i,\": Iterations to go\"))\n",
    "    Sys.sleep(.1)\n",
    "}"
   ]
  },
  {
   "cell_type": "code",
   "execution_count": null,
   "metadata": {},
   "outputs": [],
   "source": []
  }
 ],
 "metadata": {
  "kernelspec": {
   "display_name": "Python 3",
   "language": "python",
   "name": "python3"
  },
  "language_info": {
   "codemirror_mode": {
    "name": "ipython",
    "version": 3
   },
   "file_extension": ".py",
   "mimetype": "text/x-python",
   "name": "python",
   "nbconvert_exporter": "python",
   "pygments_lexer": "ipython3",
   "version": "3.7.3"
  }
 },
 "nbformat": 4,
 "nbformat_minor": 2
}
