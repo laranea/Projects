{
 "cells": [
  {
   "cell_type": "code",
   "execution_count": 3,
   "metadata": {},
   "outputs": [],
   "source": [
    "# %load ../import.py\n",
    "import quandl\n",
    "quandl.ApiConfig.api_key = 'MBMzvkxtv63KjFEV-tL6'\n",
    "from quandl.errors.quandl_error import NotFoundError\n",
    "\n",
    "import pandas as pd\n",
    "import numpy as np\n",
    "import matplotlib.pyplot as plt\n",
    "%matplotlib inline\n",
    "\n",
    "import seaborn as sns\n",
    "from sklearn import linear_model\n",
    "\n",
    "import ipywidgets as widgets \n",
    "from ipywidgets import  interact, interactive, fixed, interact_manual\n",
    "from IPython.display import display"
   ]
  },
  {
   "cell_type": "markdown",
   "metadata": {},
   "source": [
    "# Collecting Ratios"
   ]
  },
  {
   "cell_type": "markdown",
   "metadata": {},
   "source": [
    "### Common Files "
   ]
  },
  {
   "cell_type": "code",
   "execution_count": 4,
   "metadata": {},
   "outputs": [],
   "source": [
    "s_list=pd.read_csv(\"../sector_list.csv\")\n",
    "s_ticks=pd.read_csv(\"../sector_ticks.csv\")\n",
    "s_ticks[[\"nse\", 'tick']]= s_ticks[\"ticks\"].str.split(\"/\", expand=True)"
   ]
  },
  {
   "cell_type": "code",
   "execution_count": 5,
   "metadata": {},
   "outputs": [
    {
     "data": {
      "text/html": [
       "<div>\n",
       "<style scoped>\n",
       "    .dataframe tbody tr th:only-of-type {\n",
       "        vertical-align: middle;\n",
       "    }\n",
       "\n",
       "    .dataframe tbody tr th {\n",
       "        vertical-align: top;\n",
       "    }\n",
       "\n",
       "    .dataframe thead th {\n",
       "        text-align: right;\n",
       "    }\n",
       "</style>\n",
       "<table border=\"1\" class=\"dataframe\">\n",
       "  <thead>\n",
       "    <tr style=\"text-align: right;\">\n",
       "      <th></th>\n",
       "      <th>Unnamed: 0</th>\n",
       "      <th>sector</th>\n",
       "      <th>sector_count</th>\n",
       "    </tr>\n",
       "  </thead>\n",
       "  <tbody>\n",
       "    <tr>\n",
       "      <th>0</th>\n",
       "      <td>0</td>\n",
       "      <td>AGRO_INPUTS</td>\n",
       "      <td>25</td>\n",
       "    </tr>\n",
       "    <tr>\n",
       "      <th>1</th>\n",
       "      <td>1</td>\n",
       "      <td>AUTOMOBILES</td>\n",
       "      <td>10</td>\n",
       "    </tr>\n",
       "    <tr>\n",
       "      <th>2</th>\n",
       "      <td>2</td>\n",
       "      <td>AUTO_ANCILLARIES</td>\n",
       "      <td>53</td>\n",
       "    </tr>\n",
       "    <tr>\n",
       "      <th>3</th>\n",
       "      <td>3</td>\n",
       "      <td>AVIATION</td>\n",
       "      <td>2</td>\n",
       "    </tr>\n",
       "    <tr>\n",
       "      <th>4</th>\n",
       "      <td>4</td>\n",
       "      <td>BANKS</td>\n",
       "      <td>39</td>\n",
       "    </tr>\n",
       "  </tbody>\n",
       "</table>\n",
       "</div>"
      ],
      "text/plain": [
       "   Unnamed: 0            sector  sector_count\n",
       "0           0       AGRO_INPUTS            25\n",
       "1           1       AUTOMOBILES            10\n",
       "2           2  AUTO_ANCILLARIES            53\n",
       "3           3          AVIATION             2\n",
       "4           4             BANKS            39"
      ]
     },
     "execution_count": 5,
     "metadata": {},
     "output_type": "execute_result"
    }
   ],
   "source": [
    "s_list.head()"
   ]
  },
  {
   "cell_type": "code",
   "execution_count": 6,
   "metadata": {},
   "outputs": [
    {
     "data": {
      "text/html": [
       "<div>\n",
       "<style scoped>\n",
       "    .dataframe tbody tr th:only-of-type {\n",
       "        vertical-align: middle;\n",
       "    }\n",
       "\n",
       "    .dataframe tbody tr th {\n",
       "        vertical-align: top;\n",
       "    }\n",
       "\n",
       "    .dataframe thead th {\n",
       "        text-align: right;\n",
       "    }\n",
       "</style>\n",
       "<table border=\"1\" class=\"dataframe\">\n",
       "  <thead>\n",
       "    <tr style=\"text-align: right;\">\n",
       "      <th></th>\n",
       "      <th>Unnamed: 0</th>\n",
       "      <th>ticks</th>\n",
       "      <th>name</th>\n",
       "      <th>sector</th>\n",
       "      <th>sub_sector</th>\n",
       "      <th>nse</th>\n",
       "      <th>tick</th>\n",
       "    </tr>\n",
       "  </thead>\n",
       "  <tbody>\n",
       "    <tr>\n",
       "      <th>0</th>\n",
       "      <td>0</td>\n",
       "      <td>NSE/AARTIDRUGS</td>\n",
       "      <td>Aarti Drugs Limited</td>\n",
       "      <td>PHARMACEUTICALS</td>\n",
       "      <td>BULK DRUGS</td>\n",
       "      <td>NSE</td>\n",
       "      <td>AARTIDRUGS</td>\n",
       "    </tr>\n",
       "    <tr>\n",
       "      <th>1</th>\n",
       "      <td>1</td>\n",
       "      <td>NSE/AARTIIND</td>\n",
       "      <td>Aarti Industries Limited</td>\n",
       "      <td>CHEMICALS</td>\n",
       "      <td>ORGANIC CHEMICALS</td>\n",
       "      <td>NSE</td>\n",
       "      <td>AARTIIND</td>\n",
       "    </tr>\n",
       "    <tr>\n",
       "      <th>2</th>\n",
       "      <td>2</td>\n",
       "      <td>NSE/AARVEEDEN</td>\n",
       "      <td>Aarvee Denims &amp; Exports Limited</td>\n",
       "      <td>TEXTILE</td>\n",
       "      <td>TEXTILES - OTHERS</td>\n",
       "      <td>NSE</td>\n",
       "      <td>AARVEEDEN</td>\n",
       "    </tr>\n",
       "    <tr>\n",
       "      <th>3</th>\n",
       "      <td>3</td>\n",
       "      <td>NSE/ABAN</td>\n",
       "      <td>Aban Offshore Limited</td>\n",
       "      <td>ENGINEERING</td>\n",
       "      <td>OIL DRILLING</td>\n",
       "      <td>NSE</td>\n",
       "      <td>ABAN</td>\n",
       "    </tr>\n",
       "    <tr>\n",
       "      <th>4</th>\n",
       "      <td>4</td>\n",
       "      <td>NSE/ABB</td>\n",
       "      <td>ABB India Limited</td>\n",
       "      <td>ENGINEERING</td>\n",
       "      <td>ELECTRICAL EQUIPMENT</td>\n",
       "      <td>NSE</td>\n",
       "      <td>ABB</td>\n",
       "    </tr>\n",
       "  </tbody>\n",
       "</table>\n",
       "</div>"
      ],
      "text/plain": [
       "   Unnamed: 0           ticks                             name  \\\n",
       "0           0  NSE/AARTIDRUGS              Aarti Drugs Limited   \n",
       "1           1    NSE/AARTIIND         Aarti Industries Limited   \n",
       "2           2   NSE/AARVEEDEN  Aarvee Denims & Exports Limited   \n",
       "3           3        NSE/ABAN            Aban Offshore Limited   \n",
       "4           4         NSE/ABB                ABB India Limited   \n",
       "\n",
       "            sector             sub_sector  nse        tick  \n",
       "0  PHARMACEUTICALS             BULK DRUGS  NSE  AARTIDRUGS  \n",
       "1        CHEMICALS      ORGANIC CHEMICALS  NSE    AARTIIND  \n",
       "2          TEXTILE      TEXTILES - OTHERS  NSE   AARVEEDEN  \n",
       "3      ENGINEERING           OIL DRILLING  NSE        ABAN  \n",
       "4      ENGINEERING   ELECTRICAL EQUIPMENT  NSE         ABB  "
      ]
     },
     "execution_count": 6,
     "metadata": {},
     "output_type": "execute_result"
    }
   ],
   "source": [
    "s_ticks.head()"
   ]
  },
  {
   "cell_type": "code",
   "execution_count": 7,
   "metadata": {},
   "outputs": [
    {
     "data": {
      "text/html": [
       "<div>\n",
       "<style scoped>\n",
       "    .dataframe tbody tr th:only-of-type {\n",
       "        vertical-align: middle;\n",
       "    }\n",
       "\n",
       "    .dataframe tbody tr th {\n",
       "        vertical-align: top;\n",
       "    }\n",
       "\n",
       "    .dataframe thead th {\n",
       "        text-align: right;\n",
       "    }\n",
       "</style>\n",
       "<table border=\"1\" class=\"dataframe\">\n",
       "  <thead>\n",
       "    <tr style=\"text-align: right;\">\n",
       "      <th></th>\n",
       "      <th>Unnamed: 0</th>\n",
       "      <th>code</th>\n",
       "      <th>disc</th>\n",
       "    </tr>\n",
       "  </thead>\n",
       "  <tbody>\n",
       "    <tr>\n",
       "      <th>0</th>\n",
       "      <td>0</td>\n",
       "      <td>BSEVOL_Q</td>\n",
       "      <td>BSE Trade Volume</td>\n",
       "    </tr>\n",
       "    <tr>\n",
       "      <th>1</th>\n",
       "      <td>1</td>\n",
       "      <td>EQCAP_Q</td>\n",
       "      <td>Shareholders Equity</td>\n",
       "    </tr>\n",
       "    <tr>\n",
       "      <th>2</th>\n",
       "      <td>2</td>\n",
       "      <td>EBIDTSH_Q</td>\n",
       "      <td>EBIDTA Per Share (Unadjusted for splits/rights...</td>\n",
       "    </tr>\n",
       "    <tr>\n",
       "      <th>3</th>\n",
       "      <td>3</td>\n",
       "      <td>REVSH_Q</td>\n",
       "      <td>Revenue Per Share (Unadjusted for splits/right...</td>\n",
       "    </tr>\n",
       "    <tr>\n",
       "      <th>4</th>\n",
       "      <td>4</td>\n",
       "      <td>ETR_Q</td>\n",
       "      <td>Corporate Tax Rate</td>\n",
       "    </tr>\n",
       "  </tbody>\n",
       "</table>\n",
       "</div>"
      ],
      "text/plain": [
       "   Unnamed: 0       code                                               disc\n",
       "0           0   BSEVOL_Q                                   BSE Trade Volume\n",
       "1           1    EQCAP_Q                                Shareholders Equity\n",
       "2           2  EBIDTSH_Q  EBIDTA Per Share (Unadjusted for splits/rights...\n",
       "3           3    REVSH_Q  Revenue Per Share (Unadjusted for splits/right...\n",
       "4           4      ETR_Q                                 Corporate Tax Rate"
      ]
     },
     "execution_count": 7,
     "metadata": {},
     "output_type": "execute_result"
    }
   ],
   "source": [
    "ratios=pd.read_csv(\"common_ratio.csv\")\n",
    "ratios.head()"
   ]
  },
  {
   "cell_type": "code",
   "execution_count": 8,
   "metadata": {},
   "outputs": [
    {
     "data": {
      "text/plain": [
       "['DIV_PCT', 'Q']"
      ]
     },
     "execution_count": 8,
     "metadata": {},
     "output_type": "execute_result"
    }
   ],
   "source": [
    "r=\"DIV_PCT_Q\"\n",
    "r.rsplit(\"_\", 1)"
   ]
  },
  {
   "cell_type": "markdown",
   "metadata": {},
   "source": [
    "## Intersecting both ticks"
   ]
  },
  {
   "cell_type": "code",
   "execution_count": 9,
   "metadata": {},
   "outputs": [
    {
     "data": {
      "text/html": [
       "<div>\n",
       "<style scoped>\n",
       "    .dataframe tbody tr th:only-of-type {\n",
       "        vertical-align: middle;\n",
       "    }\n",
       "\n",
       "    .dataframe tbody tr th {\n",
       "        vertical-align: top;\n",
       "    }\n",
       "\n",
       "    .dataframe thead th {\n",
       "        text-align: right;\n",
       "    }\n",
       "</style>\n",
       "<table border=\"1\" class=\"dataframe\">\n",
       "  <thead>\n",
       "    <tr style=\"text-align: right;\">\n",
       "      <th></th>\n",
       "      <th>query</th>\n",
       "      <th>tick</th>\n",
       "      <th>period</th>\n",
       "      <th>code</th>\n",
       "      <th>disc</th>\n",
       "    </tr>\n",
       "  </thead>\n",
       "  <tbody>\n",
       "    <tr>\n",
       "      <th>0</th>\n",
       "      <td>DEB/APARINDS_A_BSEL</td>\n",
       "      <td>APARINDS</td>\n",
       "      <td>A</td>\n",
       "      <td>BSEL</td>\n",
       "      <td>Unadjusted BSE Low Price</td>\n",
       "    </tr>\n",
       "    <tr>\n",
       "      <th>1</th>\n",
       "      <td>DEB/APARINDS_A_BVSH</td>\n",
       "      <td>APARINDS</td>\n",
       "      <td>A</td>\n",
       "      <td>BVSH</td>\n",
       "      <td>Book Value Per Share (Unadjusted for splits/ri...</td>\n",
       "    </tr>\n",
       "    <tr>\n",
       "      <th>2</th>\n",
       "      <td>DEB/APARINDS_A_CFI</td>\n",
       "      <td>APARINDS</td>\n",
       "      <td>A</td>\n",
       "      <td>CFI</td>\n",
       "      <td>Cash from Investing Activity</td>\n",
       "    </tr>\n",
       "    <tr>\n",
       "      <th>3</th>\n",
       "      <td>DEB/APARINDS_A_DCL</td>\n",
       "      <td>APARINDS</td>\n",
       "      <td>A</td>\n",
       "      <td>DCL</td>\n",
       "      <td>Degree of Cumulative Leverage</td>\n",
       "    </tr>\n",
       "    <tr>\n",
       "      <th>4</th>\n",
       "      <td>DEB/APARINDS_A_DFL</td>\n",
       "      <td>APARINDS</td>\n",
       "      <td>A</td>\n",
       "      <td>DFL</td>\n",
       "      <td>Degree of Financial Leverage</td>\n",
       "    </tr>\n",
       "  </tbody>\n",
       "</table>\n",
       "</div>"
      ],
      "text/plain": [
       "                 query      tick period  code  \\\n",
       "0  DEB/APARINDS_A_BSEL  APARINDS      A  BSEL   \n",
       "1  DEB/APARINDS_A_BVSH  APARINDS      A  BVSH   \n",
       "2   DEB/APARINDS_A_CFI  APARINDS      A   CFI   \n",
       "3   DEB/APARINDS_A_DCL  APARINDS      A   DCL   \n",
       "4   DEB/APARINDS_A_DFL  APARINDS      A   DFL   \n",
       "\n",
       "                                                disc  \n",
       "0                           Unadjusted BSE Low Price  \n",
       "1  Book Value Per Share (Unadjusted for splits/ri...  \n",
       "2                       Cash from Investing Activity  \n",
       "3                      Degree of Cumulative Leverage  \n",
       "4                       Degree of Financial Leverage  "
      ]
     },
     "execution_count": 9,
     "metadata": {},
     "output_type": "execute_result"
    }
   ],
   "source": [
    "deb_file=pd.read_csv(\"DEB-datasets-codes2.csv\")\n",
    "deb_file.columns=[\"query\", \"tick\", \"period\", \"code\", \"disc\"]\n",
    "deb_file.head()"
   ]
  },
  {
   "cell_type": "code",
   "execution_count": 10,
   "metadata": {},
   "outputs": [],
   "source": [
    "deb_ticks=deb_file[\"tick\"].unique()\n",
    "deb_ticks=list(deb_ticks)"
   ]
  },
  {
   "cell_type": "code",
   "execution_count": 21,
   "metadata": {},
   "outputs": [
    {
     "data": {
      "text/plain": [
       "35             PETROCHEMICALS\n",
       "36            PHARMACEUTICALS\n",
       "37                 PLANTATION\n",
       "38         PLASTIC_PROCESSING\n",
       "39                      POWER\n",
       "40    PRINTING_AND_STATIONERY\n",
       "41                REAL_ESTATE\n",
       "42                     RETAIL\n",
       "43                   SHIPPING\n",
       "44                      STEEL\n",
       "45                      SUGAR\n",
       "46                    TELECOM\n",
       "47                    TEXTILE\n",
       "48          TOURISM_or_HOTELS\n",
       "49                      TYRES\n",
       "Name: sector, dtype: object"
      ]
     },
     "execution_count": 21,
     "metadata": {},
     "output_type": "execute_result"
    }
   ],
   "source": [
    "s_list[\"sector\"][35:]"
   ]
  },
  {
   "cell_type": "raw",
   "metadata": {
    "scrolled": true
   },
   "source": [
    "for sector in s_list[\"sector\"][35:]:\n",
    "    \n",
    "    print(\"--------{0}--------\".format(sector))\n",
    "    sector_file_name=\"Data/\"+str(sector)+\".csv\"\n",
    "    \n",
    "    \n",
    "    with open(sector_file_name, 'a') as f:\n",
    "        \n",
    "        sector_ticks=s_ticks.loc[s_ticks[\"sector\"]==sector,\"tick\"]    \n",
    "        ticks=set(sector_ticks) & set(deb_ticks)\n",
    "        ticks=list(ticks)\n",
    "        \n",
    "        for t in ticks:            \n",
    "            tick=str(t)           \n",
    "            \n",
    "            for r in ratios[\"code\"]: \n",
    "                \n",
    "                #Reverse split only onece occuarce so as to avoid the ratio with undercore \n",
    "                \n",
    "                period=r.rsplit(\"_\", 1)[1]\n",
    "                ratio=r.rsplit(\"_\", 1)[0]\n",
    "                \n",
    "                query=\"DEB/\"+tick+\"_\"+period+\"_\"+ratio\n",
    "                \n",
    "                try:\n",
    "#                     print(\"Sucess At:{0}\".format(query))\n",
    "                  \n",
    "                                    \n",
    "                    data=quandl.get(query, column_index=1) \n",
    "                    data[\"Ticker\"]=t\n",
    "                    data[\"Ratio\"]=ratio\n",
    "                    data[\"Period\"]=period\n",
    "                    data.to_csv(f, header=False)\n",
    "                    \n",
    "                \n",
    "                    \n",
    "                except NotFoundError:    \n",
    "                    print(\"Failed At:{0}\".format(query))\n",
    "                    pass    "
   ]
  },
  {
   "cell_type": "code",
   "execution_count": 23,
   "metadata": {},
   "outputs": [
    {
     "name": "stdout",
     "output_type": "stream",
     "text": [
      "done\n"
     ]
    }
   ],
   "source": [
    "print(\"done\")"
   ]
  }
 ],
 "metadata": {
  "kernelspec": {
   "display_name": "Python 2",
   "language": "python",
   "name": "python2"
  },
  "language_info": {
   "codemirror_mode": {
    "name": "ipython",
    "version": 2
   },
   "file_extension": ".py",
   "mimetype": "text/x-python",
   "name": "python",
   "nbconvert_exporter": "python",
   "pygments_lexer": "ipython2",
   "version": "2.7.12"
  }
 },
 "nbformat": 4,
 "nbformat_minor": 2
}
