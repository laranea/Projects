{
 "cells": [
  {
   "cell_type": "markdown",
   "metadata": {},
   "source": [
    "# 1. Introduction  and Literature Review "
   ]
  },
  {
   "cell_type": "markdown",
   "metadata": {},
   "source": [
    "## 1.1. Introduction \n",
    "\n",
    "Every country faces a dilema in descision on how can the life of people be improved? Various economist suggest that we need to first know how to measure people's life. The one common and easily used measurement is GDP.\n",
    "\n",
    "Now that we know that GDP signify progress of nation, every country would like to increase their GDP. \n",
    "Any nation with higher GDP will need more resources for consumption and more energy in converting those resources for consumption. Consumption of  energy can take place either by renewable or non renewable sources. \n",
    "\n",
    "And energy from both this resources are mostly converted to electrical energy. So a country's total energy consumption can be measured simply by measuring its electrical consumption. Except that this measurement will not include energy from petrol, diesel, and coal used directly in engines. \n",
    "\n",
    "But, nevertheless there is no evidence against the common sense that electricity increases standard of leaving and productivity of people. Hence in this study we study relationship  between electrical consumption and GDP of country. \n",
    "\n",
    "Our goal here is to find whether GDP increases electrical power consumption or electrical power consumption causes increase in GDP. This project tries to solve this chicken and and egg problem which parameter of country causes other affect. This will decide whether electrical consumption is input for higher GDP or it is merely a outcome of higher GDP. \n",
    "\n",
    "This study can guide policy makers to make rational decision, rather than taking populist decision. What this research tries to achieve is to create a mathematical method to arrive at policy making process.\n",
    "\n",
    "The reason our research work because there is no guarantee of symmetry in cause and affect of any process.\n",
    "\n",
    "Since data of country US is well documented since 1960, we choose US for our study."
   ]
  },
  {
   "cell_type": "markdown",
   "metadata": {},
   "source": [
    "## 1.2 Literature Review\n",
    "\n",
    "This chicken and egg problem have been analyzed before by various researchers. A study {{ Philip O Alege and Oluwasogo S Adediran and Adeyemi A Ogundipe  }} investigated between GDP per capita and electricity showed that that electricity causes more proportionate changes in GDP compared to C02. A similar study conducted on Tanzania {{Masoud Mohammed Albiman and Najat Nassor Suleiman and Hamad Omar Baka}}, showed that both  electricity consumption and economict growth rate LGDP causes C02 emission and that it was also found that electricity and CO2 emmision causes a significant positive growth rate in the GDP, suggesting the government to increase electricty resourced to increase the GDP of country. Similarly a study  Colombia, Ecuador and Mexico  showed a unidirectional relationship between electricity and GDP. Another study by  {{Byson Beracah Majanga}} on Malawi Power Sector discussed that availaibity of production resources like elctricity increases the GDP growth and suggested for liberalization od resources to eliminate persistent power shortages.\n",
    "But few of the study{{Ali Matar and Hussain Ali Bekhet}} contradicted that it was the other way around where the increase in GDP causes increase in electricty consumption of countries like in the case of Jordan. And in one on case {{France Križanic and Zan Jan Oplotnik }} suggested the that prices of electricity increases if GDP increases.\n",
    "On of this study suggested that China energy consumption per GDP was far greater than that of US and suggested for restcuring of the China's energy consumption. In similar way in future we can expand our study various other nations to find relationship between electricity and GDP of country. A similar study {{10}}done on Turkey,  suggest that conserving electricity as a climate policy may not be conducive for exports and economic growth. he use of renewable sources for electricity may be the right option. \n",
    "\n",
    "On the basis of above literatures we can say that we have two conditions to check for:\n",
    "\n",
    "__1.2.1.__ Does electric power consumption affects GDP?\n",
    "        \n",
    "        H0: Electricity does not Granger causes GDP growth.\n",
    "        H1: Electricity Granger causes GDP growth.\n",
    "        \n",
    "__1.2.2.__ Does GDP affects electric power consumption?\n",
    "        \n",
    "        H0: GDP does not Granger causes electrical power consumption.\n",
    "        H1: GDP Granger causes GDP electricity.\n",
    "        "
   ]
  },
  {
   "cell_type": "markdown",
   "metadata": {},
   "source": [
    "# 2. Data"
   ]
  },
  {
   "cell_type": "markdown",
   "metadata": {},
   "source": [
    "## 2.1. Retrieving Data"
   ]
  },
  {
   "cell_type": "code",
   "execution_count": 37,
   "metadata": {},
   "outputs": [
    {
     "data": {
      "text/html": [
       "<ol class=list-inline>\n",
       "\t<li>'Data/API_EG.USE.ELEC.KH.PC_DS2_en_csv_v2_10577425.csv'</li>\n",
       "\t<li>'Data/API_NY.GDP.PCAP.CD_DS2_en_csv_v2_10576699.csv'</li>\n",
       "</ol>\n"
      ],
      "text/latex": [
       "\\begin{enumerate*}\n",
       "\\item 'Data/API\\_EG.USE.ELEC.KH.PC\\_DS2\\_en\\_csv\\_v2\\_10577425.csv'\n",
       "\\item 'Data/API\\_NY.GDP.PCAP.CD\\_DS2\\_en\\_csv\\_v2\\_10576699.csv'\n",
       "\\end{enumerate*}\n"
      ],
      "text/markdown": [
       "1. 'Data/API_EG.USE.ELEC.KH.PC_DS2_en_csv_v2_10577425.csv'\n",
       "2. 'Data/API_NY.GDP.PCAP.CD_DS2_en_csv_v2_10576699.csv'\n",
       "\n",
       "\n"
      ],
      "text/plain": [
       "[1] \"Data/API_EG.USE.ELEC.KH.PC_DS2_en_csv_v2_10577425.csv\"\n",
       "[2] \"Data/API_NY.GDP.PCAP.CD_DS2_en_csv_v2_10576699.csv\"   "
      ]
     },
     "metadata": {},
     "output_type": "display_data"
    }
   ],
   "source": [
    "################################################ 2.Data ##################################################\n",
    "## Listing all csv files in directory\n",
    "list.files(pattern = \".csv$\", recursive = TRUE)"
   ]
  },
  {
   "cell_type": "code",
   "execution_count": 38,
   "metadata": {},
   "outputs": [],
   "source": [
    "## Reading 2 files by skiping 4 rows as they contain meta-data\n",
    "# Power Consumption\n",
    "raw_elec=read.csv('Data/API_EG.USE.ELEC.KH.PC_DS2_en_csv_v2_10577425.csv', skip=4)\n",
    "# GDP\n",
    "raw_gdp=read.csv('Data/API_NY.GDP.PCAP.CD_DS2_en_csv_v2_10576699.csv', skip=4)"
   ]
  },
  {
   "cell_type": "code",
   "execution_count": 39,
   "metadata": {},
   "outputs": [
    {
     "data": {
      "text/html": [
       "<table>\n",
       "<thead><tr><th scope=col>Country.Name</th><th scope=col>Country.Code</th><th scope=col>Indicator.Name</th><th scope=col>Indicator.Code</th><th scope=col>X1960</th><th scope=col>X1961</th><th scope=col>X1962</th><th scope=col>X1963</th><th scope=col>X1964</th><th scope=col>X1965</th><th scope=col>⋯</th><th scope=col>X2010</th><th scope=col>X2011</th><th scope=col>X2012</th><th scope=col>X2013</th><th scope=col>X2014</th><th scope=col>X2015</th><th scope=col>X2016</th><th scope=col>X2017</th><th scope=col>X2018</th><th scope=col>X</th></tr></thead>\n",
       "<tbody>\n",
       "\t<tr><td>Aruba                                      </td><td>ABW                                        </td><td>Electric power consumption (kWh per capita)</td><td>EG.USE.ELEC.KH.PC                          </td><td>NA                                         </td><td>NA                                         </td><td>NA                                         </td><td>NA                                         </td><td>NA                                         </td><td>NA                                         </td><td>⋯                                          </td><td>NA                                         </td><td>NA                                         </td><td>NA                                         </td><td>NA                                         </td><td>NA                                         </td><td>NA                                         </td><td>NA                                         </td><td>NA                                         </td><td>NA                                         </td><td>NA                                         </td></tr>\n",
       "\t<tr><td>Afghanistan                                </td><td>AFG                                        </td><td>Electric power consumption (kWh per capita)</td><td>EG.USE.ELEC.KH.PC                          </td><td>NA                                         </td><td>NA                                         </td><td>NA                                         </td><td>NA                                         </td><td>NA                                         </td><td>NA                                         </td><td>⋯                                          </td><td>NA                                         </td><td>NA                                         </td><td>NA                                         </td><td>NA                                         </td><td>NA                                         </td><td>NA                                         </td><td>NA                                         </td><td>NA                                         </td><td>NA                                         </td><td>NA                                         </td></tr>\n",
       "</tbody>\n",
       "</table>\n"
      ],
      "text/latex": [
       "\\begin{tabular}{r|llllllllllllllllllllllllllllllllllllllllllllllllllllllllllllllll}\n",
       " Country.Name & Country.Code & Indicator.Name & Indicator.Code & X1960 & X1961 & X1962 & X1963 & X1964 & X1965 & ⋯ & X2010 & X2011 & X2012 & X2013 & X2014 & X2015 & X2016 & X2017 & X2018 & X\\\\\n",
       "\\hline\n",
       "\t Aruba                                       & ABW                                         & Electric power consumption (kWh per capita) & EG.USE.ELEC.KH.PC                           & NA                                          & NA                                          & NA                                          & NA                                          & NA                                          & NA                                          & ⋯                                           & NA                                          & NA                                          & NA                                          & NA                                          & NA                                          & NA                                          & NA                                          & NA                                          & NA                                          & NA                                         \\\\\n",
       "\t Afghanistan                                 & AFG                                         & Electric power consumption (kWh per capita) & EG.USE.ELEC.KH.PC                           & NA                                          & NA                                          & NA                                          & NA                                          & NA                                          & NA                                          & ⋯                                           & NA                                          & NA                                          & NA                                          & NA                                          & NA                                          & NA                                          & NA                                          & NA                                          & NA                                          & NA                                         \\\\\n",
       "\\end{tabular}\n"
      ],
      "text/markdown": [
       "\n",
       "| Country.Name | Country.Code | Indicator.Name | Indicator.Code | X1960 | X1961 | X1962 | X1963 | X1964 | X1965 | ⋯ | X2010 | X2011 | X2012 | X2013 | X2014 | X2015 | X2016 | X2017 | X2018 | X |\n",
       "|---|---|---|---|---|---|---|---|---|---|---|---|---|---|---|---|---|---|---|---|---|\n",
       "| Aruba                                       | ABW                                         | Electric power consumption (kWh per capita) | EG.USE.ELEC.KH.PC                           | NA                                          | NA                                          | NA                                          | NA                                          | NA                                          | NA                                          | ⋯                                           | NA                                          | NA                                          | NA                                          | NA                                          | NA                                          | NA                                          | NA                                          | NA                                          | NA                                          | NA                                          |\n",
       "| Afghanistan                                 | AFG                                         | Electric power consumption (kWh per capita) | EG.USE.ELEC.KH.PC                           | NA                                          | NA                                          | NA                                          | NA                                          | NA                                          | NA                                          | ⋯                                           | NA                                          | NA                                          | NA                                          | NA                                          | NA                                          | NA                                          | NA                                          | NA                                          | NA                                          | NA                                          |\n",
       "\n"
      ],
      "text/plain": [
       "  Country.Name Country.Code Indicator.Name                             \n",
       "1 Aruba        ABW          Electric power consumption (kWh per capita)\n",
       "2 Afghanistan  AFG          Electric power consumption (kWh per capita)\n",
       "  Indicator.Code    X1960 X1961 X1962 X1963 X1964 X1965 ⋯ X2010 X2011 X2012\n",
       "1 EG.USE.ELEC.KH.PC NA    NA    NA    NA    NA    NA    ⋯ NA    NA    NA   \n",
       "2 EG.USE.ELEC.KH.PC NA    NA    NA    NA    NA    NA    ⋯ NA    NA    NA   \n",
       "  X2013 X2014 X2015 X2016 X2017 X2018 X \n",
       "1 NA    NA    NA    NA    NA    NA    NA\n",
       "2 NA    NA    NA    NA    NA    NA    NA"
      ]
     },
     "metadata": {},
     "output_type": "display_data"
    }
   ],
   "source": [
    "## Displaying first 2 rows of Power Consumption\n",
    "head(raw_elec,2)"
   ]
  },
  {
   "cell_type": "code",
   "execution_count": 40,
   "metadata": {},
   "outputs": [
    {
     "data": {
      "text/html": [
       "<table>\n",
       "<thead><tr><th scope=col>Country.Name</th><th scope=col>Country.Code</th><th scope=col>Indicator.Name</th><th scope=col>Indicator.Code</th><th scope=col>X1960</th><th scope=col>X1961</th><th scope=col>X1962</th><th scope=col>X1963</th><th scope=col>X1964</th><th scope=col>X1965</th><th scope=col>⋯</th><th scope=col>X2010</th><th scope=col>X2011</th><th scope=col>X2012</th><th scope=col>X2013</th><th scope=col>X2014</th><th scope=col>X2015</th><th scope=col>X2016</th><th scope=col>X2017</th><th scope=col>X2018</th><th scope=col>X</th></tr></thead>\n",
       "<tbody>\n",
       "\t<tr><td>Aruba                       </td><td>ABW                         </td><td>GDP per capita (current US$)</td><td>NY.GDP.PCAP.CD              </td><td>      NA                    </td><td>      NA                    </td><td>      NA                    </td><td>      NA                    </td><td>      NA                    </td><td>      NA                    </td><td>⋯                           </td><td>23512.603                   </td><td>24984.2794                  </td><td>24709.6023                  </td><td>25018.3090                  </td><td>25528.4038                  </td><td>25796.3803                  </td><td>25251.6397                  </td><td>25655.1020                  </td><td>NA                          </td><td>NA                          </td></tr>\n",
       "\t<tr><td>Afghanistan                 </td><td>AFG                         </td><td>GDP per capita (current US$)</td><td>NY.GDP.PCAP.CD              </td><td>59.77733                    </td><td>59.87815                    </td><td>58.49287                    </td><td>78.78276                    </td><td>82.20844                    </td><td>101.2905                    </td><td>⋯                           </td><td>  550.515                   </td><td>  599.2976                  </td><td>  648.5111                  </td><td>  647.9665                  </td><td>  625.3395                  </td><td>  590.0765                  </td><td>  549.5828                  </td><td>  550.0685                  </td><td>NA                          </td><td>NA                          </td></tr>\n",
       "</tbody>\n",
       "</table>\n"
      ],
      "text/latex": [
       "\\begin{tabular}{r|llllllllllllllllllllllllllllllllllllllllllllllllllllllllllllllll}\n",
       " Country.Name & Country.Code & Indicator.Name & Indicator.Code & X1960 & X1961 & X1962 & X1963 & X1964 & X1965 & ⋯ & X2010 & X2011 & X2012 & X2013 & X2014 & X2015 & X2016 & X2017 & X2018 & X\\\\\n",
       "\\hline\n",
       "\t Aruba                          & ABW                            & GDP per capita (current US\\$) & NY.GDP.PCAP.CD                 &       NA                       &       NA                       &       NA                       &       NA                       &       NA                       &       NA                       & ⋯                              & 23512.603                      & 24984.2794                     & 24709.6023                     & 25018.3090                     & 25528.4038                     & 25796.3803                     & 25251.6397                     & 25655.1020                     & NA                             & NA                            \\\\\n",
       "\t Afghanistan                    & AFG                            & GDP per capita (current US\\$) & NY.GDP.PCAP.CD                 & 59.77733                       & 59.87815                       & 58.49287                       & 78.78276                       & 82.20844                       & 101.2905                       & ⋯                              &   550.515                      &   599.2976                     &   648.5111                     &   647.9665                     &   625.3395                     &   590.0765                     &   549.5828                     &   550.0685                     & NA                             & NA                            \\\\\n",
       "\\end{tabular}\n"
      ],
      "text/markdown": [
       "\n",
       "| Country.Name | Country.Code | Indicator.Name | Indicator.Code | X1960 | X1961 | X1962 | X1963 | X1964 | X1965 | ⋯ | X2010 | X2011 | X2012 | X2013 | X2014 | X2015 | X2016 | X2017 | X2018 | X |\n",
       "|---|---|---|---|---|---|---|---|---|---|---|---|---|---|---|---|---|---|---|---|---|\n",
       "| Aruba                        | ABW                          | GDP per capita (current US$) | NY.GDP.PCAP.CD               |       NA                     |       NA                     |       NA                     |       NA                     |       NA                     |       NA                     | ⋯                            | 23512.603                    | 24984.2794                   | 24709.6023                   | 25018.3090                   | 25528.4038                   | 25796.3803                   | 25251.6397                   | 25655.1020                   | NA                           | NA                           |\n",
       "| Afghanistan                  | AFG                          | GDP per capita (current US$) | NY.GDP.PCAP.CD               | 59.77733                     | 59.87815                     | 58.49287                     | 78.78276                     | 82.20844                     | 101.2905                     | ⋯                            |   550.515                    |   599.2976                   |   648.5111                   |   647.9665                   |   625.3395                   |   590.0765                   |   549.5828                   |   550.0685                   | NA                           | NA                           |\n",
       "\n"
      ],
      "text/plain": [
       "  Country.Name Country.Code Indicator.Name               Indicator.Code\n",
       "1 Aruba        ABW          GDP per capita (current US$) NY.GDP.PCAP.CD\n",
       "2 Afghanistan  AFG          GDP per capita (current US$) NY.GDP.PCAP.CD\n",
       "  X1960    X1961    X1962    X1963    X1964    X1965    ⋯ X2010     X2011     \n",
       "1       NA       NA       NA       NA       NA       NA ⋯ 23512.603 24984.2794\n",
       "2 59.77733 59.87815 58.49287 78.78276 82.20844 101.2905 ⋯   550.515   599.2976\n",
       "  X2012      X2013      X2014      X2015      X2016      X2017      X2018 X \n",
       "1 24709.6023 25018.3090 25528.4038 25796.3803 25251.6397 25655.1020 NA    NA\n",
       "2   648.5111   647.9665   625.3395   590.0765   549.5828   550.0685 NA    NA"
      ]
     },
     "metadata": {},
     "output_type": "display_data"
    }
   ],
   "source": [
    "## Displaying first 2 rows of GDP\n",
    "head(raw_gdp, 2)"
   ]
  },
  {
   "cell_type": "markdown",
   "metadata": {},
   "source": [
    "## 2.2. Filtering data"
   ]
  },
  {
   "cell_type": "code",
   "execution_count": 41,
   "metadata": {},
   "outputs": [
    {
     "data": {
      "text/html": [
       "<table>\n",
       "<thead><tr><th></th><th scope=col>X1960</th><th scope=col>X1961</th><th scope=col>X1962</th><th scope=col>X1963</th><th scope=col>X1964</th><th scope=col>X1965</th><th scope=col>X1966</th><th scope=col>X1967</th><th scope=col>X1968</th><th scope=col>X1969</th><th scope=col>⋯</th><th scope=col>X2010</th><th scope=col>X2011</th><th scope=col>X2012</th><th scope=col>X2013</th><th scope=col>X2014</th><th scope=col>X2015</th><th scope=col>X2016</th><th scope=col>X2017</th><th scope=col>X2018</th><th scope=col>X</th></tr></thead>\n",
       "<tbody>\n",
       "\t<tr><th scope=row>250</th><td>3007.123</td><td>3066.563</td><td>3243.843</td><td>3374.515</td><td>3573.941</td><td>3827.527</td><td>4146.317</td><td>4336.427</td><td>4695.923</td><td>5032.145</td><td>⋯       </td><td>48466.82</td><td>49883.12</td><td>51603.5 </td><td>53106.92</td><td>55032.96</td><td>56803.47</td><td>57904.2 </td><td>59927.93</td><td>NA      </td><td>NA      </td></tr>\n",
       "</tbody>\n",
       "</table>\n"
      ],
      "text/latex": [
       "\\begin{tabular}{r|llllllllllllllllllllllllllllllllllllllllllllllllllllllllllll}\n",
       "  & X1960 & X1961 & X1962 & X1963 & X1964 & X1965 & X1966 & X1967 & X1968 & X1969 & ⋯ & X2010 & X2011 & X2012 & X2013 & X2014 & X2015 & X2016 & X2017 & X2018 & X\\\\\n",
       "\\hline\n",
       "\t250 & 3007.123 & 3066.563 & 3243.843 & 3374.515 & 3573.941 & 3827.527 & 4146.317 & 4336.427 & 4695.923 & 5032.145 & ⋯        & 48466.82 & 49883.12 & 51603.5  & 53106.92 & 55032.96 & 56803.47 & 57904.2  & 59927.93 & NA       & NA      \\\\\n",
       "\\end{tabular}\n"
      ],
      "text/markdown": [
       "\n",
       "| <!--/--> | X1960 | X1961 | X1962 | X1963 | X1964 | X1965 | X1966 | X1967 | X1968 | X1969 | ⋯ | X2010 | X2011 | X2012 | X2013 | X2014 | X2015 | X2016 | X2017 | X2018 | X |\n",
       "|---|---|---|---|---|---|---|---|---|---|---|---|---|---|---|---|---|---|---|---|---|---|\n",
       "| 250 | 3007.123 | 3066.563 | 3243.843 | 3374.515 | 3573.941 | 3827.527 | 4146.317 | 4336.427 | 4695.923 | 5032.145 | ⋯        | 48466.82 | 49883.12 | 51603.5  | 53106.92 | 55032.96 | 56803.47 | 57904.2  | 59927.93 | NA       | NA       |\n",
       "\n"
      ],
      "text/plain": [
       "    X1960    X1961    X1962    X1963    X1964    X1965    X1966    X1967   \n",
       "250 3007.123 3066.563 3243.843 3374.515 3573.941 3827.527 4146.317 4336.427\n",
       "    X1968    X1969    ⋯ X2010    X2011    X2012   X2013    X2014    X2015   \n",
       "250 4695.923 5032.145 ⋯ 48466.82 49883.12 51603.5 53106.92 55032.96 56803.47\n",
       "    X2016   X2017    X2018 X \n",
       "250 57904.2 59927.93 NA    NA"
      ]
     },
     "metadata": {},
     "output_type": "display_data"
    }
   ],
   "source": [
    "## We need to study only US. So, we  filter our dataset for row with \"United States\" as country name\n",
    "gdp=subset(raw_gdp , raw_gdp$Country.Name==\"United States\" )[, 5: (ncol(raw_gdp)) ]\n",
    "head(gdp)"
   ]
  },
  {
   "cell_type": "code",
   "execution_count": 42,
   "metadata": {},
   "outputs": [
    {
     "data": {
      "text/html": [
       "<table>\n",
       "<thead><tr><th></th><th scope=col>X1960</th><th scope=col>X1961</th><th scope=col>X1962</th><th scope=col>X1963</th><th scope=col>X1964</th><th scope=col>X1965</th><th scope=col>X1966</th><th scope=col>X1967</th><th scope=col>X1968</th><th scope=col>X1969</th><th scope=col>⋯</th><th scope=col>X2010</th><th scope=col>X2011</th><th scope=col>X2012</th><th scope=col>X2013</th><th scope=col>X2014</th><th scope=col>X2015</th><th scope=col>X2016</th><th scope=col>X2017</th><th scope=col>X2018</th><th scope=col>X</th></tr></thead>\n",
       "<tbody>\n",
       "\t<tr><th scope=row>250</th><td>4049.787</td><td>4182.176</td><td>4433.606</td><td>4690.486</td><td>4970.446</td><td>5234.685</td><td>5590.334</td><td>5888.341</td><td>6385.459</td><td>6904.834</td><td>⋯       </td><td>13394.95</td><td>13246.03</td><td>12964.33</td><td>13004.11</td><td>12993.96</td><td>NA      </td><td>NA      </td><td>NA      </td><td>NA      </td><td>NA      </td></tr>\n",
       "</tbody>\n",
       "</table>\n"
      ],
      "text/latex": [
       "\\begin{tabular}{r|llllllllllllllllllllllllllllllllllllllllllllllllllllllllllll}\n",
       "  & X1960 & X1961 & X1962 & X1963 & X1964 & X1965 & X1966 & X1967 & X1968 & X1969 & ⋯ & X2010 & X2011 & X2012 & X2013 & X2014 & X2015 & X2016 & X2017 & X2018 & X\\\\\n",
       "\\hline\n",
       "\t250 & 4049.787 & 4182.176 & 4433.606 & 4690.486 & 4970.446 & 5234.685 & 5590.334 & 5888.341 & 6385.459 & 6904.834 & ⋯        & 13394.95 & 13246.03 & 12964.33 & 13004.11 & 12993.96 & NA       & NA       & NA       & NA       & NA      \\\\\n",
       "\\end{tabular}\n"
      ],
      "text/markdown": [
       "\n",
       "| <!--/--> | X1960 | X1961 | X1962 | X1963 | X1964 | X1965 | X1966 | X1967 | X1968 | X1969 | ⋯ | X2010 | X2011 | X2012 | X2013 | X2014 | X2015 | X2016 | X2017 | X2018 | X |\n",
       "|---|---|---|---|---|---|---|---|---|---|---|---|---|---|---|---|---|---|---|---|---|---|\n",
       "| 250 | 4049.787 | 4182.176 | 4433.606 | 4690.486 | 4970.446 | 5234.685 | 5590.334 | 5888.341 | 6385.459 | 6904.834 | ⋯        | 13394.95 | 13246.03 | 12964.33 | 13004.11 | 12993.96 | NA       | NA       | NA       | NA       | NA       |\n",
       "\n"
      ],
      "text/plain": [
       "    X1960    X1961    X1962    X1963    X1964    X1965    X1966    X1967   \n",
       "250 4049.787 4182.176 4433.606 4690.486 4970.446 5234.685 5590.334 5888.341\n",
       "    X1968    X1969    ⋯ X2010    X2011    X2012    X2013    X2014    X2015\n",
       "250 6385.459 6904.834 ⋯ 13394.95 13246.03 12964.33 13004.11 12993.96 NA   \n",
       "    X2016 X2017 X2018 X \n",
       "250 NA    NA    NA    NA"
      ]
     },
     "metadata": {},
     "output_type": "display_data"
    }
   ],
   "source": [
    "## We need to study only US. So, we  filter our dataset for row with \"United States\" as country name\n",
    "elec=subset(raw_elec , raw_gdp$Country.Name==\"United States\" )[, 5: (ncol(raw_elec)) ]\n",
    "head(elec)"
   ]
  },
  {
   "cell_type": "markdown",
   "metadata": {},
   "source": [
    "## 2.3. Merging data"
   ]
  },
  {
   "cell_type": "code",
   "execution_count": 43,
   "metadata": {},
   "outputs": [
    {
     "data": {
      "text/html": [
       "<table>\n",
       "<thead><tr><th></th><th scope=col>X1960</th><th scope=col>X1961</th><th scope=col>X1962</th><th scope=col>X1963</th><th scope=col>X1964</th><th scope=col>X1965</th><th scope=col>X1966</th><th scope=col>X1967</th><th scope=col>X1968</th><th scope=col>X1969</th><th scope=col>⋯</th><th scope=col>X2010</th><th scope=col>X2011</th><th scope=col>X2012</th><th scope=col>X2013</th><th scope=col>X2014</th><th scope=col>X2015</th><th scope=col>X2016</th><th scope=col>X2017</th><th scope=col>X2018</th><th scope=col>X</th></tr></thead>\n",
       "<tbody>\n",
       "\t<tr><th scope=row>250</th><td>3007.123</td><td>3066.563</td><td>3243.843</td><td>3374.515</td><td>3573.941</td><td>3827.527</td><td>4146.317</td><td>4336.427</td><td>4695.923</td><td>5032.145</td><td>⋯       </td><td>48466.82</td><td>49883.12</td><td>51603.50</td><td>53106.92</td><td>55032.96</td><td>56803.47</td><td>57904.2 </td><td>59927.93</td><td>NA      </td><td>NA      </td></tr>\n",
       "\t<tr><th scope=row>2501</th><td>4049.787</td><td>4182.176</td><td>4433.606</td><td>4690.486</td><td>4970.446</td><td>5234.685</td><td>5590.334</td><td>5888.341</td><td>6385.459</td><td>6904.834</td><td>⋯       </td><td>13394.95</td><td>13246.03</td><td>12964.33</td><td>13004.11</td><td>12993.96</td><td>      NA</td><td>     NA </td><td>      NA</td><td>NA      </td><td>NA      </td></tr>\n",
       "</tbody>\n",
       "</table>\n"
      ],
      "text/latex": [
       "\\begin{tabular}{r|llllllllllllllllllllllllllllllllllllllllllllllllllllllllllll}\n",
       "  & X1960 & X1961 & X1962 & X1963 & X1964 & X1965 & X1966 & X1967 & X1968 & X1969 & ⋯ & X2010 & X2011 & X2012 & X2013 & X2014 & X2015 & X2016 & X2017 & X2018 & X\\\\\n",
       "\\hline\n",
       "\t250 & 3007.123 & 3066.563 & 3243.843 & 3374.515 & 3573.941 & 3827.527 & 4146.317 & 4336.427 & 4695.923 & 5032.145 & ⋯        & 48466.82 & 49883.12 & 51603.50 & 53106.92 & 55032.96 & 56803.47 & 57904.2  & 59927.93 & NA       & NA      \\\\\n",
       "\t2501 & 4049.787 & 4182.176 & 4433.606 & 4690.486 & 4970.446 & 5234.685 & 5590.334 & 5888.341 & 6385.459 & 6904.834 & ⋯        & 13394.95 & 13246.03 & 12964.33 & 13004.11 & 12993.96 &       NA &      NA  &       NA & NA       & NA      \\\\\n",
       "\\end{tabular}\n"
      ],
      "text/markdown": [
       "\n",
       "| <!--/--> | X1960 | X1961 | X1962 | X1963 | X1964 | X1965 | X1966 | X1967 | X1968 | X1969 | ⋯ | X2010 | X2011 | X2012 | X2013 | X2014 | X2015 | X2016 | X2017 | X2018 | X |\n",
       "|---|---|---|---|---|---|---|---|---|---|---|---|---|---|---|---|---|---|---|---|---|---|\n",
       "| 250 | 3007.123 | 3066.563 | 3243.843 | 3374.515 | 3573.941 | 3827.527 | 4146.317 | 4336.427 | 4695.923 | 5032.145 | ⋯        | 48466.82 | 49883.12 | 51603.50 | 53106.92 | 55032.96 | 56803.47 | 57904.2  | 59927.93 | NA       | NA       |\n",
       "| 2501 | 4049.787 | 4182.176 | 4433.606 | 4690.486 | 4970.446 | 5234.685 | 5590.334 | 5888.341 | 6385.459 | 6904.834 | ⋯        | 13394.95 | 13246.03 | 12964.33 | 13004.11 | 12993.96 |       NA |      NA  |       NA | NA       | NA       |\n",
       "\n"
      ],
      "text/plain": [
       "     X1960    X1961    X1962    X1963    X1964    X1965    X1966    X1967   \n",
       "250  3007.123 3066.563 3243.843 3374.515 3573.941 3827.527 4146.317 4336.427\n",
       "2501 4049.787 4182.176 4433.606 4690.486 4970.446 5234.685 5590.334 5888.341\n",
       "     X1968    X1969    ⋯ X2010    X2011    X2012    X2013    X2014    X2015   \n",
       "250  4695.923 5032.145 ⋯ 48466.82 49883.12 51603.50 53106.92 55032.96 56803.47\n",
       "2501 6385.459 6904.834 ⋯ 13394.95 13246.03 12964.33 13004.11 12993.96       NA\n",
       "     X2016   X2017    X2018 X \n",
       "250  57904.2 59927.93 NA    NA\n",
       "2501      NA       NA NA    NA"
      ]
     },
     "metadata": {},
     "output_type": "display_data"
    }
   ],
   "source": [
    "## Now we will merge two rows namely gdp and elec, here 250->gdp and 2501->elec\n",
    "df=rbind(gdp, elec)\n",
    "head(df)"
   ]
  },
  {
   "cell_type": "code",
   "execution_count": 44,
   "metadata": {},
   "outputs": [],
   "source": [
    "## Sincee all cloumns have X in start of thier name, so we will remove X from them\n",
    "# First to make copy of col names \n",
    "df_cols=colnames(df)\n",
    "# Removing X and replacing them with empty X\n",
    "df_cols=gsub(\"X\", \"\", df_cols)\n",
    "# Overwriting the col names with our edited copies without X\n",
    "colnames(df)=df_cols"
   ]
  },
  {
   "cell_type": "markdown",
   "metadata": {},
   "source": [
    "## 2.4. Transposing Data"
   ]
  },
  {
   "cell_type": "code",
   "execution_count": 45,
   "metadata": {},
   "outputs": [
    {
     "data": {
      "text/html": [
       "<table>\n",
       "<thead><tr><th></th><th scope=col>250</th><th scope=col>2501</th></tr></thead>\n",
       "<tbody>\n",
       "\t<tr><th scope=row>1960</th><td>3007.123</td><td>4049.787</td></tr>\n",
       "\t<tr><th scope=row>1961</th><td>3066.563</td><td>4182.176</td></tr>\n",
       "\t<tr><th scope=row>1962</th><td>3243.843</td><td>4433.606</td></tr>\n",
       "\t<tr><th scope=row>1963</th><td>3374.515</td><td>4690.486</td></tr>\n",
       "\t<tr><th scope=row>1964</th><td>3573.941</td><td>4970.446</td></tr>\n",
       "\t<tr><th scope=row>1965</th><td>3827.527</td><td>5234.685</td></tr>\n",
       "</tbody>\n",
       "</table>\n"
      ],
      "text/latex": [
       "\\begin{tabular}{r|ll}\n",
       "  & 250 & 2501\\\\\n",
       "\\hline\n",
       "\t1960 & 3007.123 & 4049.787\\\\\n",
       "\t1961 & 3066.563 & 4182.176\\\\\n",
       "\t1962 & 3243.843 & 4433.606\\\\\n",
       "\t1963 & 3374.515 & 4690.486\\\\\n",
       "\t1964 & 3573.941 & 4970.446\\\\\n",
       "\t1965 & 3827.527 & 5234.685\\\\\n",
       "\\end{tabular}\n"
      ],
      "text/markdown": [
       "\n",
       "| <!--/--> | 250 | 2501 |\n",
       "|---|---|---|\n",
       "| 1960 | 3007.123 | 4049.787 |\n",
       "| 1961 | 3066.563 | 4182.176 |\n",
       "| 1962 | 3243.843 | 4433.606 |\n",
       "| 1963 | 3374.515 | 4690.486 |\n",
       "| 1964 | 3573.941 | 4970.446 |\n",
       "| 1965 | 3827.527 | 5234.685 |\n",
       "\n"
      ],
      "text/plain": [
       "     250      2501    \n",
       "1960 3007.123 4049.787\n",
       "1961 3066.563 4182.176\n",
       "1962 3243.843 4433.606\n",
       "1963 3374.515 4690.486\n",
       "1964 3573.941 4970.446\n",
       "1965 3827.527 5234.685"
      ]
     },
     "metadata": {},
     "output_type": "display_data"
    }
   ],
   "source": [
    "## Transposing dataframe\n",
    "df=t(df)\n",
    "## Converting it to dataframe  (as during transposing data was converted to matrix somehow)\n",
    "df=as.data.frame(df)\n",
    "head(df)"
   ]
  },
  {
   "cell_type": "markdown",
   "metadata": {},
   "source": [
    "## 2.5. Renaming and Cleaning Data"
   ]
  },
  {
   "cell_type": "code",
   "execution_count": 46,
   "metadata": {},
   "outputs": [
    {
     "data": {
      "text/html": [
       "<table>\n",
       "<thead><tr><th></th><th scope=col>gdp</th><th scope=col>elec</th></tr></thead>\n",
       "<tbody>\n",
       "\t<tr><th scope=row>1960</th><td>3007.123</td><td>4049.787</td></tr>\n",
       "\t<tr><th scope=row>1961</th><td>3066.563</td><td>4182.176</td></tr>\n",
       "\t<tr><th scope=row>1962</th><td>3243.843</td><td>4433.606</td></tr>\n",
       "\t<tr><th scope=row>1963</th><td>3374.515</td><td>4690.486</td></tr>\n",
       "\t<tr><th scope=row>1964</th><td>3573.941</td><td>4970.446</td></tr>\n",
       "\t<tr><th scope=row>1965</th><td>3827.527</td><td>5234.685</td></tr>\n",
       "</tbody>\n",
       "</table>\n"
      ],
      "text/latex": [
       "\\begin{tabular}{r|ll}\n",
       "  & gdp & elec\\\\\n",
       "\\hline\n",
       "\t1960 & 3007.123 & 4049.787\\\\\n",
       "\t1961 & 3066.563 & 4182.176\\\\\n",
       "\t1962 & 3243.843 & 4433.606\\\\\n",
       "\t1963 & 3374.515 & 4690.486\\\\\n",
       "\t1964 & 3573.941 & 4970.446\\\\\n",
       "\t1965 & 3827.527 & 5234.685\\\\\n",
       "\\end{tabular}\n"
      ],
      "text/markdown": [
       "\n",
       "| <!--/--> | gdp | elec |\n",
       "|---|---|---|\n",
       "| 1960 | 3007.123 | 4049.787 |\n",
       "| 1961 | 3066.563 | 4182.176 |\n",
       "| 1962 | 3243.843 | 4433.606 |\n",
       "| 1963 | 3374.515 | 4690.486 |\n",
       "| 1964 | 3573.941 | 4970.446 |\n",
       "| 1965 | 3827.527 | 5234.685 |\n",
       "\n"
      ],
      "text/plain": [
       "     gdp      elec    \n",
       "1960 3007.123 4049.787\n",
       "1961 3066.563 4182.176\n",
       "1962 3243.843 4433.606\n",
       "1963 3374.515 4690.486\n",
       "1964 3573.941 4970.446\n",
       "1965 3827.527 5234.685"
      ]
     },
     "metadata": {},
     "output_type": "display_data"
    }
   ],
   "source": [
    "## Renaming col names 250->gdp & 2501->elec\n",
    "colnames(df)=c(\"gdp\",\"elec\")\n",
    "## Removing incomplete rows \n",
    "df=na.omit(df)\n",
    "head(df)\n",
    "################################################ 2.Data End ###############################################"
   ]
  },
  {
   "cell_type": "markdown",
   "metadata": {},
   "source": [
    "# 3. Methodology\n",
    "\n",
    "## 3.1. Checking Stationarity \n",
    "Before continuing our research we first check whether both of our series is stationary or do we need to transform them to make them stationary."
   ]
  },
  {
   "cell_type": "markdown",
   "metadata": {},
   "source": [
    "### 3.1.1. Stationarity Check: Visual Method\n",
    "On plotting GDP we obtain following graph"
   ]
  },
  {
   "cell_type": "code",
   "execution_count": 47,
   "metadata": {},
   "outputs": [],
   "source": [
    "################################################ 3.Methodolgy ###############################################\n",
    "## Simple colour pallete copid from  paired theme of R\n",
    "myp=c('#1F78B4' , '#E31A1C', '#A6CEE3', '#B2DF8A', '#33A02C', '#FB9A99',  '#FDBF6F' ,'#FF7F00', '#CAB2D6', '#6A3D9A', '#FFFF99', '#B15928')"
   ]
  },
  {
   "cell_type": "code",
   "execution_count": 48,
   "metadata": {},
   "outputs": [
    {
     "data": {
      "image/png": "[encoded data removed]",
      "text/plain": [
       "Plot with title “GDP Plot”"
      ]
     },
     "metadata": {},
     "output_type": "display_data"
    },
    {
     "data": {
      "image/png": "[encoded data removed]",
      "text/plain": [
       "Plot with title “Electricity Consumption Plot”"
      ]
     },
     "metadata": {},
     "output_type": "display_data"
    }
   ],
   "source": [
    "## PLoting GDP\n",
    "plot(df$gdp, col=myp[1], cex=01, pch=1, main=\"GDP Plot\")\n",
    "## Ploting elec\n",
    "plot(df$elec, col=myp[2], cex=01, pch=1, main=\"Electricity Consumption Plot\")"
   ]
  },
  {
   "cell_type": "markdown",
   "metadata": {},
   "source": [
    "### 3.1.1.A.  GDP Stationarity Check: ADF Method\n",
    "Since we were unable to make clear conclusion from visual method,it seems that both of this series are not stationary. So we perform "
   ]
  },
  {
   "cell_type": "markdown",
   "metadata": {},
   "source": [
    "ADF (Augmented Dickey–Fuller) test is used to find the unit root in time series. And presence of unit root nullifies the presence of stationarity in series. \n",
    "\n",
    "\n",
    "Thus, for ADF test our:\n",
    "* H0: Unit root present: Series is not stationary \n",
    "* H1: UnIT root not present: Series is stationary\n",
    "\n",
    "\n",
    "___Hence, we expect that our t-value to be lower (in left) of critical value so that we can reject our null hypothesis so that we can reject our null hypothesis that series is not stationary and continue for VAR modeling___ "
   ]
  },
  {
   "cell_type": "code",
   "execution_count": 49,
   "metadata": {},
   "outputs": [
    {
     "data": {
      "text/html": [
       "-2.89"
      ],
      "text/latex": [
       "-2.89"
      ],
      "text/markdown": [
       "-2.89"
      ],
      "text/plain": [
       "[1] -2.89"
      ]
     },
     "metadata": {},
     "output_type": "display_data"
    }
   ],
   "source": [
    "## Starting ADF Test \n",
    "## Loading library\n",
    "library(urca)\n",
    "## Finding critical value for gdp\n",
    "ur.df(df$gdp, type=\"drift\")@cval[1,2]"
   ]
  },
  {
   "cell_type": "code",
   "execution_count": 50,
   "metadata": {},
   "outputs": [
    {
     "data": {
      "text/plain": [
       "\n",
       "############################################################### \n",
       "# Augmented Dickey-Fuller Test Unit Root / Cointegration Test # \n",
       "############################################################### \n",
       "\n",
       "The value of the test statistic is: 2.1618 7.9865 \n"
      ]
     },
     "metadata": {},
     "output_type": "display_data"
    }
   ],
   "source": [
    "## Finding actual T-value for gdp\n",
    "ur.df(df$gdp, type=\"drift\")"
   ]
  },
  {
   "cell_type": "markdown",
   "metadata": {},
   "source": [
    "__On performing ADF test on GDP,we see that t value(2.16) is to right of the critical value(-2.89), hence we cannot reject null hypothesis, thus this series is not stationary and we cannot proceed for VAR modeling as we will have to make stationary.__"
   ]
  },
  {
   "cell_type": "code",
   "execution_count": 51,
   "metadata": {},
   "outputs": [],
   "source": [
    "#__On performing ADF test on GDP,we see that t value(2.16) is to right of the critical value(-2.89), hence we cannot reject null hypothesis, thus this series is not stationary and we cannot proceed for VAR modeling as we will have to make stationary.__"
   ]
  },
  {
   "cell_type": "markdown",
   "metadata": {},
   "source": [
    "### 3.1.1.B. Electric  Power Consumption Stationarity Check: ADF Method"
   ]
  },
  {
   "cell_type": "markdown",
   "metadata": {},
   "source": [
    "Similarly we perform same test on Electric  Power Consumption."
   ]
  },
  {
   "cell_type": "code",
   "execution_count": 52,
   "metadata": {},
   "outputs": [
    {
     "data": {
      "text/html": [
       "-2.89"
      ],
      "text/latex": [
       "-2.89"
      ],
      "text/markdown": [
       "-2.89"
      ],
      "text/plain": [
       "[1] -2.89"
      ]
     },
     "metadata": {},
     "output_type": "display_data"
    }
   ],
   "source": [
    "## Finding critical value for elec\n",
    "ur.df(df$elec, type=\"drift\")@cval[1, 2]"
   ]
  },
  {
   "cell_type": "code",
   "execution_count": 53,
   "metadata": {},
   "outputs": [
    {
     "data": {
      "text/plain": [
       "\n",
       "############################################################### \n",
       "# Augmented Dickey-Fuller Test Unit Root / Cointegration Test # \n",
       "############################################################### \n",
       "\n",
       "The value of the test statistic is: -4.3814 9.6105 \n"
      ]
     },
     "metadata": {},
     "output_type": "display_data"
    }
   ],
   "source": [
    "## Finding actual T-value for elec\n",
    "ur.df(diff(df$elec), type=\"drift\")"
   ]
  },
  {
   "cell_type": "markdown",
   "metadata": {},
   "source": [
    "__On performing ADF test on Electric Power consumption,we see that t value(-4.38) is to left of the critical value(-2.89), hence we can reject null hypothesis, thus this series is stationary and we can proceed for VAR modeling as we will not have to make stationary. But comparing growth as one parameter and actual values at one parameter will be a wrong procedure to hence all transformation to be applied on GDP will be applied to Electric power consumption.__"
   ]
  },
  {
   "cell_type": "code",
   "execution_count": 54,
   "metadata": {},
   "outputs": [],
   "source": [
    "# __On performing ADF test on Electric Power consumption,we see that t value(-4.38) is to left of the critical value(-2.89), hence we can reject null hypothesis, thus this series is stationary and we can proceed for VAR modeling as we will not have to make stationary. But comparing growth as one parameter and actual values at one parameter will be a wrong procedure to hence all transformation to be applied on GDP will be applied to Electric power consumption.__"
   ]
  },
  {
   "cell_type": "markdown",
   "metadata": {},
   "source": [
    "## 3.2. Making series stationary:"
   ]
  },
  {
   "cell_type": "markdown",
   "metadata": {},
   "source": [
    "### 3.2.1. Applying transformation (First Lag differencing)\n",
    "\n",
    "Although it is argued to take log differencing but taking log of differencing is a two step procedure and we will loose important information of our model, moreover when we took log differencing, we did not obtained stationarity in GDP. So, we will continue with simple differencing.\n",
    "The interpretation of such transformation is that does changes in GDP affects changes in Electric Power consumption. \n"
   ]
  },
  {
   "cell_type": "code",
   "execution_count": 55,
   "metadata": {},
   "outputs": [],
   "source": [
    "#Although it is argued to take log differencing but taking log of differencing is a two step procedure and we will loose important information of our model, moreover when we took log differencing, we did not obtained stationarity in GDP. So, we will continue with simple differencing.\n",
    "#The interpretation of such transformation is that does changes in GDP affects changes in Electric Power consumption. "
   ]
  },
  {
   "cell_type": "code",
   "execution_count": 56,
   "metadata": {},
   "outputs": [],
   "source": [
    "## Adding first diffrence as gdp1\n",
    "df$gdp1=c(NA, diff(df$gdp))"
   ]
  },
  {
   "cell_type": "code",
   "execution_count": 57,
   "metadata": {},
   "outputs": [],
   "source": [
    "## Adding first diffrence as elec1\n",
    "df$elec1=c(NA, diff(df$elec))"
   ]
  },
  {
   "cell_type": "code",
   "execution_count": 58,
   "metadata": {},
   "outputs": [
    {
     "data": {
      "text/html": [
       "<table>\n",
       "<thead><tr><th></th><th scope=col>gdp</th><th scope=col>elec</th><th scope=col>gdp1</th><th scope=col>elec1</th></tr></thead>\n",
       "<tbody>\n",
       "\t<tr><th scope=row>1961</th><td>3066.563 </td><td>4182.176 </td><td> 59.43942</td><td>132.3889 </td></tr>\n",
       "\t<tr><th scope=row>1962</th><td>3243.843 </td><td>4433.606 </td><td>177.28021</td><td>251.4305 </td></tr>\n",
       "\t<tr><th scope=row>1963</th><td>3374.515 </td><td>4690.486 </td><td>130.67209</td><td>256.8802 </td></tr>\n",
       "\t<tr><th scope=row>1964</th><td>3573.941 </td><td>4970.446 </td><td>199.42601</td><td>279.9602 </td></tr>\n",
       "\t<tr><th scope=row>1965</th><td>3827.527 </td><td>5234.685 </td><td>253.58592</td><td>264.2385 </td></tr>\n",
       "</tbody>\n",
       "</table>\n"
      ],
      "text/latex": [
       "\\begin{tabular}{r|llll}\n",
       "  & gdp & elec & gdp1 & elec1\\\\\n",
       "\\hline\n",
       "\t1961 & 3066.563  & 4182.176  &  59.43942 & 132.3889 \\\\\n",
       "\t1962 & 3243.843  & 4433.606  & 177.28021 & 251.4305 \\\\\n",
       "\t1963 & 3374.515  & 4690.486  & 130.67209 & 256.8802 \\\\\n",
       "\t1964 & 3573.941  & 4970.446  & 199.42601 & 279.9602 \\\\\n",
       "\t1965 & 3827.527  & 5234.685  & 253.58592 & 264.2385 \\\\\n",
       "\\end{tabular}\n"
      ],
      "text/markdown": [
       "\n",
       "| <!--/--> | gdp | elec | gdp1 | elec1 |\n",
       "|---|---|---|---|---|\n",
       "| 1961 | 3066.563  | 4182.176  |  59.43942 | 132.3889  |\n",
       "| 1962 | 3243.843  | 4433.606  | 177.28021 | 251.4305  |\n",
       "| 1963 | 3374.515  | 4690.486  | 130.67209 | 256.8802  |\n",
       "| 1964 | 3573.941  | 4970.446  | 199.42601 | 279.9602  |\n",
       "| 1965 | 3827.527  | 5234.685  | 253.58592 | 264.2385  |\n",
       "\n"
      ],
      "text/plain": [
       "     gdp      elec     gdp1      elec1   \n",
       "1961 3066.563 4182.176  59.43942 132.3889\n",
       "1962 3243.843 4433.606 177.28021 251.4305\n",
       "1963 3374.515 4690.486 130.67209 256.8802\n",
       "1964 3573.941 4970.446 199.42601 279.9602\n",
       "1965 3827.527 5234.685 253.58592 264.2385"
      ]
     },
     "metadata": {},
     "output_type": "display_data"
    }
   ],
   "source": [
    "## Removing incomplete rows \n",
    "df=na.omit(df)\n",
    "head(df, 5)"
   ]
  },
  {
   "cell_type": "markdown",
   "metadata": {},
   "source": [
    "### 3.2.2. Checking for stationarity  "
   ]
  },
  {
   "cell_type": "markdown",
   "metadata": {},
   "source": [
    "#### 3.2.2.1. Stationarity Check: Visual Method (First  Lag Differences) "
   ]
  },
  {
   "cell_type": "code",
   "execution_count": 59,
   "metadata": {},
   "outputs": [
    {
     "data": {
      "image/png": "[encoded data removed]",
      "text/plain": [
       "Plot with title “Electricity Consumption DIff Plot”"
      ]
     },
     "metadata": {},
     "output_type": "display_data"
    }
   ],
   "source": [
    "## Creating grid for plots  \n",
    "par(mfrow=c(2,2))\n",
    "## PLoting GDP\n",
    "plot(df$gdp, col=myp[1], cex=01, pch=1, main=\"GDP Plot\")\n",
    "## Ploting elec\n",
    "plot(df$elec, col=myp[2], cex=01, pch=1, main=\"Electricity Consumption Plot\")\n",
    "## PLoting GDP1\n",
    "plot(df$gdp1, col=myp[1], cex=1, pch=10, main=\"GDP Diff Plot\")\n",
    "## Ploting elec1\n",
    "plot(df$elec1, col=myp[2], cex=1, pch=10, main=\"Electricity Consumption DIff Plot\")"
   ]
  },
  {
   "cell_type": "markdown",
   "metadata": {},
   "source": [
    "#### 3.2.2.A.  GDP Stationarity Check: ADF Method"
   ]
  },
  {
   "cell_type": "code",
   "execution_count": 60,
   "metadata": {},
   "outputs": [
    {
     "data": {
      "text/html": [
       "-2.89"
      ],
      "text/latex": [
       "-2.89"
      ],
      "text/markdown": [
       "-2.89"
      ],
      "text/plain": [
       "[1] -2.89"
      ]
     },
     "metadata": {},
     "output_type": "display_data"
    }
   ],
   "source": [
    "## Finding critical value for gdp1\n",
    "ur.df(df$gdp1, type=\"drift\")@cval[1,2]"
   ]
  },
  {
   "cell_type": "code",
   "execution_count": 61,
   "metadata": {},
   "outputs": [
    {
     "data": {
      "text/plain": [
       "\n",
       "############################################################### \n",
       "# Augmented Dickey-Fuller Test Unit Root / Cointegration Test # \n",
       "############################################################### \n",
       "\n",
       "The value of the test statistic is: -3.3569 5.7575 \n"
      ]
     },
     "metadata": {},
     "output_type": "display_data"
    }
   ],
   "source": [
    "## Finding actual T-value for gdp1\n",
    "ur.df(df$gdp1, type=\"drift\")"
   ]
  },
  {
   "cell_type": "markdown",
   "metadata": {},
   "source": [
    "__On performing ADF test on GDP,we see that t value(-3.35) is to left of the critical value(-2.89), hence we can reject null hypothesis, thus this series is now made stationary and we can proceed for VAR modeling.__"
   ]
  },
  {
   "cell_type": "markdown",
   "metadata": {},
   "source": [
    "#### 3.2.2.B.  Electric Power Consumption Stationarity Check: ADF Method"
   ]
  },
  {
   "cell_type": "code",
   "execution_count": 62,
   "metadata": {},
   "outputs": [
    {
     "data": {
      "text/html": [
       "-2.89"
      ],
      "text/latex": [
       "-2.89"
      ],
      "text/markdown": [
       "-2.89"
      ],
      "text/plain": [
       "[1] -2.89"
      ]
     },
     "metadata": {},
     "output_type": "display_data"
    }
   ],
   "source": [
    "## Finding critical value for elec1\n",
    "ur.df(df$elec1, type=\"drift\")@cval[1,2]"
   ]
  },
  {
   "cell_type": "code",
   "execution_count": 63,
   "metadata": {},
   "outputs": [
    {
     "data": {
      "text/plain": [
       "\n",
       "############################################################### \n",
       "# Augmented Dickey-Fuller Test Unit Root / Cointegration Test # \n",
       "############################################################### \n",
       "\n",
       "The value of the test statistic is: -4.3814 9.6105 \n"
      ]
     },
     "metadata": {},
     "output_type": "display_data"
    }
   ],
   "source": [
    "## Finding actual T-value for elec1\n",
    "ur.df(df$elec1, type=\"drift\")"
   ]
  },
  {
   "cell_type": "markdown",
   "metadata": {},
   "source": [
    "__On performing ADF test on Electrical Power Consumption,we see that t value(-4.38) is to left of the critical value(-2.89), hence we can reject null hypothesis, thus this series is now made stationary and we can proceed for VAR modeling.__\n"
   ]
  },
  {
   "cell_type": "markdown",
   "metadata": {},
   "source": [
    "## 3.3. Creating VAR Models"
   ]
  },
  {
   "cell_type": "code",
   "execution_count": 64,
   "metadata": {},
   "outputs": [],
   "source": [
    "## Loadin vars lib fro VAR modeling \n",
    "library(vars)"
   ]
  },
  {
   "cell_type": "markdown",
   "metadata": {},
   "source": [
    "We expect that models selection based on following criteria will be listed \n",
    "\n",
    "1. Akaike information criterion (AIC)\n",
    "- Bayesian information criterion (BIC) or Schwarz criterion (SC)\n",
    "- Final Prediction Error (FPE) criterion\n",
    "- Hannan–Quinn information criterion (HQC)\n"
   ]
  },
  {
   "cell_type": "code",
   "execution_count": 65,
   "metadata": {},
   "outputs": [
    {
     "data": {
      "text/html": [
       "<dl>\n",
       "\t<dt>$selection</dt>\n",
       "\t\t<dd><dl class=dl-horizontal>\n",
       "\t<dt>AIC(n)</dt>\n",
       "\t\t<dd>3</dd>\n",
       "\t<dt>HQ(n)</dt>\n",
       "\t\t<dd>1</dd>\n",
       "\t<dt>SC(n)</dt>\n",
       "\t\t<dd>1</dd>\n",
       "\t<dt>FPE(n)</dt>\n",
       "\t\t<dd>3</dd>\n",
       "</dl>\n",
       "</dd>\n",
       "\t<dt>$criteria</dt>\n",
       "\t\t<dd><table>\n",
       "<thead><tr><th></th><th scope=col>1</th><th scope=col>2</th><th scope=col>3</th><th scope=col>4</th><th scope=col>5</th><th scope=col>6</th><th scope=col>7</th><th scope=col>8</th><th scope=col>9</th><th scope=col>10</th></tr></thead>\n",
       "<tbody>\n",
       "\t<tr><th scope=row>AIC(n)</th><td>2.383581e+01</td><td>2.389433e+01</td><td>2.380797e+01</td><td>2.387869e+01</td><td>2.401040e+01</td><td>2.415297e+01</td><td>2.421911e+01</td><td>2.420639e+01</td><td>2.430348e+01</td><td>2.417458e+01</td></tr>\n",
       "\t<tr><th scope=row>HQ(n)</th><td>2.392603e+01</td><td>2.404471e+01</td><td>2.401850e+01</td><td>2.414937e+01</td><td>2.434123e+01</td><td>2.454395e+01</td><td>2.467025e+01</td><td>2.471768e+01</td><td>2.487492e+01</td><td>2.480617e+01</td></tr>\n",
       "\t<tr><th scope=row>SC(n)</th><td>2.407910e+01</td><td>2.429983e+01</td><td>2.437567e+01</td><td>2.460858e+01</td><td>2.490249e+01</td><td>2.520726e+01</td><td>2.543561e+01</td><td>2.558509e+01</td><td>2.584437e+01</td><td>2.587767e+01</td></tr>\n",
       "\t<tr><th scope=row>FPE(n)</th><td>2.248759e+10</td><td>2.387989e+10</td><td>2.198056e+10</td><td>2.373914e+10</td><td>2.735187e+10</td><td>3.200878e+10</td><td>3.490723e+10</td><td>3.543670e+10</td><td>4.050652e+10</td><td>3.733802e+10</td></tr>\n",
       "</tbody>\n",
       "</table>\n",
       "</dd>\n",
       "</dl>\n"
      ],
      "text/latex": [
       "\\begin{description}\n",
       "\\item[\\$selection] \\begin{description*}\n",
       "\\item[AIC(n)] 3\n",
       "\\item[HQ(n)] 1\n",
       "\\item[SC(n)] 1\n",
       "\\item[FPE(n)] 3\n",
       "\\end{description*}\n",
       "\n",
       "\\item[\\$criteria] \\begin{tabular}{r|llllllllll}\n",
       "  & 1 & 2 & 3 & 4 & 5 & 6 & 7 & 8 & 9 & 10\\\\\n",
       "\\hline\n",
       "\tAIC(n) & 2.383581e+01 & 2.389433e+01 & 2.380797e+01 & 2.387869e+01 & 2.401040e+01 & 2.415297e+01 & 2.421911e+01 & 2.420639e+01 & 2.430348e+01 & 2.417458e+01\\\\\n",
       "\tHQ(n) & 2.392603e+01 & 2.404471e+01 & 2.401850e+01 & 2.414937e+01 & 2.434123e+01 & 2.454395e+01 & 2.467025e+01 & 2.471768e+01 & 2.487492e+01 & 2.480617e+01\\\\\n",
       "\tSC(n) & 2.407910e+01 & 2.429983e+01 & 2.437567e+01 & 2.460858e+01 & 2.490249e+01 & 2.520726e+01 & 2.543561e+01 & 2.558509e+01 & 2.584437e+01 & 2.587767e+01\\\\\n",
       "\tFPE(n) & 2.248759e+10 & 2.387989e+10 & 2.198056e+10 & 2.373914e+10 & 2.735187e+10 & 3.200878e+10 & 3.490723e+10 & 3.543670e+10 & 4.050652e+10 & 3.733802e+10\\\\\n",
       "\\end{tabular}\n",
       "\n",
       "\\end{description}\n"
      ],
      "text/markdown": [
       "$selection\n",
       ":   AIC(n)\n",
       ":   3HQ(n)\n",
       ":   1SC(n)\n",
       ":   1FPE(n)\n",
       ":   3\n",
       "\n",
       "\n",
       "$criteria\n",
       ":   \n",
       "| <!--/--> | 1 | 2 | 3 | 4 | 5 | 6 | 7 | 8 | 9 | 10 |\n",
       "|---|---|---|---|---|---|---|---|---|---|---|\n",
       "| AIC(n) | 2.383581e+01 | 2.389433e+01 | 2.380797e+01 | 2.387869e+01 | 2.401040e+01 | 2.415297e+01 | 2.421911e+01 | 2.420639e+01 | 2.430348e+01 | 2.417458e+01 |\n",
       "| HQ(n) | 2.392603e+01 | 2.404471e+01 | 2.401850e+01 | 2.414937e+01 | 2.434123e+01 | 2.454395e+01 | 2.467025e+01 | 2.471768e+01 | 2.487492e+01 | 2.480617e+01 |\n",
       "| SC(n) | 2.407910e+01 | 2.429983e+01 | 2.437567e+01 | 2.460858e+01 | 2.490249e+01 | 2.520726e+01 | 2.543561e+01 | 2.558509e+01 | 2.584437e+01 | 2.587767e+01 |\n",
       "| FPE(n) | 2.248759e+10 | 2.387989e+10 | 2.198056e+10 | 2.373914e+10 | 2.735187e+10 | 3.200878e+10 | 3.490723e+10 | 3.543670e+10 | 4.050652e+10 | 3.733802e+10 |\n",
       "\n",
       "\n",
       "\n",
       "\n"
      ],
      "text/plain": [
       "$selection\n",
       "AIC(n)  HQ(n)  SC(n) FPE(n) \n",
       "     3      1      1      3 \n",
       "\n",
       "$criteria\n",
       "                  1            2            3            4            5\n",
       "AIC(n) 2.383581e+01 2.389433e+01 2.380797e+01 2.387869e+01 2.401040e+01\n",
       "HQ(n)  2.392603e+01 2.404471e+01 2.401850e+01 2.414937e+01 2.434123e+01\n",
       "SC(n)  2.407910e+01 2.429983e+01 2.437567e+01 2.460858e+01 2.490249e+01\n",
       "FPE(n) 2.248759e+10 2.387989e+10 2.198056e+10 2.373914e+10 2.735187e+10\n",
       "                  6            7            8            9           10\n",
       "AIC(n) 2.415297e+01 2.421911e+01 2.420639e+01 2.430348e+01 2.417458e+01\n",
       "HQ(n)  2.454395e+01 2.467025e+01 2.471768e+01 2.487492e+01 2.480617e+01\n",
       "SC(n)  2.520726e+01 2.543561e+01 2.558509e+01 2.584437e+01 2.587767e+01\n",
       "FPE(n) 3.200878e+10 3.490723e+10 3.543670e+10 4.050652e+10 3.733802e+10\n"
      ]
     },
     "metadata": {},
     "output_type": "display_data"
    }
   ],
   "source": [
    "## Maaximum Lag=10, value can be changed is so desired. \n",
    "## But after 10 year we do not belive any affects will remain.\n",
    "maximum_lag=10\n",
    "## Making list of models based on crriterias \n",
    "model_list=VARselect(df[,3:4], lag.max = maximum_lag, type=\"const\")\n",
    "## Lisiting all models\n",
    "model_list"
   ]
  },
  {
   "cell_type": "markdown",
   "metadata": {},
   "source": [
    "## 3.4. Selecting VAR Models (Information Criteria)"
   ]
  },
  {
   "cell_type": "markdown",
   "metadata": {},
   "source": [
    "The choice of selecting particular information criteria is out of scope of our study, we simply choose  Schwarz criterion (SC) most commonly known as BIC. "
   ]
  },
  {
   "cell_type": "code",
   "execution_count": 66,
   "metadata": {},
   "outputs": [
    {
     "data": {
      "text/html": [
       "<strong>SC(n):</strong> 1"
      ],
      "text/latex": [
       "\\textbf{SC(n):} 1"
      ],
      "text/markdown": [
       "**SC(n):** 1"
      ],
      "text/plain": [
       "SC(n) \n",
       "    1 "
      ]
     },
     "metadata": {},
     "output_type": "display_data"
    }
   ],
   "source": [
    "## Selecting model recommended by SC\n",
    "model_list$selection[3]"
   ]
  },
  {
   "cell_type": "markdown",
   "metadata": {},
   "source": [
    "On the basis of selecting SC we obtain a single model of type lag 1  which can be used to study Granger Causality. "
   ]
  },
  {
   "cell_type": "markdown",
   "metadata": {},
   "source": [
    "## 3.5. Running model with lag length from selection."
   ]
  },
  {
   "cell_type": "code",
   "execution_count": 67,
   "metadata": {},
   "outputs": [],
   "source": [
    "## Running the model with lag 1 as suggested by SC criterion.\n",
    "model_1=VAR(df[,3:4], p=1, type=\"const\")\n",
    "################################################ 3.Methodolgy Ends###############################################\n"
   ]
  },
  {
   "cell_type": "markdown",
   "metadata": {},
   "source": [
    "# 4. Results & Analysis"
   ]
  },
  {
   "cell_type": "markdown",
   "metadata": {},
   "source": [
    "## 4.1. Running model summary "
   ]
  },
  {
   "cell_type": "code",
   "execution_count": 68,
   "metadata": {},
   "outputs": [
    {
     "data": {
      "text/plain": [
       "\n",
       "VAR Estimation Results:\n",
       "========================= \n",
       "Endogenous variables: gdp1, elec1 \n",
       "Deterministic variables: const \n",
       "Sample size: 53 \n",
       "Log Likelihood: -768.842 \n",
       "Roots of the characteristic polynomial:\n",
       "0.7425 0.06223\n",
       "Call:\n",
       "VAR(y = df[, 3:4], p = 1, type = \"const\")\n",
       "\n",
       "\n",
       "Estimation results for equation gdp1: \n",
       "===================================== \n",
       "gdp1 = gdp1.l1 + elec1.l1 + const \n",
       "\n",
       "         Estimate Std. Error t value Pr(>|t|)    \n",
       "gdp1.l1    0.6105     0.1105   5.524 1.19e-06 ***\n",
       "elec1.l1  -0.5961     0.2729  -2.185 0.033640 *  \n",
       "const    504.0983   131.7192   3.827 0.000362 ***\n",
       "---\n",
       "Signif. codes:  0 ‘***’ 0.001 ‘**’ 0.01 ‘*’ 0.05 ‘.’ 0.1 ‘ ’ 1\n",
       "\n",
       "\n",
       "Residual standard error: 530.2 on 50 degrees of freedom\n",
       "Multiple R-Squared: 0.3987,\tAdjusted R-squared: 0.3746 \n",
       "F-statistic: 16.58 on 2 and 50 DF,  p-value: 3.003e-06 \n",
       "\n",
       "\n",
       "Estimation results for equation elec1: \n",
       "====================================== \n",
       "elec1 = gdp1.l1 + elec1.l1 + const \n",
       "\n",
       "          Estimate Std. Error t value Pr(>|t|)    \n",
       "gdp1.l1   -0.14895    0.05381  -2.768  0.00789 ** \n",
       "elec1.l1   0.06973    0.13286   0.525  0.60198    \n",
       "const    295.27492   64.13489   4.604 2.87e-05 ***\n",
       "---\n",
       "Signif. codes:  0 ‘***’ 0.001 ‘**’ 0.01 ‘*’ 0.05 ‘.’ 0.1 ‘ ’ 1\n",
       "\n",
       "\n",
       "Residual standard error: 258.2 on 50 degrees of freedom\n",
       "Multiple R-Squared: 0.1337,\tAdjusted R-squared: 0.09909 \n",
       "F-statistic:  3.86 on 2 and 50 DF,  p-value: 0.02762 \n",
       "\n",
       "\n",
       "\n",
       "Covariance matrix of residuals:\n",
       "        gdp1 elec1\n",
       "gdp1  281157 58321\n",
       "elec1  58321 66656\n",
       "\n",
       "Correlation matrix of residuals:\n",
       "       gdp1 elec1\n",
       "gdp1  1.000 0.426\n",
       "elec1 0.426 1.000\n",
       "\n"
      ]
     },
     "metadata": {},
     "output_type": "display_data"
    }
   ],
   "source": [
    "################################################ 4.Result ###############################################\n",
    "## Listing complete summary of model\n",
    "summary(model_1)"
   ]
  },
  {
   "cell_type": "markdown",
   "metadata": {},
   "source": [
    "__We can make following conclusion after running model__\n",
    "\n",
    "__4.1.A.__ For GDP equation: $ gdp = gdp_{1} + elec_{1} + const $\n",
    "\n",
    "\n",
    "\n",
    "1. $gdp_1$ is significant. \n",
    "- $elec_1$ is insignificant and can be ignored.\n",
    "- $const$ is significant.\n",
    "\n",
    "\n",
    "_Hence, GDP is dependent both on lag of itself and lag of electricity power consumption._"
   ]
  },
  {
   "cell_type": "markdown",
   "metadata": {},
   "source": [
    "__4.1.B.__ For Electrical power consumption equation: $ elec = gdp_1 + elec_1 + const$ \n",
    "\n",
    "\n",
    "\n",
    "1. $gdp_1$ is significant.\n",
    "- $elec_1$ is insignificant and can be ignored.\n",
    "- $const$ is significant.\n",
    "\n",
    "\n",
    "_Hence, Electrical Power consumption is dependent only on lag of itself and not on lag of GDP._"
   ]
  },
  {
   "cell_type": "markdown",
   "metadata": {},
   "source": [
    "The above analysis can be done in better way by using Granger Causality test. Hence "
   ]
  },
  {
   "cell_type": "markdown",
   "metadata": {},
   "source": [
    "## 4.2. Running Granger Causality test."
   ]
  },
  {
   "cell_type": "markdown",
   "metadata": {},
   "source": [
    "### 4.2.1. Electric Power Consumption affects GDP.\n",
    "\n",
    "\n",
    "Does electric power consumption affects GDP? We run the test with following assumption derived from section 1.2.1. Literature Review:\n",
    "\n",
    "        H0: Electricity does not Granger causes GDP growth.\n",
    "        H1: Electricity Granger causes GDP growth.\n",
    "        \n"
   ]
  },
  {
   "cell_type": "code",
   "execution_count": 69,
   "metadata": {},
   "outputs": [
    {
     "data": {
      "text/plain": [
       "\n",
       "\tGranger causality H0: elec1 do not Granger-cause gdp1\n",
       "\n",
       "data:  VAR object model_1\n",
       "F-Test = 4.7721, df1 = 1, df2 = 100, p-value = 0.03126\n"
      ]
     },
     "metadata": {},
     "output_type": "display_data"
    }
   ],
   "source": [
    "### Running casuality test elec1->gdp1\n",
    "causality(model_1, cause = \"elec1\")$Granger"
   ]
  },
  {
   "cell_type": "markdown",
   "metadata": {},
   "source": [
    "Since, p-value is more than 0.05 we cannot reject the null hypothesis that electric power consumption does not affects the GDP, hence, electric power consumption does not affects the GDP, moreover it can be seen from  __4.1.A.__, where coefficient of $ elec_1 $ is insignificant"
   ]
  },
  {
   "cell_type": "markdown",
   "metadata": {},
   "source": [
    "### 4.2.1.   GDP affects Electric Power Consumption .\n",
    "\n",
    "\n",
    "Does GDP affects electric power consumption? We run the test with following assumption derived from section __1.2.2.__ Literature Review:\n",
    "\n",
    "        H0: Electricity does not Granger causes GDP growth.\n",
    "        H1: Electricity Granger causes GDP growth.\n",
    "        "
   ]
  },
  {
   "cell_type": "code",
   "execution_count": 70,
   "metadata": {},
   "outputs": [
    {
     "data": {
      "text/plain": [
       "\n",
       "\tGranger causality H0: gdp1 do not Granger-cause elec1\n",
       "\n",
       "data:  VAR object model_1\n",
       "F-Test = 7.6615, df1 = 1, df2 = 100, p-value = 0.006723\n"
      ]
     },
     "metadata": {},
     "output_type": "display_data"
    }
   ],
   "source": [
    "### Running casuality test gdp1->elec1\n",
    "causality(model_1, cause = \"gdp1\")$Granger\n",
    "################################################ 4.Result Ends ###############################################\n",
    "\n",
    "################################################ 4.Code Ends here ###############################################"
   ]
  },
  {
   "cell_type": "markdown",
   "metadata": {},
   "source": [
    "Since, p-value is less than 0.05 we can reject the null hypothesis that GDP does not affects the electric power consumption, hence, GDP affects the electric power consumption moreover the same can be concluded from __4.1.B.__."
   ]
  },
  {
   "cell_type": "markdown",
   "metadata": {},
   "source": [
    "# 5. Conclusion\n",
    "\n",
    "While __4.1.A. & 4.1.B.__ was sufficient enough to derive our conclusion but we still carried out Granger Causality test which gave same results.\n",
    "\n",
    "In short we conclude that:\n",
    "\n",
    "### Electrical Power Consumption &#x21cf;&#x21cf; GDP \n",
    "\n",
    "\n",
    "###  GDP  &#x21c9;&#x21c9;Electrical Power Consumption  \n",
    "\n",
    "\n",
    "As far as result are concerned it will be right to conclude that increase in electric power consumption will not increase GDP but the vice versa, i.e. increase in GDP will lead to increase in electric power consumption is absolutely true"
   ]
  },
  {
   "cell_type": "markdown",
   "metadata": {},
   "source": [
    "# 6. Implication & Recommendation \n",
    "\n",
    "The possible reason could be that in case U.S., electricity consumption is not the main driver of GDP, while increase in GDP will create more demand for electricity consumption. \n",
    "\n",
    "So, it is suggested that in order to increase the GDP. U.S. should not concentrate on amount of electricity consumption, but on various other factors. And on doing so if GDP increases, it will force the nation to consume more electricity.\n",
    "\n",
    "An alternative way is thus not to give discounts on electricity but to make electricity available to more people and use the funds for other factor explaining standard of leaving. \n",
    "\n",
    "\n",
    "It is thus recommended policy makers to not prioritize the electrical power consumption in order to increase GDP."
   ]
  }
 ],
 "metadata": {
  "kernelspec": {
   "display_name": "Python 3",
   "language": "python",
   "name": "python3"
  },
  "language_info": {
   "codemirror_mode": {
    "name": "ipython",
    "version": 3
   },
   "file_extension": ".py",
   "mimetype": "text/x-python",
   "name": "python",
   "nbconvert_exporter": "python",
   "pygments_lexer": "ipython3",
   "version": "3.7.3"
  }
 },
 "nbformat": 4,
 "nbformat_minor": 2
}
